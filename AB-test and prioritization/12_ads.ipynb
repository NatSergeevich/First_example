{
 "cells": [
  {
   "cell_type": "markdown",
   "metadata": {},
   "source": [
    "# Проект: Принятие решений в бизнесе."
   ]
  },
  {
   "cell_type": "markdown",
   "metadata": {},
   "source": [
    "**Описание проекта:**\n",
    "Совместно с отделом маркетинга был подготовлен список гипотез для увеличения выручки интернет-магазина.\n",
    "Необходимо приоритизировать гипотезы, запустить A/B-тест и проанализироват результаты. \n",
    "\n",
    "**Цель исследования**:\n",
    "1. В рамках приоритизации гипотез предстоит сделать следующее:\n",
    "  - применить фреймворк ICE для приоритизации гипотез, отсортировать их по убыванию приоритета;\n",
    "  - применить фреймворк RICE для приоритизации гипотез, отсортировать их по убыванию приоритета;\n",
    "  - указать, как изменилась приоритизация гипотез при применении RICE вместо ICE, почему так произошло.\n",
    "\n",
    "2. В рамках анализа A/B-теста предстоит сделать следующее:\n",
    "  - построить график кумулятивной выручки по группам;\n",
    "  - построить график кумулятивного среднего чека по группам;\n",
    "  - построить график относительного изменения кумулятивного среднего чека группы B к группе A;построить график кумулятивного среднего количества заказов на посетителя по группам;\n",
    "   - построить график относительного изменения кумулятивного среднего количества заказов на посетителя группы B к группе A;\n",
    "   - построить точечный график количества заказов по пользователям;\n",
    "   - посчитать 95-й и 99-й перцентили количества заказов на пользователя;\n",
    "   - построить точечный график стоимостей заказов;\n",
    "   - посчитать 95-й и 99-й перцентили стоимости заказов;\n",
    "   - посчитать статистическую значимость различий в среднем количестве заказов на посетителя между группами по «сырым» данным;\n",
    "   - посчитать статистическую значимость различий в среднем чеке заказа между группами по «сырым» данным;\n",
    "   - посчитать статистическую значимость различий в среднем количестве заказов на посетителя между группами по «очищенным» данным;\n",
    "   - посчитать статистическую значимость различий в среднем чеке заказа между группами по «очищенным» данным;\n",
    "   - принять решение по результатам теста и объяснить его (остановить тест, зафиксировать победу одной из групп//остановить тест, зафиксировать отсутствие различий между группами//продолжить тест.)\n",
    "   \n",
    "**План исследования:**\n",
    "\n",
    "Данные находятся в файлах `/datasets/hypothesis.csv`, `/datasets/orders.csv`,`/datasets/visitors.csv`. О качестве данных ничего не известно. Поэтому перед проверкой гипотез понадобится обзор данных. \n",
    "\n",
    "Необходимо проверить данные на ошибки и оценить их влияние на исследование. Затем, на этапе предобработки найти возможность исправить самые критичные ошибки данных.\n",
    " \n",
    "Таким образом, исследование пройдёт в несколько этапов:\n",
    " 1. Обзор данных.\n",
    " 2. Предобработка данных.\n",
    " 3. Часть 1. Приоритизация гипотез.\n",
    " 4. Часть 2. Анализ A/B-теста.\n",
    " 5. Общий вывод."
   ]
  },
  {
   "cell_type": "markdown",
   "metadata": {},
   "source": [
    "**Описание данных:**\n",
    "\n",
    "Данные для первой части:\n",
    "\n",
    "Структура `/datasets/hypothesis.csv`:\n",
    " - `Hypothesis` — краткое описание гипотезы;\n",
    " - `Reach` — охват пользователей по 10-балльной шкале;\n",
    " - `Impact` — влияние на пользователей по 10-балльной шкале;\n",
    " - `Confidence` — уверенность в гипотезе по 10-балльной шкале;\n",
    " - `Efforts` — затраты ресурсов на проверку гипотезы по 10-балльной шкале. Чем больше значение Efforts, тем дороже проверка гипотезы.\n",
    "\n",
    "Данные для второй части\n",
    "\n",
    "Структура `/datasets/orders.csv`:\n",
    " - `transactionId` — идентификатор заказа;\n",
    " - `visitorId` — идентификатор пользователя, совершившего заказ;\n",
    " - `date` — дата, когда был совершён заказ;\n",
    " - `revenue` — выручка заказа;\n",
    " - `group` — группа A/B-теста, в которую попал заказ.\n",
    "\n",
    "\n",
    "Структура `/datasets/visitors.csv`:\n",
    " - `date` — дата;\n",
    " - `group` — группа A/B-теста;\n",
    " - `visitors` — количество пользователей в указанную дату в указанной группе A/B-теста/"
   ]
  },
  {
   "cell_type": "markdown",
   "metadata": {},
   "source": [
    "### Обзор данных"
   ]
  },
  {
   "cell_type": "code",
   "execution_count": 1,
   "metadata": {},
   "outputs": [],
   "source": [
    "import pandas as pd\n",
    "import numpy as np\n",
    "import datetime as dt\n",
    "import matplotlib.pyplot as plt\n",
    "import scipy.stats as stats\n",
    "from pandas.plotting import register_matplotlib_converters\n",
    "import warnings\n",
    "\n",
    "#отображение всех чисел с двумя знаками после запятой\n",
    "pd.set_option('display.float_format', '{:.2f}'.format)\n",
    "\n",
    "#уберем ограничение строк и столбцов в отображении\n",
    "pd.set_option('display.max_rows', None)\n",
    "pd.set_option('display.max_columns', None)\n",
    "pd.options.display.max_colwidth = 100"
   ]
  },
  {
   "cell_type": "code",
   "execution_count": 2,
   "metadata": {},
   "outputs": [],
   "source": [
    "# чтение датасета, применение условия для открытия файлов из локального расположения или из среды Я.Практикума\n",
    "# сохранение датасетов в переменные hypothesis, orders, visitors\n",
    "\n",
    "try:\n",
    "    hypothesis = pd.read_csv('/datasets/hypothesis.csv')\n",
    "    orders = pd.read_csv('/datasets/orders.csv')\n",
    "    visitors = pd.read_csv('/datasets/visitors.csv')\n",
    "except FileNotFoundError:\n",
    "    hypothesis = pd.read_csv('hypothesis.csv')\n",
    "    orders = pd.read_csv('orders.csv')\n",
    "    visitors = pd.read_csv('visitors.csv')"
   ]
  },
  {
   "cell_type": "code",
   "execution_count": 3,
   "metadata": {},
   "outputs": [
    {
     "name": "stdout",
     "output_type": "stream",
     "text": [
      "<class 'pandas.core.frame.DataFrame'>\n",
      "RangeIndex: 9 entries, 0 to 8\n",
      "Data columns (total 5 columns):\n",
      " #   Column      Non-Null Count  Dtype \n",
      "---  ------      --------------  ----- \n",
      " 0   Hypothesis  9 non-null      object\n",
      " 1   Reach       9 non-null      int64 \n",
      " 2   Impact      9 non-null      int64 \n",
      " 3   Confidence  9 non-null      int64 \n",
      " 4   Efforts     9 non-null      int64 \n",
      "dtypes: int64(4), object(1)\n",
      "memory usage: 492.0+ bytes\n"
     ]
    }
   ],
   "source": [
    "# вывод основной информации о датафрейме с помощью метода info()\n",
    "hypothesis.info()"
   ]
  },
  {
   "cell_type": "code",
   "execution_count": 4,
   "metadata": {},
   "outputs": [
    {
     "data": {
      "text/html": [
       "<div>\n",
       "<style scoped>\n",
       "    .dataframe tbody tr th:only-of-type {\n",
       "        vertical-align: middle;\n",
       "    }\n",
       "\n",
       "    .dataframe tbody tr th {\n",
       "        vertical-align: top;\n",
       "    }\n",
       "\n",
       "    .dataframe thead th {\n",
       "        text-align: right;\n",
       "    }\n",
       "</style>\n",
       "<table border=\"1\" class=\"dataframe\">\n",
       "  <thead>\n",
       "    <tr style=\"text-align: right;\">\n",
       "      <th></th>\n",
       "      <th>Hypothesis</th>\n",
       "      <th>Reach</th>\n",
       "      <th>Impact</th>\n",
       "      <th>Confidence</th>\n",
       "      <th>Efforts</th>\n",
       "    </tr>\n",
       "  </thead>\n",
       "  <tbody>\n",
       "    <tr>\n",
       "      <th>0</th>\n",
       "      <td>Добавить два новых канала привлечения трафика, что позволит привлекать на 30% больше пользователей</td>\n",
       "      <td>3</td>\n",
       "      <td>10</td>\n",
       "      <td>8</td>\n",
       "      <td>6</td>\n",
       "    </tr>\n",
       "    <tr>\n",
       "      <th>1</th>\n",
       "      <td>Запустить собственную службу доставки, что сократит срок доставки заказов</td>\n",
       "      <td>2</td>\n",
       "      <td>5</td>\n",
       "      <td>4</td>\n",
       "      <td>10</td>\n",
       "    </tr>\n",
       "    <tr>\n",
       "      <th>2</th>\n",
       "      <td>Добавить блоки рекомендаций товаров на сайт интернет магазина, чтобы повысить конверсию и средни...</td>\n",
       "      <td>8</td>\n",
       "      <td>3</td>\n",
       "      <td>7</td>\n",
       "      <td>3</td>\n",
       "    </tr>\n",
       "    <tr>\n",
       "      <th>3</th>\n",
       "      <td>Изменить структура категорий, что увеличит конверсию, т.к. пользователи быстрее найдут нужный товар</td>\n",
       "      <td>8</td>\n",
       "      <td>3</td>\n",
       "      <td>3</td>\n",
       "      <td>8</td>\n",
       "    </tr>\n",
       "    <tr>\n",
       "      <th>4</th>\n",
       "      <td>Изменить цвет фона главной страницы, чтобы увеличить вовлеченность пользователей</td>\n",
       "      <td>3</td>\n",
       "      <td>1</td>\n",
       "      <td>1</td>\n",
       "      <td>1</td>\n",
       "    </tr>\n",
       "    <tr>\n",
       "      <th>5</th>\n",
       "      <td>Добавить страницу отзывов клиентов о магазине, что позволит увеличить количество заказов</td>\n",
       "      <td>3</td>\n",
       "      <td>2</td>\n",
       "      <td>2</td>\n",
       "      <td>3</td>\n",
       "    </tr>\n",
       "    <tr>\n",
       "      <th>6</th>\n",
       "      <td>Показать на главной странице баннеры с актуальными акциями и распродажами, чтобы увеличить конве...</td>\n",
       "      <td>5</td>\n",
       "      <td>3</td>\n",
       "      <td>8</td>\n",
       "      <td>3</td>\n",
       "    </tr>\n",
       "    <tr>\n",
       "      <th>7</th>\n",
       "      <td>Добавить форму подписки на все основные страницы, чтобы собрать базу клиентов для email-рассылок</td>\n",
       "      <td>10</td>\n",
       "      <td>7</td>\n",
       "      <td>8</td>\n",
       "      <td>5</td>\n",
       "    </tr>\n",
       "    <tr>\n",
       "      <th>8</th>\n",
       "      <td>Запустить акцию, дающую скидку на товар в день рождения</td>\n",
       "      <td>1</td>\n",
       "      <td>9</td>\n",
       "      <td>9</td>\n",
       "      <td>5</td>\n",
       "    </tr>\n",
       "  </tbody>\n",
       "</table>\n",
       "</div>"
      ],
      "text/plain": [
       "                                                                                            Hypothesis  \\\n",
       "0   Добавить два новых канала привлечения трафика, что позволит привлекать на 30% больше пользователей   \n",
       "1                            Запустить собственную службу доставки, что сократит срок доставки заказов   \n",
       "2  Добавить блоки рекомендаций товаров на сайт интернет магазина, чтобы повысить конверсию и средни...   \n",
       "3  Изменить структура категорий, что увеличит конверсию, т.к. пользователи быстрее найдут нужный товар   \n",
       "4                     Изменить цвет фона главной страницы, чтобы увеличить вовлеченность пользователей   \n",
       "5             Добавить страницу отзывов клиентов о магазине, что позволит увеличить количество заказов   \n",
       "6  Показать на главной странице баннеры с актуальными акциями и распродажами, чтобы увеличить конве...   \n",
       "7     Добавить форму подписки на все основные страницы, чтобы собрать базу клиентов для email-рассылок   \n",
       "8                                              Запустить акцию, дающую скидку на товар в день рождения   \n",
       "\n",
       "   Reach  Impact  Confidence  Efforts  \n",
       "0      3      10           8        6  \n",
       "1      2       5           4       10  \n",
       "2      8       3           7        3  \n",
       "3      8       3           3        8  \n",
       "4      3       1           1        1  \n",
       "5      3       2           2        3  \n",
       "6      5       3           8        3  \n",
       "7     10       7           8        5  \n",
       "8      1       9           9        5  "
      ]
     },
     "execution_count": 4,
     "metadata": {},
     "output_type": "execute_result"
    }
   ],
   "source": [
    "# вывод датафрейма\n",
    "hypothesis.head(9)"
   ]
  },
  {
   "cell_type": "code",
   "execution_count": 5,
   "metadata": {},
   "outputs": [
    {
     "name": "stdout",
     "output_type": "stream",
     "text": [
      "<class 'pandas.core.frame.DataFrame'>\n",
      "RangeIndex: 1197 entries, 0 to 1196\n",
      "Data columns (total 5 columns):\n",
      " #   Column         Non-Null Count  Dtype \n",
      "---  ------         --------------  ----- \n",
      " 0   transactionId  1197 non-null   int64 \n",
      " 1   visitorId      1197 non-null   int64 \n",
      " 2   date           1197 non-null   object\n",
      " 3   revenue        1197 non-null   int64 \n",
      " 4   group          1197 non-null   object\n",
      "dtypes: int64(3), object(2)\n",
      "memory usage: 46.9+ KB\n"
     ]
    }
   ],
   "source": [
    "# вывод основной информации о датафрейме с помощью метода info()\n",
    "orders.info()"
   ]
  },
  {
   "cell_type": "code",
   "execution_count": 6,
   "metadata": {},
   "outputs": [
    {
     "data": {
      "text/html": [
       "<div>\n",
       "<style scoped>\n",
       "    .dataframe tbody tr th:only-of-type {\n",
       "        vertical-align: middle;\n",
       "    }\n",
       "\n",
       "    .dataframe tbody tr th {\n",
       "        vertical-align: top;\n",
       "    }\n",
       "\n",
       "    .dataframe thead th {\n",
       "        text-align: right;\n",
       "    }\n",
       "</style>\n",
       "<table border=\"1\" class=\"dataframe\">\n",
       "  <thead>\n",
       "    <tr style=\"text-align: right;\">\n",
       "      <th></th>\n",
       "      <th>transactionId</th>\n",
       "      <th>visitorId</th>\n",
       "      <th>date</th>\n",
       "      <th>revenue</th>\n",
       "      <th>group</th>\n",
       "    </tr>\n",
       "  </thead>\n",
       "  <tbody>\n",
       "    <tr>\n",
       "      <th>0</th>\n",
       "      <td>3667963787</td>\n",
       "      <td>3312258926</td>\n",
       "      <td>2019-08-15</td>\n",
       "      <td>1650</td>\n",
       "      <td>B</td>\n",
       "    </tr>\n",
       "    <tr>\n",
       "      <th>1</th>\n",
       "      <td>2804400009</td>\n",
       "      <td>3642806036</td>\n",
       "      <td>2019-08-15</td>\n",
       "      <td>730</td>\n",
       "      <td>B</td>\n",
       "    </tr>\n",
       "    <tr>\n",
       "      <th>2</th>\n",
       "      <td>2961555356</td>\n",
       "      <td>4069496402</td>\n",
       "      <td>2019-08-15</td>\n",
       "      <td>400</td>\n",
       "      <td>A</td>\n",
       "    </tr>\n",
       "    <tr>\n",
       "      <th>3</th>\n",
       "      <td>3797467345</td>\n",
       "      <td>1196621759</td>\n",
       "      <td>2019-08-15</td>\n",
       "      <td>9759</td>\n",
       "      <td>B</td>\n",
       "    </tr>\n",
       "    <tr>\n",
       "      <th>4</th>\n",
       "      <td>2282983706</td>\n",
       "      <td>2322279887</td>\n",
       "      <td>2019-08-15</td>\n",
       "      <td>2308</td>\n",
       "      <td>B</td>\n",
       "    </tr>\n",
       "    <tr>\n",
       "      <th>5</th>\n",
       "      <td>182168103</td>\n",
       "      <td>935554773</td>\n",
       "      <td>2019-08-15</td>\n",
       "      <td>2210</td>\n",
       "      <td>B</td>\n",
       "    </tr>\n",
       "    <tr>\n",
       "      <th>6</th>\n",
       "      <td>398296753</td>\n",
       "      <td>2900797465</td>\n",
       "      <td>2019-08-15</td>\n",
       "      <td>1860</td>\n",
       "      <td>B</td>\n",
       "    </tr>\n",
       "    <tr>\n",
       "      <th>7</th>\n",
       "      <td>2626614568</td>\n",
       "      <td>78758296</td>\n",
       "      <td>2019-08-15</td>\n",
       "      <td>1044</td>\n",
       "      <td>A</td>\n",
       "    </tr>\n",
       "    <tr>\n",
       "      <th>8</th>\n",
       "      <td>1576988021</td>\n",
       "      <td>295230930</td>\n",
       "      <td>2019-08-15</td>\n",
       "      <td>13710</td>\n",
       "      <td>A</td>\n",
       "    </tr>\n",
       "    <tr>\n",
       "      <th>9</th>\n",
       "      <td>1506739906</td>\n",
       "      <td>1882260405</td>\n",
       "      <td>2019-08-15</td>\n",
       "      <td>1855</td>\n",
       "      <td>B</td>\n",
       "    </tr>\n",
       "  </tbody>\n",
       "</table>\n",
       "</div>"
      ],
      "text/plain": [
       "   transactionId   visitorId        date  revenue group\n",
       "0     3667963787  3312258926  2019-08-15     1650     B\n",
       "1     2804400009  3642806036  2019-08-15      730     B\n",
       "2     2961555356  4069496402  2019-08-15      400     A\n",
       "3     3797467345  1196621759  2019-08-15     9759     B\n",
       "4     2282983706  2322279887  2019-08-15     2308     B\n",
       "5      182168103   935554773  2019-08-15     2210     B\n",
       "6      398296753  2900797465  2019-08-15     1860     B\n",
       "7     2626614568    78758296  2019-08-15     1044     A\n",
       "8     1576988021   295230930  2019-08-15    13710     A\n",
       "9     1506739906  1882260405  2019-08-15     1855     B"
      ]
     },
     "execution_count": 6,
     "metadata": {},
     "output_type": "execute_result"
    }
   ],
   "source": [
    "# вывод первых 10 строк датафрейма\n",
    "orders.head(10)"
   ]
  },
  {
   "cell_type": "code",
   "execution_count": 7,
   "metadata": {},
   "outputs": [
    {
     "data": {
      "text/html": [
       "<div>\n",
       "<style scoped>\n",
       "    .dataframe tbody tr th:only-of-type {\n",
       "        vertical-align: middle;\n",
       "    }\n",
       "\n",
       "    .dataframe tbody tr th {\n",
       "        vertical-align: top;\n",
       "    }\n",
       "\n",
       "    .dataframe thead th {\n",
       "        text-align: right;\n",
       "    }\n",
       "</style>\n",
       "<table border=\"1\" class=\"dataframe\">\n",
       "  <thead>\n",
       "    <tr style=\"text-align: right;\">\n",
       "      <th></th>\n",
       "      <th>transactionId</th>\n",
       "      <th>visitorId</th>\n",
       "      <th>date</th>\n",
       "      <th>revenue</th>\n",
       "      <th>group</th>\n",
       "    </tr>\n",
       "  </thead>\n",
       "  <tbody>\n",
       "    <tr>\n",
       "      <th>1187</th>\n",
       "      <td>2274188238</td>\n",
       "      <td>132143192</td>\n",
       "      <td>2019-08-14</td>\n",
       "      <td>750</td>\n",
       "      <td>A</td>\n",
       "    </tr>\n",
       "    <tr>\n",
       "      <th>1188</th>\n",
       "      <td>1692103379</td>\n",
       "      <td>1022829655</td>\n",
       "      <td>2019-08-14</td>\n",
       "      <td>112</td>\n",
       "      <td>A</td>\n",
       "    </tr>\n",
       "    <tr>\n",
       "      <th>1189</th>\n",
       "      <td>4082620617</td>\n",
       "      <td>393266494</td>\n",
       "      <td>2019-08-14</td>\n",
       "      <td>31550</td>\n",
       "      <td>B</td>\n",
       "    </tr>\n",
       "    <tr>\n",
       "      <th>1190</th>\n",
       "      <td>38478481</td>\n",
       "      <td>1197745035</td>\n",
       "      <td>2019-08-14</td>\n",
       "      <td>8600</td>\n",
       "      <td>B</td>\n",
       "    </tr>\n",
       "    <tr>\n",
       "      <th>1191</th>\n",
       "      <td>3592955527</td>\n",
       "      <td>608641596</td>\n",
       "      <td>2019-08-14</td>\n",
       "      <td>16490</td>\n",
       "      <td>B</td>\n",
       "    </tr>\n",
       "    <tr>\n",
       "      <th>1192</th>\n",
       "      <td>2662137336</td>\n",
       "      <td>3733762160</td>\n",
       "      <td>2019-08-14</td>\n",
       "      <td>6490</td>\n",
       "      <td>B</td>\n",
       "    </tr>\n",
       "    <tr>\n",
       "      <th>1193</th>\n",
       "      <td>2203539145</td>\n",
       "      <td>370388673</td>\n",
       "      <td>2019-08-14</td>\n",
       "      <td>3190</td>\n",
       "      <td>A</td>\n",
       "    </tr>\n",
       "    <tr>\n",
       "      <th>1194</th>\n",
       "      <td>1807773912</td>\n",
       "      <td>573423106</td>\n",
       "      <td>2019-08-14</td>\n",
       "      <td>10550</td>\n",
       "      <td>A</td>\n",
       "    </tr>\n",
       "    <tr>\n",
       "      <th>1195</th>\n",
       "      <td>1947021204</td>\n",
       "      <td>1614305549</td>\n",
       "      <td>2019-08-14</td>\n",
       "      <td>100</td>\n",
       "      <td>A</td>\n",
       "    </tr>\n",
       "    <tr>\n",
       "      <th>1196</th>\n",
       "      <td>3936777065</td>\n",
       "      <td>2108080724</td>\n",
       "      <td>2019-08-15</td>\n",
       "      <td>202740</td>\n",
       "      <td>B</td>\n",
       "    </tr>\n",
       "  </tbody>\n",
       "</table>\n",
       "</div>"
      ],
      "text/plain": [
       "      transactionId   visitorId        date  revenue group\n",
       "1187     2274188238   132143192  2019-08-14      750     A\n",
       "1188     1692103379  1022829655  2019-08-14      112     A\n",
       "1189     4082620617   393266494  2019-08-14    31550     B\n",
       "1190       38478481  1197745035  2019-08-14     8600     B\n",
       "1191     3592955527   608641596  2019-08-14    16490     B\n",
       "1192     2662137336  3733762160  2019-08-14     6490     B\n",
       "1193     2203539145   370388673  2019-08-14     3190     A\n",
       "1194     1807773912   573423106  2019-08-14    10550     A\n",
       "1195     1947021204  1614305549  2019-08-14      100     A\n",
       "1196     3936777065  2108080724  2019-08-15   202740     B"
      ]
     },
     "execution_count": 7,
     "metadata": {},
     "output_type": "execute_result"
    }
   ],
   "source": [
    "# вывод последних 10 строк датафрейма\n",
    "orders.tail(10)"
   ]
  },
  {
   "cell_type": "code",
   "execution_count": 8,
   "metadata": {},
   "outputs": [
    {
     "name": "stdout",
     "output_type": "stream",
     "text": [
      "<class 'pandas.core.frame.DataFrame'>\n",
      "RangeIndex: 62 entries, 0 to 61\n",
      "Data columns (total 3 columns):\n",
      " #   Column    Non-Null Count  Dtype \n",
      "---  ------    --------------  ----- \n",
      " 0   date      62 non-null     object\n",
      " 1   group     62 non-null     object\n",
      " 2   visitors  62 non-null     int64 \n",
      "dtypes: int64(1), object(2)\n",
      "memory usage: 1.6+ KB\n"
     ]
    }
   ],
   "source": [
    "# вывод основной информации о датафрейме с помощью метода info()\n",
    "visitors.info()"
   ]
  },
  {
   "cell_type": "code",
   "execution_count": 9,
   "metadata": {},
   "outputs": [
    {
     "data": {
      "text/html": [
       "<div>\n",
       "<style scoped>\n",
       "    .dataframe tbody tr th:only-of-type {\n",
       "        vertical-align: middle;\n",
       "    }\n",
       "\n",
       "    .dataframe tbody tr th {\n",
       "        vertical-align: top;\n",
       "    }\n",
       "\n",
       "    .dataframe thead th {\n",
       "        text-align: right;\n",
       "    }\n",
       "</style>\n",
       "<table border=\"1\" class=\"dataframe\">\n",
       "  <thead>\n",
       "    <tr style=\"text-align: right;\">\n",
       "      <th></th>\n",
       "      <th>date</th>\n",
       "      <th>group</th>\n",
       "      <th>visitors</th>\n",
       "    </tr>\n",
       "  </thead>\n",
       "  <tbody>\n",
       "    <tr>\n",
       "      <th>0</th>\n",
       "      <td>2019-08-01</td>\n",
       "      <td>A</td>\n",
       "      <td>719</td>\n",
       "    </tr>\n",
       "    <tr>\n",
       "      <th>1</th>\n",
       "      <td>2019-08-02</td>\n",
       "      <td>A</td>\n",
       "      <td>619</td>\n",
       "    </tr>\n",
       "    <tr>\n",
       "      <th>2</th>\n",
       "      <td>2019-08-03</td>\n",
       "      <td>A</td>\n",
       "      <td>507</td>\n",
       "    </tr>\n",
       "    <tr>\n",
       "      <th>3</th>\n",
       "      <td>2019-08-04</td>\n",
       "      <td>A</td>\n",
       "      <td>717</td>\n",
       "    </tr>\n",
       "    <tr>\n",
       "      <th>4</th>\n",
       "      <td>2019-08-05</td>\n",
       "      <td>A</td>\n",
       "      <td>756</td>\n",
       "    </tr>\n",
       "    <tr>\n",
       "      <th>5</th>\n",
       "      <td>2019-08-06</td>\n",
       "      <td>A</td>\n",
       "      <td>667</td>\n",
       "    </tr>\n",
       "    <tr>\n",
       "      <th>6</th>\n",
       "      <td>2019-08-07</td>\n",
       "      <td>A</td>\n",
       "      <td>644</td>\n",
       "    </tr>\n",
       "    <tr>\n",
       "      <th>7</th>\n",
       "      <td>2019-08-08</td>\n",
       "      <td>A</td>\n",
       "      <td>610</td>\n",
       "    </tr>\n",
       "    <tr>\n",
       "      <th>8</th>\n",
       "      <td>2019-08-09</td>\n",
       "      <td>A</td>\n",
       "      <td>617</td>\n",
       "    </tr>\n",
       "    <tr>\n",
       "      <th>9</th>\n",
       "      <td>2019-08-10</td>\n",
       "      <td>A</td>\n",
       "      <td>406</td>\n",
       "    </tr>\n",
       "  </tbody>\n",
       "</table>\n",
       "</div>"
      ],
      "text/plain": [
       "         date group  visitors\n",
       "0  2019-08-01     A       719\n",
       "1  2019-08-02     A       619\n",
       "2  2019-08-03     A       507\n",
       "3  2019-08-04     A       717\n",
       "4  2019-08-05     A       756\n",
       "5  2019-08-06     A       667\n",
       "6  2019-08-07     A       644\n",
       "7  2019-08-08     A       610\n",
       "8  2019-08-09     A       617\n",
       "9  2019-08-10     A       406"
      ]
     },
     "execution_count": 9,
     "metadata": {},
     "output_type": "execute_result"
    }
   ],
   "source": [
    "# вывод первых 10 строк датафрейма\n",
    "visitors.head(10)"
   ]
  },
  {
   "cell_type": "code",
   "execution_count": 10,
   "metadata": {},
   "outputs": [
    {
     "data": {
      "text/html": [
       "<div>\n",
       "<style scoped>\n",
       "    .dataframe tbody tr th:only-of-type {\n",
       "        vertical-align: middle;\n",
       "    }\n",
       "\n",
       "    .dataframe tbody tr th {\n",
       "        vertical-align: top;\n",
       "    }\n",
       "\n",
       "    .dataframe thead th {\n",
       "        text-align: right;\n",
       "    }\n",
       "</style>\n",
       "<table border=\"1\" class=\"dataframe\">\n",
       "  <thead>\n",
       "    <tr style=\"text-align: right;\">\n",
       "      <th></th>\n",
       "      <th>date</th>\n",
       "      <th>group</th>\n",
       "      <th>visitors</th>\n",
       "    </tr>\n",
       "  </thead>\n",
       "  <tbody>\n",
       "    <tr>\n",
       "      <th>52</th>\n",
       "      <td>2019-08-22</td>\n",
       "      <td>B</td>\n",
       "      <td>650</td>\n",
       "    </tr>\n",
       "    <tr>\n",
       "      <th>53</th>\n",
       "      <td>2019-08-23</td>\n",
       "      <td>B</td>\n",
       "      <td>546</td>\n",
       "    </tr>\n",
       "    <tr>\n",
       "      <th>54</th>\n",
       "      <td>2019-08-24</td>\n",
       "      <td>B</td>\n",
       "      <td>378</td>\n",
       "    </tr>\n",
       "    <tr>\n",
       "      <th>55</th>\n",
       "      <td>2019-08-25</td>\n",
       "      <td>B</td>\n",
       "      <td>679</td>\n",
       "    </tr>\n",
       "    <tr>\n",
       "      <th>56</th>\n",
       "      <td>2019-08-26</td>\n",
       "      <td>B</td>\n",
       "      <td>676</td>\n",
       "    </tr>\n",
       "    <tr>\n",
       "      <th>57</th>\n",
       "      <td>2019-08-27</td>\n",
       "      <td>B</td>\n",
       "      <td>720</td>\n",
       "    </tr>\n",
       "    <tr>\n",
       "      <th>58</th>\n",
       "      <td>2019-08-28</td>\n",
       "      <td>B</td>\n",
       "      <td>654</td>\n",
       "    </tr>\n",
       "    <tr>\n",
       "      <th>59</th>\n",
       "      <td>2019-08-29</td>\n",
       "      <td>B</td>\n",
       "      <td>531</td>\n",
       "    </tr>\n",
       "    <tr>\n",
       "      <th>60</th>\n",
       "      <td>2019-08-30</td>\n",
       "      <td>B</td>\n",
       "      <td>490</td>\n",
       "    </tr>\n",
       "    <tr>\n",
       "      <th>61</th>\n",
       "      <td>2019-08-31</td>\n",
       "      <td>B</td>\n",
       "      <td>718</td>\n",
       "    </tr>\n",
       "  </tbody>\n",
       "</table>\n",
       "</div>"
      ],
      "text/plain": [
       "          date group  visitors\n",
       "52  2019-08-22     B       650\n",
       "53  2019-08-23     B       546\n",
       "54  2019-08-24     B       378\n",
       "55  2019-08-25     B       679\n",
       "56  2019-08-26     B       676\n",
       "57  2019-08-27     B       720\n",
       "58  2019-08-28     B       654\n",
       "59  2019-08-29     B       531\n",
       "60  2019-08-30     B       490\n",
       "61  2019-08-31     B       718"
      ]
     },
     "execution_count": 10,
     "metadata": {},
     "output_type": "execute_result"
    }
   ],
   "source": [
    "# вывод последних 10 строк датафрейма\n",
    "visitors.tail(10)"
   ]
  },
  {
   "cell_type": "code",
   "execution_count": 11,
   "metadata": {},
   "outputs": [
    {
     "name": "stdout",
     "output_type": "stream",
     "text": [
      "Количество дубликатов в hypothesis: 0\n",
      "Количество дубликатов в orders: 0\n",
      "Количество дубликатов в visitors: 0\n"
     ]
    }
   ],
   "source": [
    "#проверка на наличие явных дубликатов\n",
    "print('Количество дубликатов в hypothesis:', hypothesis.duplicated().sum())\n",
    "print('Количество дубликатов в orders:', orders.duplicated().sum())\n",
    "print('Количество дубликатов в visitors:', visitors.duplicated().sum())"
   ]
  },
  {
   "cell_type": "markdown",
   "metadata": {},
   "source": [
    "**В результате обзора выявлено**:\n",
    "  - пропусков и явных дубликатов в датафреймах нет;\n",
    "  - необходимо привести к змеиному регистру наименования столбцов датафрейма 'hypothesis' и 'orders';\n",
    "  - необходимо изменить тип данных для дат в датафреймах 'orders' и 'visitors', так как он сейчас в формате object."
   ]
  },
  {
   "cell_type": "markdown",
   "metadata": {},
   "source": [
    "### Предобработка данных"
   ]
  },
  {
   "cell_type": "code",
   "execution_count": 12,
   "metadata": {},
   "outputs": [],
   "source": [
    "# замена названий столбцов и приведение к нижнему регистру:\n",
    "hypothesis.columns = [x.lower() for x in hypothesis.columns.values]\n",
    "orders.columns = [x.replace('Id', '_id') for x in orders.columns.values]"
   ]
  },
  {
   "cell_type": "code",
   "execution_count": 13,
   "metadata": {},
   "outputs": [],
   "source": [
    "# преобразование данных о времени\n",
    "orders['date'] = pd.to_datetime(orders['date'], format='%Y-%m-%d')\n",
    "visitors['date'] = pd.to_datetime(visitors['date'], format='%Y-%m-%d')"
   ]
  },
  {
   "cell_type": "code",
   "execution_count": 14,
   "metadata": {},
   "outputs": [],
   "source": [
    "# # проверка результата\n",
    "# orders.info()"
   ]
  },
  {
   "cell_type": "code",
   "execution_count": 15,
   "metadata": {},
   "outputs": [],
   "source": [
    "# # проверка результата\n",
    "# visitors.info()"
   ]
  },
  {
   "cell_type": "code",
   "execution_count": 16,
   "metadata": {},
   "outputs": [],
   "source": [
    "# проверка наличия в датафреймах пропусков или дубликатов \n",
    "# напишем функцию для этого. \n",
    "def check (dataset):\n",
    "    print('Пропуски: ')\n",
    "    print(dataset.isna().sum())\n",
    "    print('-'*50)\n",
    "    print('Дубликаты: ')\n",
    "    print(dataset.duplicated().sum())\n",
    "    print('-'*50)\n",
    "    print('Типы данных: ')\n",
    "    print(dataset.dtypes)\n",
    "    return dataset"
   ]
  },
  {
   "cell_type": "code",
   "execution_count": 17,
   "metadata": {},
   "outputs": [
    {
     "name": "stdout",
     "output_type": "stream",
     "text": [
      "Пропуски: \n",
      "hypothesis    0\n",
      "reach         0\n",
      "impact        0\n",
      "confidence    0\n",
      "efforts       0\n",
      "dtype: int64\n",
      "--------------------------------------------------\n",
      "Дубликаты: \n",
      "0\n",
      "--------------------------------------------------\n",
      "Типы данных: \n",
      "hypothesis    object\n",
      "reach          int64\n",
      "impact         int64\n",
      "confidence     int64\n",
      "efforts        int64\n",
      "dtype: object\n"
     ]
    }
   ],
   "source": [
    "# проверка результата с помощью функции check\n",
    "hypothesis = check(hypothesis)"
   ]
  },
  {
   "cell_type": "code",
   "execution_count": 18,
   "metadata": {},
   "outputs": [
    {
     "name": "stdout",
     "output_type": "stream",
     "text": [
      "Пропуски: \n",
      "transaction_id    0\n",
      "visitor_id        0\n",
      "date              0\n",
      "revenue           0\n",
      "group             0\n",
      "dtype: int64\n",
      "--------------------------------------------------\n",
      "Дубликаты: \n",
      "0\n",
      "--------------------------------------------------\n",
      "Типы данных: \n",
      "transaction_id             int64\n",
      "visitor_id                 int64\n",
      "date              datetime64[ns]\n",
      "revenue                    int64\n",
      "group                     object\n",
      "dtype: object\n"
     ]
    }
   ],
   "source": [
    "# проверка результата с помощью функции check\n",
    "orders = check(orders)"
   ]
  },
  {
   "cell_type": "code",
   "execution_count": 19,
   "metadata": {},
   "outputs": [
    {
     "name": "stdout",
     "output_type": "stream",
     "text": [
      "Пропуски: \n",
      "date        0\n",
      "group       0\n",
      "visitors    0\n",
      "dtype: int64\n",
      "--------------------------------------------------\n",
      "Дубликаты: \n",
      "0\n",
      "--------------------------------------------------\n",
      "Типы данных: \n",
      "date        datetime64[ns]\n",
      "group               object\n",
      "visitors             int64\n",
      "dtype: object\n"
     ]
    }
   ],
   "source": [
    "# проверка результата с помощью функции check\n",
    "visitors = check(visitors)"
   ]
  },
  {
   "cell_type": "markdown",
   "metadata": {},
   "source": [
    "**Вывод:** после предобработки, данные находятся в подходящих для проведения расчётов форматах, столбцы поименованы согласно правил змеиного регистра."
   ]
  },
  {
   "cell_type": "markdown",
   "metadata": {},
   "source": [
    "### Часть 1. Приоритизация гипотез."
   ]
  },
  {
   "cell_type": "markdown",
   "metadata": {},
   "source": [
    " В нашем распоряжении файл с 9 гипотезами, для которых оценены значения `Reach`, `Impact`, `Confidence` и `Efforts`. Применим к этим оценкам фреймворки `ICE` и `RICE`."
   ]
  },
  {
   "cell_type": "code",
   "execution_count": 20,
   "metadata": {},
   "outputs": [
    {
     "data": {
      "text/html": [
       "<div>\n",
       "<style scoped>\n",
       "    .dataframe tbody tr th:only-of-type {\n",
       "        vertical-align: middle;\n",
       "    }\n",
       "\n",
       "    .dataframe tbody tr th {\n",
       "        vertical-align: top;\n",
       "    }\n",
       "\n",
       "    .dataframe thead th {\n",
       "        text-align: right;\n",
       "    }\n",
       "</style>\n",
       "<table border=\"1\" class=\"dataframe\">\n",
       "  <thead>\n",
       "    <tr style=\"text-align: right;\">\n",
       "      <th></th>\n",
       "      <th>hypothesis</th>\n",
       "      <th>reach</th>\n",
       "      <th>impact</th>\n",
       "      <th>confidence</th>\n",
       "      <th>efforts</th>\n",
       "      <th>ice</th>\n",
       "    </tr>\n",
       "  </thead>\n",
       "  <tbody>\n",
       "    <tr>\n",
       "      <th>8</th>\n",
       "      <td>Запустить акцию, дающую скидку на товар в день рождения</td>\n",
       "      <td>1</td>\n",
       "      <td>9</td>\n",
       "      <td>9</td>\n",
       "      <td>5</td>\n",
       "      <td>16.20</td>\n",
       "    </tr>\n",
       "    <tr>\n",
       "      <th>0</th>\n",
       "      <td>Добавить два новых канала привлечения трафика, что позволит привлекать на 30% больше пользователей</td>\n",
       "      <td>3</td>\n",
       "      <td>10</td>\n",
       "      <td>8</td>\n",
       "      <td>6</td>\n",
       "      <td>13.33</td>\n",
       "    </tr>\n",
       "    <tr>\n",
       "      <th>7</th>\n",
       "      <td>Добавить форму подписки на все основные страницы, чтобы собрать базу клиентов для email-рассылок</td>\n",
       "      <td>10</td>\n",
       "      <td>7</td>\n",
       "      <td>8</td>\n",
       "      <td>5</td>\n",
       "      <td>11.20</td>\n",
       "    </tr>\n",
       "    <tr>\n",
       "      <th>6</th>\n",
       "      <td>Показать на главной странице баннеры с актуальными акциями и распродажами, чтобы увеличить конве...</td>\n",
       "      <td>5</td>\n",
       "      <td>3</td>\n",
       "      <td>8</td>\n",
       "      <td>3</td>\n",
       "      <td>8.00</td>\n",
       "    </tr>\n",
       "    <tr>\n",
       "      <th>2</th>\n",
       "      <td>Добавить блоки рекомендаций товаров на сайт интернет магазина, чтобы повысить конверсию и средни...</td>\n",
       "      <td>8</td>\n",
       "      <td>3</td>\n",
       "      <td>7</td>\n",
       "      <td>3</td>\n",
       "      <td>7.00</td>\n",
       "    </tr>\n",
       "    <tr>\n",
       "      <th>1</th>\n",
       "      <td>Запустить собственную службу доставки, что сократит срок доставки заказов</td>\n",
       "      <td>2</td>\n",
       "      <td>5</td>\n",
       "      <td>4</td>\n",
       "      <td>10</td>\n",
       "      <td>2.00</td>\n",
       "    </tr>\n",
       "    <tr>\n",
       "      <th>5</th>\n",
       "      <td>Добавить страницу отзывов клиентов о магазине, что позволит увеличить количество заказов</td>\n",
       "      <td>3</td>\n",
       "      <td>2</td>\n",
       "      <td>2</td>\n",
       "      <td>3</td>\n",
       "      <td>1.33</td>\n",
       "    </tr>\n",
       "    <tr>\n",
       "      <th>3</th>\n",
       "      <td>Изменить структура категорий, что увеличит конверсию, т.к. пользователи быстрее найдут нужный товар</td>\n",
       "      <td>8</td>\n",
       "      <td>3</td>\n",
       "      <td>3</td>\n",
       "      <td>8</td>\n",
       "      <td>1.12</td>\n",
       "    </tr>\n",
       "    <tr>\n",
       "      <th>4</th>\n",
       "      <td>Изменить цвет фона главной страницы, чтобы увеличить вовлеченность пользователей</td>\n",
       "      <td>3</td>\n",
       "      <td>1</td>\n",
       "      <td>1</td>\n",
       "      <td>1</td>\n",
       "      <td>1.00</td>\n",
       "    </tr>\n",
       "  </tbody>\n",
       "</table>\n",
       "</div>"
      ],
      "text/plain": [
       "                                                                                            hypothesis  \\\n",
       "8                                              Запустить акцию, дающую скидку на товар в день рождения   \n",
       "0   Добавить два новых канала привлечения трафика, что позволит привлекать на 30% больше пользователей   \n",
       "7     Добавить форму подписки на все основные страницы, чтобы собрать базу клиентов для email-рассылок   \n",
       "6  Показать на главной странице баннеры с актуальными акциями и распродажами, чтобы увеличить конве...   \n",
       "2  Добавить блоки рекомендаций товаров на сайт интернет магазина, чтобы повысить конверсию и средни...   \n",
       "1                            Запустить собственную службу доставки, что сократит срок доставки заказов   \n",
       "5             Добавить страницу отзывов клиентов о магазине, что позволит увеличить количество заказов   \n",
       "3  Изменить структура категорий, что увеличит конверсию, т.к. пользователи быстрее найдут нужный товар   \n",
       "4                     Изменить цвет фона главной страницы, чтобы увеличить вовлеченность пользователей   \n",
       "\n",
       "   reach  impact  confidence  efforts   ice  \n",
       "8      1       9           9        5 16.20  \n",
       "0      3      10           8        6 13.33  \n",
       "7     10       7           8        5 11.20  \n",
       "6      5       3           8        3  8.00  \n",
       "2      8       3           7        3  7.00  \n",
       "1      2       5           4       10  2.00  \n",
       "5      3       2           2        3  1.33  \n",
       "3      8       3           3        8  1.12  \n",
       "4      3       1           1        1  1.00  "
      ]
     },
     "execution_count": 20,
     "metadata": {},
     "output_type": "execute_result"
    }
   ],
   "source": [
    "# расчёт ICE для гипотез и сортировка их по убыванию приоритета\n",
    "hypothesis['ice'] = hypothesis['impact'] * hypothesis['confidence'] / hypothesis['efforts']\n",
    "hypothesis.sort_values(by='ice', ascending=False)"
   ]
  },
  {
   "cell_type": "markdown",
   "metadata": {},
   "source": [
    "По методу `ICE` наибольший приоритет имеет гипотеза №8"
   ]
  },
  {
   "cell_type": "code",
   "execution_count": 21,
   "metadata": {},
   "outputs": [
    {
     "data": {
      "text/html": [
       "<div>\n",
       "<style scoped>\n",
       "    .dataframe tbody tr th:only-of-type {\n",
       "        vertical-align: middle;\n",
       "    }\n",
       "\n",
       "    .dataframe tbody tr th {\n",
       "        vertical-align: top;\n",
       "    }\n",
       "\n",
       "    .dataframe thead th {\n",
       "        text-align: right;\n",
       "    }\n",
       "</style>\n",
       "<table border=\"1\" class=\"dataframe\">\n",
       "  <thead>\n",
       "    <tr style=\"text-align: right;\">\n",
       "      <th></th>\n",
       "      <th>hypothesis</th>\n",
       "      <th>reach</th>\n",
       "      <th>impact</th>\n",
       "      <th>confidence</th>\n",
       "      <th>efforts</th>\n",
       "      <th>ice</th>\n",
       "      <th>rice</th>\n",
       "    </tr>\n",
       "  </thead>\n",
       "  <tbody>\n",
       "    <tr>\n",
       "      <th>7</th>\n",
       "      <td>Добавить форму подписки на все основные страницы, чтобы собрать базу клиентов для email-рассылок</td>\n",
       "      <td>10</td>\n",
       "      <td>7</td>\n",
       "      <td>8</td>\n",
       "      <td>5</td>\n",
       "      <td>11.20</td>\n",
       "      <td>112.00</td>\n",
       "    </tr>\n",
       "    <tr>\n",
       "      <th>2</th>\n",
       "      <td>Добавить блоки рекомендаций товаров на сайт интернет магазина, чтобы повысить конверсию и средни...</td>\n",
       "      <td>8</td>\n",
       "      <td>3</td>\n",
       "      <td>7</td>\n",
       "      <td>3</td>\n",
       "      <td>7.00</td>\n",
       "      <td>56.00</td>\n",
       "    </tr>\n",
       "    <tr>\n",
       "      <th>0</th>\n",
       "      <td>Добавить два новых канала привлечения трафика, что позволит привлекать на 30% больше пользователей</td>\n",
       "      <td>3</td>\n",
       "      <td>10</td>\n",
       "      <td>8</td>\n",
       "      <td>6</td>\n",
       "      <td>13.33</td>\n",
       "      <td>40.00</td>\n",
       "    </tr>\n",
       "    <tr>\n",
       "      <th>6</th>\n",
       "      <td>Показать на главной странице баннеры с актуальными акциями и распродажами, чтобы увеличить конве...</td>\n",
       "      <td>5</td>\n",
       "      <td>3</td>\n",
       "      <td>8</td>\n",
       "      <td>3</td>\n",
       "      <td>8.00</td>\n",
       "      <td>40.00</td>\n",
       "    </tr>\n",
       "    <tr>\n",
       "      <th>8</th>\n",
       "      <td>Запустить акцию, дающую скидку на товар в день рождения</td>\n",
       "      <td>1</td>\n",
       "      <td>9</td>\n",
       "      <td>9</td>\n",
       "      <td>5</td>\n",
       "      <td>16.20</td>\n",
       "      <td>16.20</td>\n",
       "    </tr>\n",
       "    <tr>\n",
       "      <th>3</th>\n",
       "      <td>Изменить структура категорий, что увеличит конверсию, т.к. пользователи быстрее найдут нужный товар</td>\n",
       "      <td>8</td>\n",
       "      <td>3</td>\n",
       "      <td>3</td>\n",
       "      <td>8</td>\n",
       "      <td>1.12</td>\n",
       "      <td>9.00</td>\n",
       "    </tr>\n",
       "    <tr>\n",
       "      <th>1</th>\n",
       "      <td>Запустить собственную службу доставки, что сократит срок доставки заказов</td>\n",
       "      <td>2</td>\n",
       "      <td>5</td>\n",
       "      <td>4</td>\n",
       "      <td>10</td>\n",
       "      <td>2.00</td>\n",
       "      <td>4.00</td>\n",
       "    </tr>\n",
       "    <tr>\n",
       "      <th>5</th>\n",
       "      <td>Добавить страницу отзывов клиентов о магазине, что позволит увеличить количество заказов</td>\n",
       "      <td>3</td>\n",
       "      <td>2</td>\n",
       "      <td>2</td>\n",
       "      <td>3</td>\n",
       "      <td>1.33</td>\n",
       "      <td>4.00</td>\n",
       "    </tr>\n",
       "    <tr>\n",
       "      <th>4</th>\n",
       "      <td>Изменить цвет фона главной страницы, чтобы увеличить вовлеченность пользователей</td>\n",
       "      <td>3</td>\n",
       "      <td>1</td>\n",
       "      <td>1</td>\n",
       "      <td>1</td>\n",
       "      <td>1.00</td>\n",
       "      <td>3.00</td>\n",
       "    </tr>\n",
       "  </tbody>\n",
       "</table>\n",
       "</div>"
      ],
      "text/plain": [
       "                                                                                            hypothesis  \\\n",
       "7     Добавить форму подписки на все основные страницы, чтобы собрать базу клиентов для email-рассылок   \n",
       "2  Добавить блоки рекомендаций товаров на сайт интернет магазина, чтобы повысить конверсию и средни...   \n",
       "0   Добавить два новых канала привлечения трафика, что позволит привлекать на 30% больше пользователей   \n",
       "6  Показать на главной странице баннеры с актуальными акциями и распродажами, чтобы увеличить конве...   \n",
       "8                                              Запустить акцию, дающую скидку на товар в день рождения   \n",
       "3  Изменить структура категорий, что увеличит конверсию, т.к. пользователи быстрее найдут нужный товар   \n",
       "1                            Запустить собственную службу доставки, что сократит срок доставки заказов   \n",
       "5             Добавить страницу отзывов клиентов о магазине, что позволит увеличить количество заказов   \n",
       "4                     Изменить цвет фона главной страницы, чтобы увеличить вовлеченность пользователей   \n",
       "\n",
       "   reach  impact  confidence  efforts   ice   rice  \n",
       "7     10       7           8        5 11.20 112.00  \n",
       "2      8       3           7        3  7.00  56.00  \n",
       "0      3      10           8        6 13.33  40.00  \n",
       "6      5       3           8        3  8.00  40.00  \n",
       "8      1       9           9        5 16.20  16.20  \n",
       "3      8       3           3        8  1.12   9.00  \n",
       "1      2       5           4       10  2.00   4.00  \n",
       "5      3       2           2        3  1.33   4.00  \n",
       "4      3       1           1        1  1.00   3.00  "
      ]
     },
     "execution_count": 21,
     "metadata": {},
     "output_type": "execute_result"
    }
   ],
   "source": [
    "# расчёт RICE для гипотез и сортировка их по убыванию приоритета\n",
    "hypothesis['rice'] = hypothesis['reach'] * hypothesis['impact'] * hypothesis['confidence'] / hypothesis['efforts']\n",
    "hypothesis.sort_values(by='rice', ascending=False)"
   ]
  },
  {
   "cell_type": "markdown",
   "metadata": {},
   "source": [
    "По методу `RICE` на первом месте гипотеза №7, а 8 только на пятом месте."
   ]
  },
  {
   "cell_type": "code",
   "execution_count": 22,
   "metadata": {},
   "outputs": [
    {
     "data": {
      "text/html": [
       "<style type=\"text/css\">\n",
       "#T_8d73c_row0_col1 {\n",
       "  background-color: #1561a9;\n",
       "  color: #f1f1f1;\n",
       "}\n",
       "#T_8d73c_row0_col2, #T_8d73c_row6_col2 {\n",
       "  background-color: #aacfe5;\n",
       "  color: #000000;\n",
       "}\n",
       "#T_8d73c_row1_col1 {\n",
       "  background-color: #eaf3fb;\n",
       "  color: #000000;\n",
       "}\n",
       "#T_8d73c_row1_col2, #T_8d73c_row3_col1, #T_8d73c_row5_col2 {\n",
       "  background-color: #f5fafe;\n",
       "  color: #000000;\n",
       "}\n",
       "#T_8d73c_row2_col1 {\n",
       "  background-color: #95c5df;\n",
       "  color: #000000;\n",
       "}\n",
       "#T_8d73c_row2_col2 {\n",
       "  background-color: #71b1d7;\n",
       "  color: #f1f1f1;\n",
       "}\n",
       "#T_8d73c_row3_col2 {\n",
       "  background-color: #ecf4fb;\n",
       "  color: #000000;\n",
       "}\n",
       "#T_8d73c_row4_col1, #T_8d73c_row4_col2 {\n",
       "  background-color: #f7fbff;\n",
       "  color: #000000;\n",
       "}\n",
       "#T_8d73c_row5_col1 {\n",
       "  background-color: #f3f8fe;\n",
       "  color: #000000;\n",
       "}\n",
       "#T_8d73c_row6_col1 {\n",
       "  background-color: #7cb7da;\n",
       "  color: #000000;\n",
       "}\n",
       "#T_8d73c_row7_col1 {\n",
       "  background-color: #3686c0;\n",
       "  color: #f1f1f1;\n",
       "}\n",
       "#T_8d73c_row7_col2, #T_8d73c_row8_col1 {\n",
       "  background-color: #08306b;\n",
       "  color: #f1f1f1;\n",
       "}\n",
       "#T_8d73c_row8_col2 {\n",
       "  background-color: #dfebf7;\n",
       "  color: #000000;\n",
       "}\n",
       "</style>\n",
       "<table id=\"T_8d73c\">\n",
       "  <thead>\n",
       "    <tr>\n",
       "      <th class=\"blank level0\" >&nbsp;</th>\n",
       "      <th id=\"T_8d73c_level0_col0\" class=\"col_heading level0 col0\" >hypothesis</th>\n",
       "      <th id=\"T_8d73c_level0_col1\" class=\"col_heading level0 col1\" >ice</th>\n",
       "      <th id=\"T_8d73c_level0_col2\" class=\"col_heading level0 col2\" >rice</th>\n",
       "    </tr>\n",
       "  </thead>\n",
       "  <tbody>\n",
       "    <tr>\n",
       "      <th id=\"T_8d73c_level0_row0\" class=\"row_heading level0 row0\" >0</th>\n",
       "      <td id=\"T_8d73c_row0_col0\" class=\"data row0 col0\" >Добавить два новых канала привлечения трафика, что позволит привлекать на 30% больше пользователей</td>\n",
       "      <td id=\"T_8d73c_row0_col1\" class=\"data row0 col1\" >13.333333</td>\n",
       "      <td id=\"T_8d73c_row0_col2\" class=\"data row0 col2\" >40.000000</td>\n",
       "    </tr>\n",
       "    <tr>\n",
       "      <th id=\"T_8d73c_level0_row1\" class=\"row_heading level0 row1\" >1</th>\n",
       "      <td id=\"T_8d73c_row1_col0\" class=\"data row1 col0\" >Запустить собственную службу доставки, что сократит срок доставки заказов</td>\n",
       "      <td id=\"T_8d73c_row1_col1\" class=\"data row1 col1\" >2.000000</td>\n",
       "      <td id=\"T_8d73c_row1_col2\" class=\"data row1 col2\" >4.000000</td>\n",
       "    </tr>\n",
       "    <tr>\n",
       "      <th id=\"T_8d73c_level0_row2\" class=\"row_heading level0 row2\" >2</th>\n",
       "      <td id=\"T_8d73c_row2_col0\" class=\"data row2 col0\" >Добавить блоки рекомендаций товаров на сайт интернет магазина, чтобы повысить конверсию и средний чек заказа</td>\n",
       "      <td id=\"T_8d73c_row2_col1\" class=\"data row2 col1\" >7.000000</td>\n",
       "      <td id=\"T_8d73c_row2_col2\" class=\"data row2 col2\" >56.000000</td>\n",
       "    </tr>\n",
       "    <tr>\n",
       "      <th id=\"T_8d73c_level0_row3\" class=\"row_heading level0 row3\" >3</th>\n",
       "      <td id=\"T_8d73c_row3_col0\" class=\"data row3 col0\" >Изменить структура категорий, что увеличит конверсию, т.к. пользователи быстрее найдут нужный товар</td>\n",
       "      <td id=\"T_8d73c_row3_col1\" class=\"data row3 col1\" >1.125000</td>\n",
       "      <td id=\"T_8d73c_row3_col2\" class=\"data row3 col2\" >9.000000</td>\n",
       "    </tr>\n",
       "    <tr>\n",
       "      <th id=\"T_8d73c_level0_row4\" class=\"row_heading level0 row4\" >4</th>\n",
       "      <td id=\"T_8d73c_row4_col0\" class=\"data row4 col0\" >Изменить цвет фона главной страницы, чтобы увеличить вовлеченность пользователей</td>\n",
       "      <td id=\"T_8d73c_row4_col1\" class=\"data row4 col1\" >1.000000</td>\n",
       "      <td id=\"T_8d73c_row4_col2\" class=\"data row4 col2\" >3.000000</td>\n",
       "    </tr>\n",
       "    <tr>\n",
       "      <th id=\"T_8d73c_level0_row5\" class=\"row_heading level0 row5\" >5</th>\n",
       "      <td id=\"T_8d73c_row5_col0\" class=\"data row5 col0\" >Добавить страницу отзывов клиентов о магазине, что позволит увеличить количество заказов</td>\n",
       "      <td id=\"T_8d73c_row5_col1\" class=\"data row5 col1\" >1.333333</td>\n",
       "      <td id=\"T_8d73c_row5_col2\" class=\"data row5 col2\" >4.000000</td>\n",
       "    </tr>\n",
       "    <tr>\n",
       "      <th id=\"T_8d73c_level0_row6\" class=\"row_heading level0 row6\" >6</th>\n",
       "      <td id=\"T_8d73c_row6_col0\" class=\"data row6 col0\" >Показать на главной странице баннеры с актуальными акциями и распродажами, чтобы увеличить конверсию</td>\n",
       "      <td id=\"T_8d73c_row6_col1\" class=\"data row6 col1\" >8.000000</td>\n",
       "      <td id=\"T_8d73c_row6_col2\" class=\"data row6 col2\" >40.000000</td>\n",
       "    </tr>\n",
       "    <tr>\n",
       "      <th id=\"T_8d73c_level0_row7\" class=\"row_heading level0 row7\" >7</th>\n",
       "      <td id=\"T_8d73c_row7_col0\" class=\"data row7 col0\" >Добавить форму подписки на все основные страницы, чтобы собрать базу клиентов для email-рассылок</td>\n",
       "      <td id=\"T_8d73c_row7_col1\" class=\"data row7 col1\" >11.200000</td>\n",
       "      <td id=\"T_8d73c_row7_col2\" class=\"data row7 col2\" >112.000000</td>\n",
       "    </tr>\n",
       "    <tr>\n",
       "      <th id=\"T_8d73c_level0_row8\" class=\"row_heading level0 row8\" >8</th>\n",
       "      <td id=\"T_8d73c_row8_col0\" class=\"data row8 col0\" >Запустить акцию, дающую скидку на товар в день рождения</td>\n",
       "      <td id=\"T_8d73c_row8_col1\" class=\"data row8 col1\" >16.200000</td>\n",
       "      <td id=\"T_8d73c_row8_col2\" class=\"data row8 col2\" >16.200000</td>\n",
       "    </tr>\n",
       "  </tbody>\n",
       "</table>\n"
      ],
      "text/plain": [
       "<pandas.io.formats.style.Styler at 0x1b7a7304cb0>"
      ]
     },
     "execution_count": 22,
     "metadata": {},
     "output_type": "execute_result"
    }
   ],
   "source": [
    "# посмотрим как изменилась приоритизация гипотез при применении RICE вместо ICE\n",
    "hypothesis[['hypothesis', 'ice', 'rice']].style.background_gradient(cmap='Blues')"
   ]
  },
  {
   "cell_type": "code",
   "execution_count": null,
   "metadata": {},
   "outputs": [],
   "source": []
  },
  {
   "cell_type": "markdown",
   "metadata": {},
   "source": [
    "**Вывод:** \n",
    " - согласно методу `ICE` наибольший приоритет имеет гипотеза №8 - \"Запустить акцию, дающую скидку на товар в день рождения пользователя\";\n",
    " - согласно методу `RICE` на первом месте гипотеза №7 - \"Добавить форму подписки на все основные страницы, чтобы собрать базу клиентов для email рассылок\";\n",
    " - такая разница в результатах, вероятно, связана с тем, что метод `ICE` не учитывает скольких пользователей затронет планируемое изменение. Акция, дающую скидку на товар в день рождения пользователя затронет только тех, кто указал дату рождения, и не затронет одновременно всех пользователей. Форма подписки на всех основных страницах затронет большую часть пользователей интернет-магазина.\n",
    " "
   ]
  },
  {
   "cell_type": "markdown",
   "metadata": {},
   "source": [
    "Исходя из уровня влияния, которое гипотезы могут оказать на основную бизнес–цель, уровня уверенности в достижении результата и того, насколько легко будет выполнить данный проект в целом, следует обратить большее внимание на следующие гипотезы:\n",
    " - добавить форму подписки на все основные страницы, чтобы собрать базу клиентов для email-рассылок (в топе моделей ICE и RICE);  \n",
    " - добавить два новых канала привлечения трафика, что позволит привлекать на 30% больше пользователей (в топе моделей ICE и RICE);  \n",
    " - добавить блоки рекомендаций товаров на сайт интернет магазина, чтобы повысить конверсию и средний чек заказа (в топе модели RICE).\n",
    " \n",
    "Также, исходя из низкого уровня результата и уровня уверенности, следует отказаться от следующих гипотез:\n",
    " - изменить цвет фона главной страницы, чтобы увеличить вовлеченность пользователей;  \n",
    " - добавить страницу отзывов клиентов о магазине, что позволит увеличить количество заказов;  \n",
    " - запустить собственную службу доставки, что сократит срок доставки заказов;  \n",
    " - изменить структура категорий, что увеличит конверсию, т.к. пользователи быстрее найдут нужный товар."
   ]
  },
  {
   "cell_type": "markdown",
   "metadata": {},
   "source": [
    "### Часть 2. Анализ A/B-теста"
   ]
  },
  {
   "cell_type": "code",
   "execution_count": 23,
   "metadata": {},
   "outputs": [
    {
     "data": {
      "text/plain": [
       "group\n",
       "A    503\n",
       "B    586\n",
       "Name: visitor_id, dtype: int64"
      ]
     },
     "execution_count": 23,
     "metadata": {},
     "output_type": "execute_result"
    }
   ],
   "source": [
    "#посмотрим на количество пользователей в группах А и В\n",
    "orders.groupby('group')['visitor_id'].nunique()"
   ]
  },
  {
   "cell_type": "markdown",
   "metadata": {},
   "source": [
    "Посчитаем суммарное число пользователей, заказов и общую выручка заказов в каждой из групп теста"
   ]
  },
  {
   "cell_type": "code",
   "execution_count": 24,
   "metadata": {},
   "outputs": [
    {
     "name": "stdout",
     "output_type": "stream",
     "text": [
      "  group  visitor_id  transaction_id  revenue\n",
      "0     A         503             557  4084803\n",
      "1     B         586             640  5907760\n"
     ]
    }
   ],
   "source": [
    "# сгруппируем данные по столбцу с группами A/B-теста\n",
    "orders_new = (\n",
    "    orders.groupby('group', as_index=False)\n",
    "    .agg({'visitor_id' : 'nunique','transaction_id': 'count', 'revenue': 'sum'})\n",
    ")\n",
    "\n",
    "print(orders_new) "
   ]
  },
  {
   "cell_type": "markdown",
   "metadata": {},
   "source": [
    "Количество пользователей в группе А - 503, которые совершили 557 заказов на сумму 4 084 803 ден.знаков. Количество пользователей в группе В - 586, которые совершили 640 заказов на сумму 5 907 760 ден.знаков. Некоторые пользователи обеих групп сделали по нескольку заказов."
   ]
  },
  {
   "cell_type": "markdown",
   "metadata": {},
   "source": [
    "Проверим, нет ли пользователей, попавших одновременно в обе группы."
   ]
  },
  {
   "cell_type": "code",
   "execution_count": 25,
   "metadata": {},
   "outputs": [
    {
     "name": "stdout",
     "output_type": "stream",
     "text": [
      "Пользователей, попавших в обе группы: 58\n",
      "Сумма заказов этих пользователей 1558935\n",
      "Количество их заказов 181\n"
     ]
    }
   ],
   "source": [
    "doubles = orders.groupby(['visitor_id']).agg({'group' : 'nunique', 'transaction_id' : 'count', 'revenue' : 'sum'}).reset_index()\n",
    "print(f'Пользователей, попавших в обе группы: {doubles[doubles.group != 1][\"visitor_id\"].count()}')\n",
    "print(f\"Сумма заказов этих пользователей {doubles[doubles.group != 1]['revenue'].sum()}\")\n",
    "print(f\"Количество их заказов {doubles[doubles.group != 1]['transaction_id'].sum()}\")"
   ]
  },
  {
   "cell_type": "markdown",
   "metadata": {},
   "source": [
    "58 пользователей попали в обе группы. Эти пользователи сделали 181 заказ на более чем 1,5 млн. Неизвестно, какая из версий исследуемой страницы повлияла на их решения, значит, результаты исследования нельзя интерпретировать однозначно. Следует исключить этих пользователей из исследования."
   ]
  },
  {
   "cell_type": "code",
   "execution_count": 26,
   "metadata": {},
   "outputs": [],
   "source": [
    "del_list = list(doubles[doubles.group != 1]['visitor_id'])\n",
    "orders = orders.query('visitor_id not in @del_list')"
   ]
  },
  {
   "cell_type": "markdown",
   "metadata": {},
   "source": [
    "Мы провели A/B-тест и получили результаты, которые описаны в файлах `/datasets/orders.csv` и `/datasets/visitors.csv`.\n",
    "\n",
    "Проанализируем A/B-тест."
   ]
  },
  {
   "cell_type": "markdown",
   "metadata": {},
   "source": [
    "**График кумулятивной выручки по группам**"
   ]
  },
  {
   "cell_type": "code",
   "execution_count": 27,
   "metadata": {},
   "outputs": [],
   "source": [
    "# создим массив уникальных пар значений дат и групп теста\n",
    "datesGroups = orders[['date','group']].drop_duplicates()"
   ]
  },
  {
   "cell_type": "code",
   "execution_count": 28,
   "metadata": {},
   "outputs": [],
   "source": [
    "#получим агрегированные кумулятивные по дням данные о заказах\n",
    "ordersAggregated = (datesGroups\n",
    "                    .apply(lambda x: orders[(orders['date'] <= x['date']) & (orders['group'] == x['group'])]\n",
    "                    .agg({'date':'max', 'group':'max', 'transaction_id':pd.Series.nunique, 'visitor_id':pd.Series.nunique, 'revenue':'sum'}), axis=1)\n",
    "                    .sort_values(by=['date','group'])\n",
    "                   )\n"
   ]
  },
  {
   "cell_type": "code",
   "execution_count": 29,
   "metadata": {},
   "outputs": [],
   "source": [
    "# соберем агрегированные кумулятивные по дням данные о посетителях интернет-магазина\n",
    "visitorsAggregated = (datesGroups\n",
    "                      .apply(lambda x: visitors[(visitors['date'] <= x['date']) & (visitors['group'] == x['group'])]\n",
    "                      .agg({'date' : 'max', 'group' : 'max', 'visitors' : 'sum'}), axis=1)\n",
    "                      .sort_values(by=['date','group'])\n",
    "                     )"
   ]
  },
  {
   "cell_type": "code",
   "execution_count": 30,
   "metadata": {},
   "outputs": [],
   "source": [
    "# объединим кумулятивные данные в одной таблице\n",
    "cumulativeData = ordersAggregated.merge(visitorsAggregated, left_on=['date', 'group'], right_on=['date', 'group'])\n",
    "\n",
    "# присвоим столбцам понятные названия\n",
    "cumulativeData.columns = ['date', 'group', 'orders', 'buyers', 'revenue', 'visitors']\n",
    "\n"
   ]
  },
  {
   "cell_type": "code",
   "execution_count": 31,
   "metadata": {},
   "outputs": [
    {
     "data": {
      "text/html": [
       "<div>\n",
       "<style scoped>\n",
       "    .dataframe tbody tr th:only-of-type {\n",
       "        vertical-align: middle;\n",
       "    }\n",
       "\n",
       "    .dataframe tbody tr th {\n",
       "        vertical-align: top;\n",
       "    }\n",
       "\n",
       "    .dataframe thead th {\n",
       "        text-align: right;\n",
       "    }\n",
       "</style>\n",
       "<table border=\"1\" class=\"dataframe\">\n",
       "  <thead>\n",
       "    <tr style=\"text-align: right;\">\n",
       "      <th></th>\n",
       "      <th>index</th>\n",
       "      <th>date</th>\n",
       "      <th>revenue</th>\n",
       "      <th>orders</th>\n",
       "    </tr>\n",
       "  </thead>\n",
       "  <tbody>\n",
       "    <tr>\n",
       "      <th>0</th>\n",
       "      <td>0</td>\n",
       "      <td>2019-08-01</td>\n",
       "      <td>142779</td>\n",
       "      <td>23</td>\n",
       "    </tr>\n",
       "    <tr>\n",
       "      <th>1</th>\n",
       "      <td>2</td>\n",
       "      <td>2019-08-02</td>\n",
       "      <td>234381</td>\n",
       "      <td>42</td>\n",
       "    </tr>\n",
       "    <tr>\n",
       "      <th>2</th>\n",
       "      <td>4</td>\n",
       "      <td>2019-08-03</td>\n",
       "      <td>346854</td>\n",
       "      <td>66</td>\n",
       "    </tr>\n",
       "    <tr>\n",
       "      <th>3</th>\n",
       "      <td>6</td>\n",
       "      <td>2019-08-04</td>\n",
       "      <td>388030</td>\n",
       "      <td>77</td>\n",
       "    </tr>\n",
       "    <tr>\n",
       "      <th>4</th>\n",
       "      <td>8</td>\n",
       "      <td>2019-08-05</td>\n",
       "      <td>474413</td>\n",
       "      <td>99</td>\n",
       "    </tr>\n",
       "  </tbody>\n",
       "</table>\n",
       "</div>"
      ],
      "text/plain": [
       "   index       date  revenue  orders\n",
       "0      0 2019-08-01   142779      23\n",
       "1      2 2019-08-02   234381      42\n",
       "2      4 2019-08-03   346854      66\n",
       "3      6 2019-08-04   388030      77\n",
       "4      8 2019-08-05   474413      99"
      ]
     },
     "execution_count": 31,
     "metadata": {},
     "output_type": "execute_result"
    }
   ],
   "source": [
    "# объявим переменные cumulativeRevenueA и cumulativeRevenueB\n",
    "cumulativeRevenueA = cumulativeData[cumulativeData['group']=='A'][['date','revenue', 'orders']].reset_index()\n",
    "cumulativeRevenueB = cumulativeData[cumulativeData['group']=='B'][['date','revenue', 'orders']].reset_index()\n",
    "cumulativeRevenueA.head()"
   ]
  },
  {
   "cell_type": "code",
   "execution_count": 32,
   "metadata": {},
   "outputs": [
    {
     "data": {
      "image/png": "[encoded data removed]",
      "text/plain": [
       "<Figure size 1200x500 with 1 Axes>"
      ]
     },
     "metadata": {},
     "output_type": "display_data"
    }
   ],
   "source": [
    "# график кумулятивной выручки по группам\n",
    "plt.figure(figsize=(12, 5))\n",
    "plt.plot(cumulativeRevenueA['date'], cumulativeRevenueA['revenue'], label='A')\n",
    "plt.plot(cumulativeRevenueB['date'], cumulativeRevenueB['revenue'], label='B')\n",
    "plt.xlabel('Дата')\n",
    "plt.ylabel('Кумулятивная выручка')\n",
    "plt.title(label='График кумулятивной выручки по группам')\n",
    "plt.xticks(rotation=30)\n",
    "plt.grid()\n",
    "plt.legend();"
   ]
  },
  {
   "cell_type": "markdown",
   "metadata": {},
   "source": [
    "**Вывод:** выручка в обеих группах практически равномерносувеличивается на протяжении всего теста. Однако в группе B есть резкий скачок графика, который может свидетельствовать о всплеске числа заказов или о появлении неожидано дорогих заказов."
   ]
  },
  {
   "cell_type": "markdown",
   "metadata": {},
   "source": [
    "**График кумулятивного среднего чека по группам**"
   ]
  },
  {
   "cell_type": "code",
   "execution_count": 33,
   "metadata": {},
   "outputs": [
    {
     "data": {
      "image/png": "[encoded data removed]",
      "text/plain": [
       "<Figure size 1500x500 with 1 Axes>"
      ]
     },
     "metadata": {},
     "output_type": "display_data"
    }
   ],
   "source": [
    "# график кумулятивного среднего чека по группам\n",
    "plt.figure(figsize=(15,5))\n",
    "plt.plot(cumulativeRevenueA['date'], cumulativeRevenueA['revenue']/cumulativeRevenueA['orders'], label='A')\n",
    "plt.plot(cumulativeRevenueB['date'], cumulativeRevenueB['revenue']/cumulativeRevenueB['orders'], label='B')\n",
    "\n",
    "plt.title('График кумулятивного среднего чека по группам')\n",
    "plt.xlabel('Дата')\n",
    "plt.ylabel('Кумулятивная выручка')\n",
    "plt.xticks(rotation=30)\n",
    "plt.legend()\n",
    "plt.grid();"
   ]
  },
  {
   "cell_type": "markdown",
   "metadata": {},
   "source": [
    "Кумулятивное значение среднего чека по сегментам сильно колеблется. Как и в предыдущем графике наблюдается резкое скачкообразное увеличение выручки группы В после 17.08.2019, затем имеется тенденция к снижению. Выручка группы А после 13.08.2019 стабилизировалась."
   ]
  },
  {
   "cell_type": "markdown",
   "metadata": {},
   "source": [
    "**График относительного изменения кумулятивного среднего чека группы B к группе A**"
   ]
  },
  {
   "cell_type": "code",
   "execution_count": 34,
   "metadata": {},
   "outputs": [
    {
     "data": {
      "image/png": "[encoded data removed]",
      "text/plain": [
       "<Figure size 1500x500 with 1 Axes>"
      ]
     },
     "metadata": {},
     "output_type": "display_data"
    }
   ],
   "source": [
    "# график относительного изменения кумулятивного среднего чека группы B к группе A\n",
    "mergedCumulativeRevenue = cumulativeRevenueA.merge(cumulativeRevenueB, left_on='date', right_on='date', how='left', suffixes=['A', 'B'])\n",
    "\n",
    "plt.figure(figsize=(15,5))\n",
    "plt.plot(mergedCumulativeRevenue['date'], (mergedCumulativeRevenue['revenueB']/mergedCumulativeRevenue['ordersB'])/(mergedCumulativeRevenue['revenueA']/mergedCumulativeRevenue['ordersA'])-1)\n",
    "\n",
    "plt.axhline(y=0, color='black', linestyle='--') \n",
    "plt.grid()\n",
    "plt.title('График относительного изменения кумулятивного среднего чека группы B к группе A')\n",
    "plt.xlabel('Дата')\n",
    "plt.ylabel('Изменение среднего чека')\n",
    "plt.xticks(rotation=30); "
   ]
  },
  {
   "cell_type": "markdown",
   "metadata": {},
   "source": [
    "В некоторых точках виден резкий скачок на графике, это говорит о наличии крупных заказов."
   ]
  },
  {
   "cell_type": "markdown",
   "metadata": {},
   "source": [
    "**График кумулятивного среднего количества заказов на посетителя по группам**"
   ]
  },
  {
   "cell_type": "code",
   "execution_count": 35,
   "metadata": {},
   "outputs": [
    {
     "data": {
      "image/png": "[encoded data removed]",
      "text/plain": [
       "<Figure size 1500x500 with 1 Axes>"
      ]
     },
     "metadata": {},
     "output_type": "display_data"
    }
   ],
   "source": [
    "# график кумулятивного среднего количества заказов на посетителя по группам\n",
    "cumulativeData['conversion'] = cumulativeData['orders']/cumulativeData['visitors']\n",
    "\n",
    "cumulativeDataA = cumulativeData[cumulativeData['group']=='A'].reset_index(drop=True)\n",
    "cumulativeDataB = cumulativeData[cumulativeData['group']=='B'].reset_index(drop=True)\n",
    "\n",
    "plt.figure(figsize=(15,5))\n",
    "plt.plot(cumulativeDataA['date'], cumulativeDataA['conversion'], label='A')\n",
    "plt.plot(cumulativeDataB['date'], cumulativeDataB['conversion'], label='B')\n",
    "plt.title('График кумулятивного среднего количества заказов на посетителя по группам')\n",
    "plt.ylabel('Конверсия')\n",
    "plt.xlabel('Дата')\n",
    "plt.xticks(rotation=30)\n",
    "plt.legend()\n",
    "plt.grid();"
   ]
  },
  {
   "cell_type": "markdown",
   "metadata": {},
   "source": [
    "Группы стартовали с очень разных значений, с течением времени группа А просела, группа В стабилизировалась выше группы А.  "
   ]
  },
  {
   "cell_type": "markdown",
   "metadata": {},
   "source": [
    "**График относительного изменения кумулятивного среднего количества заказов на посетителя группы B к группе A**"
   ]
  },
  {
   "cell_type": "code",
   "execution_count": 36,
   "metadata": {},
   "outputs": [
    {
     "data": {
      "image/png": "[encoded data removed]",
      "text/plain": [
       "<Figure size 1500x500 with 1 Axes>"
      ]
     },
     "metadata": {},
     "output_type": "display_data"
    }
   ],
   "source": [
    "# график относительного изменения кумулятивного среднего количества заказов на посетителя группы B к группе A\n",
    "mergedCumulativeConversions = cumulativeDataA[['date','conversion']].merge(cumulativeDataB[['date','conversion']], left_on='date', right_on='date', how='left', suffixes=['A', 'B'])\n",
    "\n",
    "plt.figure(figsize=(15,5))\n",
    "plt.plot(mergedCumulativeConversions['date'], mergedCumulativeConversions['conversionB']/mergedCumulativeConversions['conversionA']-1)\n",
    "plt.axhline(y=0, color='green', linestyle='--')\n",
    "plt.axhline(y=0.15, color='grey', linestyle='--')\n",
    "\n",
    "plt.axhline(y=0.10, color='grey', linestyle='--')\n",
    "plt.axhline(y=0.20, color='grey', linestyle='--')\n",
    "plt.axhline(y=-0.10, color='grey', linestyle='--')\n",
    "\n",
    "plt.title('График относительного изменения кумулятивного среднего количества заказов на посетителя')\n",
    "plt.xlabel('Дата')\n",
    "plt.ylabel('Конверсия')\n",
    "plt.xticks(rotation=30)\n",
    "plt.grid();"
   ]
  },
  {
   "cell_type": "markdown",
   "metadata": {},
   "source": [
    "Конверсия группы B лидирует по среднему числу заказов. Её прирост достиг ~15-20% относительно группы А."
   ]
  },
  {
   "cell_type": "markdown",
   "metadata": {},
   "source": [
    "**Точечный график количества заказов по пользователям**"
   ]
  },
  {
   "cell_type": "code",
   "execution_count": 37,
   "metadata": {},
   "outputs": [
    {
     "data": {
      "image/png": "[encoded data removed]",
      "text/plain": [
       "<Figure size 1500x500 with 1 Axes>"
      ]
     },
     "metadata": {},
     "output_type": "display_data"
    }
   ],
   "source": [
    "# точечный график количества заказов по пользователям\n",
    "# датафрейм с количеством заказов по пользователям:\n",
    "ordersByUsers = orders.drop(['group', 'revenue', 'date'], axis=1).groupby('visitor_id', as_index=False).agg({'transaction_id' : pd.Series.nunique})\n",
    "ordersByUsers.columns = ['visitor_id','orders']\n",
    "\n",
    "#построим точечную диаграмму числа заказов на одного пользователя:\n",
    "x_values = pd.Series(range(0,len(ordersByUsers)))\n",
    "\n",
    "plt.figure(figsize=(15,5))\n",
    "plt.title('Количество заказов по пользователям')\n",
    "plt.xlabel('Пользователи')\n",
    "plt.ylabel('Количество заказов')\n",
    "plt.scatter(x_values, ordersByUsers['orders'], alpha=0.8);\n",
    "plt.grid();"
   ]
  },
  {
   "cell_type": "markdown",
   "metadata": {},
   "source": [
    "Основное количество пользователей совершили 1 заказ. Значительно меньше заказавших более двух раз. В этом случае, значения более двух заказов можно считать единичными выбросами. "
   ]
  },
  {
   "cell_type": "markdown",
   "metadata": {},
   "source": [
    "**95-й и 99-й перцентили количества заказов на пользователя**"
   ]
  },
  {
   "cell_type": "code",
   "execution_count": 38,
   "metadata": {},
   "outputs": [
    {
     "name": "stdout",
     "output_type": "stream",
     "text": [
      "[1. 2.]\n"
     ]
    }
   ],
   "source": [
    "# расчёт 95-й и 99-й перцентилей количества заказов на пользователя\n",
    "print(np.percentile(ordersByUsers['orders'], [95, 99]))"
   ]
  },
  {
   "cell_type": "markdown",
   "metadata": {},
   "source": [
    "Только 1% пользователей совершили более 2-х заказов, поэтому возьмём это значение за границу для определения аномальных пользователей."
   ]
  },
  {
   "cell_type": "markdown",
   "metadata": {},
   "source": [
    "**Точечный график стоимостей заказов**"
   ]
  },
  {
   "cell_type": "code",
   "execution_count": 39,
   "metadata": {},
   "outputs": [
    {
     "data": {
      "image/png": "[encoded data removed]",
      "text/plain": [
       "<Figure size 1200x500 with 1 Axes>"
      ]
     },
     "metadata": {},
     "output_type": "display_data"
    }
   ],
   "source": [
    "x_values = pd.Series(range(0, len(orders['revenue'])))\n",
    "plt.figure(figsize=(12, 5))\n",
    "plt.title(label='Точечный график стоимостей заказов.')\n",
    "plt.scatter(x_values, orders['revenue'])\n",
    "plt.grid();"
   ]
  },
  {
   "cell_type": "markdown",
   "metadata": {},
   "source": [
    "Заказов дороже 200 000 рублей очень мало. Один заказ на 1,2 миллиона выглядит аномально."
   ]
  },
  {
   "cell_type": "code",
   "execution_count": 40,
   "metadata": {},
   "outputs": [
    {
     "data": {
      "image/png": "[encoded data removed]",
      "text/plain": [
       "<Figure size 1200x500 with 1 Axes>"
      ]
     },
     "metadata": {},
     "output_type": "display_data"
    }
   ],
   "source": [
    "# посмотрим точечный график крупнее, в диапазоне от 0 до 200000 \n",
    "x_values = pd.Series(range(0, len(orders['revenue'])))\n",
    "plt.figure(figsize=(12, 5))\n",
    "plt.title(label='Точечный график стоимостей заказов.')\n",
    "plt.ylim(0, 200000)\n",
    "plt.scatter(x_values, orders['revenue'])\n",
    "plt.grid();"
   ]
  },
  {
   "cell_type": "markdown",
   "metadata": {},
   "source": [
    "Ограничив график по оси у, можно рассмотреть рассеивание цены вблизи - большая часть заказов."
   ]
  },
  {
   "cell_type": "markdown",
   "metadata": {},
   "source": [
    "**95-й и 99-й перцентили стоимости заказов**"
   ]
  },
  {
   "cell_type": "code",
   "execution_count": 41,
   "metadata": {},
   "outputs": [
    {
     "name": "stdout",
     "output_type": "stream",
     "text": [
      "[26785. 53904.]\n"
     ]
    }
   ],
   "source": [
    "# расчёт 95-й и 99-й перцентилей стоимости заказов\n",
    "print(np.percentile(orders['revenue'], [95, 99]))"
   ]
  },
  {
   "cell_type": "markdown",
   "metadata": {},
   "source": [
    "Не более, чем у 5% заказов чек более 26785, и только у 1% - более 53904. Таким образом, границей для определения аномалий стоимости заказов будет сумма заказа свыше 53904."
   ]
  },
  {
   "cell_type": "markdown",
   "metadata": {},
   "source": [
    "**Статистическая значимость различий в среднем количестве заказов на посетителя между группами по «сырым» данным**"
   ]
  },
  {
   "cell_type": "markdown",
   "metadata": {},
   "source": [
    "Нулевая гипотеза: среднее количество заказов на посетителя между группами А и В не отличаются.\n",
    "\n",
    "Альтернативная гипотеза: среднее количество заказов на посетителя между группами А и В имеют статистически значимые отличия.\n",
    "\n",
    "Уровень значимости принимаем за 0.05."
   ]
  },
  {
   "cell_type": "code",
   "execution_count": 42,
   "metadata": {},
   "outputs": [],
   "source": [
    "orders_agg_a = orders[orders['group'] == 'A'].groupby('date').agg({'transaction_id' : 'nunique', \n",
    "                                       'visitor_id' : 'nunique', \n",
    "                                       'revenue' : 'sum'}).sort_values(by='date').cumsum().reset_index()\n",
    "\n",
    "\n",
    "orders_agg_b = orders[orders['group'] == 'B'].groupby('date').agg({'transaction_id' : 'nunique', \n",
    "                                       'visitor_id' : 'nunique', \n",
    "                                       'revenue' : 'sum'}).sort_values(by='date').cumsum().reset_index()"
   ]
  },
  {
   "cell_type": "code",
   "execution_count": 43,
   "metadata": {},
   "outputs": [],
   "source": [
    "#добавляем данные о посетителях\n",
    "orders_agg_a['vis_agg_a'] = visitors[visitors['group'] == 'A']['visitors'].reset_index(drop=True).cumsum(axis=0)\n",
    "orders_agg_b['vis_agg_b'] = visitors[visitors['group'] == 'B']['visitors'].reset_index(drop=True).cumsum(axis=0)"
   ]
  },
  {
   "cell_type": "code",
   "execution_count": 44,
   "metadata": {},
   "outputs": [],
   "source": [
    "# таблица со сгруппированными по дням и группам заказами\n",
    "orders_date = orders.groupby(['date', 'group']).agg({'transaction_id' : 'nunique', \n",
    "                                       'visitor_id' : 'nunique', \n",
    "                                       'revenue' : 'sum'}).sort_values(by=['date','group']).reset_index()"
   ]
  },
  {
   "cell_type": "code",
   "execution_count": 45,
   "metadata": {},
   "outputs": [],
   "source": [
    "# по группе A\n",
    "data_a = orders_agg_a[['date', 'transaction_id', 'revenue', 'vis_agg_a']]\\\n",
    ".merge(orders_date[orders_date['group']=='A'][['date', 'transaction_id', 'revenue']], on='date', how='left')\n",
    "\n",
    "data_a = data_a.merge(visitors[visitors['group'] == 'A'][['date', 'visitors']], on='date', how='left')\n",
    "\n",
    "data_a.columns = ['date', 'orders_agg', 'revenue_agg', 'visiters_agg', 'orders_daily', 'revenue_daily', 'visitors_daily']"
   ]
  },
  {
   "cell_type": "code",
   "execution_count": 46,
   "metadata": {},
   "outputs": [],
   "source": [
    "# по группе B\n",
    "data_b = orders_agg_b[['date', 'transaction_id', 'revenue', 'vis_agg_b']]\\\n",
    ".merge(orders_date[orders_date['group']=='B']\n",
    "[['date', 'transaction_id', 'revenue']], on='date', how='left')\n",
    "\n",
    "data_b = data_b.merge(visitors[visitors['group'] == 'B'][['date', 'visitors']], on='date', how='left')\n",
    "\n",
    "data_b.columns = ['date', 'orders_agg', 'revenue_agg', 'visitors_agg', 'orders_daily', 'revenue_daily', 'visitors_daily']"
   ]
  },
  {
   "cell_type": "code",
   "execution_count": 47,
   "metadata": {},
   "outputs": [],
   "source": [
    "# создание списков для анализа конверсии\n",
    "order_users_A = (\n",
    "    orders[orders['group'] == 'A'].groupby('visitor_id', as_index=False)\n",
    "    .agg({'transaction_id': pd.Series.nunique})\n",
    ")\n",
    "\n",
    "order_users_B = (\n",
    "    orders[orders['group'] == 'B'].groupby('visitor_id', as_index=False)\n",
    "    .agg({'transaction_id': pd.Series.nunique})\n",
    ")\n",
    "\n",
    "sample_A = pd.concat([order_users_A['transaction_id'], \n",
    "                     pd.Series(0,index=np.arange(data_a['visitors_daily'].sum() - len(order_users_A['transaction_id'])), \n",
    "                               name='orders')], axis=0)\n",
    "\n",
    "sample_B = pd.concat([order_users_B['transaction_id'], \n",
    "                     pd.Series(0,index=np.arange(data_b['visitors_daily'].sum() - len(order_users_B['transaction_id'])), \n",
    "                               name='orders')], axis=0)"
   ]
  },
  {
   "cell_type": "code",
   "execution_count": 48,
   "metadata": {},
   "outputs": [
    {
     "name": "stdout",
     "output_type": "stream",
     "text": [
      "alpha = 0.05\n",
      "p-value = 0.011\n",
      "Отвергаем нулевую гипотезу\n",
      "Относительное изменение количества заказов на посетителя в группе B по отношению к группе A :0.160\n"
     ]
    }
   ],
   "source": [
    "# H0 - среднее количество заказов на посетителя между группами А и В не отличаются.\n",
    "# # H1 - среднее количество заказов на посетителя между группами А и В имеют статистически значимые отличия\n",
    "alpha = 0.05\n",
    "results = stats.mannwhitneyu(sample_A, sample_B)\n",
    "print('alpha =', 0.05)\n",
    "print('p-value = {0:.3f}'.format(results.pvalue))\n",
    "if results.pvalue < alpha:\n",
    "    print('Отвергаем нулевую гипотезу')\n",
    "else:\n",
    "    print('Не получилось отвергнуть нулевую гипотезу')   \n",
    "print('Относительное изменение количества заказов на посетителя в группе B по отношению к группе A :{0:.3f}'.format(sample_B.mean() / sample_A.mean() - 1))"
   ]
  },
  {
   "cell_type": "markdown",
   "metadata": {},
   "source": [
    "На имеющихся \"сырых\" данных, на уровне значимости 5%, есть основания отвергнуть нулевую гипотезу об отсутствии отличий среднего количества заказов на посетителя между группами А и В. Относительный прирост среднего количества заказов на посетителя группы В к группе А по «сырым» данным равен 16%."
   ]
  },
  {
   "cell_type": "markdown",
   "metadata": {},
   "source": [
    "**Статистическая значимость различий в среднем чеке заказа между группами по «сырым» данным**"
   ]
  },
  {
   "cell_type": "markdown",
   "metadata": {},
   "source": [
    "Нулевая гипотеза: средний чек между группами не отличается.\n",
    "\n",
    "Альтернативная гипотеза: средний чек между группами имеет статистически значимое отличие.\n",
    "\n",
    "Уровень значимости принимаем за 0.05."
   ]
  },
  {
   "cell_type": "code",
   "execution_count": 49,
   "metadata": {},
   "outputs": [
    {
     "name": "stdout",
     "output_type": "stream",
     "text": [
      "alpha = 0.05\n",
      "p-value = 0.829\n",
      "Не получилось отвергнуть нулевую гипотезу\n",
      "Относительное изменение среднего чека заказа в группе B по отношению к группе A :0.287\n"
     ]
    }
   ],
   "source": [
    "# H0 - средний чек между группами не отличается.\n",
    "# H1 - средний чек между группами имеет статистически значимое отличие\n",
    "results = stats.mannwhitneyu(orders[orders['group']=='A']['revenue'], orders[orders['group']=='B']['revenue'])\n",
    "print('alpha =',0.05)\n",
    "# print('p-value = {0:.3f}'.format(stats.mannwhitneyu(orders[orders['group']=='A']['revenue'], orders[orders['group']=='B']['revenue'])[1]))\n",
    "print('p-value = {0:.3f}'.format(results.pvalue))\n",
    "if results.pvalue < alpha:\n",
    "    print('Отвергаем нулевую гипотезу')\n",
    "else:\n",
    "    print('Не получилось отвергнуть нулевую гипотезу')\n",
    "    \n",
    "print('Относительное изменение среднего чека заказа в группе B по отношению к группе A :{0:.3f}'.format(orders[orders['group']=='B']['revenue'].mean()/orders[orders['group']=='A']['revenue'].mean()-1))\n"
   ]
  },
  {
   "cell_type": "markdown",
   "metadata": {},
   "source": [
    "На имеющихся \"сырых\" данных, на уровне значимости 5%, нет оснований отвергнуть нулевую гипотезу об отсутствии отличий средний чек между группами А и В. Относительный прирост среднего чека заказа между группами по «сырым» данным равен 28,7%. "
   ]
  },
  {
   "cell_type": "markdown",
   "metadata": {},
   "source": [
    "**Статистическая значимость различий в среднем количестве заказов на посетителя между группами по «очищенным» данным**"
   ]
  },
  {
   "cell_type": "markdown",
   "metadata": {},
   "source": [
    " Предварительно очистим данные от \"аномальных выбросов\", чтобы они не повлияли на результаты теста. За основу возьмем ранее полученные показатели перцентилей. 95-й перцентиль среднего чека - 26785, 99-й перцентиль - 53904. 95-й и 99-й перцентили количества заказов на одного пользователя равны 1 и 2 заказам на пользователя. Поэтому за аномальных пользователей принимаем тех, кто совершил более 2 заказов или совершил заказ на сумму свыше 27 000. Так будут удалены 1% пользователей с наибольшим числом заказов и от 1% до 5% заказов с наибольшей стоимостью."
   ]
  },
  {
   "cell_type": "code",
   "execution_count": 50,
   "metadata": {},
   "outputs": [
    {
     "name": "stdout",
     "output_type": "stream",
     "text": [
      "0     249864742\n",
      "1     611059232\n",
      "2    2108163459\n",
      "3    2742574263\n",
      "4    2988190573\n",
      "Name: visitors_id, dtype: int64\n"
     ]
    },
    {
     "data": {
      "text/plain": [
       "58"
      ]
     },
     "execution_count": 50,
     "metadata": {},
     "output_type": "execute_result"
    }
   ],
   "source": [
    "# пользователи с несколькими заказами\n",
    "mult_orders = orders.groupby('visitor_id')['transaction_id'].count().reset_index()\n",
    "mult_orders = mult_orders[mult_orders['transaction_id'] > 2]['visitor_id']\n",
    "\n",
    "# пользователи с дорогими заказами\n",
    "expensive_orders = orders[orders['revenue'] > 27000]['visitor_id'].reset_index(drop=True)\n",
    "\n",
    "abnormal_users = pd.Series((list(mult_orders) + list(expensive_orders)), name='visitors_id').drop_duplicates()\n",
    "print(abnormal_users.head())\n",
    "len(abnormal_users)"
   ]
  },
  {
   "cell_type": "markdown",
   "metadata": {},
   "source": [
    " Всего таких пользователей - 58."
   ]
  },
  {
   "cell_type": "markdown",
   "metadata": {},
   "source": [
    "Теперь, имея список аномальных пользователей, можно очистить данные и проанализировать их."
   ]
  },
  {
   "cell_type": "code",
   "execution_count": 51,
   "metadata": {},
   "outputs": [],
   "source": [
    "sample_A_filt = pd.concat([order_users_A.query('not visitor_id in @abnormal_users')['transaction_id'], \n",
    "                          pd.Series(0, index=np.arange(data_a['visitors_daily'].sum() - len(order_users_A['transaction_id'])), \n",
    "                                    name='orders')], axis=0)\n",
    "sample_B_filt = pd.concat([order_users_B.query('not visitor_id in @abnormal_users')['transaction_id'], \n",
    "                          pd.Series(0, index=np.arange(data_b['visitors_daily'].sum() - len(order_users_B['transaction_id'])), \n",
    "                                    name='orders')], axis=0)"
   ]
  },
  {
   "cell_type": "markdown",
   "metadata": {},
   "source": [
    "Нулевая гипотеза: среднее количество заказов на посетителя между группами не отличается.\n",
    "\n",
    "Альтернативная гипотеза: среднее количество заказов на посетителя между группами имеет статистически значимое отличие.\n",
    "\n",
    "Уровень значимости принимаем за 0.05."
   ]
  },
  {
   "cell_type": "code",
   "execution_count": 52,
   "metadata": {},
   "outputs": [
    {
     "name": "stdout",
     "output_type": "stream",
     "text": [
      "alpha = 0.05\n",
      "p-value = 0.012\n",
      "Отвергаем нулевую гипотезу\n",
      "Относительное изменение количества заказов на посетителя в группе B по отношению к группе A по «очищенным» данным :0.182\n"
     ]
    }
   ],
   "source": [
    "results = stats.mannwhitneyu(sample_A_filt, sample_B_filt)\n",
    "print('alpha =',0.05)\n",
    "print('p-value = {0:.3f}'.format(results.pvalue))\n",
    "# print('{0:.3f}'.format(stats.mannwhitneyu(sample_A_filt, sample_B_filt)[1]))\n",
    "if results.pvalue < alpha:\n",
    "    print('Отвергаем нулевую гипотезу')\n",
    "else:\n",
    "    print('Не получилось отвергнуть нулевую гипотезу') \n",
    "print('Относительное изменение количества заказов на посетителя в группе B по отношению к группе A по «очищенным» данным :{0:.3f}'.format(sample_B_filt.mean()/sample_A_filt.mean()-1))"
   ]
  },
  {
   "cell_type": "markdown",
   "metadata": {},
   "source": [
    "На имеющихся \"очищенных\" данных, на уровне значимости 5%, есть основания отвергнуть нулевую гипотезу об отсутствии отличий среднего количества заказов на посетителя между группами А и В. Относительный прирост среднего количества заказов на посетителя группы В к группе А по «очищенным» данным равен 18,2%, что почти на 2,2 процентных пункта больше предыдущего результата. "
   ]
  },
  {
   "cell_type": "markdown",
   "metadata": {},
   "source": [
    "**Статистическая значимость различий в среднем чеке заказа между группами по «очищенным» данным**"
   ]
  },
  {
   "cell_type": "markdown",
   "metadata": {},
   "source": [
    "Нулевая гипотеза: средний чек посетителя между группами не отличается.\n",
    "\n",
    "Альтернативная гипотеза: средний чек посетителя между группами имеет статистически значимое отличие.\n",
    "\n",
    "Уровень значимости принимаем за 0.05."
   ]
  },
  {
   "cell_type": "code",
   "execution_count": 53,
   "metadata": {},
   "outputs": [
    {
     "name": "stdout",
     "output_type": "stream",
     "text": [
      "alpha = 0.05\n",
      "p-value = 0.646\n",
      "Не получилось отвергнуть нулевую гипотезу\n",
      "Относительное изменение среднего чека заказа в группе B по отношению к группе A :-0.048\n"
     ]
    }
   ],
   "source": [
    "results = stats.mannwhitneyu(orders.query('group == \"A\" and not visitor_id in @abnormal_users')['revenue'], \n",
    "                                      orders.query('group == \"B\" and not visitor_id in @abnormal_users')['revenue'])\n",
    "print(\"alpha =\",0.05)\n",
    "print('p-value = {0:.3f}'.format(results.pvalue))\n",
    "# print('{0:.3f}'.format(stats.mannwhitneyu(orders.query('group == \"A\" and not visitor_id in @abnormal_users')['revenue'], \n",
    "#                                       orders.query('group == \"B\" and not visitor_id in @abnormal_users')['revenue'])[1]))\n",
    "if results.pvalue < alpha:\n",
    "    print('Отвергаем нулевую гипотезу')\n",
    "else:\n",
    "    print('Не получилось отвергнуть нулевую гипотезу') \n",
    "print('Относительное изменение среднего чека заказа в группе B по отношению к группе A :{0:.3f}'.format(orders.query('group == \"B\" and not visitor_id in @abnormal_users')['revenue'].mean() / \n",
    "                       orders.query('group == \"A\" and not visitor_id in @abnormal_users')['revenue'].mean() - 1))"
   ]
  },
  {
   "cell_type": "markdown",
   "metadata": {},
   "source": [
    "На имеющихся \"очищенных\" данных, на уровне значимости 5%, нет оснований отвергнуть нулевую гипотезу об отсутствии отличий среднего чека между группами А и В и считать, что в среднем чеке есть различия, по-прежнему нет. А вот средний чек группы B без выбросов стал немного ниже среднего чека группы A. Аномальные заказы были удалены и средние чеки сравнялись."
   ]
  },
  {
   "cell_type": "markdown",
   "metadata": {},
   "source": [
    "**Решение по результатам теста:** \n",
    "\n",
    "Исходя из обнаруженных фактов, A/B-тест для интернет-магазина можно остановить и зафиксировать победу группы В.\n",
    "\n",
    "**Если говорит о среднем количестве заказов на посетителя:**\n",
    " - в результате расчётов установлено что есть статистически значимое различие по среднему количеству заказов между группами А и В как по сырым данным, так и после фильтрации аномалий\n",
    " - график различия в среднем количестве заказов между группами показывает, что результаты группы B лучше группы A: имеют тенденцию к росту;\n",
    " -  относительный прирост среднего количества заказов на посетителя группы В к группе А по «сырым» данным равен 16%, а по очищенным 18,2%.\n",
    "\n",
    "**Если говорит  о среднем чеке:**\n",
    " - в ходе вычислений установлено, что нет статистически значимого различия по среднему чеку между группами ни по «сырым», ни по данным после фильтрации аномалий;\n",
    " - графики, показывающие изменения кумулятивного среднего чека между группами говорят о том, что результаты группы B выше результатов группы A. У группы В наблюдалось увеличение выручки, засчет крупных заказов;\n",
    " - из-за влияния аномально крупных заказов, средний чек в группе B выше на 28,7% среднего чека группы A по неочищенным данным, и практически равен между двумя группами при очищенных данных.\n",
    " \n",
    "На основе вышесказанного можно сделать вывод, что группа В статистически лучше группы А по количеству заказов на посетителя и относительному приросту среднего чека заказа.\n",
    " "
   ]
  },
  {
   "cell_type": "markdown",
   "metadata": {},
   "source": [
    "### Общий вывод"
   ]
  },
  {
   "cell_type": "markdown",
   "metadata": {},
   "source": [
    "Задачей исследования было:\n",
    "\n",
    "- приоритизировать гипотезы,\n",
    "- запустить A/B-тест,\n",
    "- проанализировать результаты.\n",
    "\n",
    "\n",
    "В ходе предобработки данных:\n",
    " - произведена замена названия столбцов, приведение их к нижнему регистру и правильному стилю;\n",
    " - приведены к необходимому типу данных в столбцах, содержащих информацию о дате и времени.\n",
    " \n",
    "\n",
    "Приоритизация гипотез очень важна. Она помогает понять, что следует выполнять в первую очередь, чтобы донести до пользователя максимум ценности, улучшить метрики и заработать больше денег для компании.\n",
    "\n",
    "Исходя из уровня влияния, которое гипотезы могут оказать на основную бизнес–цель, уровня уверенности в достижении результата и того, насколько легко будет выполнить данный проект в целом, следует обратить большее внимание на следующие гипотезы:\n",
    " - добавить форму подписки на все основные страницы, чтобы собрать базу клиентов для email-рассылок (в топе моделей ICE и RICE);  \n",
    " - добавить два новых канала привлечения трафика, что позволит привлекать на 30% больше пользователей (в топе моделей ICE и RICE);  \n",
    " - добавить блоки рекомендаций товаров на сайт интернет магазина, чтобы повысить конверсию и средний чек заказа (в топе модели RICE).\n",
    "\n",
    "\n",
    "С помощью A/B-теста проверены гипотезы и экспериментально оценены предпочтения посетителей. Чтобы получить статистически значимый результат исключено влияние сегментов друг на друга, т.е. сделано так, что каждый пользователь был отнесен строго к одному сегменту. Показатели которые хотели улучшить среднее количество заказов,  и величина среднего чека.\n",
    " \n",
    "\n",
    "По итогу теста зафиксирована победа группы В, которая показала себя лучше группы А по показателям:\n",
    " - количество заказов на посетителя;\n",
    " - относительный прирост среднего чека заказа в группе В засчет крупных заказов.\n",
    " \n",
    "Эксперимент удался! Пользователи будут заказывать больше, если перед ними окажется версия страницы сайта, которой пользовались покупатели группы В, что в перспективе положительно повлияет на выручку."
   ]
  }
 ],
 "metadata": {
  "ExecuteTimeLog": [
   {
    "duration": 1394,
    "start_time": "2023-06-14T22:03:20.684Z"
   },
   {
    "duration": 199,
    "start_time": "2023-06-14T22:06:16.531Z"
   },
   {
    "duration": 11,
    "start_time": "2023-06-14T22:09:28.136Z"
   },
   {
    "duration": 10,
    "start_time": "2023-06-14T22:09:49.895Z"
   },
   {
    "duration": 8,
    "start_time": "2023-06-14T22:10:03.697Z"
   },
   {
    "duration": 7,
    "start_time": "2023-06-14T22:10:35.566Z"
   },
   {
    "duration": 7,
    "start_time": "2023-06-14T22:10:44.585Z"
   },
   {
    "duration": 3,
    "start_time": "2023-06-14T22:11:38.032Z"
   },
   {
    "duration": 86,
    "start_time": "2023-06-14T22:11:38.037Z"
   },
   {
    "duration": 13,
    "start_time": "2023-06-14T22:11:38.125Z"
   },
   {
    "duration": 17,
    "start_time": "2023-06-14T22:11:38.140Z"
   },
   {
    "duration": 10,
    "start_time": "2023-06-14T22:11:38.159Z"
   },
   {
    "duration": 28,
    "start_time": "2023-06-14T22:11:38.171Z"
   },
   {
    "duration": 7,
    "start_time": "2023-06-14T22:11:49.299Z"
   },
   {
    "duration": 7,
    "start_time": "2023-06-14T22:11:54.348Z"
   },
   {
    "duration": 3,
    "start_time": "2023-06-14T22:12:52.184Z"
   },
   {
    "duration": 112,
    "start_time": "2023-06-14T22:12:52.188Z"
   },
   {
    "duration": 8,
    "start_time": "2023-06-14T22:12:52.301Z"
   },
   {
    "duration": 31,
    "start_time": "2023-06-14T22:12:52.311Z"
   },
   {
    "duration": 39,
    "start_time": "2023-06-14T22:12:52.344Z"
   },
   {
    "duration": 11,
    "start_time": "2023-06-14T22:12:52.384Z"
   },
   {
    "duration": 11,
    "start_time": "2023-06-14T22:12:52.396Z"
   },
   {
    "duration": 29,
    "start_time": "2023-06-14T22:12:52.408Z"
   },
   {
    "duration": 25,
    "start_time": "2023-06-14T22:12:52.438Z"
   },
   {
    "duration": 9,
    "start_time": "2023-06-14T22:12:52.464Z"
   },
   {
    "duration": 3,
    "start_time": "2023-06-14T22:15:38.224Z"
   },
   {
    "duration": 98,
    "start_time": "2023-06-14T22:15:38.229Z"
   },
   {
    "duration": 9,
    "start_time": "2023-06-14T22:15:38.328Z"
   },
   {
    "duration": 20,
    "start_time": "2023-06-14T22:15:38.338Z"
   },
   {
    "duration": 14,
    "start_time": "2023-06-14T22:15:38.360Z"
   },
   {
    "duration": 69,
    "start_time": "2023-06-14T22:15:38.375Z"
   },
   {
    "duration": 27,
    "start_time": "2023-06-14T22:15:38.445Z"
   },
   {
    "duration": 19,
    "start_time": "2023-06-14T22:15:38.473Z"
   },
   {
    "duration": 11,
    "start_time": "2023-06-14T22:15:38.493Z"
   },
   {
    "duration": 15,
    "start_time": "2023-06-14T22:15:38.505Z"
   },
   {
    "duration": 19,
    "start_time": "2023-06-14T22:15:38.522Z"
   },
   {
    "duration": 3,
    "start_time": "2023-06-14T22:16:41.057Z"
   },
   {
    "duration": 79,
    "start_time": "2023-06-14T22:16:41.064Z"
   },
   {
    "duration": 8,
    "start_time": "2023-06-14T22:16:41.145Z"
   },
   {
    "duration": 12,
    "start_time": "2023-06-14T22:16:41.155Z"
   },
   {
    "duration": 10,
    "start_time": "2023-06-14T22:16:41.169Z"
   },
   {
    "duration": 28,
    "start_time": "2023-06-14T22:16:41.181Z"
   },
   {
    "duration": 13,
    "start_time": "2023-06-14T22:16:41.210Z"
   },
   {
    "duration": 11,
    "start_time": "2023-06-14T22:16:41.224Z"
   },
   {
    "duration": 19,
    "start_time": "2023-06-14T22:16:41.237Z"
   },
   {
    "duration": 10,
    "start_time": "2023-06-14T22:16:41.257Z"
   },
   {
    "duration": 80,
    "start_time": "2023-06-14T22:16:41.268Z"
   },
   {
    "duration": 0,
    "start_time": "2023-06-14T22:16:41.349Z"
   },
   {
    "duration": 14,
    "start_time": "2023-06-14T22:16:46.582Z"
   },
   {
    "duration": 3,
    "start_time": "2023-06-14T22:21:22.068Z"
   },
   {
    "duration": 88,
    "start_time": "2023-06-14T22:21:22.073Z"
   },
   {
    "duration": 9,
    "start_time": "2023-06-14T22:21:22.162Z"
   },
   {
    "duration": 15,
    "start_time": "2023-06-14T22:21:22.173Z"
   },
   {
    "duration": 20,
    "start_time": "2023-06-14T22:21:22.189Z"
   },
   {
    "duration": 19,
    "start_time": "2023-06-14T22:21:22.210Z"
   },
   {
    "duration": 14,
    "start_time": "2023-06-14T22:21:22.231Z"
   },
   {
    "duration": 14,
    "start_time": "2023-06-14T22:21:22.246Z"
   },
   {
    "duration": 9,
    "start_time": "2023-06-14T22:21:22.262Z"
   },
   {
    "duration": 15,
    "start_time": "2023-06-14T22:21:22.272Z"
   },
   {
    "duration": 12,
    "start_time": "2023-06-14T22:21:22.288Z"
   },
   {
    "duration": 4,
    "start_time": "2023-06-14T22:24:16.018Z"
   },
   {
    "duration": 107,
    "start_time": "2023-06-14T22:24:16.024Z"
   },
   {
    "duration": 13,
    "start_time": "2023-06-14T22:24:16.135Z"
   },
   {
    "duration": 11,
    "start_time": "2023-06-14T22:24:16.150Z"
   },
   {
    "duration": 17,
    "start_time": "2023-06-14T22:24:16.164Z"
   },
   {
    "duration": 48,
    "start_time": "2023-06-14T22:24:16.183Z"
   },
   {
    "duration": 15,
    "start_time": "2023-06-14T22:24:16.233Z"
   },
   {
    "duration": 13,
    "start_time": "2023-06-14T22:24:16.250Z"
   },
   {
    "duration": 14,
    "start_time": "2023-06-14T22:24:16.264Z"
   },
   {
    "duration": 34,
    "start_time": "2023-06-14T22:24:16.280Z"
   },
   {
    "duration": 14,
    "start_time": "2023-06-14T22:24:16.316Z"
   },
   {
    "duration": 10,
    "start_time": "2023-06-14T22:24:16.332Z"
   },
   {
    "duration": 8,
    "start_time": "2023-06-14T22:24:58.760Z"
   },
   {
    "duration": 5,
    "start_time": "2023-06-14T22:27:06.932Z"
   },
   {
    "duration": 6,
    "start_time": "2023-06-14T22:27:34.013Z"
   },
   {
    "duration": 3,
    "start_time": "2023-06-14T22:27:40.929Z"
   },
   {
    "duration": 103,
    "start_time": "2023-06-14T22:27:40.933Z"
   },
   {
    "duration": 10,
    "start_time": "2023-06-14T22:27:41.038Z"
   },
   {
    "duration": 9,
    "start_time": "2023-06-14T22:27:41.049Z"
   },
   {
    "duration": 11,
    "start_time": "2023-06-14T22:27:41.060Z"
   },
   {
    "duration": 15,
    "start_time": "2023-06-14T22:27:41.073Z"
   },
   {
    "duration": 36,
    "start_time": "2023-06-14T22:27:41.089Z"
   },
   {
    "duration": 32,
    "start_time": "2023-06-14T22:27:41.126Z"
   },
   {
    "duration": 9,
    "start_time": "2023-06-14T22:27:41.160Z"
   },
   {
    "duration": 16,
    "start_time": "2023-06-14T22:27:41.170Z"
   },
   {
    "duration": 7,
    "start_time": "2023-06-14T22:27:41.188Z"
   },
   {
    "duration": 26,
    "start_time": "2023-06-14T22:27:41.197Z"
   },
   {
    "duration": 25,
    "start_time": "2023-06-14T22:27:41.225Z"
   },
   {
    "duration": 10,
    "start_time": "2023-06-14T22:27:41.252Z"
   },
   {
    "duration": 16,
    "start_time": "2023-06-14T22:27:41.263Z"
   },
   {
    "duration": 8,
    "start_time": "2023-06-14T22:28:20.371Z"
   },
   {
    "duration": 7,
    "start_time": "2023-06-14T22:28:54.139Z"
   },
   {
    "duration": 9,
    "start_time": "2023-06-14T22:28:55.755Z"
   },
   {
    "duration": 3,
    "start_time": "2023-06-14T22:29:02.062Z"
   },
   {
    "duration": 277,
    "start_time": "2023-06-14T22:29:02.067Z"
   },
   {
    "duration": 11,
    "start_time": "2023-06-14T22:29:02.346Z"
   },
   {
    "duration": 27,
    "start_time": "2023-06-14T22:29:02.359Z"
   },
   {
    "duration": 71,
    "start_time": "2023-06-14T22:29:02.388Z"
   },
   {
    "duration": 44,
    "start_time": "2023-06-14T22:29:02.461Z"
   },
   {
    "duration": 47,
    "start_time": "2023-06-14T22:29:02.508Z"
   },
   {
    "duration": 33,
    "start_time": "2023-06-14T22:29:02.556Z"
   },
   {
    "duration": 136,
    "start_time": "2023-06-14T22:29:02.590Z"
   },
   {
    "duration": 203,
    "start_time": "2023-06-14T22:29:02.728Z"
   },
   {
    "duration": 157,
    "start_time": "2023-06-14T22:29:02.933Z"
   },
   {
    "duration": 36,
    "start_time": "2023-06-14T22:29:03.092Z"
   },
   {
    "duration": 22,
    "start_time": "2023-06-14T22:29:03.130Z"
   },
   {
    "duration": 34,
    "start_time": "2023-06-14T22:29:03.154Z"
   },
   {
    "duration": 44,
    "start_time": "2023-06-14T22:29:03.189Z"
   },
   {
    "duration": 21,
    "start_time": "2023-06-14T22:29:34.589Z"
   },
   {
    "duration": 9,
    "start_time": "2023-06-14T22:29:35.014Z"
   },
   {
    "duration": 11,
    "start_time": "2023-06-14T22:33:11.645Z"
   },
   {
    "duration": 10,
    "start_time": "2023-06-14T22:34:39.462Z"
   },
   {
    "duration": 69,
    "start_time": "2023-06-14T22:39:48.946Z"
   },
   {
    "duration": 14,
    "start_time": "2023-06-14T22:40:08.145Z"
   },
   {
    "duration": 11,
    "start_time": "2023-06-14T22:43:19.377Z"
   },
   {
    "duration": 6,
    "start_time": "2023-06-14T22:54:04.559Z"
   },
   {
    "duration": 3,
    "start_time": "2023-06-14T22:54:08.961Z"
   },
   {
    "duration": 81,
    "start_time": "2023-06-14T22:54:08.966Z"
   },
   {
    "duration": 10,
    "start_time": "2023-06-14T22:54:09.049Z"
   },
   {
    "duration": 37,
    "start_time": "2023-06-14T22:54:09.061Z"
   },
   {
    "duration": 31,
    "start_time": "2023-06-14T22:54:09.100Z"
   },
   {
    "duration": 19,
    "start_time": "2023-06-14T22:54:09.132Z"
   },
   {
    "duration": 12,
    "start_time": "2023-06-14T22:54:09.152Z"
   },
   {
    "duration": 21,
    "start_time": "2023-06-14T22:54:09.166Z"
   },
   {
    "duration": 10,
    "start_time": "2023-06-14T22:54:09.188Z"
   },
   {
    "duration": 8,
    "start_time": "2023-06-14T22:54:09.199Z"
   },
   {
    "duration": 8,
    "start_time": "2023-06-14T22:54:09.209Z"
   },
   {
    "duration": 6,
    "start_time": "2023-06-14T22:54:09.218Z"
   },
   {
    "duration": 6,
    "start_time": "2023-06-14T22:54:09.225Z"
   },
   {
    "duration": 23,
    "start_time": "2023-06-14T22:54:09.233Z"
   },
   {
    "duration": 21,
    "start_time": "2023-06-14T22:54:09.257Z"
   },
   {
    "duration": 12,
    "start_time": "2023-06-14T22:54:09.279Z"
   },
   {
    "duration": 17,
    "start_time": "2023-06-14T22:54:09.292Z"
   },
   {
    "duration": 30,
    "start_time": "2023-06-14T22:54:09.310Z"
   },
   {
    "duration": 27,
    "start_time": "2023-06-14T22:54:09.341Z"
   },
   {
    "duration": 105,
    "start_time": "2023-06-14T22:55:34.775Z"
   },
   {
    "duration": 3,
    "start_time": "2023-06-14T22:55:43.702Z"
   },
   {
    "duration": 82,
    "start_time": "2023-06-14T22:55:43.706Z"
   },
   {
    "duration": 9,
    "start_time": "2023-06-14T22:55:43.789Z"
   },
   {
    "duration": 12,
    "start_time": "2023-06-14T22:55:43.798Z"
   },
   {
    "duration": 9,
    "start_time": "2023-06-14T22:55:43.812Z"
   },
   {
    "duration": 16,
    "start_time": "2023-06-14T22:55:43.822Z"
   },
   {
    "duration": 7,
    "start_time": "2023-06-14T22:55:43.839Z"
   },
   {
    "duration": 10,
    "start_time": "2023-06-14T22:55:43.847Z"
   },
   {
    "duration": 8,
    "start_time": "2023-06-14T22:55:43.858Z"
   },
   {
    "duration": 21,
    "start_time": "2023-06-14T22:55:43.867Z"
   },
   {
    "duration": 19,
    "start_time": "2023-06-14T22:55:43.891Z"
   },
   {
    "duration": 6,
    "start_time": "2023-06-14T22:55:43.911Z"
   },
   {
    "duration": 8,
    "start_time": "2023-06-14T22:55:43.918Z"
   },
   {
    "duration": 21,
    "start_time": "2023-06-14T22:55:43.928Z"
   },
   {
    "duration": 10,
    "start_time": "2023-06-14T22:55:43.951Z"
   },
   {
    "duration": 13,
    "start_time": "2023-06-14T22:55:43.963Z"
   },
   {
    "duration": 29,
    "start_time": "2023-06-14T22:55:43.977Z"
   },
   {
    "duration": 14,
    "start_time": "2023-06-14T22:55:44.007Z"
   },
   {
    "duration": 8,
    "start_time": "2023-06-14T22:55:44.022Z"
   },
   {
    "duration": 22,
    "start_time": "2023-06-14T22:55:44.032Z"
   },
   {
    "duration": 5,
    "start_time": "2023-06-14T22:56:07.696Z"
   },
   {
    "duration": 168,
    "start_time": "2023-06-14T22:56:18.063Z"
   },
   {
    "duration": 152,
    "start_time": "2023-06-14T22:56:30.729Z"
   },
   {
    "duration": 94,
    "start_time": "2023-06-14T22:56:44.783Z"
   },
   {
    "duration": 85,
    "start_time": "2023-06-14T22:56:50.024Z"
   },
   {
    "duration": 6,
    "start_time": "2023-06-14T22:56:57.209Z"
   },
   {
    "duration": 12,
    "start_time": "2023-06-14T22:57:30.959Z"
   },
   {
    "duration": 2,
    "start_time": "2023-06-14T22:57:33.942Z"
   },
   {
    "duration": 81,
    "start_time": "2023-06-14T22:57:33.946Z"
   },
   {
    "duration": 8,
    "start_time": "2023-06-14T22:57:34.029Z"
   },
   {
    "duration": 12,
    "start_time": "2023-06-14T22:57:34.039Z"
   },
   {
    "duration": 18,
    "start_time": "2023-06-14T22:57:34.052Z"
   },
   {
    "duration": 15,
    "start_time": "2023-06-14T22:57:34.072Z"
   },
   {
    "duration": 8,
    "start_time": "2023-06-14T22:57:34.089Z"
   },
   {
    "duration": 29,
    "start_time": "2023-06-14T22:57:34.099Z"
   },
   {
    "duration": 8,
    "start_time": "2023-06-14T22:57:34.130Z"
   },
   {
    "duration": 9,
    "start_time": "2023-06-14T22:57:34.139Z"
   },
   {
    "duration": 10,
    "start_time": "2023-06-14T22:57:34.149Z"
   },
   {
    "duration": 7,
    "start_time": "2023-06-14T22:57:34.160Z"
   },
   {
    "duration": 10,
    "start_time": "2023-06-14T22:57:34.169Z"
   },
   {
    "duration": 10,
    "start_time": "2023-06-14T22:57:34.180Z"
   },
   {
    "duration": 8,
    "start_time": "2023-06-14T22:57:34.191Z"
   },
   {
    "duration": 13,
    "start_time": "2023-06-14T22:57:34.200Z"
   },
   {
    "duration": 12,
    "start_time": "2023-06-14T22:57:34.214Z"
   },
   {
    "duration": 11,
    "start_time": "2023-06-14T22:57:34.228Z"
   },
   {
    "duration": 6,
    "start_time": "2023-06-14T22:57:34.241Z"
   },
   {
    "duration": 6,
    "start_time": "2023-06-14T22:57:34.248Z"
   },
   {
    "duration": 166,
    "start_time": "2023-06-14T22:57:34.256Z"
   },
   {
    "duration": 95,
    "start_time": "2023-06-14T22:57:34.424Z"
   },
   {
    "duration": 12,
    "start_time": "2023-06-14T22:57:34.521Z"
   },
   {
    "duration": 6,
    "start_time": "2023-06-14T22:59:07.728Z"
   },
   {
    "duration": 243,
    "start_time": "2023-06-14T22:59:46.482Z"
   },
   {
    "duration": 188,
    "start_time": "2023-06-14T23:00:34.297Z"
   },
   {
    "duration": 209,
    "start_time": "2023-06-14T23:07:51.504Z"
   },
   {
    "duration": 331,
    "start_time": "2023-06-14T23:13:46.114Z"
   },
   {
    "duration": 199,
    "start_time": "2023-06-14T23:16:23.336Z"
   },
   {
    "duration": 253,
    "start_time": "2023-06-14T23:20:07.555Z"
   },
   {
    "duration": 386,
    "start_time": "2023-06-14T23:22:40.517Z"
   },
   {
    "duration": 293,
    "start_time": "2023-06-14T23:22:54.821Z"
   },
   {
    "duration": 224,
    "start_time": "2023-06-14T23:25:27.457Z"
   },
   {
    "duration": 5,
    "start_time": "2023-06-14T23:29:50.729Z"
   },
   {
    "duration": 5,
    "start_time": "2023-06-14T23:30:19.034Z"
   },
   {
    "duration": 3,
    "start_time": "2023-06-14T23:30:23.758Z"
   },
   {
    "duration": 83,
    "start_time": "2023-06-14T23:30:23.763Z"
   },
   {
    "duration": 9,
    "start_time": "2023-06-14T23:30:23.847Z"
   },
   {
    "duration": 19,
    "start_time": "2023-06-14T23:30:23.857Z"
   },
   {
    "duration": 34,
    "start_time": "2023-06-14T23:30:23.878Z"
   },
   {
    "duration": 10,
    "start_time": "2023-06-14T23:30:23.913Z"
   },
   {
    "duration": 14,
    "start_time": "2023-06-14T23:30:23.925Z"
   },
   {
    "duration": 12,
    "start_time": "2023-06-14T23:30:23.940Z"
   },
   {
    "duration": 21,
    "start_time": "2023-06-14T23:30:23.954Z"
   },
   {
    "duration": 10,
    "start_time": "2023-06-14T23:30:23.977Z"
   },
   {
    "duration": 21,
    "start_time": "2023-06-14T23:30:23.988Z"
   },
   {
    "duration": 11,
    "start_time": "2023-06-14T23:30:24.010Z"
   },
   {
    "duration": 28,
    "start_time": "2023-06-14T23:30:24.023Z"
   },
   {
    "duration": 21,
    "start_time": "2023-06-14T23:30:24.053Z"
   },
   {
    "duration": 40,
    "start_time": "2023-06-14T23:30:24.075Z"
   },
   {
    "duration": 37,
    "start_time": "2023-06-14T23:30:24.117Z"
   },
   {
    "duration": 29,
    "start_time": "2023-06-14T23:30:24.155Z"
   },
   {
    "duration": 15,
    "start_time": "2023-06-14T23:30:24.186Z"
   },
   {
    "duration": 6,
    "start_time": "2023-06-14T23:30:24.203Z"
   },
   {
    "duration": 17,
    "start_time": "2023-06-14T23:30:24.211Z"
   },
   {
    "duration": 144,
    "start_time": "2023-06-14T23:30:24.230Z"
   },
   {
    "duration": 95,
    "start_time": "2023-06-14T23:30:24.376Z"
   },
   {
    "duration": 10,
    "start_time": "2023-06-14T23:30:24.473Z"
   },
   {
    "duration": 29,
    "start_time": "2023-06-14T23:30:24.486Z"
   },
   {
    "duration": 215,
    "start_time": "2023-06-14T23:30:24.516Z"
   },
   {
    "duration": 188,
    "start_time": "2023-06-14T23:30:24.732Z"
   },
   {
    "duration": 286,
    "start_time": "2023-06-14T23:30:24.921Z"
   },
   {
    "duration": 225,
    "start_time": "2023-06-14T23:30:25.208Z"
   },
   {
    "duration": 284,
    "start_time": "2023-06-14T23:30:25.435Z"
   },
   {
    "duration": 249,
    "start_time": "2023-06-14T23:30:25.720Z"
   },
   {
    "duration": 5,
    "start_time": "2023-06-14T23:30:25.971Z"
   },
   {
    "duration": 4,
    "start_time": "2023-06-14T23:34:45.755Z"
   },
   {
    "duration": 3,
    "start_time": "2023-06-14T23:34:54.852Z"
   },
   {
    "duration": 122,
    "start_time": "2023-06-14T23:36:31.492Z"
   },
   {
    "duration": 140,
    "start_time": "2023-06-14T23:39:10.406Z"
   },
   {
    "duration": 83,
    "start_time": "2023-06-14T23:42:08.159Z"
   },
   {
    "duration": 3,
    "start_time": "2023-06-14T23:42:20.367Z"
   },
   {
    "duration": 199,
    "start_time": "2023-06-14T23:46:32.402Z"
   },
   {
    "duration": 4,
    "start_time": "2023-06-14T23:46:33.511Z"
   },
   {
    "duration": 90,
    "start_time": "2023-06-14T23:48:54.618Z"
   },
   {
    "duration": 295,
    "start_time": "2023-06-14T23:49:19.466Z"
   },
   {
    "duration": 20,
    "start_time": "2023-06-14T23:49:39.076Z"
   },
   {
    "duration": 9,
    "start_time": "2023-06-14T23:53:29.444Z"
   },
   {
    "duration": 10,
    "start_time": "2023-06-14T23:54:07.560Z"
   },
   {
    "duration": 1366,
    "start_time": "2023-06-15T00:00:59.051Z"
   },
   {
    "duration": 13,
    "start_time": "2023-06-15T00:01:34.715Z"
   },
   {
    "duration": 3,
    "start_time": "2023-06-15T00:03:15.305Z"
   },
   {
    "duration": 112,
    "start_time": "2023-06-15T00:03:15.310Z"
   },
   {
    "duration": 9,
    "start_time": "2023-06-15T00:03:15.424Z"
   },
   {
    "duration": 21,
    "start_time": "2023-06-15T00:03:15.434Z"
   },
   {
    "duration": 16,
    "start_time": "2023-06-15T00:03:15.456Z"
   },
   {
    "duration": 15,
    "start_time": "2023-06-15T00:03:15.474Z"
   },
   {
    "duration": 26,
    "start_time": "2023-06-15T00:03:15.490Z"
   },
   {
    "duration": 20,
    "start_time": "2023-06-15T00:03:15.517Z"
   },
   {
    "duration": 30,
    "start_time": "2023-06-15T00:03:15.539Z"
   },
   {
    "duration": 19,
    "start_time": "2023-06-15T00:03:15.570Z"
   },
   {
    "duration": 15,
    "start_time": "2023-06-15T00:03:15.590Z"
   },
   {
    "duration": 9,
    "start_time": "2023-06-15T00:03:15.607Z"
   },
   {
    "duration": 12,
    "start_time": "2023-06-15T00:03:15.618Z"
   },
   {
    "duration": 17,
    "start_time": "2023-06-15T00:03:15.631Z"
   },
   {
    "duration": 43,
    "start_time": "2023-06-15T00:03:15.650Z"
   },
   {
    "duration": 38,
    "start_time": "2023-06-15T00:03:15.694Z"
   },
   {
    "duration": 44,
    "start_time": "2023-06-15T00:03:15.734Z"
   },
   {
    "duration": 33,
    "start_time": "2023-06-15T00:03:15.780Z"
   },
   {
    "duration": 22,
    "start_time": "2023-06-15T00:03:15.814Z"
   },
   {
    "duration": 12,
    "start_time": "2023-06-15T00:03:15.838Z"
   },
   {
    "duration": 236,
    "start_time": "2023-06-15T00:03:15.852Z"
   },
   {
    "duration": 118,
    "start_time": "2023-06-15T00:03:16.089Z"
   },
   {
    "duration": 12,
    "start_time": "2023-06-15T00:03:16.209Z"
   },
   {
    "duration": 24,
    "start_time": "2023-06-15T00:03:16.225Z"
   },
   {
    "duration": 190,
    "start_time": "2023-06-15T00:03:16.250Z"
   },
   {
    "duration": 204,
    "start_time": "2023-06-15T00:03:16.442Z"
   },
   {
    "duration": 284,
    "start_time": "2023-06-15T00:03:16.648Z"
   },
   {
    "duration": 217,
    "start_time": "2023-06-15T00:03:16.934Z"
   },
   {
    "duration": 289,
    "start_time": "2023-06-15T00:03:17.153Z"
   },
   {
    "duration": 237,
    "start_time": "2023-06-15T00:03:17.444Z"
   },
   {
    "duration": 4,
    "start_time": "2023-06-15T00:03:17.683Z"
   },
   {
    "duration": 137,
    "start_time": "2023-06-15T00:03:17.688Z"
   },
   {
    "duration": 143,
    "start_time": "2023-06-15T00:03:17.827Z"
   },
   {
    "duration": 4,
    "start_time": "2023-06-15T00:03:17.972Z"
   },
   {
    "duration": 359,
    "start_time": "2023-06-15T00:03:17.978Z"
   },
   {
    "duration": 21,
    "start_time": "2023-06-15T00:03:18.338Z"
   },
   {
    "duration": 45,
    "start_time": "2023-06-15T00:03:18.361Z"
   },
   {
    "duration": 56,
    "start_time": "2023-06-15T00:03:18.408Z"
   },
   {
    "duration": 19,
    "start_time": "2023-06-15T00:04:25.211Z"
   },
   {
    "duration": 13,
    "start_time": "2023-06-15T00:08:51.797Z"
   },
   {
    "duration": 81,
    "start_time": "2023-06-15T00:10:44.327Z"
   },
   {
    "duration": 9,
    "start_time": "2023-06-15T00:11:02.407Z"
   },
   {
    "duration": 3,
    "start_time": "2023-06-15T00:13:50.670Z"
   },
   {
    "duration": 96,
    "start_time": "2023-06-15T00:13:50.681Z"
   },
   {
    "duration": 9,
    "start_time": "2023-06-15T00:13:50.778Z"
   },
   {
    "duration": 19,
    "start_time": "2023-06-15T00:13:50.789Z"
   },
   {
    "duration": 19,
    "start_time": "2023-06-15T00:13:50.809Z"
   },
   {
    "duration": 21,
    "start_time": "2023-06-15T00:13:50.830Z"
   },
   {
    "duration": 26,
    "start_time": "2023-06-15T00:13:50.853Z"
   },
   {
    "duration": 15,
    "start_time": "2023-06-15T00:13:50.881Z"
   },
   {
    "duration": 26,
    "start_time": "2023-06-15T00:13:50.897Z"
   },
   {
    "duration": 25,
    "start_time": "2023-06-15T00:13:50.925Z"
   },
   {
    "duration": 10,
    "start_time": "2023-06-15T00:13:50.951Z"
   },
   {
    "duration": 4,
    "start_time": "2023-06-15T00:13:50.962Z"
   },
   {
    "duration": 12,
    "start_time": "2023-06-15T00:13:50.967Z"
   },
   {
    "duration": 19,
    "start_time": "2023-06-15T00:13:50.980Z"
   },
   {
    "duration": 15,
    "start_time": "2023-06-15T00:13:51.002Z"
   },
   {
    "duration": 35,
    "start_time": "2023-06-15T00:13:51.018Z"
   },
   {
    "duration": 32,
    "start_time": "2023-06-15T00:13:51.054Z"
   },
   {
    "duration": 22,
    "start_time": "2023-06-15T00:13:51.088Z"
   },
   {
    "duration": 11,
    "start_time": "2023-06-15T00:13:51.111Z"
   },
   {
    "duration": 12,
    "start_time": "2023-06-15T00:13:51.123Z"
   },
   {
    "duration": 154,
    "start_time": "2023-06-15T00:13:51.136Z"
   },
   {
    "duration": 96,
    "start_time": "2023-06-15T00:13:51.291Z"
   },
   {
    "duration": 10,
    "start_time": "2023-06-15T00:13:51.399Z"
   },
   {
    "duration": 33,
    "start_time": "2023-06-15T00:13:51.411Z"
   },
   {
    "duration": 199,
    "start_time": "2023-06-15T00:13:51.446Z"
   },
   {
    "duration": 258,
    "start_time": "2023-06-15T00:13:51.646Z"
   },
   {
    "duration": 302,
    "start_time": "2023-06-15T00:13:51.905Z"
   },
   {
    "duration": 204,
    "start_time": "2023-06-15T00:13:52.208Z"
   },
   {
    "duration": 299,
    "start_time": "2023-06-15T00:13:52.413Z"
   },
   {
    "duration": 227,
    "start_time": "2023-06-15T00:13:52.713Z"
   },
   {
    "duration": 4,
    "start_time": "2023-06-15T00:13:52.941Z"
   },
   {
    "duration": 141,
    "start_time": "2023-06-15T00:13:52.946Z"
   },
   {
    "duration": 128,
    "start_time": "2023-06-15T00:13:53.089Z"
   },
   {
    "duration": 4,
    "start_time": "2023-06-15T00:13:53.219Z"
   },
   {
    "duration": 334,
    "start_time": "2023-06-15T00:13:53.224Z"
   },
   {
    "duration": 18,
    "start_time": "2023-06-15T00:13:53.560Z"
   },
   {
    "duration": 19,
    "start_time": "2023-06-15T00:13:53.580Z"
   },
   {
    "duration": 11,
    "start_time": "2023-06-15T00:13:53.601Z"
   },
   {
    "duration": 21,
    "start_time": "2023-06-15T00:13:53.614Z"
   },
   {
    "duration": 12,
    "start_time": "2023-06-15T00:13:53.636Z"
   },
   {
    "duration": 1066,
    "start_time": "2023-06-15T00:48:41.586Z"
   },
   {
    "duration": 80,
    "start_time": "2023-06-15T00:48:42.653Z"
   },
   {
    "duration": 11,
    "start_time": "2023-06-15T00:48:42.734Z"
   },
   {
    "duration": 27,
    "start_time": "2023-06-15T00:48:42.747Z"
   },
   {
    "duration": 14,
    "start_time": "2023-06-15T00:48:42.775Z"
   },
   {
    "duration": 30,
    "start_time": "2023-06-15T00:48:42.791Z"
   },
   {
    "duration": 21,
    "start_time": "2023-06-15T00:48:42.823Z"
   },
   {
    "duration": 42,
    "start_time": "2023-06-15T00:48:42.846Z"
   },
   {
    "duration": 17,
    "start_time": "2023-06-15T00:48:42.890Z"
   },
   {
    "duration": 12,
    "start_time": "2023-06-15T00:48:42.909Z"
   },
   {
    "duration": 18,
    "start_time": "2023-06-15T00:48:42.922Z"
   },
   {
    "duration": 8,
    "start_time": "2023-06-15T00:48:42.941Z"
   },
   {
    "duration": 17,
    "start_time": "2023-06-15T00:48:42.951Z"
   },
   {
    "duration": 32,
    "start_time": "2023-06-15T00:48:42.970Z"
   },
   {
    "duration": 19,
    "start_time": "2023-06-15T00:48:43.004Z"
   },
   {
    "duration": 14,
    "start_time": "2023-06-15T00:48:43.025Z"
   },
   {
    "duration": 12,
    "start_time": "2023-06-15T00:48:43.040Z"
   },
   {
    "duration": 65,
    "start_time": "2023-06-15T00:48:43.054Z"
   },
   {
    "duration": 5,
    "start_time": "2023-06-15T00:48:43.120Z"
   },
   {
    "duration": 24,
    "start_time": "2023-06-15T00:48:43.126Z"
   },
   {
    "duration": 193,
    "start_time": "2023-06-15T00:48:43.152Z"
   },
   {
    "duration": 100,
    "start_time": "2023-06-15T00:48:43.347Z"
   },
   {
    "duration": 11,
    "start_time": "2023-06-15T00:48:43.449Z"
   },
   {
    "duration": 28,
    "start_time": "2023-06-15T00:48:43.462Z"
   },
   {
    "duration": 294,
    "start_time": "2023-06-15T00:48:43.492Z"
   },
   {
    "duration": 205,
    "start_time": "2023-06-15T00:48:43.788Z"
   },
   {
    "duration": 336,
    "start_time": "2023-06-15T00:48:43.994Z"
   },
   {
    "duration": 230,
    "start_time": "2023-06-15T00:48:44.333Z"
   },
   {
    "duration": 296,
    "start_time": "2023-06-15T00:48:44.564Z"
   },
   {
    "duration": 247,
    "start_time": "2023-06-15T00:48:44.862Z"
   },
   {
    "duration": 4,
    "start_time": "2023-06-15T00:48:45.110Z"
   },
   {
    "duration": 141,
    "start_time": "2023-06-15T00:48:45.115Z"
   },
   {
    "duration": 193,
    "start_time": "2023-06-15T00:48:45.258Z"
   },
   {
    "duration": 3,
    "start_time": "2023-06-15T00:48:45.453Z"
   },
   {
    "duration": 304,
    "start_time": "2023-06-15T00:48:45.457Z"
   },
   {
    "duration": 19,
    "start_time": "2023-06-15T00:48:45.763Z"
   },
   {
    "duration": 18,
    "start_time": "2023-06-15T00:48:45.783Z"
   },
   {
    "duration": 13,
    "start_time": "2023-06-15T00:48:45.802Z"
   },
   {
    "duration": 38,
    "start_time": "2023-06-15T00:48:45.816Z"
   },
   {
    "duration": 43,
    "start_time": "2023-06-15T00:48:45.855Z"
   },
   {
    "duration": 73,
    "start_time": "2023-06-15T00:53:01.940Z"
   },
   {
    "duration": 2,
    "start_time": "2023-06-15T00:53:04.178Z"
   },
   {
    "duration": 98,
    "start_time": "2023-06-15T00:53:04.182Z"
   },
   {
    "duration": 13,
    "start_time": "2023-06-15T00:53:04.282Z"
   },
   {
    "duration": 25,
    "start_time": "2023-06-15T00:53:04.297Z"
   },
   {
    "duration": 32,
    "start_time": "2023-06-15T00:53:04.324Z"
   },
   {
    "duration": 38,
    "start_time": "2023-06-15T00:53:04.358Z"
   },
   {
    "duration": 27,
    "start_time": "2023-06-15T00:53:04.398Z"
   },
   {
    "duration": 139,
    "start_time": "2023-06-15T00:53:04.426Z"
   },
   {
    "duration": 47,
    "start_time": "2023-06-15T00:53:04.566Z"
   },
   {
    "duration": 49,
    "start_time": "2023-06-15T00:53:04.615Z"
   },
   {
    "duration": 31,
    "start_time": "2023-06-15T00:53:04.667Z"
   },
   {
    "duration": 24,
    "start_time": "2023-06-15T00:53:04.700Z"
   },
   {
    "duration": 16,
    "start_time": "2023-06-15T00:53:04.725Z"
   },
   {
    "duration": 51,
    "start_time": "2023-06-15T00:53:04.743Z"
   },
   {
    "duration": 44,
    "start_time": "2023-06-15T00:53:04.796Z"
   },
   {
    "duration": 70,
    "start_time": "2023-06-15T00:53:04.842Z"
   },
   {
    "duration": 41,
    "start_time": "2023-06-15T00:53:04.914Z"
   },
   {
    "duration": 13,
    "start_time": "2023-06-15T00:53:04.957Z"
   },
   {
    "duration": 7,
    "start_time": "2023-06-15T00:53:04.971Z"
   },
   {
    "duration": 80,
    "start_time": "2023-06-15T00:53:04.980Z"
   },
   {
    "duration": 0,
    "start_time": "2023-06-15T00:53:05.062Z"
   },
   {
    "duration": 0,
    "start_time": "2023-06-15T00:53:05.063Z"
   },
   {
    "duration": 0,
    "start_time": "2023-06-15T00:53:05.064Z"
   },
   {
    "duration": 0,
    "start_time": "2023-06-15T00:53:05.065Z"
   },
   {
    "duration": 0,
    "start_time": "2023-06-15T00:53:05.066Z"
   },
   {
    "duration": 0,
    "start_time": "2023-06-15T00:53:05.067Z"
   },
   {
    "duration": 0,
    "start_time": "2023-06-15T00:53:05.068Z"
   },
   {
    "duration": 0,
    "start_time": "2023-06-15T00:53:05.069Z"
   },
   {
    "duration": 0,
    "start_time": "2023-06-15T00:53:05.070Z"
   },
   {
    "duration": 0,
    "start_time": "2023-06-15T00:53:05.071Z"
   },
   {
    "duration": 0,
    "start_time": "2023-06-15T00:53:05.071Z"
   },
   {
    "duration": 0,
    "start_time": "2023-06-15T00:53:05.073Z"
   },
   {
    "duration": 0,
    "start_time": "2023-06-15T00:53:05.074Z"
   },
   {
    "duration": 0,
    "start_time": "2023-06-15T00:53:05.074Z"
   },
   {
    "duration": 0,
    "start_time": "2023-06-15T00:53:05.075Z"
   },
   {
    "duration": 0,
    "start_time": "2023-06-15T00:53:05.076Z"
   },
   {
    "duration": 0,
    "start_time": "2023-06-15T00:53:05.077Z"
   },
   {
    "duration": 0,
    "start_time": "2023-06-15T00:53:05.079Z"
   },
   {
    "duration": 0,
    "start_time": "2023-06-15T00:53:05.079Z"
   },
   {
    "duration": 0,
    "start_time": "2023-06-15T00:53:05.081Z"
   },
   {
    "duration": 0,
    "start_time": "2023-06-15T00:53:05.082Z"
   },
   {
    "duration": 101,
    "start_time": "2023-06-15T00:54:51.022Z"
   },
   {
    "duration": 978,
    "start_time": "2023-06-15T00:57:56.143Z"
   },
   {
    "duration": 78,
    "start_time": "2023-06-15T00:57:57.123Z"
   },
   {
    "duration": 10,
    "start_time": "2023-06-15T00:57:57.202Z"
   },
   {
    "duration": 19,
    "start_time": "2023-06-15T00:57:57.213Z"
   },
   {
    "duration": 9,
    "start_time": "2023-06-15T00:57:57.234Z"
   },
   {
    "duration": 12,
    "start_time": "2023-06-15T00:57:57.244Z"
   },
   {
    "duration": 18,
    "start_time": "2023-06-15T00:57:57.257Z"
   },
   {
    "duration": 15,
    "start_time": "2023-06-15T00:57:57.276Z"
   },
   {
    "duration": 18,
    "start_time": "2023-06-15T00:57:57.292Z"
   },
   {
    "duration": 21,
    "start_time": "2023-06-15T00:57:57.312Z"
   },
   {
    "duration": 24,
    "start_time": "2023-06-15T00:57:57.335Z"
   },
   {
    "duration": 3,
    "start_time": "2023-06-15T00:57:57.361Z"
   },
   {
    "duration": 17,
    "start_time": "2023-06-15T00:57:57.365Z"
   },
   {
    "duration": 12,
    "start_time": "2023-06-15T00:57:57.384Z"
   },
   {
    "duration": 10,
    "start_time": "2023-06-15T00:57:57.397Z"
   },
   {
    "duration": 14,
    "start_time": "2023-06-15T00:57:57.408Z"
   },
   {
    "duration": 16,
    "start_time": "2023-06-15T00:57:57.424Z"
   },
   {
    "duration": 51,
    "start_time": "2023-06-15T00:57:57.441Z"
   },
   {
    "duration": 8,
    "start_time": "2023-06-15T00:57:57.493Z"
   },
   {
    "duration": 165,
    "start_time": "2023-06-15T00:57:57.502Z"
   },
   {
    "duration": 99,
    "start_time": "2023-06-15T00:57:57.668Z"
   },
   {
    "duration": 12,
    "start_time": "2023-06-15T00:57:57.768Z"
   },
   {
    "duration": 23,
    "start_time": "2023-06-15T00:57:57.782Z"
   },
   {
    "duration": 252,
    "start_time": "2023-06-15T00:57:57.806Z"
   },
   {
    "duration": 206,
    "start_time": "2023-06-15T00:57:58.059Z"
   },
   {
    "duration": 322,
    "start_time": "2023-06-15T00:57:58.266Z"
   },
   {
    "duration": 216,
    "start_time": "2023-06-15T00:57:58.589Z"
   },
   {
    "duration": 302,
    "start_time": "2023-06-15T00:57:58.806Z"
   },
   {
    "duration": 260,
    "start_time": "2023-06-15T00:57:59.109Z"
   },
   {
    "duration": 3,
    "start_time": "2023-06-15T00:57:59.371Z"
   },
   {
    "duration": 132,
    "start_time": "2023-06-15T00:57:59.376Z"
   },
   {
    "duration": 197,
    "start_time": "2023-06-15T00:57:59.510Z"
   },
   {
    "duration": 4,
    "start_time": "2023-06-15T00:57:59.709Z"
   },
   {
    "duration": 314,
    "start_time": "2023-06-15T00:57:59.714Z"
   },
   {
    "duration": 22,
    "start_time": "2023-06-15T00:58:00.030Z"
   },
   {
    "duration": 55,
    "start_time": "2023-06-15T00:58:00.053Z"
   },
   {
    "duration": 38,
    "start_time": "2023-06-15T00:58:00.110Z"
   },
   {
    "duration": 116,
    "start_time": "2023-06-15T00:58:00.149Z"
   },
   {
    "duration": 35,
    "start_time": "2023-06-15T00:58:00.267Z"
   },
   {
    "duration": 3,
    "start_time": "2023-06-15T01:00:13.510Z"
   },
   {
    "duration": 85,
    "start_time": "2023-06-15T01:00:13.515Z"
   },
   {
    "duration": 8,
    "start_time": "2023-06-15T01:00:13.601Z"
   },
   {
    "duration": 14,
    "start_time": "2023-06-15T01:00:13.611Z"
   },
   {
    "duration": 31,
    "start_time": "2023-06-15T01:00:13.626Z"
   },
   {
    "duration": 14,
    "start_time": "2023-06-15T01:00:13.659Z"
   },
   {
    "duration": 15,
    "start_time": "2023-06-15T01:00:13.674Z"
   },
   {
    "duration": 14,
    "start_time": "2023-06-15T01:00:13.691Z"
   },
   {
    "duration": 24,
    "start_time": "2023-06-15T01:00:13.707Z"
   },
   {
    "duration": 7,
    "start_time": "2023-06-15T01:00:13.732Z"
   },
   {
    "duration": 10,
    "start_time": "2023-06-15T01:00:13.741Z"
   },
   {
    "duration": 5,
    "start_time": "2023-06-15T01:00:13.752Z"
   },
   {
    "duration": 7,
    "start_time": "2023-06-15T01:00:13.759Z"
   },
   {
    "duration": 11,
    "start_time": "2023-06-15T01:00:13.767Z"
   },
   {
    "duration": 10,
    "start_time": "2023-06-15T01:00:13.779Z"
   },
   {
    "duration": 21,
    "start_time": "2023-06-15T01:00:13.790Z"
   },
   {
    "duration": 13,
    "start_time": "2023-06-15T01:00:13.812Z"
   },
   {
    "duration": 14,
    "start_time": "2023-06-15T01:00:13.826Z"
   },
   {
    "duration": 207,
    "start_time": "2023-06-15T01:00:13.842Z"
   },
   {
    "duration": 5,
    "start_time": "2023-06-15T01:00:14.050Z"
   },
   {
    "duration": 172,
    "start_time": "2023-06-15T01:00:14.056Z"
   },
   {
    "duration": 102,
    "start_time": "2023-06-15T01:00:14.229Z"
   },
   {
    "duration": 12,
    "start_time": "2023-06-15T01:00:14.332Z"
   },
   {
    "duration": 20,
    "start_time": "2023-06-15T01:00:14.347Z"
   },
   {
    "duration": 191,
    "start_time": "2023-06-15T01:00:14.369Z"
   },
   {
    "duration": 207,
    "start_time": "2023-06-15T01:00:14.562Z"
   },
   {
    "duration": 347,
    "start_time": "2023-06-15T01:00:14.771Z"
   },
   {
    "duration": 230,
    "start_time": "2023-06-15T01:00:15.120Z"
   },
   {
    "duration": 300,
    "start_time": "2023-06-15T01:00:15.351Z"
   },
   {
    "duration": 227,
    "start_time": "2023-06-15T01:00:15.653Z"
   },
   {
    "duration": 3,
    "start_time": "2023-06-15T01:00:15.882Z"
   },
   {
    "duration": 147,
    "start_time": "2023-06-15T01:00:15.887Z"
   },
   {
    "duration": 152,
    "start_time": "2023-06-15T01:00:16.036Z"
   },
   {
    "duration": 3,
    "start_time": "2023-06-15T01:00:16.190Z"
   },
   {
    "duration": 368,
    "start_time": "2023-06-15T01:00:16.195Z"
   },
   {
    "duration": 18,
    "start_time": "2023-06-15T01:00:16.564Z"
   },
   {
    "duration": 28,
    "start_time": "2023-06-15T01:00:16.583Z"
   },
   {
    "duration": 18,
    "start_time": "2023-06-15T01:00:16.613Z"
   },
   {
    "duration": 34,
    "start_time": "2023-06-15T01:00:16.632Z"
   },
   {
    "duration": 13,
    "start_time": "2023-06-15T01:00:16.667Z"
   },
   {
    "duration": 16,
    "start_time": "2023-06-15T01:03:26.950Z"
   },
   {
    "duration": 4,
    "start_time": "2023-06-15T01:04:26.008Z"
   },
   {
    "duration": 103,
    "start_time": "2023-06-15T01:04:26.014Z"
   },
   {
    "duration": 9,
    "start_time": "2023-06-15T01:04:26.118Z"
   },
   {
    "duration": 71,
    "start_time": "2023-06-15T01:04:26.129Z"
   },
   {
    "duration": 40,
    "start_time": "2023-06-15T01:04:26.202Z"
   },
   {
    "duration": 27,
    "start_time": "2023-06-15T01:04:26.243Z"
   },
   {
    "duration": 33,
    "start_time": "2023-06-15T01:04:26.271Z"
   },
   {
    "duration": 27,
    "start_time": "2023-06-15T01:04:26.306Z"
   },
   {
    "duration": 20,
    "start_time": "2023-06-15T01:04:26.335Z"
   },
   {
    "duration": 14,
    "start_time": "2023-06-15T01:04:26.357Z"
   },
   {
    "duration": 9,
    "start_time": "2023-06-15T01:04:26.374Z"
   },
   {
    "duration": 44,
    "start_time": "2023-06-15T01:04:26.385Z"
   },
   {
    "duration": 27,
    "start_time": "2023-06-15T01:04:26.430Z"
   },
   {
    "duration": 29,
    "start_time": "2023-06-15T01:04:26.459Z"
   },
   {
    "duration": 48,
    "start_time": "2023-06-15T01:04:26.490Z"
   },
   {
    "duration": 25,
    "start_time": "2023-06-15T01:04:26.540Z"
   },
   {
    "duration": 39,
    "start_time": "2023-06-15T01:04:26.566Z"
   },
   {
    "duration": 24,
    "start_time": "2023-06-15T01:04:26.606Z"
   },
   {
    "duration": 23,
    "start_time": "2023-06-15T01:04:26.631Z"
   },
   {
    "duration": 6,
    "start_time": "2023-06-15T01:04:26.655Z"
   },
   {
    "duration": 154,
    "start_time": "2023-06-15T01:04:26.662Z"
   },
   {
    "duration": 97,
    "start_time": "2023-06-15T01:04:26.817Z"
   },
   {
    "duration": 11,
    "start_time": "2023-06-15T01:04:26.915Z"
   },
   {
    "duration": 13,
    "start_time": "2023-06-15T01:04:26.928Z"
   },
   {
    "duration": 194,
    "start_time": "2023-06-15T01:04:26.943Z"
   },
   {
    "duration": 201,
    "start_time": "2023-06-15T01:04:27.138Z"
   },
   {
    "duration": 293,
    "start_time": "2023-06-15T01:04:27.340Z"
   },
   {
    "duration": 222,
    "start_time": "2023-06-15T01:04:27.635Z"
   },
   {
    "duration": 307,
    "start_time": "2023-06-15T01:04:27.860Z"
   },
   {
    "duration": 246,
    "start_time": "2023-06-15T01:04:28.169Z"
   },
   {
    "duration": 3,
    "start_time": "2023-06-15T01:04:28.417Z"
   },
   {
    "duration": 131,
    "start_time": "2023-06-15T01:04:28.422Z"
   },
   {
    "duration": 152,
    "start_time": "2023-06-15T01:04:28.554Z"
   },
   {
    "duration": 4,
    "start_time": "2023-06-15T01:04:28.707Z"
   },
   {
    "duration": 324,
    "start_time": "2023-06-15T01:04:28.712Z"
   },
   {
    "duration": 20,
    "start_time": "2023-06-15T01:04:29.038Z"
   },
   {
    "duration": 9,
    "start_time": "2023-06-15T01:04:29.060Z"
   },
   {
    "duration": 31,
    "start_time": "2023-06-15T01:04:29.071Z"
   },
   {
    "duration": 51,
    "start_time": "2023-06-15T01:04:29.104Z"
   },
   {
    "duration": 12,
    "start_time": "2023-06-15T01:04:29.157Z"
   },
   {
    "duration": 3,
    "start_time": "2023-06-15T01:05:30.761Z"
   },
   {
    "duration": 124,
    "start_time": "2023-06-15T01:05:30.766Z"
   },
   {
    "duration": 9,
    "start_time": "2023-06-15T01:05:30.891Z"
   },
   {
    "duration": 70,
    "start_time": "2023-06-15T01:05:30.901Z"
   },
   {
    "duration": 46,
    "start_time": "2023-06-15T01:05:30.973Z"
   },
   {
    "duration": 58,
    "start_time": "2023-06-15T01:05:31.021Z"
   },
   {
    "duration": 41,
    "start_time": "2023-06-15T01:05:31.080Z"
   },
   {
    "duration": 44,
    "start_time": "2023-06-15T01:05:31.123Z"
   },
   {
    "duration": 31,
    "start_time": "2023-06-15T01:05:31.169Z"
   },
   {
    "duration": 30,
    "start_time": "2023-06-15T01:05:31.201Z"
   },
   {
    "duration": 32,
    "start_time": "2023-06-15T01:05:31.234Z"
   },
   {
    "duration": 42,
    "start_time": "2023-06-15T01:05:31.268Z"
   },
   {
    "duration": 43,
    "start_time": "2023-06-15T01:05:31.311Z"
   },
   {
    "duration": 72,
    "start_time": "2023-06-15T01:05:31.356Z"
   },
   {
    "duration": 79,
    "start_time": "2023-06-15T01:05:31.429Z"
   },
   {
    "duration": 88,
    "start_time": "2023-06-15T01:05:31.510Z"
   },
   {
    "duration": 64,
    "start_time": "2023-06-15T01:05:31.599Z"
   },
   {
    "duration": 62,
    "start_time": "2023-06-15T01:05:31.664Z"
   },
   {
    "duration": 37,
    "start_time": "2023-06-15T01:05:31.728Z"
   },
   {
    "duration": 43,
    "start_time": "2023-06-15T01:05:31.766Z"
   },
   {
    "duration": 234,
    "start_time": "2023-06-15T01:05:31.810Z"
   },
   {
    "duration": 104,
    "start_time": "2023-06-15T01:05:32.046Z"
   },
   {
    "duration": 12,
    "start_time": "2023-06-15T01:05:32.151Z"
   },
   {
    "duration": 22,
    "start_time": "2023-06-15T01:05:32.164Z"
   },
   {
    "duration": 214,
    "start_time": "2023-06-15T01:05:32.187Z"
   },
   {
    "duration": 255,
    "start_time": "2023-06-15T01:05:32.403Z"
   },
   {
    "duration": 279,
    "start_time": "2023-06-15T01:05:32.659Z"
   },
   {
    "duration": 214,
    "start_time": "2023-06-15T01:05:32.939Z"
   },
   {
    "duration": 274,
    "start_time": "2023-06-15T01:05:33.156Z"
   },
   {
    "duration": 246,
    "start_time": "2023-06-15T01:05:33.431Z"
   },
   {
    "duration": 4,
    "start_time": "2023-06-15T01:05:33.678Z"
   },
   {
    "duration": 133,
    "start_time": "2023-06-15T01:05:33.683Z"
   },
   {
    "duration": 134,
    "start_time": "2023-06-15T01:05:33.818Z"
   },
   {
    "duration": 3,
    "start_time": "2023-06-15T01:05:33.953Z"
   },
   {
    "duration": 313,
    "start_time": "2023-06-15T01:05:33.958Z"
   },
   {
    "duration": 20,
    "start_time": "2023-06-15T01:05:34.272Z"
   },
   {
    "duration": 9,
    "start_time": "2023-06-15T01:05:34.300Z"
   },
   {
    "duration": 13,
    "start_time": "2023-06-15T01:05:34.311Z"
   },
   {
    "duration": 23,
    "start_time": "2023-06-15T01:05:34.325Z"
   },
   {
    "duration": 11,
    "start_time": "2023-06-15T01:05:34.350Z"
   },
   {
    "duration": 967,
    "start_time": "2023-06-15T01:08:04.355Z"
   },
   {
    "duration": 80,
    "start_time": "2023-06-15T01:08:05.324Z"
   },
   {
    "duration": 10,
    "start_time": "2023-06-15T01:08:05.406Z"
   },
   {
    "duration": 36,
    "start_time": "2023-06-15T01:08:05.418Z"
   },
   {
    "duration": 35,
    "start_time": "2023-06-15T01:08:05.455Z"
   },
   {
    "duration": 55,
    "start_time": "2023-06-15T01:08:05.492Z"
   },
   {
    "duration": 52,
    "start_time": "2023-06-15T01:08:05.548Z"
   },
   {
    "duration": 37,
    "start_time": "2023-06-15T01:08:05.602Z"
   },
   {
    "duration": 65,
    "start_time": "2023-06-15T01:08:05.641Z"
   },
   {
    "duration": 99,
    "start_time": "2023-06-15T01:08:05.707Z"
   },
   {
    "duration": 80,
    "start_time": "2023-06-15T01:08:05.808Z"
   },
   {
    "duration": 33,
    "start_time": "2023-06-15T01:08:05.890Z"
   },
   {
    "duration": 50,
    "start_time": "2023-06-15T01:08:05.925Z"
   },
   {
    "duration": 31,
    "start_time": "2023-06-15T01:08:05.978Z"
   },
   {
    "duration": 21,
    "start_time": "2023-06-15T01:08:06.011Z"
   },
   {
    "duration": 26,
    "start_time": "2023-06-15T01:08:06.033Z"
   },
   {
    "duration": 11,
    "start_time": "2023-06-15T01:08:06.060Z"
   },
   {
    "duration": 55,
    "start_time": "2023-06-15T01:08:06.073Z"
   },
   {
    "duration": 5,
    "start_time": "2023-06-15T01:08:06.130Z"
   },
   {
    "duration": 208,
    "start_time": "2023-06-15T01:08:06.136Z"
   },
   {
    "duration": 93,
    "start_time": "2023-06-15T01:08:06.346Z"
   },
   {
    "duration": 11,
    "start_time": "2023-06-15T01:08:06.440Z"
   },
   {
    "duration": 11,
    "start_time": "2023-06-15T01:08:06.452Z"
   },
   {
    "duration": 259,
    "start_time": "2023-06-15T01:08:06.465Z"
   },
   {
    "duration": 195,
    "start_time": "2023-06-15T01:08:06.725Z"
   },
   {
    "duration": 285,
    "start_time": "2023-06-15T01:08:06.922Z"
   },
   {
    "duration": 206,
    "start_time": "2023-06-15T01:08:07.209Z"
   },
   {
    "duration": 301,
    "start_time": "2023-06-15T01:08:07.416Z"
   },
   {
    "duration": 239,
    "start_time": "2023-06-15T01:08:07.718Z"
   },
   {
    "duration": 4,
    "start_time": "2023-06-15T01:08:07.959Z"
   },
   {
    "duration": 136,
    "start_time": "2023-06-15T01:08:07.964Z"
   },
   {
    "duration": 209,
    "start_time": "2023-06-15T01:08:08.102Z"
   },
   {
    "duration": 3,
    "start_time": "2023-06-15T01:08:08.313Z"
   },
   {
    "duration": 323,
    "start_time": "2023-06-15T01:08:08.318Z"
   },
   {
    "duration": 20,
    "start_time": "2023-06-15T01:08:08.643Z"
   },
   {
    "duration": 9,
    "start_time": "2023-06-15T01:08:08.664Z"
   },
   {
    "duration": 32,
    "start_time": "2023-06-15T01:08:08.675Z"
   },
   {
    "duration": 30,
    "start_time": "2023-06-15T01:08:08.709Z"
   },
   {
    "duration": 13,
    "start_time": "2023-06-15T01:08:08.740Z"
   },
   {
    "duration": 1476,
    "start_time": "2023-06-15T09:10:42.339Z"
   },
   {
    "duration": 243,
    "start_time": "2023-06-15T09:10:43.817Z"
   },
   {
    "duration": 16,
    "start_time": "2023-06-15T09:10:44.062Z"
   },
   {
    "duration": 61,
    "start_time": "2023-06-15T09:10:44.081Z"
   },
   {
    "duration": 15,
    "start_time": "2023-06-15T09:10:44.144Z"
   },
   {
    "duration": 41,
    "start_time": "2023-06-15T09:10:44.160Z"
   },
   {
    "duration": 32,
    "start_time": "2023-06-15T09:10:44.203Z"
   },
   {
    "duration": 55,
    "start_time": "2023-06-15T09:10:44.237Z"
   },
   {
    "duration": 19,
    "start_time": "2023-06-15T09:10:44.295Z"
   },
   {
    "duration": 37,
    "start_time": "2023-06-15T09:10:44.317Z"
   },
   {
    "duration": 45,
    "start_time": "2023-06-15T09:10:44.356Z"
   },
   {
    "duration": 52,
    "start_time": "2023-06-15T09:10:44.403Z"
   },
   {
    "duration": 73,
    "start_time": "2023-06-15T09:10:44.457Z"
   },
   {
    "duration": 17,
    "start_time": "2023-06-15T09:10:44.532Z"
   },
   {
    "duration": 32,
    "start_time": "2023-06-15T09:10:44.551Z"
   },
   {
    "duration": 31,
    "start_time": "2023-06-15T09:10:44.586Z"
   },
   {
    "duration": 14,
    "start_time": "2023-06-15T09:10:44.619Z"
   },
   {
    "duration": 87,
    "start_time": "2023-06-15T09:10:44.635Z"
   },
   {
    "duration": 8,
    "start_time": "2023-06-15T09:10:44.724Z"
   },
   {
    "duration": 226,
    "start_time": "2023-06-15T09:10:44.734Z"
   },
   {
    "duration": 177,
    "start_time": "2023-06-15T09:10:44.962Z"
   },
   {
    "duration": 16,
    "start_time": "2023-06-15T09:10:45.141Z"
   },
   {
    "duration": 18,
    "start_time": "2023-06-15T09:10:45.158Z"
   },
   {
    "duration": 359,
    "start_time": "2023-06-15T09:10:45.179Z"
   },
   {
    "duration": 299,
    "start_time": "2023-06-15T09:10:45.540Z"
   },
   {
    "duration": 429,
    "start_time": "2023-06-15T09:10:45.841Z"
   },
   {
    "duration": 374,
    "start_time": "2023-06-15T09:10:46.272Z"
   },
   {
    "duration": 403,
    "start_time": "2023-06-15T09:10:46.651Z"
   },
   {
    "duration": 355,
    "start_time": "2023-06-15T09:10:47.056Z"
   },
   {
    "duration": 5,
    "start_time": "2023-06-15T09:10:47.413Z"
   },
   {
    "duration": 317,
    "start_time": "2023-06-15T09:10:47.420Z"
   },
   {
    "duration": 197,
    "start_time": "2023-06-15T09:10:47.740Z"
   },
   {
    "duration": 6,
    "start_time": "2023-06-15T09:10:47.939Z"
   },
   {
    "duration": 488,
    "start_time": "2023-06-15T09:10:47.947Z"
   },
   {
    "duration": 25,
    "start_time": "2023-06-15T09:10:48.437Z"
   },
   {
    "duration": 48,
    "start_time": "2023-06-15T09:10:48.464Z"
   },
   {
    "duration": 32,
    "start_time": "2023-06-15T09:10:48.514Z"
   },
   {
    "duration": 64,
    "start_time": "2023-06-15T09:10:48.548Z"
   },
   {
    "duration": 19,
    "start_time": "2023-06-15T09:10:48.614Z"
   },
   {
    "duration": 65,
    "start_time": "2023-06-15T09:50:16.673Z"
   },
   {
    "duration": 1692,
    "start_time": "2023-06-15T09:50:28.165Z"
   },
   {
    "duration": 360,
    "start_time": "2023-06-15T09:50:29.859Z"
   },
   {
    "duration": 12,
    "start_time": "2023-06-15T09:50:30.220Z"
   },
   {
    "duration": 46,
    "start_time": "2023-06-15T09:50:30.234Z"
   },
   {
    "duration": 20,
    "start_time": "2023-06-15T09:50:30.283Z"
   },
   {
    "duration": 21,
    "start_time": "2023-06-15T09:50:30.305Z"
   },
   {
    "duration": 43,
    "start_time": "2023-06-15T09:50:30.328Z"
   },
   {
    "duration": 28,
    "start_time": "2023-06-15T09:50:30.373Z"
   },
   {
    "duration": 24,
    "start_time": "2023-06-15T09:50:30.403Z"
   },
   {
    "duration": 34,
    "start_time": "2023-06-15T09:50:30.429Z"
   },
   {
    "duration": 26,
    "start_time": "2023-06-15T09:50:30.465Z"
   },
   {
    "duration": 27,
    "start_time": "2023-06-15T09:50:30.493Z"
   },
   {
    "duration": 45,
    "start_time": "2023-06-15T09:50:30.522Z"
   },
   {
    "duration": 111,
    "start_time": "2023-06-15T09:50:30.571Z"
   },
   {
    "duration": 17,
    "start_time": "2023-06-15T09:50:30.688Z"
   },
   {
    "duration": 73,
    "start_time": "2023-06-15T09:50:30.707Z"
   },
   {
    "duration": 27,
    "start_time": "2023-06-15T09:50:30.784Z"
   },
   {
    "duration": 123,
    "start_time": "2023-06-15T09:50:30.813Z"
   },
   {
    "duration": 6,
    "start_time": "2023-06-15T09:50:30.938Z"
   },
   {
    "duration": 249,
    "start_time": "2023-06-15T09:50:30.946Z"
   },
   {
    "duration": 136,
    "start_time": "2023-06-15T09:50:31.196Z"
   },
   {
    "duration": 14,
    "start_time": "2023-06-15T09:50:31.334Z"
   },
   {
    "duration": 24,
    "start_time": "2023-06-15T09:50:31.359Z"
   },
   {
    "duration": 445,
    "start_time": "2023-06-15T09:50:31.384Z"
   },
   {
    "duration": 279,
    "start_time": "2023-06-15T09:50:31.830Z"
   },
   {
    "duration": 474,
    "start_time": "2023-06-15T09:50:32.111Z"
   },
   {
    "duration": 325,
    "start_time": "2023-06-15T09:50:32.587Z"
   },
   {
    "duration": 424,
    "start_time": "2023-06-15T09:50:32.914Z"
   },
   {
    "duration": 351,
    "start_time": "2023-06-15T09:50:33.340Z"
   },
   {
    "duration": 5,
    "start_time": "2023-06-15T09:50:33.693Z"
   },
   {
    "duration": 211,
    "start_time": "2023-06-15T09:50:33.700Z"
   },
   {
    "duration": 332,
    "start_time": "2023-06-15T09:50:33.913Z"
   },
   {
    "duration": 10,
    "start_time": "2023-06-15T09:50:34.247Z"
   },
   {
    "duration": 516,
    "start_time": "2023-06-15T09:50:34.259Z"
   },
   {
    "duration": 41,
    "start_time": "2023-06-15T09:50:34.777Z"
   },
   {
    "duration": 11,
    "start_time": "2023-06-15T09:50:34.820Z"
   },
   {
    "duration": 19,
    "start_time": "2023-06-15T09:50:34.833Z"
   },
   {
    "duration": 36,
    "start_time": "2023-06-15T09:50:34.853Z"
   },
   {
    "duration": 20,
    "start_time": "2023-06-15T09:50:34.891Z"
   },
   {
    "duration": 371,
    "start_time": "2023-06-15T09:55:39.372Z"
   },
   {
    "duration": 4,
    "start_time": "2023-06-15T09:59:41.277Z"
   },
   {
    "duration": 133,
    "start_time": "2023-06-15T09:59:41.291Z"
   },
   {
    "duration": 10,
    "start_time": "2023-06-15T09:59:41.426Z"
   },
   {
    "duration": 22,
    "start_time": "2023-06-15T09:59:41.438Z"
   },
   {
    "duration": 31,
    "start_time": "2023-06-15T09:59:41.462Z"
   },
   {
    "duration": 23,
    "start_time": "2023-06-15T09:59:41.498Z"
   },
   {
    "duration": 9,
    "start_time": "2023-06-15T09:59:41.523Z"
   },
   {
    "duration": 14,
    "start_time": "2023-06-15T09:59:41.534Z"
   },
   {
    "duration": 37,
    "start_time": "2023-06-15T09:59:41.566Z"
   },
   {
    "duration": 13,
    "start_time": "2023-06-15T09:59:41.608Z"
   },
   {
    "duration": 26,
    "start_time": "2023-06-15T09:59:41.628Z"
   },
   {
    "duration": 6,
    "start_time": "2023-06-15T09:59:41.656Z"
   },
   {
    "duration": 10,
    "start_time": "2023-06-15T09:59:41.664Z"
   },
   {
    "duration": 26,
    "start_time": "2023-06-15T09:59:41.677Z"
   },
   {
    "duration": 15,
    "start_time": "2023-06-15T09:59:41.708Z"
   },
   {
    "duration": 18,
    "start_time": "2023-06-15T09:59:41.725Z"
   },
   {
    "duration": 42,
    "start_time": "2023-06-15T09:59:41.745Z"
   },
   {
    "duration": 23,
    "start_time": "2023-06-15T09:59:41.790Z"
   },
   {
    "duration": 24,
    "start_time": "2023-06-15T09:59:41.815Z"
   },
   {
    "duration": 257,
    "start_time": "2023-06-15T09:59:41.841Z"
   },
   {
    "duration": 164,
    "start_time": "2023-06-15T09:59:42.100Z"
   },
   {
    "duration": 25,
    "start_time": "2023-06-15T09:59:42.266Z"
   },
   {
    "duration": 17,
    "start_time": "2023-06-15T09:59:42.293Z"
   },
   {
    "duration": 328,
    "start_time": "2023-06-15T09:59:42.320Z"
   },
   {
    "duration": 323,
    "start_time": "2023-06-15T09:59:42.650Z"
   },
   {
    "duration": 392,
    "start_time": "2023-06-15T09:59:42.975Z"
   },
   {
    "duration": 315,
    "start_time": "2023-06-15T09:59:43.369Z"
   },
   {
    "duration": 352,
    "start_time": "2023-06-15T09:59:43.689Z"
   },
   {
    "duration": 396,
    "start_time": "2023-06-15T09:59:44.044Z"
   },
   {
    "duration": 18,
    "start_time": "2023-06-15T09:59:44.442Z"
   },
   {
    "duration": 229,
    "start_time": "2023-06-15T09:59:44.462Z"
   },
   {
    "duration": 228,
    "start_time": "2023-06-15T09:59:44.693Z"
   },
   {
    "duration": 10,
    "start_time": "2023-06-15T09:59:44.923Z"
   },
   {
    "duration": 569,
    "start_time": "2023-06-15T09:59:44.936Z"
   },
   {
    "duration": 24,
    "start_time": "2023-06-15T09:59:45.511Z"
   },
   {
    "duration": 28,
    "start_time": "2023-06-15T09:59:45.537Z"
   },
   {
    "duration": 22,
    "start_time": "2023-06-15T09:59:45.568Z"
   },
   {
    "duration": 39,
    "start_time": "2023-06-15T09:59:45.591Z"
   },
   {
    "duration": 23,
    "start_time": "2023-06-15T09:59:45.632Z"
   },
   {
    "duration": 380,
    "start_time": "2023-06-15T10:04:34.971Z"
   },
   {
    "duration": 157,
    "start_time": "2023-06-15T10:16:33.244Z"
   },
   {
    "duration": 4,
    "start_time": "2023-06-15T10:16:38.236Z"
   },
   {
    "duration": 141,
    "start_time": "2023-06-15T10:16:38.242Z"
   },
   {
    "duration": 31,
    "start_time": "2023-06-15T10:16:38.386Z"
   },
   {
    "duration": 15,
    "start_time": "2023-06-15T10:16:38.420Z"
   },
   {
    "duration": 44,
    "start_time": "2023-06-15T10:16:38.442Z"
   },
   {
    "duration": 25,
    "start_time": "2023-06-15T10:16:38.489Z"
   },
   {
    "duration": 12,
    "start_time": "2023-06-15T10:16:38.516Z"
   },
   {
    "duration": 23,
    "start_time": "2023-06-15T10:16:38.531Z"
   },
   {
    "duration": 14,
    "start_time": "2023-06-15T10:16:38.556Z"
   },
   {
    "duration": 10,
    "start_time": "2023-06-15T10:16:38.572Z"
   },
   {
    "duration": 11,
    "start_time": "2023-06-15T10:16:38.584Z"
   },
   {
    "duration": 100,
    "start_time": "2023-06-15T10:16:38.597Z"
   },
   {
    "duration": 8,
    "start_time": "2023-06-15T10:16:38.699Z"
   },
   {
    "duration": 17,
    "start_time": "2023-06-15T10:16:38.713Z"
   },
   {
    "duration": 25,
    "start_time": "2023-06-15T10:16:38.732Z"
   },
   {
    "duration": 28,
    "start_time": "2023-06-15T10:16:38.759Z"
   },
   {
    "duration": 32,
    "start_time": "2023-06-15T10:16:38.790Z"
   },
   {
    "duration": 26,
    "start_time": "2023-06-15T10:16:38.825Z"
   },
   {
    "duration": 21,
    "start_time": "2023-06-15T10:16:38.853Z"
   },
   {
    "duration": 22,
    "start_time": "2023-06-15T10:16:38.877Z"
   },
   {
    "duration": 413,
    "start_time": "2023-06-15T10:16:38.902Z"
   },
   {
    "duration": 201,
    "start_time": "2023-06-15T10:16:39.320Z"
   },
   {
    "duration": 24,
    "start_time": "2023-06-15T10:16:39.528Z"
   },
   {
    "duration": 12,
    "start_time": "2023-06-15T10:16:39.558Z"
   },
   {
    "duration": 361,
    "start_time": "2023-06-15T10:16:39.577Z"
   },
   {
    "duration": 394,
    "start_time": "2023-06-15T10:16:39.944Z"
   },
   {
    "duration": 539,
    "start_time": "2023-06-15T10:16:40.354Z"
   },
   {
    "duration": 454,
    "start_time": "2023-06-15T10:16:40.900Z"
   },
   {
    "duration": 449,
    "start_time": "2023-06-15T10:16:41.361Z"
   },
   {
    "duration": 481,
    "start_time": "2023-06-15T10:16:41.821Z"
   },
   {
    "duration": 8,
    "start_time": "2023-06-15T10:16:42.308Z"
   },
   {
    "duration": 242,
    "start_time": "2023-06-15T10:16:42.321Z"
   },
   {
    "duration": 227,
    "start_time": "2023-06-15T10:16:42.568Z"
   },
   {
    "duration": 7,
    "start_time": "2023-06-15T10:16:42.800Z"
   },
   {
    "duration": 533,
    "start_time": "2023-06-15T10:16:42.813Z"
   },
   {
    "duration": 49,
    "start_time": "2023-06-15T10:16:43.352Z"
   },
   {
    "duration": 26,
    "start_time": "2023-06-15T10:16:43.406Z"
   },
   {
    "duration": 25,
    "start_time": "2023-06-15T10:16:43.439Z"
   },
   {
    "duration": 45,
    "start_time": "2023-06-15T10:16:43.470Z"
   },
   {
    "duration": 26,
    "start_time": "2023-06-15T10:16:43.521Z"
   },
   {
    "duration": 98,
    "start_time": "2023-06-15T10:21:10.452Z"
   },
   {
    "duration": 123,
    "start_time": "2023-06-15T10:21:53.312Z"
   },
   {
    "duration": 138,
    "start_time": "2023-06-15T10:26:24.214Z"
   },
   {
    "duration": 3,
    "start_time": "2023-06-15T10:26:46.807Z"
   },
   {
    "duration": 129,
    "start_time": "2023-06-15T10:26:46.813Z"
   },
   {
    "duration": 14,
    "start_time": "2023-06-15T10:26:46.943Z"
   },
   {
    "duration": 14,
    "start_time": "2023-06-15T10:26:46.960Z"
   },
   {
    "duration": 16,
    "start_time": "2023-06-15T10:26:46.976Z"
   },
   {
    "duration": 15,
    "start_time": "2023-06-15T10:26:46.994Z"
   },
   {
    "duration": 25,
    "start_time": "2023-06-15T10:26:47.012Z"
   },
   {
    "duration": 39,
    "start_time": "2023-06-15T10:26:47.039Z"
   },
   {
    "duration": 11,
    "start_time": "2023-06-15T10:26:47.082Z"
   },
   {
    "duration": 19,
    "start_time": "2023-06-15T10:26:47.095Z"
   },
   {
    "duration": 13,
    "start_time": "2023-06-15T10:26:47.116Z"
   },
   {
    "duration": 141,
    "start_time": "2023-06-15T10:26:47.131Z"
   },
   {
    "duration": 13,
    "start_time": "2023-06-15T10:26:47.274Z"
   },
   {
    "duration": 14,
    "start_time": "2023-06-15T10:26:47.290Z"
   },
   {
    "duration": 17,
    "start_time": "2023-06-15T10:26:47.310Z"
   },
   {
    "duration": 31,
    "start_time": "2023-06-15T10:26:47.328Z"
   },
   {
    "duration": 39,
    "start_time": "2023-06-15T10:26:47.361Z"
   },
   {
    "duration": 33,
    "start_time": "2023-06-15T10:26:47.402Z"
   },
   {
    "duration": 27,
    "start_time": "2023-06-15T10:26:47.437Z"
   },
   {
    "duration": 9,
    "start_time": "2023-06-15T10:26:47.466Z"
   },
   {
    "duration": 245,
    "start_time": "2023-06-15T10:26:47.476Z"
   },
   {
    "duration": 144,
    "start_time": "2023-06-15T10:26:47.723Z"
   },
   {
    "duration": 19,
    "start_time": "2023-06-15T10:26:47.869Z"
   },
   {
    "duration": 13,
    "start_time": "2023-06-15T10:26:47.892Z"
   },
   {
    "duration": 446,
    "start_time": "2023-06-15T10:26:47.906Z"
   },
   {
    "duration": 338,
    "start_time": "2023-06-15T10:26:48.359Z"
   },
   {
    "duration": 372,
    "start_time": "2023-06-15T10:26:48.703Z"
   },
   {
    "duration": 309,
    "start_time": "2023-06-15T10:26:49.078Z"
   },
   {
    "duration": 388,
    "start_time": "2023-06-15T10:26:49.393Z"
   },
   {
    "duration": 358,
    "start_time": "2023-06-15T10:26:49.787Z"
   },
   {
    "duration": 12,
    "start_time": "2023-06-15T10:26:50.146Z"
   },
   {
    "duration": 230,
    "start_time": "2023-06-15T10:26:50.165Z"
   },
   {
    "duration": 213,
    "start_time": "2023-06-15T10:26:50.399Z"
   },
   {
    "duration": 5,
    "start_time": "2023-06-15T10:26:50.615Z"
   },
   {
    "duration": 535,
    "start_time": "2023-06-15T10:26:50.621Z"
   },
   {
    "duration": 35,
    "start_time": "2023-06-15T10:26:51.158Z"
   },
   {
    "duration": 16,
    "start_time": "2023-06-15T10:26:51.203Z"
   },
   {
    "duration": 32,
    "start_time": "2023-06-15T10:26:51.221Z"
   },
   {
    "duration": 53,
    "start_time": "2023-06-15T10:26:51.258Z"
   },
   {
    "duration": 21,
    "start_time": "2023-06-15T10:26:51.313Z"
   },
   {
    "duration": 150,
    "start_time": "2023-06-15T10:28:12.713Z"
   },
   {
    "duration": 121,
    "start_time": "2023-06-15T10:28:57.793Z"
   },
   {
    "duration": 6,
    "start_time": "2023-06-15T10:32:50.876Z"
   },
   {
    "duration": 4,
    "start_time": "2023-06-15T10:32:55.683Z"
   },
   {
    "duration": 148,
    "start_time": "2023-06-15T10:32:55.695Z"
   },
   {
    "duration": 25,
    "start_time": "2023-06-15T10:32:55.845Z"
   },
   {
    "duration": 20,
    "start_time": "2023-06-15T10:32:55.876Z"
   },
   {
    "duration": 21,
    "start_time": "2023-06-15T10:32:55.902Z"
   },
   {
    "duration": 9,
    "start_time": "2023-06-15T10:32:55.925Z"
   },
   {
    "duration": 13,
    "start_time": "2023-06-15T10:32:55.936Z"
   },
   {
    "duration": 18,
    "start_time": "2023-06-15T10:32:55.955Z"
   },
   {
    "duration": 10,
    "start_time": "2023-06-15T10:32:55.975Z"
   },
   {
    "duration": 37,
    "start_time": "2023-06-15T10:32:55.987Z"
   },
   {
    "duration": 22,
    "start_time": "2023-06-15T10:32:56.029Z"
   },
   {
    "duration": 138,
    "start_time": "2023-06-15T10:32:56.055Z"
   },
   {
    "duration": 4,
    "start_time": "2023-06-15T10:32:56.195Z"
   },
   {
    "duration": 18,
    "start_time": "2023-06-15T10:32:56.201Z"
   },
   {
    "duration": 12,
    "start_time": "2023-06-15T10:32:56.221Z"
   },
   {
    "duration": 26,
    "start_time": "2023-06-15T10:32:56.234Z"
   },
   {
    "duration": 10,
    "start_time": "2023-06-15T10:32:56.262Z"
   },
   {
    "duration": 19,
    "start_time": "2023-06-15T10:32:56.273Z"
   },
   {
    "duration": 26,
    "start_time": "2023-06-15T10:32:56.294Z"
   },
   {
    "duration": 28,
    "start_time": "2023-06-15T10:32:56.322Z"
   },
   {
    "duration": 19,
    "start_time": "2023-06-15T10:32:56.351Z"
   },
   {
    "duration": 253,
    "start_time": "2023-06-15T10:32:56.371Z"
   },
   {
    "duration": 139,
    "start_time": "2023-06-15T10:32:56.626Z"
   },
   {
    "duration": 18,
    "start_time": "2023-06-15T10:32:56.767Z"
   },
   {
    "duration": 30,
    "start_time": "2023-06-15T10:32:56.786Z"
   },
   {
    "duration": 312,
    "start_time": "2023-06-15T10:32:56.818Z"
   },
   {
    "duration": 302,
    "start_time": "2023-06-15T10:32:57.132Z"
   },
   {
    "duration": 403,
    "start_time": "2023-06-15T10:32:57.436Z"
   },
   {
    "duration": 450,
    "start_time": "2023-06-15T10:32:57.842Z"
   },
   {
    "duration": 405,
    "start_time": "2023-06-15T10:32:58.294Z"
   },
   {
    "duration": 385,
    "start_time": "2023-06-15T10:32:58.701Z"
   },
   {
    "duration": 19,
    "start_time": "2023-06-15T10:32:59.092Z"
   },
   {
    "duration": 206,
    "start_time": "2023-06-15T10:32:59.112Z"
   },
   {
    "duration": 221,
    "start_time": "2023-06-15T10:32:59.320Z"
   },
   {
    "duration": 14,
    "start_time": "2023-06-15T10:32:59.543Z"
   },
   {
    "duration": 439,
    "start_time": "2023-06-15T10:32:59.562Z"
   },
   {
    "duration": 31,
    "start_time": "2023-06-15T10:33:00.003Z"
   },
   {
    "duration": 78,
    "start_time": "2023-06-15T10:33:00.036Z"
   },
   {
    "duration": 28,
    "start_time": "2023-06-15T10:33:00.116Z"
   },
   {
    "duration": 75,
    "start_time": "2023-06-15T10:33:00.146Z"
   },
   {
    "duration": 43,
    "start_time": "2023-06-15T10:33:00.223Z"
   },
   {
    "duration": 9,
    "start_time": "2023-06-15T10:33:51.140Z"
   },
   {
    "duration": 6,
    "start_time": "2023-06-15T10:36:06.815Z"
   },
   {
    "duration": 8,
    "start_time": "2023-06-15T10:36:10.479Z"
   },
   {
    "duration": 10,
    "start_time": "2023-06-15T10:36:11.013Z"
   },
   {
    "duration": 5,
    "start_time": "2023-06-15T10:37:07.009Z"
   },
   {
    "duration": 21,
    "start_time": "2023-06-15T10:37:08.147Z"
   },
   {
    "duration": 7,
    "start_time": "2023-06-15T10:39:24.775Z"
   },
   {
    "duration": 51,
    "start_time": "2023-06-15T10:39:25.648Z"
   },
   {
    "duration": 7,
    "start_time": "2023-06-15T10:39:42.610Z"
   },
   {
    "duration": 98,
    "start_time": "2023-06-15T10:39:45.375Z"
   },
   {
    "duration": 7,
    "start_time": "2023-06-15T10:39:52.283Z"
   },
   {
    "duration": 33,
    "start_time": "2023-06-15T10:39:52.899Z"
   },
   {
    "duration": 4,
    "start_time": "2023-06-15T10:40:25.934Z"
   },
   {
    "duration": 16,
    "start_time": "2023-06-15T10:40:26.580Z"
   },
   {
    "duration": 5,
    "start_time": "2023-06-15T13:04:42.112Z"
   },
   {
    "duration": 9,
    "start_time": "2023-06-15T13:04:43.105Z"
   },
   {
    "duration": 4,
    "start_time": "2023-06-15T13:06:32.223Z"
   },
   {
    "duration": 89,
    "start_time": "2023-06-15T13:06:32.229Z"
   },
   {
    "duration": 12,
    "start_time": "2023-06-15T13:06:32.321Z"
   },
   {
    "duration": 10,
    "start_time": "2023-06-15T13:06:32.335Z"
   },
   {
    "duration": 22,
    "start_time": "2023-06-15T13:06:32.348Z"
   },
   {
    "duration": 10,
    "start_time": "2023-06-15T13:06:32.372Z"
   },
   {
    "duration": 17,
    "start_time": "2023-06-15T13:06:32.384Z"
   },
   {
    "duration": 28,
    "start_time": "2023-06-15T13:06:32.403Z"
   },
   {
    "duration": 22,
    "start_time": "2023-06-15T13:06:32.433Z"
   },
   {
    "duration": 19,
    "start_time": "2023-06-15T13:06:32.457Z"
   },
   {
    "duration": 11,
    "start_time": "2023-06-15T13:06:32.480Z"
   },
   {
    "duration": 4,
    "start_time": "2023-06-15T13:06:32.493Z"
   },
   {
    "duration": 10,
    "start_time": "2023-06-15T13:06:32.499Z"
   },
   {
    "duration": 15,
    "start_time": "2023-06-15T13:06:32.512Z"
   },
   {
    "duration": 39,
    "start_time": "2023-06-15T13:06:32.529Z"
   },
   {
    "duration": 5,
    "start_time": "2023-06-15T13:06:32.570Z"
   },
   {
    "duration": 10,
    "start_time": "2023-06-15T13:06:32.577Z"
   },
   {
    "duration": 9,
    "start_time": "2023-06-15T13:06:32.588Z"
   },
   {
    "duration": 9,
    "start_time": "2023-06-15T13:06:32.599Z"
   },
   {
    "duration": 5,
    "start_time": "2023-06-15T13:07:42.405Z"
   },
   {
    "duration": 92,
    "start_time": "2023-06-15T13:07:42.413Z"
   },
   {
    "duration": 17,
    "start_time": "2023-06-15T13:07:42.508Z"
   },
   {
    "duration": 14,
    "start_time": "2023-06-15T13:07:42.528Z"
   },
   {
    "duration": 19,
    "start_time": "2023-06-15T13:07:42.545Z"
   },
   {
    "duration": 16,
    "start_time": "2023-06-15T13:07:42.565Z"
   },
   {
    "duration": 21,
    "start_time": "2023-06-15T13:07:42.582Z"
   },
   {
    "duration": 13,
    "start_time": "2023-06-15T13:07:42.605Z"
   },
   {
    "duration": 12,
    "start_time": "2023-06-15T13:07:42.620Z"
   },
   {
    "duration": 14,
    "start_time": "2023-06-15T13:07:42.633Z"
   },
   {
    "duration": 21,
    "start_time": "2023-06-15T13:07:42.649Z"
   },
   {
    "duration": 5,
    "start_time": "2023-06-15T13:07:42.671Z"
   },
   {
    "duration": 14,
    "start_time": "2023-06-15T13:07:42.677Z"
   },
   {
    "duration": 4,
    "start_time": "2023-06-15T13:07:42.693Z"
   },
   {
    "duration": 4,
    "start_time": "2023-06-15T13:07:42.699Z"
   },
   {
    "duration": 8,
    "start_time": "2023-06-15T13:07:42.705Z"
   },
   {
    "duration": 23,
    "start_time": "2023-06-15T13:07:42.714Z"
   },
   {
    "duration": 25,
    "start_time": "2023-06-15T13:07:42.739Z"
   },
   {
    "duration": 11,
    "start_time": "2023-06-15T13:07:42.766Z"
   },
   {
    "duration": 3,
    "start_time": "2023-06-15T13:10:47.003Z"
   },
   {
    "duration": 77,
    "start_time": "2023-06-15T13:10:47.008Z"
   },
   {
    "duration": 14,
    "start_time": "2023-06-15T13:10:47.087Z"
   },
   {
    "duration": 23,
    "start_time": "2023-06-15T13:10:47.104Z"
   },
   {
    "duration": 14,
    "start_time": "2023-06-15T13:10:47.129Z"
   },
   {
    "duration": 30,
    "start_time": "2023-06-15T13:10:47.144Z"
   },
   {
    "duration": 14,
    "start_time": "2023-06-15T13:10:47.176Z"
   },
   {
    "duration": 22,
    "start_time": "2023-06-15T13:10:47.192Z"
   },
   {
    "duration": 21,
    "start_time": "2023-06-15T13:10:47.217Z"
   },
   {
    "duration": 23,
    "start_time": "2023-06-15T13:10:47.240Z"
   },
   {
    "duration": 10,
    "start_time": "2023-06-15T13:10:47.266Z"
   },
   {
    "duration": 9,
    "start_time": "2023-06-15T13:10:47.278Z"
   },
   {
    "duration": 11,
    "start_time": "2023-06-15T13:10:47.289Z"
   },
   {
    "duration": 9,
    "start_time": "2023-06-15T13:10:47.304Z"
   },
   {
    "duration": 17,
    "start_time": "2023-06-15T13:10:47.315Z"
   },
   {
    "duration": 11,
    "start_time": "2023-06-15T13:10:47.334Z"
   },
   {
    "duration": 27,
    "start_time": "2023-06-15T13:10:47.346Z"
   },
   {
    "duration": 9,
    "start_time": "2023-06-15T13:10:47.375Z"
   },
   {
    "duration": 20,
    "start_time": "2023-06-15T13:10:47.386Z"
   },
   {
    "duration": 12,
    "start_time": "2023-06-15T13:10:47.408Z"
   },
   {
    "duration": 31,
    "start_time": "2023-06-15T13:10:47.421Z"
   },
   {
    "duration": 35,
    "start_time": "2023-06-15T13:10:47.455Z"
   },
   {
    "duration": 17,
    "start_time": "2023-06-15T13:10:47.492Z"
   },
   {
    "duration": 31,
    "start_time": "2023-06-15T13:10:47.511Z"
   },
   {
    "duration": 0,
    "start_time": "2023-06-15T13:10:47.544Z"
   },
   {
    "duration": 0,
    "start_time": "2023-06-15T13:10:47.545Z"
   },
   {
    "duration": 0,
    "start_time": "2023-06-15T13:10:47.546Z"
   },
   {
    "duration": 0,
    "start_time": "2023-06-15T13:10:47.547Z"
   },
   {
    "duration": 0,
    "start_time": "2023-06-15T13:10:47.548Z"
   },
   {
    "duration": 0,
    "start_time": "2023-06-15T13:10:47.549Z"
   },
   {
    "duration": 0,
    "start_time": "2023-06-15T13:10:47.550Z"
   },
   {
    "duration": 0,
    "start_time": "2023-06-15T13:10:47.551Z"
   },
   {
    "duration": 0,
    "start_time": "2023-06-15T13:10:47.552Z"
   },
   {
    "duration": 0,
    "start_time": "2023-06-15T13:10:47.557Z"
   },
   {
    "duration": 0,
    "start_time": "2023-06-15T13:10:47.559Z"
   },
   {
    "duration": 0,
    "start_time": "2023-06-15T13:10:47.560Z"
   },
   {
    "duration": 0,
    "start_time": "2023-06-15T13:10:47.561Z"
   },
   {
    "duration": 0,
    "start_time": "2023-06-15T13:10:47.562Z"
   },
   {
    "duration": 0,
    "start_time": "2023-06-15T13:10:47.563Z"
   },
   {
    "duration": 0,
    "start_time": "2023-06-15T13:10:47.564Z"
   },
   {
    "duration": 0,
    "start_time": "2023-06-15T13:10:47.565Z"
   },
   {
    "duration": 0,
    "start_time": "2023-06-15T13:10:47.566Z"
   },
   {
    "duration": 0,
    "start_time": "2023-06-15T13:10:47.567Z"
   },
   {
    "duration": 5,
    "start_time": "2023-06-15T13:20:54.111Z"
   },
   {
    "duration": 97,
    "start_time": "2023-06-15T13:20:54.131Z"
   },
   {
    "duration": 14,
    "start_time": "2023-06-15T13:20:54.231Z"
   },
   {
    "duration": 10,
    "start_time": "2023-06-15T13:20:54.248Z"
   },
   {
    "duration": 19,
    "start_time": "2023-06-15T13:20:54.263Z"
   },
   {
    "duration": 14,
    "start_time": "2023-06-15T13:20:54.289Z"
   },
   {
    "duration": 10,
    "start_time": "2023-06-15T13:20:54.305Z"
   },
   {
    "duration": 44,
    "start_time": "2023-06-15T13:20:54.317Z"
   },
   {
    "duration": 18,
    "start_time": "2023-06-15T13:20:54.365Z"
   },
   {
    "duration": 20,
    "start_time": "2023-06-15T13:20:54.388Z"
   },
   {
    "duration": 19,
    "start_time": "2023-06-15T13:20:54.411Z"
   },
   {
    "duration": 28,
    "start_time": "2023-06-15T13:20:54.433Z"
   },
   {
    "duration": 11,
    "start_time": "2023-06-15T13:20:54.469Z"
   },
   {
    "duration": 3,
    "start_time": "2023-06-15T13:20:54.483Z"
   },
   {
    "duration": 3,
    "start_time": "2023-06-15T13:20:54.505Z"
   },
   {
    "duration": 11,
    "start_time": "2023-06-15T13:20:54.510Z"
   },
   {
    "duration": 15,
    "start_time": "2023-06-15T13:20:54.523Z"
   },
   {
    "duration": 14,
    "start_time": "2023-06-15T13:20:54.540Z"
   },
   {
    "duration": 13,
    "start_time": "2023-06-15T13:20:54.556Z"
   },
   {
    "duration": 18,
    "start_time": "2023-06-15T13:20:54.571Z"
   },
   {
    "duration": 28,
    "start_time": "2023-06-15T13:20:54.592Z"
   },
   {
    "duration": 52,
    "start_time": "2023-06-15T13:20:54.622Z"
   },
   {
    "duration": 13,
    "start_time": "2023-06-15T13:20:54.679Z"
   },
   {
    "duration": 32,
    "start_time": "2023-06-15T13:20:54.694Z"
   },
   {
    "duration": 0,
    "start_time": "2023-06-15T13:20:54.728Z"
   },
   {
    "duration": 0,
    "start_time": "2023-06-15T13:20:54.729Z"
   },
   {
    "duration": 0,
    "start_time": "2023-06-15T13:20:54.729Z"
   },
   {
    "duration": 0,
    "start_time": "2023-06-15T13:20:54.730Z"
   },
   {
    "duration": 0,
    "start_time": "2023-06-15T13:20:54.731Z"
   },
   {
    "duration": 0,
    "start_time": "2023-06-15T13:20:54.732Z"
   },
   {
    "duration": 0,
    "start_time": "2023-06-15T13:20:54.733Z"
   },
   {
    "duration": 0,
    "start_time": "2023-06-15T13:20:54.734Z"
   },
   {
    "duration": 0,
    "start_time": "2023-06-15T13:20:54.735Z"
   },
   {
    "duration": 0,
    "start_time": "2023-06-15T13:20:54.736Z"
   },
   {
    "duration": 0,
    "start_time": "2023-06-15T13:20:54.738Z"
   },
   {
    "duration": 0,
    "start_time": "2023-06-15T13:20:54.750Z"
   },
   {
    "duration": 0,
    "start_time": "2023-06-15T13:20:54.751Z"
   },
   {
    "duration": 0,
    "start_time": "2023-06-15T13:20:54.756Z"
   },
   {
    "duration": 0,
    "start_time": "2023-06-15T13:20:54.757Z"
   },
   {
    "duration": 0,
    "start_time": "2023-06-15T13:20:54.758Z"
   },
   {
    "duration": 0,
    "start_time": "2023-06-15T13:20:54.761Z"
   },
   {
    "duration": 0,
    "start_time": "2023-06-15T13:20:54.761Z"
   },
   {
    "duration": 0,
    "start_time": "2023-06-15T13:20:54.762Z"
   },
   {
    "duration": 11,
    "start_time": "2023-06-15T13:21:36.106Z"
   },
   {
    "duration": 17,
    "start_time": "2023-06-15T13:21:36.770Z"
   },
   {
    "duration": 13,
    "start_time": "2023-06-15T13:21:38.227Z"
   },
   {
    "duration": 15,
    "start_time": "2023-06-15T13:21:51.559Z"
   },
   {
    "duration": 3,
    "start_time": "2023-06-15T13:21:54.516Z"
   },
   {
    "duration": 91,
    "start_time": "2023-06-15T13:21:54.522Z"
   },
   {
    "duration": 10,
    "start_time": "2023-06-15T13:21:54.615Z"
   },
   {
    "duration": 20,
    "start_time": "2023-06-15T13:21:54.627Z"
   },
   {
    "duration": 14,
    "start_time": "2023-06-15T13:21:54.652Z"
   },
   {
    "duration": 10,
    "start_time": "2023-06-15T13:21:54.677Z"
   },
   {
    "duration": 16,
    "start_time": "2023-06-15T13:21:54.689Z"
   },
   {
    "duration": 21,
    "start_time": "2023-06-15T13:21:54.707Z"
   },
   {
    "duration": 14,
    "start_time": "2023-06-15T13:21:54.730Z"
   },
   {
    "duration": 24,
    "start_time": "2023-06-15T13:21:54.746Z"
   },
   {
    "duration": 10,
    "start_time": "2023-06-15T13:21:54.772Z"
   },
   {
    "duration": 7,
    "start_time": "2023-06-15T13:21:54.784Z"
   },
   {
    "duration": 8,
    "start_time": "2023-06-15T13:21:54.793Z"
   },
   {
    "duration": 11,
    "start_time": "2023-06-15T13:21:54.803Z"
   },
   {
    "duration": 26,
    "start_time": "2023-06-15T13:21:54.816Z"
   },
   {
    "duration": 18,
    "start_time": "2023-06-15T13:21:54.844Z"
   },
   {
    "duration": 9,
    "start_time": "2023-06-15T13:21:54.872Z"
   },
   {
    "duration": 8,
    "start_time": "2023-06-15T13:21:54.883Z"
   },
   {
    "duration": 8,
    "start_time": "2023-06-15T13:21:54.893Z"
   },
   {
    "duration": 14,
    "start_time": "2023-06-15T13:21:54.902Z"
   },
   {
    "duration": 16,
    "start_time": "2023-06-15T13:21:54.917Z"
   },
   {
    "duration": 29,
    "start_time": "2023-06-15T13:21:54.935Z"
   },
   {
    "duration": 6,
    "start_time": "2023-06-15T13:21:54.966Z"
   },
   {
    "duration": 29,
    "start_time": "2023-06-15T13:21:54.973Z"
   },
   {
    "duration": 0,
    "start_time": "2023-06-15T13:21:55.003Z"
   },
   {
    "duration": 0,
    "start_time": "2023-06-15T13:21:55.005Z"
   },
   {
    "duration": 0,
    "start_time": "2023-06-15T13:21:55.006Z"
   },
   {
    "duration": 0,
    "start_time": "2023-06-15T13:21:55.007Z"
   },
   {
    "duration": 0,
    "start_time": "2023-06-15T13:21:55.008Z"
   },
   {
    "duration": 0,
    "start_time": "2023-06-15T13:21:55.009Z"
   },
   {
    "duration": 0,
    "start_time": "2023-06-15T13:21:55.012Z"
   },
   {
    "duration": 0,
    "start_time": "2023-06-15T13:21:55.012Z"
   },
   {
    "duration": 0,
    "start_time": "2023-06-15T13:21:55.013Z"
   },
   {
    "duration": 0,
    "start_time": "2023-06-15T13:21:55.053Z"
   },
   {
    "duration": 0,
    "start_time": "2023-06-15T13:21:55.054Z"
   },
   {
    "duration": 0,
    "start_time": "2023-06-15T13:21:55.056Z"
   },
   {
    "duration": 0,
    "start_time": "2023-06-15T13:21:55.058Z"
   },
   {
    "duration": 0,
    "start_time": "2023-06-15T13:21:55.059Z"
   },
   {
    "duration": 0,
    "start_time": "2023-06-15T13:21:55.060Z"
   },
   {
    "duration": 0,
    "start_time": "2023-06-15T13:21:55.061Z"
   },
   {
    "duration": 0,
    "start_time": "2023-06-15T13:21:55.063Z"
   },
   {
    "duration": 0,
    "start_time": "2023-06-15T13:21:55.064Z"
   },
   {
    "duration": 0,
    "start_time": "2023-06-15T13:21:55.065Z"
   },
   {
    "duration": 25,
    "start_time": "2023-06-15T13:22:46.123Z"
   },
   {
    "duration": 4,
    "start_time": "2023-06-15T13:23:18.635Z"
   },
   {
    "duration": 112,
    "start_time": "2023-06-15T13:23:18.641Z"
   },
   {
    "duration": 16,
    "start_time": "2023-06-15T13:23:18.755Z"
   },
   {
    "duration": 62,
    "start_time": "2023-06-15T13:23:18.772Z"
   },
   {
    "duration": 82,
    "start_time": "2023-06-15T13:23:18.837Z"
   },
   {
    "duration": 14,
    "start_time": "2023-06-15T13:23:18.921Z"
   },
   {
    "duration": 31,
    "start_time": "2023-06-15T13:23:18.937Z"
   },
   {
    "duration": 18,
    "start_time": "2023-06-15T13:23:18.969Z"
   },
   {
    "duration": 10,
    "start_time": "2023-06-15T13:23:18.989Z"
   },
   {
    "duration": 31,
    "start_time": "2023-06-15T13:23:19.001Z"
   },
   {
    "duration": 26,
    "start_time": "2023-06-15T13:23:19.036Z"
   },
   {
    "duration": 11,
    "start_time": "2023-06-15T13:23:19.064Z"
   },
   {
    "duration": 20,
    "start_time": "2023-06-15T13:23:19.077Z"
   },
   {
    "duration": 49,
    "start_time": "2023-06-15T13:23:19.099Z"
   },
   {
    "duration": 47,
    "start_time": "2023-06-15T13:23:19.149Z"
   },
   {
    "duration": 6,
    "start_time": "2023-06-15T13:23:19.199Z"
   },
   {
    "duration": 14,
    "start_time": "2023-06-15T13:23:19.207Z"
   },
   {
    "duration": 8,
    "start_time": "2023-06-15T13:23:19.223Z"
   },
   {
    "duration": 11,
    "start_time": "2023-06-15T13:23:19.233Z"
   },
   {
    "duration": 28,
    "start_time": "2023-06-15T13:23:19.246Z"
   },
   {
    "duration": 24,
    "start_time": "2023-06-15T13:23:19.276Z"
   },
   {
    "duration": 25,
    "start_time": "2023-06-15T13:23:19.302Z"
   },
   {
    "duration": 7,
    "start_time": "2023-06-15T13:23:19.329Z"
   },
   {
    "duration": 39,
    "start_time": "2023-06-15T13:23:19.338Z"
   },
   {
    "duration": 0,
    "start_time": "2023-06-15T13:23:19.380Z"
   },
   {
    "duration": 0,
    "start_time": "2023-06-15T13:23:19.385Z"
   },
   {
    "duration": 0,
    "start_time": "2023-06-15T13:23:19.386Z"
   },
   {
    "duration": 0,
    "start_time": "2023-06-15T13:23:19.387Z"
   },
   {
    "duration": 0,
    "start_time": "2023-06-15T13:23:19.389Z"
   },
   {
    "duration": 0,
    "start_time": "2023-06-15T13:23:19.389Z"
   },
   {
    "duration": 0,
    "start_time": "2023-06-15T13:23:19.390Z"
   },
   {
    "duration": 0,
    "start_time": "2023-06-15T13:23:19.392Z"
   },
   {
    "duration": 0,
    "start_time": "2023-06-15T13:23:19.393Z"
   },
   {
    "duration": 0,
    "start_time": "2023-06-15T13:23:19.394Z"
   },
   {
    "duration": 0,
    "start_time": "2023-06-15T13:23:19.395Z"
   },
   {
    "duration": 0,
    "start_time": "2023-06-15T13:23:19.396Z"
   },
   {
    "duration": 0,
    "start_time": "2023-06-15T13:23:19.397Z"
   },
   {
    "duration": 0,
    "start_time": "2023-06-15T13:23:19.398Z"
   },
   {
    "duration": 0,
    "start_time": "2023-06-15T13:23:19.399Z"
   },
   {
    "duration": 0,
    "start_time": "2023-06-15T13:23:19.400Z"
   },
   {
    "duration": 0,
    "start_time": "2023-06-15T13:23:19.400Z"
   },
   {
    "duration": 0,
    "start_time": "2023-06-15T13:23:19.402Z"
   },
   {
    "duration": 0,
    "start_time": "2023-06-15T13:23:19.407Z"
   },
   {
    "duration": 5,
    "start_time": "2023-06-15T13:23:37.153Z"
   },
   {
    "duration": 102,
    "start_time": "2023-06-15T13:23:37.177Z"
   },
   {
    "duration": 15,
    "start_time": "2023-06-15T13:23:37.281Z"
   },
   {
    "duration": 14,
    "start_time": "2023-06-15T13:23:37.297Z"
   },
   {
    "duration": 18,
    "start_time": "2023-06-15T13:23:37.313Z"
   },
   {
    "duration": 21,
    "start_time": "2023-06-15T13:23:37.333Z"
   },
   {
    "duration": 18,
    "start_time": "2023-06-15T13:23:37.356Z"
   },
   {
    "duration": 17,
    "start_time": "2023-06-15T13:23:37.376Z"
   },
   {
    "duration": 25,
    "start_time": "2023-06-15T13:23:37.395Z"
   },
   {
    "duration": 21,
    "start_time": "2023-06-15T13:23:37.422Z"
   },
   {
    "duration": 26,
    "start_time": "2023-06-15T13:23:37.446Z"
   },
   {
    "duration": 18,
    "start_time": "2023-06-15T13:23:37.474Z"
   },
   {
    "duration": 21,
    "start_time": "2023-06-15T13:23:37.494Z"
   },
   {
    "duration": 22,
    "start_time": "2023-06-15T13:23:37.517Z"
   },
   {
    "duration": 15,
    "start_time": "2023-06-15T13:23:37.541Z"
   },
   {
    "duration": 14,
    "start_time": "2023-06-15T13:23:37.558Z"
   },
   {
    "duration": 11,
    "start_time": "2023-06-15T13:23:37.574Z"
   },
   {
    "duration": 11,
    "start_time": "2023-06-15T13:23:37.587Z"
   },
   {
    "duration": 12,
    "start_time": "2023-06-15T13:23:37.600Z"
   },
   {
    "duration": 12,
    "start_time": "2023-06-15T13:23:37.614Z"
   },
   {
    "duration": 38,
    "start_time": "2023-06-15T13:23:37.628Z"
   },
   {
    "duration": 27,
    "start_time": "2023-06-15T13:23:37.668Z"
   },
   {
    "duration": 10,
    "start_time": "2023-06-15T13:23:37.697Z"
   },
   {
    "duration": 39,
    "start_time": "2023-06-15T13:23:37.709Z"
   },
   {
    "duration": 0,
    "start_time": "2023-06-15T13:23:37.754Z"
   },
   {
    "duration": 0,
    "start_time": "2023-06-15T13:23:37.758Z"
   },
   {
    "duration": 0,
    "start_time": "2023-06-15T13:23:37.759Z"
   },
   {
    "duration": 0,
    "start_time": "2023-06-15T13:23:37.760Z"
   },
   {
    "duration": 0,
    "start_time": "2023-06-15T13:23:37.761Z"
   },
   {
    "duration": 0,
    "start_time": "2023-06-15T13:23:37.762Z"
   },
   {
    "duration": 0,
    "start_time": "2023-06-15T13:23:37.762Z"
   },
   {
    "duration": 0,
    "start_time": "2023-06-15T13:23:37.763Z"
   },
   {
    "duration": 0,
    "start_time": "2023-06-15T13:23:37.764Z"
   },
   {
    "duration": 0,
    "start_time": "2023-06-15T13:23:37.765Z"
   },
   {
    "duration": 0,
    "start_time": "2023-06-15T13:23:37.766Z"
   },
   {
    "duration": 0,
    "start_time": "2023-06-15T13:23:37.769Z"
   },
   {
    "duration": 0,
    "start_time": "2023-06-15T13:23:37.770Z"
   },
   {
    "duration": 0,
    "start_time": "2023-06-15T13:23:37.771Z"
   },
   {
    "duration": 0,
    "start_time": "2023-06-15T13:23:37.772Z"
   },
   {
    "duration": 0,
    "start_time": "2023-06-15T13:23:37.774Z"
   },
   {
    "duration": 0,
    "start_time": "2023-06-15T13:23:37.775Z"
   },
   {
    "duration": 0,
    "start_time": "2023-06-15T13:23:37.776Z"
   },
   {
    "duration": 0,
    "start_time": "2023-06-15T13:23:37.777Z"
   },
   {
    "duration": 4,
    "start_time": "2023-06-15T13:24:33.523Z"
   },
   {
    "duration": 103,
    "start_time": "2023-06-15T13:24:33.530Z"
   },
   {
    "duration": 11,
    "start_time": "2023-06-15T13:24:33.635Z"
   },
   {
    "duration": 13,
    "start_time": "2023-06-15T13:24:33.648Z"
   },
   {
    "duration": 17,
    "start_time": "2023-06-15T13:24:33.664Z"
   },
   {
    "duration": 10,
    "start_time": "2023-06-15T13:24:33.683Z"
   },
   {
    "duration": 10,
    "start_time": "2023-06-15T13:24:33.695Z"
   },
   {
    "duration": 14,
    "start_time": "2023-06-15T13:24:33.706Z"
   },
   {
    "duration": 37,
    "start_time": "2023-06-15T13:24:33.722Z"
   },
   {
    "duration": 12,
    "start_time": "2023-06-15T13:24:33.760Z"
   },
   {
    "duration": 12,
    "start_time": "2023-06-15T13:24:33.773Z"
   },
   {
    "duration": 9,
    "start_time": "2023-06-15T13:24:33.789Z"
   },
   {
    "duration": 8,
    "start_time": "2023-06-15T13:24:33.799Z"
   },
   {
    "duration": 11,
    "start_time": "2023-06-15T13:24:33.811Z"
   },
   {
    "duration": 42,
    "start_time": "2023-06-15T13:24:33.824Z"
   },
   {
    "duration": 4,
    "start_time": "2023-06-15T13:24:33.868Z"
   },
   {
    "duration": 12,
    "start_time": "2023-06-15T13:24:33.874Z"
   },
   {
    "duration": 11,
    "start_time": "2023-06-15T13:24:33.889Z"
   },
   {
    "duration": 1425,
    "start_time": "2023-06-15T13:24:33.903Z"
   },
   {
    "duration": 0,
    "start_time": "2023-06-15T13:24:35.329Z"
   },
   {
    "duration": 0,
    "start_time": "2023-06-15T13:24:35.331Z"
   },
   {
    "duration": 0,
    "start_time": "2023-06-15T13:24:35.331Z"
   },
   {
    "duration": 0,
    "start_time": "2023-06-15T13:24:35.332Z"
   },
   {
    "duration": 0,
    "start_time": "2023-06-15T13:24:35.333Z"
   },
   {
    "duration": 0,
    "start_time": "2023-06-15T13:24:35.334Z"
   },
   {
    "duration": 0,
    "start_time": "2023-06-15T13:24:35.335Z"
   },
   {
    "duration": 0,
    "start_time": "2023-06-15T13:24:35.336Z"
   },
   {
    "duration": 0,
    "start_time": "2023-06-15T13:24:35.337Z"
   },
   {
    "duration": 0,
    "start_time": "2023-06-15T13:24:35.338Z"
   },
   {
    "duration": 0,
    "start_time": "2023-06-15T13:24:35.339Z"
   },
   {
    "duration": 0,
    "start_time": "2023-06-15T13:24:35.340Z"
   },
   {
    "duration": 0,
    "start_time": "2023-06-15T13:24:35.341Z"
   },
   {
    "duration": 0,
    "start_time": "2023-06-15T13:24:35.342Z"
   },
   {
    "duration": 0,
    "start_time": "2023-06-15T13:24:35.343Z"
   },
   {
    "duration": 0,
    "start_time": "2023-06-15T13:24:35.344Z"
   },
   {
    "duration": 0,
    "start_time": "2023-06-15T13:24:35.346Z"
   },
   {
    "duration": 0,
    "start_time": "2023-06-15T13:24:35.347Z"
   },
   {
    "duration": 0,
    "start_time": "2023-06-15T13:24:35.348Z"
   },
   {
    "duration": 0,
    "start_time": "2023-06-15T13:24:35.349Z"
   },
   {
    "duration": 0,
    "start_time": "2023-06-15T13:24:35.352Z"
   },
   {
    "duration": 0,
    "start_time": "2023-06-15T13:24:35.352Z"
   },
   {
    "duration": 0,
    "start_time": "2023-06-15T13:24:35.353Z"
   },
   {
    "duration": 4,
    "start_time": "2023-06-15T13:25:03.939Z"
   },
   {
    "duration": 131,
    "start_time": "2023-06-15T13:25:03.945Z"
   },
   {
    "duration": 14,
    "start_time": "2023-06-15T13:25:04.080Z"
   },
   {
    "duration": 10,
    "start_time": "2023-06-15T13:25:04.097Z"
   },
   {
    "duration": 20,
    "start_time": "2023-06-15T13:25:04.108Z"
   },
   {
    "duration": 11,
    "start_time": "2023-06-15T13:25:04.130Z"
   },
   {
    "duration": 24,
    "start_time": "2023-06-15T13:25:04.149Z"
   },
   {
    "duration": 14,
    "start_time": "2023-06-15T13:25:04.175Z"
   },
   {
    "duration": 13,
    "start_time": "2023-06-15T13:25:04.191Z"
   },
   {
    "duration": 9,
    "start_time": "2023-06-15T13:25:04.207Z"
   },
   {
    "duration": 11,
    "start_time": "2023-06-15T13:25:04.218Z"
   },
   {
    "duration": 100,
    "start_time": "2023-06-15T13:25:04.251Z"
   },
   {
    "duration": 0,
    "start_time": "2023-06-15T13:25:04.354Z"
   },
   {
    "duration": 0,
    "start_time": "2023-06-15T13:25:04.355Z"
   },
   {
    "duration": 0,
    "start_time": "2023-06-15T13:25:04.356Z"
   },
   {
    "duration": 0,
    "start_time": "2023-06-15T13:25:04.357Z"
   },
   {
    "duration": 0,
    "start_time": "2023-06-15T13:25:04.359Z"
   },
   {
    "duration": 0,
    "start_time": "2023-06-15T13:25:04.360Z"
   },
   {
    "duration": 0,
    "start_time": "2023-06-15T13:25:04.361Z"
   },
   {
    "duration": 0,
    "start_time": "2023-06-15T13:25:04.361Z"
   },
   {
    "duration": 0,
    "start_time": "2023-06-15T13:25:04.362Z"
   },
   {
    "duration": 0,
    "start_time": "2023-06-15T13:25:04.363Z"
   },
   {
    "duration": 0,
    "start_time": "2023-06-15T13:25:04.364Z"
   },
   {
    "duration": 0,
    "start_time": "2023-06-15T13:25:04.365Z"
   },
   {
    "duration": 0,
    "start_time": "2023-06-15T13:25:04.366Z"
   },
   {
    "duration": 0,
    "start_time": "2023-06-15T13:25:04.367Z"
   },
   {
    "duration": 0,
    "start_time": "2023-06-15T13:25:04.368Z"
   },
   {
    "duration": 0,
    "start_time": "2023-06-15T13:25:04.368Z"
   },
   {
    "duration": 0,
    "start_time": "2023-06-15T13:25:04.369Z"
   },
   {
    "duration": 0,
    "start_time": "2023-06-15T13:25:04.374Z"
   },
   {
    "duration": 0,
    "start_time": "2023-06-15T13:25:04.379Z"
   },
   {
    "duration": 0,
    "start_time": "2023-06-15T13:25:04.382Z"
   },
   {
    "duration": 0,
    "start_time": "2023-06-15T13:25:04.383Z"
   },
   {
    "duration": 0,
    "start_time": "2023-06-15T13:25:04.384Z"
   },
   {
    "duration": 0,
    "start_time": "2023-06-15T13:25:04.388Z"
   },
   {
    "duration": 0,
    "start_time": "2023-06-15T13:25:04.389Z"
   },
   {
    "duration": 0,
    "start_time": "2023-06-15T13:25:04.390Z"
   },
   {
    "duration": 0,
    "start_time": "2023-06-15T13:25:04.391Z"
   },
   {
    "duration": 0,
    "start_time": "2023-06-15T13:25:04.392Z"
   },
   {
    "duration": 0,
    "start_time": "2023-06-15T13:25:04.393Z"
   },
   {
    "duration": 0,
    "start_time": "2023-06-15T13:25:04.398Z"
   },
   {
    "duration": 0,
    "start_time": "2023-06-15T13:25:04.399Z"
   },
   {
    "duration": 6,
    "start_time": "2023-06-15T13:30:44.335Z"
   },
   {
    "duration": 6,
    "start_time": "2023-06-15T13:30:47.651Z"
   },
   {
    "duration": 94,
    "start_time": "2023-06-15T13:30:47.664Z"
   },
   {
    "duration": 14,
    "start_time": "2023-06-15T13:30:47.760Z"
   },
   {
    "duration": 14,
    "start_time": "2023-06-15T13:30:47.776Z"
   },
   {
    "duration": 19,
    "start_time": "2023-06-15T13:30:47.793Z"
   },
   {
    "duration": 18,
    "start_time": "2023-06-15T13:30:47.814Z"
   },
   {
    "duration": 23,
    "start_time": "2023-06-15T13:30:47.851Z"
   },
   {
    "duration": 14,
    "start_time": "2023-06-15T13:30:47.876Z"
   },
   {
    "duration": 18,
    "start_time": "2023-06-15T13:30:47.893Z"
   },
   {
    "duration": 15,
    "start_time": "2023-06-15T13:30:47.914Z"
   },
   {
    "duration": 26,
    "start_time": "2023-06-15T13:30:47.933Z"
   },
   {
    "duration": 28,
    "start_time": "2023-06-15T13:30:47.964Z"
   },
   {
    "duration": 21,
    "start_time": "2023-06-15T13:30:47.994Z"
   },
   {
    "duration": 22,
    "start_time": "2023-06-15T13:30:48.017Z"
   },
   {
    "duration": 41,
    "start_time": "2023-06-15T13:30:48.041Z"
   },
   {
    "duration": 7,
    "start_time": "2023-06-15T13:30:48.084Z"
   },
   {
    "duration": 17,
    "start_time": "2023-06-15T13:30:48.094Z"
   },
   {
    "duration": 16,
    "start_time": "2023-06-15T13:30:48.113Z"
   },
   {
    "duration": 27,
    "start_time": "2023-06-15T13:30:48.132Z"
   },
   {
    "duration": 20,
    "start_time": "2023-06-15T13:30:48.160Z"
   },
   {
    "duration": 43,
    "start_time": "2023-06-15T13:30:48.182Z"
   },
   {
    "duration": 30,
    "start_time": "2023-06-15T13:30:48.227Z"
   },
   {
    "duration": 284,
    "start_time": "2023-06-15T13:30:48.259Z"
   },
   {
    "duration": 137,
    "start_time": "2023-06-15T13:30:48.545Z"
   },
   {
    "duration": 15,
    "start_time": "2023-06-15T13:30:48.684Z"
   },
   {
    "duration": 24,
    "start_time": "2023-06-15T13:30:48.701Z"
   },
   {
    "duration": 264,
    "start_time": "2023-06-15T13:30:48.727Z"
   },
   {
    "duration": 262,
    "start_time": "2023-06-15T13:30:48.994Z"
   },
   {
    "duration": 360,
    "start_time": "2023-06-15T13:30:49.260Z"
   },
   {
    "duration": 280,
    "start_time": "2023-06-15T13:30:49.622Z"
   },
   {
    "duration": 533,
    "start_time": "2023-06-15T13:30:49.904Z"
   },
   {
    "duration": 398,
    "start_time": "2023-06-15T13:30:50.439Z"
   },
   {
    "duration": 20,
    "start_time": "2023-06-15T13:30:50.839Z"
   },
   {
    "duration": 184,
    "start_time": "2023-06-15T13:30:50.861Z"
   },
   {
    "duration": 226,
    "start_time": "2023-06-15T13:30:51.050Z"
   },
   {
    "duration": 5,
    "start_time": "2023-06-15T13:30:51.279Z"
   },
   {
    "duration": 394,
    "start_time": "2023-06-15T13:30:51.286Z"
   },
   {
    "duration": 22,
    "start_time": "2023-06-15T13:30:51.682Z"
   },
   {
    "duration": 21,
    "start_time": "2023-06-15T13:30:51.706Z"
   },
   {
    "duration": 35,
    "start_time": "2023-06-15T13:30:51.729Z"
   },
   {
    "duration": 30,
    "start_time": "2023-06-15T13:30:51.766Z"
   },
   {
    "duration": 22,
    "start_time": "2023-06-15T13:30:51.799Z"
   },
   {
    "duration": 16,
    "start_time": "2023-06-15T13:37:17.315Z"
   },
   {
    "duration": 5,
    "start_time": "2023-06-15T13:37:22.263Z"
   },
   {
    "duration": 99,
    "start_time": "2023-06-15T13:37:22.271Z"
   },
   {
    "duration": 11,
    "start_time": "2023-06-15T13:37:22.372Z"
   },
   {
    "duration": 20,
    "start_time": "2023-06-15T13:37:22.384Z"
   },
   {
    "duration": 16,
    "start_time": "2023-06-15T13:37:22.406Z"
   },
   {
    "duration": 13,
    "start_time": "2023-06-15T13:37:22.424Z"
   },
   {
    "duration": 19,
    "start_time": "2023-06-15T13:37:22.439Z"
   },
   {
    "duration": 38,
    "start_time": "2023-06-15T13:37:22.460Z"
   },
   {
    "duration": 13,
    "start_time": "2023-06-15T13:37:22.500Z"
   },
   {
    "duration": 54,
    "start_time": "2023-06-15T13:37:22.516Z"
   },
   {
    "duration": 19,
    "start_time": "2023-06-15T13:37:22.572Z"
   },
   {
    "duration": 18,
    "start_time": "2023-06-15T13:37:22.594Z"
   },
   {
    "duration": 21,
    "start_time": "2023-06-15T13:37:22.615Z"
   },
   {
    "duration": 40,
    "start_time": "2023-06-15T13:37:22.640Z"
   },
   {
    "duration": 42,
    "start_time": "2023-06-15T13:37:22.682Z"
   },
   {
    "duration": 38,
    "start_time": "2023-06-15T13:37:22.726Z"
   },
   {
    "duration": 7,
    "start_time": "2023-06-15T13:37:22.766Z"
   },
   {
    "duration": 13,
    "start_time": "2023-06-15T13:37:22.775Z"
   },
   {
    "duration": 17,
    "start_time": "2023-06-15T13:37:22.790Z"
   },
   {
    "duration": 24,
    "start_time": "2023-06-15T13:37:22.809Z"
   },
   {
    "duration": 29,
    "start_time": "2023-06-15T13:37:22.835Z"
   },
   {
    "duration": 10,
    "start_time": "2023-06-15T13:37:22.869Z"
   },
   {
    "duration": 199,
    "start_time": "2023-06-15T13:37:22.881Z"
   },
   {
    "duration": 132,
    "start_time": "2023-06-15T13:37:23.082Z"
   },
   {
    "duration": 18,
    "start_time": "2023-06-15T13:37:23.215Z"
   },
   {
    "duration": 20,
    "start_time": "2023-06-15T13:37:23.235Z"
   },
   {
    "duration": 249,
    "start_time": "2023-06-15T13:37:23.256Z"
   },
   {
    "duration": 319,
    "start_time": "2023-06-15T13:37:23.508Z"
   },
   {
    "duration": 411,
    "start_time": "2023-06-15T13:37:23.829Z"
   },
   {
    "duration": 313,
    "start_time": "2023-06-15T13:37:24.242Z"
   },
   {
    "duration": 346,
    "start_time": "2023-06-15T13:37:24.559Z"
   },
   {
    "duration": 288,
    "start_time": "2023-06-15T13:37:24.907Z"
   },
   {
    "duration": 5,
    "start_time": "2023-06-15T13:37:25.198Z"
   },
   {
    "duration": 196,
    "start_time": "2023-06-15T13:37:25.205Z"
   },
   {
    "duration": 280,
    "start_time": "2023-06-15T13:37:25.403Z"
   },
   {
    "duration": 4,
    "start_time": "2023-06-15T13:37:25.685Z"
   },
   {
    "duration": 395,
    "start_time": "2023-06-15T13:37:25.692Z"
   },
   {
    "duration": 36,
    "start_time": "2023-06-15T13:37:26.088Z"
   },
   {
    "duration": 40,
    "start_time": "2023-06-15T13:37:26.126Z"
   },
   {
    "duration": 17,
    "start_time": "2023-06-15T13:37:26.167Z"
   },
   {
    "duration": 22,
    "start_time": "2023-06-15T13:37:26.188Z"
   },
   {
    "duration": 14,
    "start_time": "2023-06-15T13:37:26.212Z"
   },
   {
    "duration": 15,
    "start_time": "2023-06-15T13:39:46.531Z"
   },
   {
    "duration": 12,
    "start_time": "2023-06-15T13:39:48.327Z"
   },
   {
    "duration": 15,
    "start_time": "2023-06-15T13:39:49.993Z"
   },
   {
    "duration": 4,
    "start_time": "2023-06-15T13:39:57.216Z"
   },
   {
    "duration": 97,
    "start_time": "2023-06-15T13:39:57.223Z"
   },
   {
    "duration": 17,
    "start_time": "2023-06-15T13:39:57.322Z"
   },
   {
    "duration": 25,
    "start_time": "2023-06-15T13:39:57.342Z"
   },
   {
    "duration": 13,
    "start_time": "2023-06-15T13:39:57.373Z"
   },
   {
    "duration": 9,
    "start_time": "2023-06-15T13:39:57.388Z"
   },
   {
    "duration": 11,
    "start_time": "2023-06-15T13:39:57.399Z"
   },
   {
    "duration": 12,
    "start_time": "2023-06-15T13:39:57.412Z"
   },
   {
    "duration": 37,
    "start_time": "2023-06-15T13:39:57.426Z"
   },
   {
    "duration": 16,
    "start_time": "2023-06-15T13:39:57.467Z"
   },
   {
    "duration": 9,
    "start_time": "2023-06-15T13:39:57.486Z"
   },
   {
    "duration": 24,
    "start_time": "2023-06-15T13:39:57.496Z"
   },
   {
    "duration": 9,
    "start_time": "2023-06-15T13:39:57.523Z"
   },
   {
    "duration": 20,
    "start_time": "2023-06-15T13:39:57.551Z"
   },
   {
    "duration": 17,
    "start_time": "2023-06-15T13:39:57.573Z"
   },
   {
    "duration": 8,
    "start_time": "2023-06-15T13:39:57.592Z"
   },
   {
    "duration": 8,
    "start_time": "2023-06-15T13:39:57.602Z"
   },
   {
    "duration": 7,
    "start_time": "2023-06-15T13:39:57.611Z"
   },
   {
    "duration": 32,
    "start_time": "2023-06-15T13:39:57.620Z"
   },
   {
    "duration": 19,
    "start_time": "2023-06-15T13:39:57.655Z"
   },
   {
    "duration": 19,
    "start_time": "2023-06-15T13:39:57.677Z"
   },
   {
    "duration": 10,
    "start_time": "2023-06-15T13:39:57.698Z"
   },
   {
    "duration": 217,
    "start_time": "2023-06-15T13:39:57.710Z"
   },
   {
    "duration": 145,
    "start_time": "2023-06-15T13:39:57.929Z"
   },
   {
    "duration": 18,
    "start_time": "2023-06-15T13:39:58.076Z"
   },
   {
    "duration": 37,
    "start_time": "2023-06-15T13:39:58.096Z"
   },
   {
    "duration": 272,
    "start_time": "2023-06-15T13:39:58.135Z"
   },
   {
    "duration": 360,
    "start_time": "2023-06-15T13:39:58.409Z"
   },
   {
    "duration": 415,
    "start_time": "2023-06-15T13:39:58.771Z"
   },
   {
    "duration": 370,
    "start_time": "2023-06-15T13:39:59.189Z"
   },
   {
    "duration": 353,
    "start_time": "2023-06-15T13:39:59.564Z"
   },
   {
    "duration": 358,
    "start_time": "2023-06-15T13:39:59.919Z"
   },
   {
    "duration": 6,
    "start_time": "2023-06-15T13:40:00.279Z"
   },
   {
    "duration": 291,
    "start_time": "2023-06-15T13:40:00.287Z"
   },
   {
    "duration": 280,
    "start_time": "2023-06-15T13:40:00.581Z"
   },
   {
    "duration": 11,
    "start_time": "2023-06-15T13:40:00.867Z"
   },
   {
    "duration": 410,
    "start_time": "2023-06-15T13:40:00.880Z"
   },
   {
    "duration": 38,
    "start_time": "2023-06-15T13:40:01.293Z"
   },
   {
    "duration": 53,
    "start_time": "2023-06-15T13:40:01.351Z"
   },
   {
    "duration": 69,
    "start_time": "2023-06-15T13:40:01.406Z"
   },
   {
    "duration": 105,
    "start_time": "2023-06-15T13:40:01.480Z"
   },
   {
    "duration": 53,
    "start_time": "2023-06-15T13:40:01.588Z"
   },
   {
    "duration": 496,
    "start_time": "2023-06-15T13:40:48.222Z"
   },
   {
    "duration": 4,
    "start_time": "2023-06-15T13:41:42.212Z"
   },
   {
    "duration": 79,
    "start_time": "2023-06-15T13:41:42.218Z"
   },
   {
    "duration": 13,
    "start_time": "2023-06-15T13:41:42.299Z"
   },
   {
    "duration": 11,
    "start_time": "2023-06-15T13:41:42.314Z"
   },
   {
    "duration": 19,
    "start_time": "2023-06-15T13:41:42.327Z"
   },
   {
    "duration": 23,
    "start_time": "2023-06-15T13:41:42.348Z"
   },
   {
    "duration": 20,
    "start_time": "2023-06-15T13:41:42.373Z"
   },
   {
    "duration": 23,
    "start_time": "2023-06-15T13:41:42.396Z"
   },
   {
    "duration": 11,
    "start_time": "2023-06-15T13:41:42.421Z"
   },
   {
    "duration": 36,
    "start_time": "2023-06-15T13:41:42.434Z"
   },
   {
    "duration": 127,
    "start_time": "2023-06-15T13:41:42.473Z"
   },
   {
    "duration": 7,
    "start_time": "2023-06-15T13:41:42.602Z"
   },
   {
    "duration": 11,
    "start_time": "2023-06-15T13:41:42.612Z"
   },
   {
    "duration": 32,
    "start_time": "2023-06-15T13:41:42.625Z"
   },
   {
    "duration": 43,
    "start_time": "2023-06-15T13:41:42.659Z"
   },
   {
    "duration": 4,
    "start_time": "2023-06-15T13:41:42.704Z"
   },
   {
    "duration": 5,
    "start_time": "2023-06-15T13:41:42.711Z"
   },
   {
    "duration": 6,
    "start_time": "2023-06-15T13:41:42.718Z"
   },
   {
    "duration": 13,
    "start_time": "2023-06-15T13:41:42.725Z"
   },
   {
    "duration": 20,
    "start_time": "2023-06-15T13:41:42.750Z"
   },
   {
    "duration": 17,
    "start_time": "2023-06-15T13:41:42.771Z"
   },
   {
    "duration": 8,
    "start_time": "2023-06-15T13:41:42.791Z"
   },
   {
    "duration": 232,
    "start_time": "2023-06-15T13:41:42.801Z"
   },
   {
    "duration": 139,
    "start_time": "2023-06-15T13:41:43.035Z"
   },
   {
    "duration": 15,
    "start_time": "2023-06-15T13:41:43.176Z"
   },
   {
    "duration": 8,
    "start_time": "2023-06-15T13:41:43.193Z"
   },
   {
    "duration": 273,
    "start_time": "2023-06-15T13:41:43.203Z"
   },
   {
    "duration": 253,
    "start_time": "2023-06-15T13:41:43.478Z"
   },
   {
    "duration": 392,
    "start_time": "2023-06-15T13:41:43.734Z"
   },
   {
    "duration": 348,
    "start_time": "2023-06-15T13:41:44.128Z"
   },
   {
    "duration": 432,
    "start_time": "2023-06-15T13:41:44.482Z"
   },
   {
    "duration": 362,
    "start_time": "2023-06-15T13:41:44.916Z"
   },
   {
    "duration": 5,
    "start_time": "2023-06-15T13:41:45.280Z"
   },
   {
    "duration": 236,
    "start_time": "2023-06-15T13:41:45.290Z"
   },
   {
    "duration": 185,
    "start_time": "2023-06-15T13:41:45.528Z"
   },
   {
    "duration": 5,
    "start_time": "2023-06-15T13:41:45.716Z"
   },
   {
    "duration": 489,
    "start_time": "2023-06-15T13:41:45.726Z"
   },
   {
    "duration": 42,
    "start_time": "2023-06-15T13:41:46.217Z"
   },
   {
    "duration": 14,
    "start_time": "2023-06-15T13:41:46.265Z"
   },
   {
    "duration": 23,
    "start_time": "2023-06-15T13:41:46.282Z"
   },
   {
    "duration": 27,
    "start_time": "2023-06-15T13:41:46.307Z"
   },
   {
    "duration": 39,
    "start_time": "2023-06-15T13:41:46.336Z"
   },
   {
    "duration": 20,
    "start_time": "2023-06-15T13:42:17.427Z"
   },
   {
    "duration": 7,
    "start_time": "2023-06-15T13:42:59.751Z"
   },
   {
    "duration": 93,
    "start_time": "2023-06-15T13:42:59.761Z"
   },
   {
    "duration": 18,
    "start_time": "2023-06-15T13:42:59.856Z"
   },
   {
    "duration": 11,
    "start_time": "2023-06-15T13:42:59.877Z"
   },
   {
    "duration": 17,
    "start_time": "2023-06-15T13:42:59.891Z"
   },
   {
    "duration": 12,
    "start_time": "2023-06-15T13:42:59.911Z"
   },
   {
    "duration": 21,
    "start_time": "2023-06-15T13:42:59.952Z"
   },
   {
    "duration": 17,
    "start_time": "2023-06-15T13:42:59.978Z"
   },
   {
    "duration": 10,
    "start_time": "2023-06-15T13:42:59.999Z"
   },
   {
    "duration": 46,
    "start_time": "2023-06-15T13:43:00.011Z"
   },
   {
    "duration": 31,
    "start_time": "2023-06-15T13:43:00.060Z"
   },
   {
    "duration": 52,
    "start_time": "2023-06-15T13:43:00.093Z"
   },
   {
    "duration": 37,
    "start_time": "2023-06-15T13:43:00.147Z"
   },
   {
    "duration": 51,
    "start_time": "2023-06-15T13:43:00.190Z"
   },
   {
    "duration": 50,
    "start_time": "2023-06-15T13:43:00.244Z"
   },
   {
    "duration": 30,
    "start_time": "2023-06-15T13:43:00.296Z"
   },
   {
    "duration": 31,
    "start_time": "2023-06-15T13:43:00.334Z"
   },
   {
    "duration": 37,
    "start_time": "2023-06-15T13:43:00.368Z"
   },
   {
    "duration": 72,
    "start_time": "2023-06-15T13:43:00.408Z"
   },
   {
    "duration": 61,
    "start_time": "2023-06-15T13:43:00.482Z"
   },
   {
    "duration": 66,
    "start_time": "2023-06-15T13:43:00.546Z"
   },
   {
    "duration": 55,
    "start_time": "2023-06-15T13:43:00.614Z"
   },
   {
    "duration": 265,
    "start_time": "2023-06-15T13:43:00.674Z"
   },
   {
    "duration": 135,
    "start_time": "2023-06-15T13:43:00.944Z"
   },
   {
    "duration": 16,
    "start_time": "2023-06-15T13:43:01.082Z"
   },
   {
    "duration": 61,
    "start_time": "2023-06-15T13:43:01.100Z"
   },
   {
    "duration": 291,
    "start_time": "2023-06-15T13:43:01.167Z"
   },
   {
    "duration": 275,
    "start_time": "2023-06-15T13:43:01.460Z"
   },
   {
    "duration": 479,
    "start_time": "2023-06-15T13:43:01.737Z"
   },
   {
    "duration": 331,
    "start_time": "2023-06-15T13:43:02.219Z"
   },
   {
    "duration": 454,
    "start_time": "2023-06-15T13:43:02.555Z"
   },
   {
    "duration": 392,
    "start_time": "2023-06-15T13:43:03.011Z"
   },
   {
    "duration": 7,
    "start_time": "2023-06-15T13:43:03.405Z"
   },
   {
    "duration": 240,
    "start_time": "2023-06-15T13:43:03.415Z"
   },
   {
    "duration": 245,
    "start_time": "2023-06-15T13:43:03.657Z"
   },
   {
    "duration": 5,
    "start_time": "2023-06-15T13:43:03.904Z"
   },
   {
    "duration": 546,
    "start_time": "2023-06-15T13:43:03.911Z"
   },
   {
    "duration": 34,
    "start_time": "2023-06-15T13:43:04.459Z"
   },
   {
    "duration": 19,
    "start_time": "2023-06-15T13:43:04.495Z"
   },
   {
    "duration": 37,
    "start_time": "2023-06-15T13:43:04.516Z"
   },
   {
    "duration": 57,
    "start_time": "2023-06-15T13:43:04.559Z"
   },
   {
    "duration": 21,
    "start_time": "2023-06-15T13:43:04.618Z"
   },
   {
    "duration": 22,
    "start_time": "2023-06-15T13:44:54.237Z"
   },
   {
    "duration": 22,
    "start_time": "2023-06-15T13:44:56.131Z"
   },
   {
    "duration": 17,
    "start_time": "2023-06-15T13:44:57.628Z"
   },
   {
    "duration": 14,
    "start_time": "2023-06-15T13:54:55.114Z"
   },
   {
    "duration": 12,
    "start_time": "2023-06-15T13:55:18.140Z"
   },
   {
    "duration": 10,
    "start_time": "2023-06-15T13:56:43.715Z"
   },
   {
    "duration": 7,
    "start_time": "2023-06-15T13:58:11.764Z"
   },
   {
    "duration": 8,
    "start_time": "2023-06-15T13:59:22.514Z"
   },
   {
    "duration": 7,
    "start_time": "2023-06-15T13:59:47.272Z"
   },
   {
    "duration": 18,
    "start_time": "2023-06-15T14:00:25.975Z"
   },
   {
    "duration": 222,
    "start_time": "2023-06-15T14:01:27.287Z"
   },
   {
    "duration": 17,
    "start_time": "2023-06-15T14:01:45.516Z"
   },
   {
    "duration": 216,
    "start_time": "2023-06-15T14:03:05.247Z"
   },
   {
    "duration": 408,
    "start_time": "2023-06-15T14:07:11.325Z"
   },
   {
    "duration": 401,
    "start_time": "2023-06-15T14:07:30.979Z"
   },
   {
    "duration": 366,
    "start_time": "2023-06-15T14:08:35.907Z"
   },
   {
    "duration": 366,
    "start_time": "2023-06-15T14:08:45.472Z"
   },
   {
    "duration": 401,
    "start_time": "2023-06-15T14:09:05.999Z"
   },
   {
    "duration": 502,
    "start_time": "2023-06-15T14:09:39.105Z"
   },
   {
    "duration": 360,
    "start_time": "2023-06-15T14:10:00.578Z"
   },
   {
    "duration": 8,
    "start_time": "2023-06-15T14:22:14.293Z"
   },
   {
    "duration": 7,
    "start_time": "2023-06-15T14:22:37.033Z"
   },
   {
    "duration": 16,
    "start_time": "2023-06-15T14:32:41.132Z"
   },
   {
    "duration": 11,
    "start_time": "2023-06-15T14:34:54.731Z"
   },
   {
    "duration": 11,
    "start_time": "2023-06-15T14:35:54.571Z"
   },
   {
    "duration": 9,
    "start_time": "2023-06-15T14:36:48.016Z"
   },
   {
    "duration": 10,
    "start_time": "2023-06-15T14:40:09.762Z"
   },
   {
    "duration": 10,
    "start_time": "2023-06-15T14:41:19.210Z"
   },
   {
    "duration": 28,
    "start_time": "2023-06-15T16:40:09.411Z"
   },
   {
    "duration": 4,
    "start_time": "2023-06-15T16:40:13.035Z"
   },
   {
    "duration": 77,
    "start_time": "2023-06-15T16:40:13.041Z"
   },
   {
    "duration": 12,
    "start_time": "2023-06-15T16:40:13.120Z"
   },
   {
    "duration": 11,
    "start_time": "2023-06-15T16:40:13.134Z"
   },
   {
    "duration": 14,
    "start_time": "2023-06-15T16:40:13.147Z"
   },
   {
    "duration": 12,
    "start_time": "2023-06-15T16:40:13.162Z"
   },
   {
    "duration": 21,
    "start_time": "2023-06-15T16:40:13.176Z"
   },
   {
    "duration": 13,
    "start_time": "2023-06-15T16:40:13.198Z"
   },
   {
    "duration": 10,
    "start_time": "2023-06-15T16:40:13.214Z"
   },
   {
    "duration": 26,
    "start_time": "2023-06-15T16:40:13.226Z"
   },
   {
    "duration": 11,
    "start_time": "2023-06-15T16:40:13.255Z"
   },
   {
    "duration": 4,
    "start_time": "2023-06-15T16:40:13.267Z"
   },
   {
    "duration": 7,
    "start_time": "2023-06-15T16:40:13.272Z"
   },
   {
    "duration": 20,
    "start_time": "2023-06-15T16:40:13.280Z"
   },
   {
    "duration": 11,
    "start_time": "2023-06-15T16:40:13.301Z"
   },
   {
    "duration": 3,
    "start_time": "2023-06-15T16:40:13.314Z"
   },
   {
    "duration": 4,
    "start_time": "2023-06-15T16:40:13.319Z"
   },
   {
    "duration": 2,
    "start_time": "2023-06-15T16:40:13.351Z"
   },
   {
    "duration": 17,
    "start_time": "2023-06-15T16:40:13.355Z"
   },
   {
    "duration": 15,
    "start_time": "2023-06-15T16:40:13.374Z"
   },
   {
    "duration": 22,
    "start_time": "2023-06-15T16:40:13.391Z"
   },
   {
    "duration": 6,
    "start_time": "2023-06-15T16:40:13.414Z"
   },
   {
    "duration": 29,
    "start_time": "2023-06-15T16:40:13.421Z"
   },
   {
    "duration": 10,
    "start_time": "2023-06-15T16:40:13.453Z"
   },
   {
    "duration": 15,
    "start_time": "2023-06-15T16:40:13.465Z"
   },
   {
    "duration": 28,
    "start_time": "2023-06-15T16:40:13.481Z"
   },
   {
    "duration": 0,
    "start_time": "2023-06-15T16:40:13.511Z"
   },
   {
    "duration": 0,
    "start_time": "2023-06-15T16:40:13.512Z"
   },
   {
    "duration": 0,
    "start_time": "2023-06-15T16:40:13.514Z"
   },
   {
    "duration": 0,
    "start_time": "2023-06-15T16:40:13.514Z"
   },
   {
    "duration": 0,
    "start_time": "2023-06-15T16:40:13.516Z"
   },
   {
    "duration": 0,
    "start_time": "2023-06-15T16:40:13.517Z"
   },
   {
    "duration": 0,
    "start_time": "2023-06-15T16:40:13.518Z"
   },
   {
    "duration": 0,
    "start_time": "2023-06-15T16:40:13.551Z"
   },
   {
    "duration": 0,
    "start_time": "2023-06-15T16:40:13.552Z"
   },
   {
    "duration": 0,
    "start_time": "2023-06-15T16:40:13.554Z"
   },
   {
    "duration": 0,
    "start_time": "2023-06-15T16:40:13.555Z"
   },
   {
    "duration": 0,
    "start_time": "2023-06-15T16:40:13.556Z"
   },
   {
    "duration": 0,
    "start_time": "2023-06-15T16:40:13.557Z"
   },
   {
    "duration": 0,
    "start_time": "2023-06-15T16:40:13.559Z"
   },
   {
    "duration": 0,
    "start_time": "2023-06-15T16:40:13.559Z"
   },
   {
    "duration": 1,
    "start_time": "2023-06-15T16:40:13.560Z"
   },
   {
    "duration": 0,
    "start_time": "2023-06-15T16:40:13.562Z"
   },
   {
    "duration": 0,
    "start_time": "2023-06-15T16:40:13.563Z"
   },
   {
    "duration": 0,
    "start_time": "2023-06-15T16:40:13.564Z"
   },
   {
    "duration": 0,
    "start_time": "2023-06-15T16:40:13.565Z"
   },
   {
    "duration": 0,
    "start_time": "2023-06-15T16:40:13.566Z"
   },
   {
    "duration": 8,
    "start_time": "2023-06-15T16:41:01.095Z"
   },
   {
    "duration": 129,
    "start_time": "2023-06-15T16:44:44.319Z"
   },
   {
    "duration": 6,
    "start_time": "2023-06-15T16:44:59.956Z"
   },
   {
    "duration": 4,
    "start_time": "2023-06-15T16:45:03.932Z"
   },
   {
    "duration": 82,
    "start_time": "2023-06-15T16:45:03.938Z"
   },
   {
    "duration": 14,
    "start_time": "2023-06-15T16:45:04.022Z"
   },
   {
    "duration": 14,
    "start_time": "2023-06-15T16:45:04.038Z"
   },
   {
    "duration": 21,
    "start_time": "2023-06-15T16:45:04.054Z"
   },
   {
    "duration": 26,
    "start_time": "2023-06-15T16:45:04.077Z"
   },
   {
    "duration": 15,
    "start_time": "2023-06-15T16:45:04.105Z"
   },
   {
    "duration": 28,
    "start_time": "2023-06-15T16:45:04.122Z"
   },
   {
    "duration": 11,
    "start_time": "2023-06-15T16:45:04.153Z"
   },
   {
    "duration": 12,
    "start_time": "2023-06-15T16:45:04.166Z"
   },
   {
    "duration": 10,
    "start_time": "2023-06-15T16:45:04.182Z"
   },
   {
    "duration": 10,
    "start_time": "2023-06-15T16:45:04.193Z"
   },
   {
    "duration": 8,
    "start_time": "2023-06-15T16:45:04.205Z"
   },
   {
    "duration": 44,
    "start_time": "2023-06-15T16:45:04.214Z"
   },
   {
    "duration": 16,
    "start_time": "2023-06-15T16:45:04.260Z"
   },
   {
    "duration": 7,
    "start_time": "2023-06-15T16:45:04.277Z"
   },
   {
    "duration": 6,
    "start_time": "2023-06-15T16:45:04.285Z"
   },
   {
    "duration": 6,
    "start_time": "2023-06-15T16:45:04.293Z"
   },
   {
    "duration": 25,
    "start_time": "2023-06-15T16:45:04.300Z"
   },
   {
    "duration": 32,
    "start_time": "2023-06-15T16:45:04.327Z"
   },
   {
    "duration": 18,
    "start_time": "2023-06-15T16:45:04.361Z"
   },
   {
    "duration": 15,
    "start_time": "2023-06-15T16:45:04.381Z"
   },
   {
    "duration": 11,
    "start_time": "2023-06-15T16:45:04.398Z"
   },
   {
    "duration": 19,
    "start_time": "2023-06-15T16:45:04.411Z"
   },
   {
    "duration": 23,
    "start_time": "2023-06-15T16:45:04.432Z"
   },
   {
    "duration": 13,
    "start_time": "2023-06-15T16:45:04.456Z"
   },
   {
    "duration": 181,
    "start_time": "2023-06-15T16:45:04.471Z"
   },
   {
    "duration": 123,
    "start_time": "2023-06-15T16:45:04.653Z"
   },
   {
    "duration": 12,
    "start_time": "2023-06-15T16:45:04.779Z"
   },
   {
    "duration": 9,
    "start_time": "2023-06-15T16:45:04.793Z"
   },
   {
    "duration": 245,
    "start_time": "2023-06-15T16:45:04.803Z"
   },
   {
    "duration": 236,
    "start_time": "2023-06-15T16:45:05.050Z"
   },
   {
    "duration": 300,
    "start_time": "2023-06-15T16:45:05.288Z"
   },
   {
    "duration": 253,
    "start_time": "2023-06-15T16:45:05.590Z"
   },
   {
    "duration": 339,
    "start_time": "2023-06-15T16:45:05.845Z"
   },
   {
    "duration": 299,
    "start_time": "2023-06-15T16:45:06.186Z"
   },
   {
    "duration": 5,
    "start_time": "2023-06-15T16:45:06.487Z"
   },
   {
    "duration": 150,
    "start_time": "2023-06-15T16:45:06.493Z"
   },
   {
    "duration": 153,
    "start_time": "2023-06-15T16:45:06.649Z"
   },
   {
    "duration": 4,
    "start_time": "2023-06-15T16:45:06.804Z"
   },
   {
    "duration": 355,
    "start_time": "2023-06-15T16:45:06.810Z"
   },
   {
    "duration": 22,
    "start_time": "2023-06-15T16:45:07.166Z"
   },
   {
    "duration": 10,
    "start_time": "2023-06-15T16:45:07.190Z"
   },
   {
    "duration": 13,
    "start_time": "2023-06-15T16:45:07.201Z"
   },
   {
    "duration": 48,
    "start_time": "2023-06-15T16:45:07.215Z"
   },
   {
    "duration": 14,
    "start_time": "2023-06-15T16:45:07.264Z"
   },
   {
    "duration": 309,
    "start_time": "2023-06-15T16:54:13.611Z"
   },
   {
    "duration": 234,
    "start_time": "2023-06-15T16:54:32.912Z"
   },
   {
    "duration": 141,
    "start_time": "2023-06-15T16:54:45.371Z"
   },
   {
    "duration": 172,
    "start_time": "2023-06-15T16:54:52.412Z"
   },
   {
    "duration": 69,
    "start_time": "2023-06-15T16:55:14.932Z"
   },
   {
    "duration": 167,
    "start_time": "2023-06-15T16:55:18.265Z"
   },
   {
    "duration": 75,
    "start_time": "2023-06-15T17:02:44.500Z"
   },
   {
    "duration": 4,
    "start_time": "2023-06-15T17:02:58.615Z"
   },
   {
    "duration": 100,
    "start_time": "2023-06-15T17:02:58.621Z"
   },
   {
    "duration": 10,
    "start_time": "2023-06-15T17:02:58.723Z"
   },
   {
    "duration": 36,
    "start_time": "2023-06-15T17:02:58.736Z"
   },
   {
    "duration": 20,
    "start_time": "2023-06-15T17:02:58.774Z"
   },
   {
    "duration": 15,
    "start_time": "2023-06-15T17:02:58.796Z"
   },
   {
    "duration": 17,
    "start_time": "2023-06-15T17:02:58.812Z"
   },
   {
    "duration": 35,
    "start_time": "2023-06-15T17:02:58.830Z"
   },
   {
    "duration": 10,
    "start_time": "2023-06-15T17:02:58.868Z"
   },
   {
    "duration": 9,
    "start_time": "2023-06-15T17:02:58.879Z"
   },
   {
    "duration": 7,
    "start_time": "2023-06-15T17:02:58.890Z"
   },
   {
    "duration": 6,
    "start_time": "2023-06-15T17:02:58.899Z"
   },
   {
    "duration": 11,
    "start_time": "2023-06-15T17:02:58.906Z"
   },
   {
    "duration": 11,
    "start_time": "2023-06-15T17:02:58.919Z"
   },
   {
    "duration": 85,
    "start_time": "2023-06-15T17:02:58.931Z"
   },
   {
    "duration": 6,
    "start_time": "2023-06-15T17:02:59.017Z"
   },
   {
    "duration": 4,
    "start_time": "2023-06-15T17:02:59.024Z"
   },
   {
    "duration": 9,
    "start_time": "2023-06-15T17:02:59.029Z"
   },
   {
    "duration": 12,
    "start_time": "2023-06-15T17:02:59.040Z"
   },
   {
    "duration": 18,
    "start_time": "2023-06-15T17:02:59.054Z"
   },
   {
    "duration": 19,
    "start_time": "2023-06-15T17:02:59.074Z"
   },
   {
    "duration": 11,
    "start_time": "2023-06-15T17:02:59.095Z"
   },
   {
    "duration": 10,
    "start_time": "2023-06-15T17:02:59.108Z"
   },
   {
    "duration": 22,
    "start_time": "2023-06-15T17:02:59.121Z"
   },
   {
    "duration": 8,
    "start_time": "2023-06-15T17:02:59.145Z"
   },
   {
    "duration": 5,
    "start_time": "2023-06-15T17:02:59.155Z"
   },
   {
    "duration": 175,
    "start_time": "2023-06-15T17:02:59.162Z"
   },
   {
    "duration": 118,
    "start_time": "2023-06-15T17:02:59.339Z"
   },
   {
    "duration": 12,
    "start_time": "2023-06-15T17:02:59.458Z"
   },
   {
    "duration": 8,
    "start_time": "2023-06-15T17:02:59.472Z"
   },
   {
    "duration": 231,
    "start_time": "2023-06-15T17:02:59.481Z"
   },
   {
    "duration": 238,
    "start_time": "2023-06-15T17:02:59.714Z"
   },
   {
    "duration": 330,
    "start_time": "2023-06-15T17:02:59.955Z"
   },
   {
    "duration": 265,
    "start_time": "2023-06-15T17:03:00.288Z"
   },
   {
    "duration": 323,
    "start_time": "2023-06-15T17:03:00.555Z"
   },
   {
    "duration": 317,
    "start_time": "2023-06-15T17:03:00.879Z"
   },
   {
    "duration": 5,
    "start_time": "2023-06-15T17:03:01.198Z"
   },
   {
    "duration": 199,
    "start_time": "2023-06-15T17:03:01.204Z"
   },
   {
    "duration": 282,
    "start_time": "2023-06-15T17:03:01.404Z"
   },
   {
    "duration": 5,
    "start_time": "2023-06-15T17:03:01.687Z"
   },
   {
    "duration": 90,
    "start_time": "2023-06-15T17:03:01.694Z"
   },
   {
    "duration": 0,
    "start_time": "2023-06-15T17:03:01.786Z"
   },
   {
    "duration": 0,
    "start_time": "2023-06-15T17:03:01.787Z"
   },
   {
    "duration": 0,
    "start_time": "2023-06-15T17:03:01.788Z"
   },
   {
    "duration": 0,
    "start_time": "2023-06-15T17:03:01.789Z"
   },
   {
    "duration": 0,
    "start_time": "2023-06-15T17:03:01.790Z"
   },
   {
    "duration": 64,
    "start_time": "2023-06-15T17:03:49.804Z"
   },
   {
    "duration": 112,
    "start_time": "2023-06-15T17:06:00.866Z"
   },
   {
    "duration": 244,
    "start_time": "2023-06-15T17:06:48.271Z"
   },
   {
    "duration": 220,
    "start_time": "2023-06-15T17:16:47.375Z"
   },
   {
    "duration": 4,
    "start_time": "2023-06-15T17:16:51.451Z"
   },
   {
    "duration": 77,
    "start_time": "2023-06-15T17:16:51.465Z"
   },
   {
    "duration": 11,
    "start_time": "2023-06-15T17:16:51.544Z"
   },
   {
    "duration": 15,
    "start_time": "2023-06-15T17:16:51.557Z"
   },
   {
    "duration": 19,
    "start_time": "2023-06-15T17:16:51.574Z"
   },
   {
    "duration": 9,
    "start_time": "2023-06-15T17:16:51.596Z"
   },
   {
    "duration": 19,
    "start_time": "2023-06-15T17:16:51.607Z"
   },
   {
    "duration": 26,
    "start_time": "2023-06-15T17:16:51.628Z"
   },
   {
    "duration": 14,
    "start_time": "2023-06-15T17:16:51.657Z"
   },
   {
    "duration": 22,
    "start_time": "2023-06-15T17:16:51.673Z"
   },
   {
    "duration": 9,
    "start_time": "2023-06-15T17:16:51.698Z"
   },
   {
    "duration": 12,
    "start_time": "2023-06-15T17:16:51.709Z"
   },
   {
    "duration": 7,
    "start_time": "2023-06-15T17:16:51.723Z"
   },
   {
    "duration": 24,
    "start_time": "2023-06-15T17:16:51.731Z"
   },
   {
    "duration": 22,
    "start_time": "2023-06-15T17:16:51.759Z"
   },
   {
    "duration": 5,
    "start_time": "2023-06-15T17:16:51.783Z"
   },
   {
    "duration": 10,
    "start_time": "2023-06-15T17:16:51.790Z"
   },
   {
    "duration": 5,
    "start_time": "2023-06-15T17:16:51.802Z"
   },
   {
    "duration": 13,
    "start_time": "2023-06-15T17:16:51.808Z"
   },
   {
    "duration": 35,
    "start_time": "2023-06-15T17:16:51.823Z"
   },
   {
    "duration": 23,
    "start_time": "2023-06-15T17:16:51.861Z"
   },
   {
    "duration": 16,
    "start_time": "2023-06-15T17:16:51.886Z"
   },
   {
    "duration": 12,
    "start_time": "2023-06-15T17:16:51.904Z"
   },
   {
    "duration": 11,
    "start_time": "2023-06-15T17:16:51.918Z"
   },
   {
    "duration": 6,
    "start_time": "2023-06-15T17:16:51.930Z"
   },
   {
    "duration": 17,
    "start_time": "2023-06-15T17:16:51.937Z"
   },
   {
    "duration": 181,
    "start_time": "2023-06-15T17:16:51.956Z"
   },
   {
    "duration": 124,
    "start_time": "2023-06-15T17:16:52.139Z"
   },
   {
    "duration": 14,
    "start_time": "2023-06-15T17:16:52.264Z"
   },
   {
    "duration": 13,
    "start_time": "2023-06-15T17:16:52.279Z"
   },
   {
    "duration": 251,
    "start_time": "2023-06-15T17:16:52.294Z"
   },
   {
    "duration": 234,
    "start_time": "2023-06-15T17:16:52.546Z"
   },
   {
    "duration": 311,
    "start_time": "2023-06-15T17:16:52.783Z"
   },
   {
    "duration": 240,
    "start_time": "2023-06-15T17:16:53.097Z"
   },
   {
    "duration": 327,
    "start_time": "2023-06-15T17:16:53.339Z"
   },
   {
    "duration": 303,
    "start_time": "2023-06-15T17:16:53.667Z"
   },
   {
    "duration": 4,
    "start_time": "2023-06-15T17:16:53.972Z"
   },
   {
    "duration": 173,
    "start_time": "2023-06-15T17:16:53.977Z"
   },
   {
    "duration": 192,
    "start_time": "2023-06-15T17:16:54.154Z"
   },
   {
    "duration": 4,
    "start_time": "2023-06-15T17:16:54.350Z"
   },
   {
    "duration": 253,
    "start_time": "2023-06-15T17:16:54.355Z"
   },
   {
    "duration": 0,
    "start_time": "2023-06-15T17:16:54.610Z"
   },
   {
    "duration": 0,
    "start_time": "2023-06-15T17:16:54.611Z"
   },
   {
    "duration": 0,
    "start_time": "2023-06-15T17:16:54.612Z"
   },
   {
    "duration": 0,
    "start_time": "2023-06-15T17:16:54.614Z"
   },
   {
    "duration": 0,
    "start_time": "2023-06-15T17:16:54.615Z"
   },
   {
    "duration": 119,
    "start_time": "2023-06-15T17:18:38.936Z"
   },
   {
    "duration": 5,
    "start_time": "2023-06-15T17:18:46.356Z"
   },
   {
    "duration": 85,
    "start_time": "2023-06-15T17:18:46.363Z"
   },
   {
    "duration": 12,
    "start_time": "2023-06-15T17:18:46.450Z"
   },
   {
    "duration": 11,
    "start_time": "2023-06-15T17:18:46.464Z"
   },
   {
    "duration": 12,
    "start_time": "2023-06-15T17:18:46.477Z"
   },
   {
    "duration": 12,
    "start_time": "2023-06-15T17:18:46.490Z"
   },
   {
    "duration": 15,
    "start_time": "2023-06-15T17:18:46.504Z"
   },
   {
    "duration": 11,
    "start_time": "2023-06-15T17:18:46.550Z"
   },
   {
    "duration": 10,
    "start_time": "2023-06-15T17:18:46.564Z"
   },
   {
    "duration": 10,
    "start_time": "2023-06-15T17:18:46.575Z"
   },
   {
    "duration": 10,
    "start_time": "2023-06-15T17:18:46.588Z"
   },
   {
    "duration": 8,
    "start_time": "2023-06-15T17:18:46.600Z"
   },
   {
    "duration": 43,
    "start_time": "2023-06-15T17:18:46.609Z"
   },
   {
    "duration": 13,
    "start_time": "2023-06-15T17:18:46.654Z"
   },
   {
    "duration": 11,
    "start_time": "2023-06-15T17:18:46.669Z"
   },
   {
    "duration": 10,
    "start_time": "2023-06-15T17:18:46.681Z"
   },
   {
    "duration": 4,
    "start_time": "2023-06-15T17:18:46.693Z"
   },
   {
    "duration": 4,
    "start_time": "2023-06-15T17:18:46.699Z"
   },
   {
    "duration": 17,
    "start_time": "2023-06-15T17:18:46.704Z"
   },
   {
    "duration": 31,
    "start_time": "2023-06-15T17:18:46.723Z"
   },
   {
    "duration": 15,
    "start_time": "2023-06-15T17:18:46.755Z"
   },
   {
    "duration": 8,
    "start_time": "2023-06-15T17:18:46.772Z"
   },
   {
    "duration": 11,
    "start_time": "2023-06-15T17:18:46.781Z"
   },
   {
    "duration": 10,
    "start_time": "2023-06-15T17:18:46.795Z"
   },
   {
    "duration": 5,
    "start_time": "2023-06-15T17:18:46.806Z"
   },
   {
    "duration": 37,
    "start_time": "2023-06-15T17:18:46.813Z"
   },
   {
    "duration": 184,
    "start_time": "2023-06-15T17:18:46.852Z"
   },
   {
    "duration": 129,
    "start_time": "2023-06-15T17:18:47.037Z"
   },
   {
    "duration": 13,
    "start_time": "2023-06-15T17:18:47.168Z"
   },
   {
    "duration": 8,
    "start_time": "2023-06-15T17:18:47.183Z"
   },
   {
    "duration": 244,
    "start_time": "2023-06-15T17:18:47.193Z"
   },
   {
    "duration": 320,
    "start_time": "2023-06-15T17:18:47.439Z"
   },
   {
    "duration": 336,
    "start_time": "2023-06-15T17:18:47.761Z"
   },
   {
    "duration": 271,
    "start_time": "2023-06-15T17:18:48.099Z"
   },
   {
    "duration": 324,
    "start_time": "2023-06-15T17:18:48.372Z"
   },
   {
    "duration": 296,
    "start_time": "2023-06-15T17:18:48.698Z"
   },
   {
    "duration": 5,
    "start_time": "2023-06-15T17:18:48.996Z"
   },
   {
    "duration": 163,
    "start_time": "2023-06-15T17:18:49.002Z"
   },
   {
    "duration": 169,
    "start_time": "2023-06-15T17:18:49.167Z"
   },
   {
    "duration": 5,
    "start_time": "2023-06-15T17:18:49.337Z"
   },
   {
    "duration": 124,
    "start_time": "2023-06-15T17:18:49.343Z"
   },
   {
    "duration": 0,
    "start_time": "2023-06-15T17:18:49.468Z"
   },
   {
    "duration": 0,
    "start_time": "2023-06-15T17:18:49.470Z"
   },
   {
    "duration": 0,
    "start_time": "2023-06-15T17:18:49.471Z"
   },
   {
    "duration": 0,
    "start_time": "2023-06-15T17:18:49.472Z"
   },
   {
    "duration": 0,
    "start_time": "2023-06-15T17:18:49.473Z"
   },
   {
    "duration": 5,
    "start_time": "2023-06-15T17:27:12.141Z"
   },
   {
    "duration": 77,
    "start_time": "2023-06-15T17:27:12.149Z"
   },
   {
    "duration": 14,
    "start_time": "2023-06-15T17:27:12.228Z"
   },
   {
    "duration": 20,
    "start_time": "2023-06-15T17:27:12.245Z"
   },
   {
    "duration": 19,
    "start_time": "2023-06-15T17:27:12.267Z"
   },
   {
    "duration": 28,
    "start_time": "2023-06-15T17:27:12.288Z"
   },
   {
    "duration": 13,
    "start_time": "2023-06-15T17:27:12.318Z"
   },
   {
    "duration": 20,
    "start_time": "2023-06-15T17:27:12.334Z"
   },
   {
    "duration": 11,
    "start_time": "2023-06-15T17:27:12.358Z"
   },
   {
    "duration": 12,
    "start_time": "2023-06-15T17:27:12.371Z"
   },
   {
    "duration": 13,
    "start_time": "2023-06-15T17:27:12.386Z"
   },
   {
    "duration": 4,
    "start_time": "2023-06-15T17:27:12.402Z"
   },
   {
    "duration": 7,
    "start_time": "2023-06-15T17:27:12.408Z"
   },
   {
    "duration": 43,
    "start_time": "2023-06-15T17:27:12.417Z"
   },
   {
    "duration": 11,
    "start_time": "2023-06-15T17:27:12.462Z"
   },
   {
    "duration": 3,
    "start_time": "2023-06-15T17:27:12.475Z"
   },
   {
    "duration": 4,
    "start_time": "2023-06-15T17:27:12.480Z"
   },
   {
    "duration": 4,
    "start_time": "2023-06-15T17:27:12.486Z"
   },
   {
    "duration": 15,
    "start_time": "2023-06-15T17:27:12.492Z"
   },
   {
    "duration": 47,
    "start_time": "2023-06-15T17:27:12.509Z"
   },
   {
    "duration": 15,
    "start_time": "2023-06-15T17:27:12.558Z"
   },
   {
    "duration": 9,
    "start_time": "2023-06-15T17:27:12.574Z"
   },
   {
    "duration": 14,
    "start_time": "2023-06-15T17:27:12.585Z"
   },
   {
    "duration": 12,
    "start_time": "2023-06-15T17:27:12.603Z"
   },
   {
    "duration": 83,
    "start_time": "2023-06-15T17:27:12.617Z"
   },
   {
    "duration": 8,
    "start_time": "2023-06-15T17:27:12.702Z"
   },
   {
    "duration": 7,
    "start_time": "2023-06-15T17:27:12.712Z"
   },
   {
    "duration": 192,
    "start_time": "2023-06-15T17:27:12.721Z"
   },
   {
    "duration": 123,
    "start_time": "2023-06-15T17:27:12.914Z"
   },
   {
    "duration": 27,
    "start_time": "2023-06-15T17:27:13.040Z"
   },
   {
    "duration": 11,
    "start_time": "2023-06-15T17:27:13.069Z"
   },
   {
    "duration": 240,
    "start_time": "2023-06-15T17:27:13.081Z"
   },
   {
    "duration": 242,
    "start_time": "2023-06-15T17:27:13.323Z"
   },
   {
    "duration": 323,
    "start_time": "2023-06-15T17:27:13.567Z"
   },
   {
    "duration": 276,
    "start_time": "2023-06-15T17:27:13.891Z"
   },
   {
    "duration": 420,
    "start_time": "2023-06-15T17:27:14.169Z"
   },
   {
    "duration": 287,
    "start_time": "2023-06-15T17:27:14.591Z"
   },
   {
    "duration": 4,
    "start_time": "2023-06-15T17:27:14.879Z"
   },
   {
    "duration": 169,
    "start_time": "2023-06-15T17:27:14.885Z"
   },
   {
    "duration": 160,
    "start_time": "2023-06-15T17:27:15.056Z"
   },
   {
    "duration": 4,
    "start_time": "2023-06-15T17:27:15.218Z"
   },
   {
    "duration": 117,
    "start_time": "2023-06-15T17:27:15.223Z"
   },
   {
    "duration": 0,
    "start_time": "2023-06-15T17:27:15.341Z"
   },
   {
    "duration": 0,
    "start_time": "2023-06-15T17:27:15.349Z"
   },
   {
    "duration": 0,
    "start_time": "2023-06-15T17:27:15.351Z"
   },
   {
    "duration": 0,
    "start_time": "2023-06-15T17:27:15.352Z"
   },
   {
    "duration": 0,
    "start_time": "2023-06-15T17:27:15.353Z"
   },
   {
    "duration": 1114,
    "start_time": "2023-06-15T17:28:47.304Z"
   },
   {
    "duration": 75,
    "start_time": "2023-06-15T17:28:48.420Z"
   },
   {
    "duration": 12,
    "start_time": "2023-06-15T17:28:48.497Z"
   },
   {
    "duration": 11,
    "start_time": "2023-06-15T17:28:48.511Z"
   },
   {
    "duration": 11,
    "start_time": "2023-06-15T17:28:48.524Z"
   },
   {
    "duration": 14,
    "start_time": "2023-06-15T17:28:48.537Z"
   },
   {
    "duration": 10,
    "start_time": "2023-06-15T17:28:48.552Z"
   },
   {
    "duration": 11,
    "start_time": "2023-06-15T17:28:48.564Z"
   },
   {
    "duration": 10,
    "start_time": "2023-06-15T17:28:48.576Z"
   },
   {
    "duration": 12,
    "start_time": "2023-06-15T17:28:48.587Z"
   },
   {
    "duration": 9,
    "start_time": "2023-06-15T17:28:48.601Z"
   },
   {
    "duration": 4,
    "start_time": "2023-06-15T17:28:48.611Z"
   },
   {
    "duration": 35,
    "start_time": "2023-06-15T17:28:48.616Z"
   },
   {
    "duration": 15,
    "start_time": "2023-06-15T17:28:48.654Z"
   },
   {
    "duration": 11,
    "start_time": "2023-06-15T17:28:48.671Z"
   },
   {
    "duration": 2,
    "start_time": "2023-06-15T17:28:48.684Z"
   },
   {
    "duration": 7,
    "start_time": "2023-06-15T17:28:48.688Z"
   },
   {
    "duration": 8,
    "start_time": "2023-06-15T17:28:48.697Z"
   },
   {
    "duration": 26,
    "start_time": "2023-06-15T17:28:48.706Z"
   },
   {
    "duration": 24,
    "start_time": "2023-06-15T17:28:48.734Z"
   },
   {
    "duration": 53,
    "start_time": "2023-06-15T17:28:48.760Z"
   },
   {
    "duration": 6,
    "start_time": "2023-06-15T17:28:48.814Z"
   },
   {
    "duration": 28,
    "start_time": "2023-06-15T17:28:48.822Z"
   },
   {
    "duration": 114,
    "start_time": "2023-06-15T17:28:48.852Z"
   },
   {
    "duration": 0,
    "start_time": "2023-06-15T17:28:48.968Z"
   },
   {
    "duration": 0,
    "start_time": "2023-06-15T17:28:48.969Z"
   },
   {
    "duration": 0,
    "start_time": "2023-06-15T17:28:48.970Z"
   },
   {
    "duration": 0,
    "start_time": "2023-06-15T17:28:48.971Z"
   },
   {
    "duration": 0,
    "start_time": "2023-06-15T17:28:48.973Z"
   },
   {
    "duration": 0,
    "start_time": "2023-06-15T17:28:48.974Z"
   },
   {
    "duration": 0,
    "start_time": "2023-06-15T17:28:48.975Z"
   },
   {
    "duration": 0,
    "start_time": "2023-06-15T17:28:48.976Z"
   },
   {
    "duration": 0,
    "start_time": "2023-06-15T17:28:48.978Z"
   },
   {
    "duration": 0,
    "start_time": "2023-06-15T17:28:48.979Z"
   },
   {
    "duration": 0,
    "start_time": "2023-06-15T17:28:48.980Z"
   },
   {
    "duration": 0,
    "start_time": "2023-06-15T17:28:48.981Z"
   },
   {
    "duration": 0,
    "start_time": "2023-06-15T17:28:48.982Z"
   },
   {
    "duration": 0,
    "start_time": "2023-06-15T17:28:48.983Z"
   },
   {
    "duration": 0,
    "start_time": "2023-06-15T17:28:48.984Z"
   },
   {
    "duration": 0,
    "start_time": "2023-06-15T17:28:48.985Z"
   },
   {
    "duration": 0,
    "start_time": "2023-06-15T17:28:48.986Z"
   },
   {
    "duration": 0,
    "start_time": "2023-06-15T17:28:48.987Z"
   },
   {
    "duration": 0,
    "start_time": "2023-06-15T17:28:48.988Z"
   },
   {
    "duration": 0,
    "start_time": "2023-06-15T17:28:48.989Z"
   },
   {
    "duration": 1,
    "start_time": "2023-06-15T17:28:48.990Z"
   },
   {
    "duration": 0,
    "start_time": "2023-06-15T17:28:48.992Z"
   },
   {
    "duration": 4,
    "start_time": "2023-06-15T17:32:07.316Z"
   },
   {
    "duration": 86,
    "start_time": "2023-06-15T17:32:07.322Z"
   },
   {
    "duration": 11,
    "start_time": "2023-06-15T17:32:07.409Z"
   },
   {
    "duration": 10,
    "start_time": "2023-06-15T17:32:07.422Z"
   },
   {
    "duration": 11,
    "start_time": "2023-06-15T17:32:07.434Z"
   },
   {
    "duration": 9,
    "start_time": "2023-06-15T17:32:07.447Z"
   },
   {
    "duration": 14,
    "start_time": "2023-06-15T17:32:07.457Z"
   },
   {
    "duration": 10,
    "start_time": "2023-06-15T17:32:07.473Z"
   },
   {
    "duration": 8,
    "start_time": "2023-06-15T17:32:07.484Z"
   },
   {
    "duration": 8,
    "start_time": "2023-06-15T17:32:07.493Z"
   },
   {
    "duration": 9,
    "start_time": "2023-06-15T17:32:07.502Z"
   },
   {
    "duration": 4,
    "start_time": "2023-06-15T17:32:07.513Z"
   },
   {
    "duration": 8,
    "start_time": "2023-06-15T17:32:07.550Z"
   },
   {
    "duration": 17,
    "start_time": "2023-06-15T17:32:07.561Z"
   },
   {
    "duration": 13,
    "start_time": "2023-06-15T17:32:07.580Z"
   },
   {
    "duration": 4,
    "start_time": "2023-06-15T17:32:07.595Z"
   },
   {
    "duration": 4,
    "start_time": "2023-06-15T17:32:07.601Z"
   },
   {
    "duration": 6,
    "start_time": "2023-06-15T17:32:07.607Z"
   },
   {
    "duration": 40,
    "start_time": "2023-06-15T17:32:07.615Z"
   },
   {
    "duration": 15,
    "start_time": "2023-06-15T17:32:07.657Z"
   },
   {
    "duration": 18,
    "start_time": "2023-06-15T17:32:07.674Z"
   },
   {
    "duration": 9,
    "start_time": "2023-06-15T17:32:07.694Z"
   },
   {
    "duration": 13,
    "start_time": "2023-06-15T17:32:07.705Z"
   },
   {
    "duration": 41,
    "start_time": "2023-06-15T17:32:07.720Z"
   },
   {
    "duration": 0,
    "start_time": "2023-06-15T17:32:07.763Z"
   },
   {
    "duration": 0,
    "start_time": "2023-06-15T17:32:07.764Z"
   },
   {
    "duration": 0,
    "start_time": "2023-06-15T17:32:07.766Z"
   },
   {
    "duration": 0,
    "start_time": "2023-06-15T17:32:07.767Z"
   },
   {
    "duration": 0,
    "start_time": "2023-06-15T17:32:07.769Z"
   },
   {
    "duration": 0,
    "start_time": "2023-06-15T17:32:07.771Z"
   },
   {
    "duration": 0,
    "start_time": "2023-06-15T17:32:07.772Z"
   },
   {
    "duration": 0,
    "start_time": "2023-06-15T17:32:07.773Z"
   },
   {
    "duration": 0,
    "start_time": "2023-06-15T17:32:07.775Z"
   },
   {
    "duration": 0,
    "start_time": "2023-06-15T17:32:07.776Z"
   },
   {
    "duration": 0,
    "start_time": "2023-06-15T17:32:07.778Z"
   },
   {
    "duration": 0,
    "start_time": "2023-06-15T17:32:07.779Z"
   },
   {
    "duration": 0,
    "start_time": "2023-06-15T17:32:07.781Z"
   },
   {
    "duration": 0,
    "start_time": "2023-06-15T17:32:07.782Z"
   },
   {
    "duration": 0,
    "start_time": "2023-06-15T17:32:07.784Z"
   },
   {
    "duration": 0,
    "start_time": "2023-06-15T17:32:07.785Z"
   },
   {
    "duration": 0,
    "start_time": "2023-06-15T17:32:07.786Z"
   },
   {
    "duration": 0,
    "start_time": "2023-06-15T17:32:07.787Z"
   },
   {
    "duration": 0,
    "start_time": "2023-06-15T17:32:07.789Z"
   },
   {
    "duration": 0,
    "start_time": "2023-06-15T17:32:07.790Z"
   },
   {
    "duration": 0,
    "start_time": "2023-06-15T17:32:07.791Z"
   },
   {
    "duration": 0,
    "start_time": "2023-06-15T17:32:07.792Z"
   },
   {
    "duration": 14,
    "start_time": "2023-06-15T17:35:19.011Z"
   },
   {
    "duration": 15,
    "start_time": "2023-06-15T17:35:28.957Z"
   },
   {
    "duration": 12,
    "start_time": "2023-06-15T17:36:06.128Z"
   },
   {
    "duration": 4,
    "start_time": "2023-06-15T17:36:12.971Z"
   },
   {
    "duration": 72,
    "start_time": "2023-06-15T17:36:12.983Z"
   },
   {
    "duration": 11,
    "start_time": "2023-06-15T17:36:13.057Z"
   },
   {
    "duration": 21,
    "start_time": "2023-06-15T17:36:13.071Z"
   },
   {
    "duration": 23,
    "start_time": "2023-06-15T17:36:13.094Z"
   },
   {
    "duration": 11,
    "start_time": "2023-06-15T17:36:13.119Z"
   },
   {
    "duration": 12,
    "start_time": "2023-06-15T17:36:13.131Z"
   },
   {
    "duration": 12,
    "start_time": "2023-06-15T17:36:13.150Z"
   },
   {
    "duration": 9,
    "start_time": "2023-06-15T17:36:13.163Z"
   },
   {
    "duration": 8,
    "start_time": "2023-06-15T17:36:13.174Z"
   },
   {
    "duration": 10,
    "start_time": "2023-06-15T17:36:13.183Z"
   },
   {
    "duration": 3,
    "start_time": "2023-06-15T17:36:13.195Z"
   },
   {
    "duration": 6,
    "start_time": "2023-06-15T17:36:13.200Z"
   },
   {
    "duration": 47,
    "start_time": "2023-06-15T17:36:13.208Z"
   },
   {
    "duration": 22,
    "start_time": "2023-06-15T17:36:13.258Z"
   },
   {
    "duration": 11,
    "start_time": "2023-06-15T17:36:13.282Z"
   },
   {
    "duration": 6,
    "start_time": "2023-06-15T17:36:13.295Z"
   },
   {
    "duration": 3,
    "start_time": "2023-06-15T17:36:13.303Z"
   },
   {
    "duration": 14,
    "start_time": "2023-06-15T17:36:13.308Z"
   },
   {
    "duration": 20,
    "start_time": "2023-06-15T17:36:13.324Z"
   },
   {
    "duration": 15,
    "start_time": "2023-06-15T17:36:13.345Z"
   },
   {
    "duration": 17,
    "start_time": "2023-06-15T17:36:13.361Z"
   },
   {
    "duration": 9,
    "start_time": "2023-06-15T17:36:13.379Z"
   },
   {
    "duration": 11,
    "start_time": "2023-06-15T17:36:13.390Z"
   },
   {
    "duration": 6,
    "start_time": "2023-06-15T17:36:13.402Z"
   },
   {
    "duration": 8,
    "start_time": "2023-06-15T17:36:13.410Z"
   },
   {
    "duration": 195,
    "start_time": "2023-06-15T17:36:13.420Z"
   },
   {
    "duration": 115,
    "start_time": "2023-06-15T17:36:13.617Z"
   },
   {
    "duration": 18,
    "start_time": "2023-06-15T17:36:13.734Z"
   },
   {
    "duration": 7,
    "start_time": "2023-06-15T17:36:13.753Z"
   },
   {
    "duration": 329,
    "start_time": "2023-06-15T17:36:13.762Z"
   },
   {
    "duration": 255,
    "start_time": "2023-06-15T17:36:14.093Z"
   },
   {
    "duration": 327,
    "start_time": "2023-06-15T17:36:14.350Z"
   },
   {
    "duration": 234,
    "start_time": "2023-06-15T17:36:14.678Z"
   },
   {
    "duration": 355,
    "start_time": "2023-06-15T17:36:14.914Z"
   },
   {
    "duration": 319,
    "start_time": "2023-06-15T17:36:15.271Z"
   },
   {
    "duration": 4,
    "start_time": "2023-06-15T17:36:15.592Z"
   },
   {
    "duration": 154,
    "start_time": "2023-06-15T17:36:15.598Z"
   },
   {
    "duration": 232,
    "start_time": "2023-06-15T17:36:15.754Z"
   },
   {
    "duration": 4,
    "start_time": "2023-06-15T17:36:15.987Z"
   },
   {
    "duration": 9,
    "start_time": "2023-06-15T17:36:15.993Z"
   },
   {
    "duration": 27,
    "start_time": "2023-06-15T17:36:16.007Z"
   },
   {
    "duration": 0,
    "start_time": "2023-06-15T17:36:16.036Z"
   },
   {
    "duration": 0,
    "start_time": "2023-06-15T17:36:16.037Z"
   },
   {
    "duration": 0,
    "start_time": "2023-06-15T17:36:16.051Z"
   },
   {
    "duration": 0,
    "start_time": "2023-06-15T17:36:16.053Z"
   },
   {
    "duration": 110,
    "start_time": "2023-06-15T17:36:42.803Z"
   },
   {
    "duration": 334,
    "start_time": "2023-06-15T17:39:10.016Z"
   },
   {
    "duration": 4,
    "start_time": "2023-06-15T17:39:34.336Z"
   },
   {
    "duration": 109,
    "start_time": "2023-06-15T17:39:34.342Z"
   },
   {
    "duration": 12,
    "start_time": "2023-06-15T17:39:34.454Z"
   },
   {
    "duration": 10,
    "start_time": "2023-06-15T17:39:34.468Z"
   },
   {
    "duration": 12,
    "start_time": "2023-06-15T17:39:34.481Z"
   },
   {
    "duration": 23,
    "start_time": "2023-06-15T17:39:34.495Z"
   },
   {
    "duration": 36,
    "start_time": "2023-06-15T17:39:34.520Z"
   },
   {
    "duration": 14,
    "start_time": "2023-06-15T17:39:34.558Z"
   },
   {
    "duration": 9,
    "start_time": "2023-06-15T17:39:34.574Z"
   },
   {
    "duration": 10,
    "start_time": "2023-06-15T17:39:34.585Z"
   },
   {
    "duration": 30,
    "start_time": "2023-06-15T17:39:34.596Z"
   },
   {
    "duration": 4,
    "start_time": "2023-06-15T17:39:34.628Z"
   },
   {
    "duration": 21,
    "start_time": "2023-06-15T17:39:34.633Z"
   },
   {
    "duration": 19,
    "start_time": "2023-06-15T17:39:34.657Z"
   },
   {
    "duration": 18,
    "start_time": "2023-06-15T17:39:34.678Z"
   },
   {
    "duration": 16,
    "start_time": "2023-06-15T17:39:34.698Z"
   },
   {
    "duration": 5,
    "start_time": "2023-06-15T17:39:34.716Z"
   },
   {
    "duration": 5,
    "start_time": "2023-06-15T17:39:34.722Z"
   },
   {
    "duration": 12,
    "start_time": "2023-06-15T17:39:34.728Z"
   },
   {
    "duration": 18,
    "start_time": "2023-06-15T17:39:34.742Z"
   },
   {
    "duration": 13,
    "start_time": "2023-06-15T17:39:34.762Z"
   },
   {
    "duration": 6,
    "start_time": "2023-06-15T17:39:34.777Z"
   },
   {
    "duration": 8,
    "start_time": "2023-06-15T17:39:34.785Z"
   },
   {
    "duration": 10,
    "start_time": "2023-06-15T17:39:34.795Z"
   },
   {
    "duration": 6,
    "start_time": "2023-06-15T17:39:34.807Z"
   },
   {
    "duration": 7,
    "start_time": "2023-06-15T17:39:34.852Z"
   },
   {
    "duration": 183,
    "start_time": "2023-06-15T17:39:34.860Z"
   },
   {
    "duration": 128,
    "start_time": "2023-06-15T17:39:35.044Z"
   },
   {
    "duration": 12,
    "start_time": "2023-06-15T17:39:35.174Z"
   },
   {
    "duration": 8,
    "start_time": "2023-06-15T17:39:35.188Z"
   },
   {
    "duration": 241,
    "start_time": "2023-06-15T17:39:35.197Z"
   },
   {
    "duration": 239,
    "start_time": "2023-06-15T17:39:35.440Z"
   },
   {
    "duration": 299,
    "start_time": "2023-06-15T17:39:35.681Z"
   },
   {
    "duration": 237,
    "start_time": "2023-06-15T17:39:35.981Z"
   },
   {
    "duration": 378,
    "start_time": "2023-06-15T17:39:36.220Z"
   },
   {
    "duration": 328,
    "start_time": "2023-06-15T17:39:36.599Z"
   },
   {
    "duration": 4,
    "start_time": "2023-06-15T17:39:36.929Z"
   },
   {
    "duration": 155,
    "start_time": "2023-06-15T17:39:36.935Z"
   },
   {
    "duration": 168,
    "start_time": "2023-06-15T17:39:37.092Z"
   },
   {
    "duration": 5,
    "start_time": "2023-06-15T17:39:37.261Z"
   },
   {
    "duration": 364,
    "start_time": "2023-06-15T17:39:37.270Z"
   },
   {
    "duration": 28,
    "start_time": "2023-06-15T17:39:37.636Z"
   },
   {
    "duration": 11,
    "start_time": "2023-06-15T17:39:37.666Z"
   },
   {
    "duration": 10,
    "start_time": "2023-06-15T17:39:37.678Z"
   },
   {
    "duration": 21,
    "start_time": "2023-06-15T17:39:37.690Z"
   },
   {
    "duration": 0,
    "start_time": "2023-06-15T17:39:37.713Z"
   },
   {
    "duration": 16,
    "start_time": "2023-06-15T17:39:57.515Z"
   },
   {
    "duration": 4,
    "start_time": "2023-06-15T17:40:01.357Z"
   },
   {
    "duration": 104,
    "start_time": "2023-06-15T17:40:01.363Z"
   },
   {
    "duration": 10,
    "start_time": "2023-06-15T17:40:01.469Z"
   },
   {
    "duration": 44,
    "start_time": "2023-06-15T17:40:01.481Z"
   },
   {
    "duration": 39,
    "start_time": "2023-06-15T17:40:01.528Z"
   },
   {
    "duration": 48,
    "start_time": "2023-06-15T17:40:01.569Z"
   },
   {
    "duration": 29,
    "start_time": "2023-06-15T17:40:01.618Z"
   },
   {
    "duration": 54,
    "start_time": "2023-06-15T17:40:01.649Z"
   },
   {
    "duration": 62,
    "start_time": "2023-06-15T17:40:01.704Z"
   },
   {
    "duration": 56,
    "start_time": "2023-06-15T17:40:01.768Z"
   },
   {
    "duration": 61,
    "start_time": "2023-06-15T17:40:01.827Z"
   },
   {
    "duration": 46,
    "start_time": "2023-06-15T17:40:01.889Z"
   },
   {
    "duration": 96,
    "start_time": "2023-06-15T17:40:01.936Z"
   },
   {
    "duration": 73,
    "start_time": "2023-06-15T17:40:02.034Z"
   },
   {
    "duration": 36,
    "start_time": "2023-06-15T17:40:02.109Z"
   },
   {
    "duration": 27,
    "start_time": "2023-06-15T17:40:02.147Z"
   },
   {
    "duration": 34,
    "start_time": "2023-06-15T17:40:02.176Z"
   },
   {
    "duration": 26,
    "start_time": "2023-06-15T17:40:02.212Z"
   },
   {
    "duration": 43,
    "start_time": "2023-06-15T17:40:02.240Z"
   },
   {
    "duration": 49,
    "start_time": "2023-06-15T17:40:02.284Z"
   },
   {
    "duration": 64,
    "start_time": "2023-06-15T17:40:02.335Z"
   },
   {
    "duration": 110,
    "start_time": "2023-06-15T17:40:02.400Z"
   },
   {
    "duration": 48,
    "start_time": "2023-06-15T17:40:02.512Z"
   },
   {
    "duration": 12,
    "start_time": "2023-06-15T17:40:02.562Z"
   },
   {
    "duration": 19,
    "start_time": "2023-06-15T17:40:02.576Z"
   },
   {
    "duration": 12,
    "start_time": "2023-06-15T17:40:02.597Z"
   },
   {
    "duration": 175,
    "start_time": "2023-06-15T17:40:02.611Z"
   },
   {
    "duration": 120,
    "start_time": "2023-06-15T17:40:02.788Z"
   },
   {
    "duration": 14,
    "start_time": "2023-06-15T17:40:02.912Z"
   },
   {
    "duration": 23,
    "start_time": "2023-06-15T17:40:02.928Z"
   },
   {
    "duration": 299,
    "start_time": "2023-06-15T17:40:02.953Z"
   },
   {
    "duration": 241,
    "start_time": "2023-06-15T17:40:03.254Z"
   },
   {
    "duration": 296,
    "start_time": "2023-06-15T17:40:03.496Z"
   },
   {
    "duration": 251,
    "start_time": "2023-06-15T17:40:03.793Z"
   },
   {
    "duration": 338,
    "start_time": "2023-06-15T17:40:04.045Z"
   },
   {
    "duration": 286,
    "start_time": "2023-06-15T17:40:04.385Z"
   },
   {
    "duration": 4,
    "start_time": "2023-06-15T17:40:04.672Z"
   },
   {
    "duration": 151,
    "start_time": "2023-06-15T17:40:04.678Z"
   },
   {
    "duration": 158,
    "start_time": "2023-06-15T17:40:04.831Z"
   },
   {
    "duration": 4,
    "start_time": "2023-06-15T17:40:04.991Z"
   },
   {
    "duration": 349,
    "start_time": "2023-06-15T17:40:04.997Z"
   },
   {
    "duration": 21,
    "start_time": "2023-06-15T17:40:05.350Z"
   },
   {
    "duration": 20,
    "start_time": "2023-06-15T17:40:05.373Z"
   },
   {
    "duration": 16,
    "start_time": "2023-06-15T17:40:05.395Z"
   },
   {
    "duration": 51,
    "start_time": "2023-06-15T17:40:05.413Z"
   },
   {
    "duration": 19,
    "start_time": "2023-06-15T17:40:05.466Z"
   },
   {
    "duration": 4,
    "start_time": "2023-06-15T17:56:11.539Z"
   },
   {
    "duration": 74,
    "start_time": "2023-06-15T17:56:11.545Z"
   },
   {
    "duration": 11,
    "start_time": "2023-06-15T17:56:11.621Z"
   },
   {
    "duration": 10,
    "start_time": "2023-06-15T17:56:11.634Z"
   },
   {
    "duration": 11,
    "start_time": "2023-06-15T17:56:11.646Z"
   },
   {
    "duration": 9,
    "start_time": "2023-06-15T17:56:11.658Z"
   },
   {
    "duration": 9,
    "start_time": "2023-06-15T17:56:11.669Z"
   },
   {
    "duration": 10,
    "start_time": "2023-06-15T17:56:11.680Z"
   },
   {
    "duration": 9,
    "start_time": "2023-06-15T17:56:11.691Z"
   },
   {
    "duration": 8,
    "start_time": "2023-06-15T17:56:11.701Z"
   },
   {
    "duration": 44,
    "start_time": "2023-06-15T17:56:11.712Z"
   },
   {
    "duration": 4,
    "start_time": "2023-06-15T17:56:11.759Z"
   },
   {
    "duration": 6,
    "start_time": "2023-06-15T17:56:11.765Z"
   },
   {
    "duration": 14,
    "start_time": "2023-06-15T17:56:11.773Z"
   },
   {
    "duration": 11,
    "start_time": "2023-06-15T17:56:11.789Z"
   },
   {
    "duration": 3,
    "start_time": "2023-06-15T17:56:11.802Z"
   },
   {
    "duration": 4,
    "start_time": "2023-06-15T17:56:11.806Z"
   },
   {
    "duration": 39,
    "start_time": "2023-06-15T17:56:11.812Z"
   },
   {
    "duration": 12,
    "start_time": "2023-06-15T17:56:11.853Z"
   },
   {
    "duration": 16,
    "start_time": "2023-06-15T17:56:11.867Z"
   },
   {
    "duration": 17,
    "start_time": "2023-06-15T17:56:11.884Z"
   },
   {
    "duration": 6,
    "start_time": "2023-06-15T17:56:11.903Z"
   },
   {
    "duration": 23,
    "start_time": "2023-06-15T17:56:11.911Z"
   },
   {
    "duration": 24,
    "start_time": "2023-06-15T17:56:11.935Z"
   },
   {
    "duration": 7,
    "start_time": "2023-06-15T17:56:11.961Z"
   },
   {
    "duration": 6,
    "start_time": "2023-06-15T17:56:11.969Z"
   },
   {
    "duration": 195,
    "start_time": "2023-06-15T17:56:11.976Z"
   },
   {
    "duration": 130,
    "start_time": "2023-06-15T17:56:12.173Z"
   },
   {
    "duration": 13,
    "start_time": "2023-06-15T17:56:12.306Z"
   },
   {
    "duration": 12,
    "start_time": "2023-06-15T17:56:12.320Z"
   },
   {
    "duration": 252,
    "start_time": "2023-06-15T17:56:12.334Z"
   },
   {
    "duration": 237,
    "start_time": "2023-06-15T17:56:12.588Z"
   },
   {
    "duration": 413,
    "start_time": "2023-06-15T17:56:12.828Z"
   },
   {
    "duration": 247,
    "start_time": "2023-06-15T17:56:13.243Z"
   },
   {
    "duration": 300,
    "start_time": "2023-06-15T17:56:13.492Z"
   },
   {
    "duration": 291,
    "start_time": "2023-06-15T17:56:13.794Z"
   },
   {
    "duration": 6,
    "start_time": "2023-06-15T17:56:14.087Z"
   },
   {
    "duration": 188,
    "start_time": "2023-06-15T17:56:14.095Z"
   },
   {
    "duration": 151,
    "start_time": "2023-06-15T17:56:14.285Z"
   },
   {
    "duration": 15,
    "start_time": "2023-06-15T17:56:14.438Z"
   },
   {
    "duration": 329,
    "start_time": "2023-06-15T17:56:14.455Z"
   },
   {
    "duration": 25,
    "start_time": "2023-06-15T17:56:14.786Z"
   },
   {
    "duration": 10,
    "start_time": "2023-06-15T17:56:14.813Z"
   },
   {
    "duration": 33,
    "start_time": "2023-06-15T17:56:14.825Z"
   },
   {
    "duration": 22,
    "start_time": "2023-06-15T17:56:14.860Z"
   },
   {
    "duration": 14,
    "start_time": "2023-06-15T17:56:14.883Z"
   },
   {
    "duration": 285,
    "start_time": "2023-06-15T18:11:04.015Z"
   },
   {
    "duration": 260,
    "start_time": "2023-06-15T18:12:28.359Z"
   },
   {
    "duration": 291,
    "start_time": "2023-06-15T18:15:19.633Z"
   },
   {
    "duration": 348,
    "start_time": "2023-06-15T18:22:34.704Z"
   },
   {
    "duration": 289,
    "start_time": "2023-06-15T18:30:29.153Z"
   },
   {
    "duration": 276,
    "start_time": "2023-06-15T18:34:27.272Z"
   },
   {
    "duration": 3,
    "start_time": "2023-06-15T18:35:45.469Z"
   },
   {
    "duration": 17,
    "start_time": "2023-06-15T18:36:30.695Z"
   },
   {
    "duration": 68,
    "start_time": "2023-06-15T18:38:16.123Z"
   },
   {
    "duration": 14,
    "start_time": "2023-06-15T18:38:25.459Z"
   },
   {
    "duration": 10,
    "start_time": "2023-06-15T18:39:01.948Z"
   },
   {
    "duration": 17,
    "start_time": "2023-06-15T18:39:36.457Z"
   },
   {
    "duration": 4,
    "start_time": "2023-06-15T18:43:02.947Z"
   },
   {
    "duration": 15,
    "start_time": "2023-06-15T18:45:51.907Z"
   },
   {
    "duration": 85,
    "start_time": "2023-06-15T18:46:40.661Z"
   },
   {
    "duration": 68,
    "start_time": "2023-06-15T18:47:24.826Z"
   },
   {
    "duration": 17,
    "start_time": "2023-06-15T18:47:41.477Z"
   },
   {
    "duration": 8,
    "start_time": "2023-06-15T18:48:05.707Z"
   },
   {
    "duration": 4,
    "start_time": "2023-06-15T18:49:40.336Z"
   },
   {
    "duration": 12,
    "start_time": "2023-06-15T18:51:44.917Z"
   },
   {
    "duration": 4,
    "start_time": "2023-06-15T19:04:41.719Z"
   },
   {
    "duration": 79,
    "start_time": "2023-06-15T19:04:41.726Z"
   },
   {
    "duration": 10,
    "start_time": "2023-06-15T19:04:41.807Z"
   },
   {
    "duration": 35,
    "start_time": "2023-06-15T19:04:41.819Z"
   },
   {
    "duration": 99,
    "start_time": "2023-06-15T19:04:41.856Z"
   },
   {
    "duration": 10,
    "start_time": "2023-06-15T19:04:41.957Z"
   },
   {
    "duration": 37,
    "start_time": "2023-06-15T19:04:41.969Z"
   },
   {
    "duration": 56,
    "start_time": "2023-06-15T19:04:42.007Z"
   },
   {
    "duration": 10,
    "start_time": "2023-06-15T19:04:42.066Z"
   },
   {
    "duration": 10,
    "start_time": "2023-06-15T19:04:42.077Z"
   },
   {
    "duration": 9,
    "start_time": "2023-06-15T19:04:42.089Z"
   },
   {
    "duration": 8,
    "start_time": "2023-06-15T19:04:42.100Z"
   },
   {
    "duration": 10,
    "start_time": "2023-06-15T19:04:42.110Z"
   },
   {
    "duration": 13,
    "start_time": "2023-06-15T19:04:42.122Z"
   },
   {
    "duration": 10,
    "start_time": "2023-06-15T19:04:42.150Z"
   },
   {
    "duration": 4,
    "start_time": "2023-06-15T19:04:42.162Z"
   },
   {
    "duration": 12,
    "start_time": "2023-06-15T19:04:42.167Z"
   },
   {
    "duration": 4,
    "start_time": "2023-06-15T19:04:42.181Z"
   },
   {
    "duration": 13,
    "start_time": "2023-06-15T19:04:42.186Z"
   },
   {
    "duration": 15,
    "start_time": "2023-06-15T19:04:42.201Z"
   },
   {
    "duration": 33,
    "start_time": "2023-06-15T19:04:42.218Z"
   },
   {
    "duration": 6,
    "start_time": "2023-06-15T19:04:42.253Z"
   },
   {
    "duration": 11,
    "start_time": "2023-06-15T19:04:42.261Z"
   },
   {
    "duration": 11,
    "start_time": "2023-06-15T19:04:42.275Z"
   },
   {
    "duration": 7,
    "start_time": "2023-06-15T19:04:42.288Z"
   },
   {
    "duration": 12,
    "start_time": "2023-06-15T19:04:42.296Z"
   },
   {
    "duration": 212,
    "start_time": "2023-06-15T19:04:42.310Z"
   },
   {
    "duration": 114,
    "start_time": "2023-06-15T19:04:42.524Z"
   },
   {
    "duration": 21,
    "start_time": "2023-06-15T19:04:42.640Z"
   },
   {
    "duration": 7,
    "start_time": "2023-06-15T19:04:42.662Z"
   },
   {
    "duration": 234,
    "start_time": "2023-06-15T19:04:42.671Z"
   },
   {
    "duration": 229,
    "start_time": "2023-06-15T19:04:42.906Z"
   },
   {
    "duration": 345,
    "start_time": "2023-06-15T19:04:43.137Z"
   },
   {
    "duration": 237,
    "start_time": "2023-06-15T19:04:43.484Z"
   },
   {
    "duration": 463,
    "start_time": "2023-06-15T19:04:43.723Z"
   },
   {
    "duration": 312,
    "start_time": "2023-06-15T19:04:44.189Z"
   },
   {
    "duration": 4,
    "start_time": "2023-06-15T19:04:44.503Z"
   },
   {
    "duration": 158,
    "start_time": "2023-06-15T19:04:44.509Z"
   },
   {
    "duration": 167,
    "start_time": "2023-06-15T19:04:44.669Z"
   },
   {
    "duration": 12,
    "start_time": "2023-06-15T19:04:44.838Z"
   },
   {
    "duration": 5,
    "start_time": "2023-06-15T19:04:44.852Z"
   },
   {
    "duration": 23,
    "start_time": "2023-06-15T19:04:44.858Z"
   },
   {
    "duration": 13,
    "start_time": "2023-06-15T19:04:44.882Z"
   },
   {
    "duration": 5,
    "start_time": "2023-06-15T19:04:44.897Z"
   },
   {
    "duration": 5,
    "start_time": "2023-06-15T19:04:44.904Z"
   },
   {
    "duration": 21,
    "start_time": "2023-06-15T19:04:44.910Z"
   },
   {
    "duration": 19,
    "start_time": "2023-06-15T19:04:44.933Z"
   },
   {
    "duration": 1119,
    "start_time": "2023-06-15T19:04:44.954Z"
   },
   {
    "duration": 0,
    "start_time": "2023-06-15T19:04:46.074Z"
   },
   {
    "duration": 0,
    "start_time": "2023-06-15T19:04:46.076Z"
   },
   {
    "duration": 21,
    "start_time": "2023-06-15T19:06:14.223Z"
   },
   {
    "duration": 10,
    "start_time": "2023-06-15T19:07:14.240Z"
   },
   {
    "duration": 10,
    "start_time": "2023-06-15T19:10:36.836Z"
   },
   {
    "duration": 10,
    "start_time": "2023-06-15T19:14:41.746Z"
   },
   {
    "duration": 15,
    "start_time": "2023-06-15T19:15:22.422Z"
   },
   {
    "duration": 256,
    "start_time": "2023-06-15T19:18:45.507Z"
   },
   {
    "duration": 287,
    "start_time": "2023-06-15T19:19:58.622Z"
   },
   {
    "duration": 132,
    "start_time": "2023-06-15T19:20:22.050Z"
   },
   {
    "duration": 129,
    "start_time": "2023-06-15T19:21:26.115Z"
   },
   {
    "duration": 13,
    "start_time": "2023-06-15T19:22:43.923Z"
   },
   {
    "duration": 183,
    "start_time": "2023-06-15T19:25:30.003Z"
   },
   {
    "duration": 180,
    "start_time": "2023-06-15T19:25:56.886Z"
   },
   {
    "duration": 19,
    "start_time": "2023-06-15T19:27:18.394Z"
   },
   {
    "duration": 16,
    "start_time": "2023-06-15T19:27:43.844Z"
   },
   {
    "duration": 4,
    "start_time": "2023-06-15T19:27:55.011Z"
   },
   {
    "duration": 78,
    "start_time": "2023-06-15T19:27:55.017Z"
   },
   {
    "duration": 10,
    "start_time": "2023-06-15T19:27:55.097Z"
   },
   {
    "duration": 18,
    "start_time": "2023-06-15T19:27:55.109Z"
   },
   {
    "duration": 12,
    "start_time": "2023-06-15T19:27:55.129Z"
   },
   {
    "duration": 9,
    "start_time": "2023-06-15T19:27:55.143Z"
   },
   {
    "duration": 12,
    "start_time": "2023-06-15T19:27:55.153Z"
   },
   {
    "duration": 18,
    "start_time": "2023-06-15T19:27:55.166Z"
   },
   {
    "duration": 8,
    "start_time": "2023-06-15T19:27:55.186Z"
   },
   {
    "duration": 12,
    "start_time": "2023-06-15T19:27:55.196Z"
   },
   {
    "duration": 12,
    "start_time": "2023-06-15T19:27:55.212Z"
   },
   {
    "duration": 27,
    "start_time": "2023-06-15T19:27:55.226Z"
   },
   {
    "duration": 9,
    "start_time": "2023-06-15T19:27:55.255Z"
   },
   {
    "duration": 19,
    "start_time": "2023-06-15T19:27:55.265Z"
   },
   {
    "duration": 14,
    "start_time": "2023-06-15T19:27:55.286Z"
   },
   {
    "duration": 4,
    "start_time": "2023-06-15T19:27:55.302Z"
   },
   {
    "duration": 6,
    "start_time": "2023-06-15T19:27:55.307Z"
   },
   {
    "duration": 4,
    "start_time": "2023-06-15T19:27:55.314Z"
   },
   {
    "duration": 34,
    "start_time": "2023-06-15T19:27:55.320Z"
   },
   {
    "duration": 15,
    "start_time": "2023-06-15T19:27:55.356Z"
   },
   {
    "duration": 14,
    "start_time": "2023-06-15T19:27:55.372Z"
   },
   {
    "duration": 6,
    "start_time": "2023-06-15T19:27:55.387Z"
   },
   {
    "duration": 9,
    "start_time": "2023-06-15T19:27:55.395Z"
   },
   {
    "duration": 46,
    "start_time": "2023-06-15T19:27:55.405Z"
   },
   {
    "duration": 6,
    "start_time": "2023-06-15T19:27:55.453Z"
   },
   {
    "duration": 6,
    "start_time": "2023-06-15T19:27:55.460Z"
   },
   {
    "duration": 184,
    "start_time": "2023-06-15T19:27:55.467Z"
   },
   {
    "duration": 12,
    "start_time": "2023-06-15T19:27:55.653Z"
   },
   {
    "duration": 122,
    "start_time": "2023-06-15T19:27:55.668Z"
   },
   {
    "duration": 11,
    "start_time": "2023-06-15T19:27:55.792Z"
   },
   {
    "duration": 13,
    "start_time": "2023-06-15T19:27:55.804Z"
   },
   {
    "duration": 224,
    "start_time": "2023-06-15T19:27:55.819Z"
   },
   {
    "duration": 235,
    "start_time": "2023-06-15T19:27:56.045Z"
   },
   {
    "duration": 305,
    "start_time": "2023-06-15T19:27:56.282Z"
   },
   {
    "duration": 235,
    "start_time": "2023-06-15T19:27:56.589Z"
   },
   {
    "duration": 337,
    "start_time": "2023-06-15T19:27:56.825Z"
   },
   {
    "duration": 292,
    "start_time": "2023-06-15T19:27:57.164Z"
   },
   {
    "duration": 5,
    "start_time": "2023-06-15T19:27:57.458Z"
   },
   {
    "duration": 158,
    "start_time": "2023-06-15T19:27:57.465Z"
   },
   {
    "duration": 246,
    "start_time": "2023-06-15T19:27:57.625Z"
   },
   {
    "duration": 4,
    "start_time": "2023-06-15T19:27:57.873Z"
   },
   {
    "duration": 7,
    "start_time": "2023-06-15T19:27:57.878Z"
   },
   {
    "duration": 7,
    "start_time": "2023-06-15T19:27:57.886Z"
   },
   {
    "duration": 18,
    "start_time": "2023-06-15T19:27:57.894Z"
   },
   {
    "duration": 149,
    "start_time": "2023-06-15T19:27:57.914Z"
   },
   {
    "duration": 15,
    "start_time": "2023-06-15T19:27:58.065Z"
   },
   {
    "duration": 0,
    "start_time": "2023-06-15T19:27:58.082Z"
   },
   {
    "duration": 0,
    "start_time": "2023-06-15T19:27:58.083Z"
   },
   {
    "duration": 0,
    "start_time": "2023-06-15T19:27:58.084Z"
   },
   {
    "duration": 0,
    "start_time": "2023-06-15T19:27:58.085Z"
   },
   {
    "duration": 0,
    "start_time": "2023-06-15T19:27:58.086Z"
   },
   {
    "duration": 0,
    "start_time": "2023-06-15T19:27:58.087Z"
   },
   {
    "duration": 11,
    "start_time": "2023-06-15T20:00:16.556Z"
   },
   {
    "duration": 12,
    "start_time": "2023-06-15T20:01:16.993Z"
   },
   {
    "duration": 186,
    "start_time": "2023-06-15T20:01:58.604Z"
   },
   {
    "duration": 14,
    "start_time": "2023-06-15T20:06:37.703Z"
   },
   {
    "duration": 13,
    "start_time": "2023-06-15T20:08:53.916Z"
   },
   {
    "duration": 17,
    "start_time": "2023-06-15T20:09:11.440Z"
   },
   {
    "duration": 5,
    "start_time": "2023-06-15T20:10:03.542Z"
   },
   {
    "duration": 77,
    "start_time": "2023-06-15T20:10:03.551Z"
   },
   {
    "duration": 12,
    "start_time": "2023-06-15T20:10:03.630Z"
   },
   {
    "duration": 13,
    "start_time": "2023-06-15T20:10:03.644Z"
   },
   {
    "duration": 10,
    "start_time": "2023-06-15T20:10:03.658Z"
   },
   {
    "duration": 7,
    "start_time": "2023-06-15T20:10:03.671Z"
   },
   {
    "duration": 20,
    "start_time": "2023-06-15T20:10:03.679Z"
   },
   {
    "duration": 23,
    "start_time": "2023-06-15T20:10:03.701Z"
   },
   {
    "duration": 25,
    "start_time": "2023-06-15T20:10:03.725Z"
   },
   {
    "duration": 8,
    "start_time": "2023-06-15T20:10:03.752Z"
   },
   {
    "duration": 8,
    "start_time": "2023-06-15T20:10:03.761Z"
   },
   {
    "duration": 12,
    "start_time": "2023-06-15T20:10:03.770Z"
   },
   {
    "duration": 8,
    "start_time": "2023-06-15T20:10:03.783Z"
   },
   {
    "duration": 11,
    "start_time": "2023-06-15T20:10:03.793Z"
   },
   {
    "duration": 44,
    "start_time": "2023-06-15T20:10:03.809Z"
   },
   {
    "duration": 3,
    "start_time": "2023-06-15T20:10:03.856Z"
   },
   {
    "duration": 8,
    "start_time": "2023-06-15T20:10:03.860Z"
   },
   {
    "duration": 8,
    "start_time": "2023-06-15T20:10:03.869Z"
   },
   {
    "duration": 12,
    "start_time": "2023-06-15T20:10:03.878Z"
   },
   {
    "duration": 18,
    "start_time": "2023-06-15T20:10:03.892Z"
   },
   {
    "duration": 13,
    "start_time": "2023-06-15T20:10:03.912Z"
   },
   {
    "duration": 6,
    "start_time": "2023-06-15T20:10:03.951Z"
   },
   {
    "duration": 10,
    "start_time": "2023-06-15T20:10:03.959Z"
   },
   {
    "duration": 11,
    "start_time": "2023-06-15T20:10:03.970Z"
   },
   {
    "duration": 5,
    "start_time": "2023-06-15T20:10:03.983Z"
   },
   {
    "duration": 8,
    "start_time": "2023-06-15T20:10:03.989Z"
   },
   {
    "duration": 224,
    "start_time": "2023-06-15T20:10:03.999Z"
   },
   {
    "duration": 2,
    "start_time": "2023-06-15T20:10:04.225Z"
   },
   {
    "duration": 22,
    "start_time": "2023-06-15T20:10:04.229Z"
   },
   {
    "duration": 124,
    "start_time": "2023-06-15T20:10:04.252Z"
   },
   {
    "duration": 11,
    "start_time": "2023-06-15T20:10:04.378Z"
   },
   {
    "duration": 25,
    "start_time": "2023-06-15T20:10:04.391Z"
   },
   {
    "duration": 223,
    "start_time": "2023-06-15T20:10:04.418Z"
   },
   {
    "duration": 219,
    "start_time": "2023-06-15T20:10:04.650Z"
   },
   {
    "duration": 302,
    "start_time": "2023-06-15T20:10:04.871Z"
   },
   {
    "duration": 231,
    "start_time": "2023-06-15T20:10:05.175Z"
   },
   {
    "duration": 303,
    "start_time": "2023-06-15T20:10:05.408Z"
   },
   {
    "duration": 288,
    "start_time": "2023-06-15T20:10:05.712Z"
   },
   {
    "duration": 5,
    "start_time": "2023-06-15T20:10:06.002Z"
   },
   {
    "duration": 150,
    "start_time": "2023-06-15T20:10:06.009Z"
   },
   {
    "duration": 158,
    "start_time": "2023-06-15T20:10:06.161Z"
   },
   {
    "duration": 4,
    "start_time": "2023-06-15T20:10:06.323Z"
   },
   {
    "duration": 100,
    "start_time": "2023-06-15T20:10:06.329Z"
   },
   {
    "duration": 6,
    "start_time": "2023-06-15T20:10:06.430Z"
   },
   {
    "duration": 10,
    "start_time": "2023-06-15T20:10:06.438Z"
   },
   {
    "duration": 17,
    "start_time": "2023-06-15T20:10:06.451Z"
   },
   {
    "duration": 16,
    "start_time": "2023-06-15T20:10:06.470Z"
   },
   {
    "duration": 14,
    "start_time": "2023-06-15T20:10:06.487Z"
   },
   {
    "duration": 0,
    "start_time": "2023-06-15T20:10:06.503Z"
   },
   {
    "duration": 0,
    "start_time": "2023-06-15T20:10:06.504Z"
   },
   {
    "duration": 0,
    "start_time": "2023-06-15T20:10:06.506Z"
   },
   {
    "duration": 0,
    "start_time": "2023-06-15T20:10:06.507Z"
   },
   {
    "duration": 0,
    "start_time": "2023-06-15T20:10:06.508Z"
   },
   {
    "duration": 0,
    "start_time": "2023-06-15T20:10:06.510Z"
   },
   {
    "duration": 0,
    "start_time": "2023-06-15T20:10:06.512Z"
   },
   {
    "duration": 18,
    "start_time": "2023-06-15T20:10:39.804Z"
   },
   {
    "duration": 14,
    "start_time": "2023-06-15T20:10:54.796Z"
   },
   {
    "duration": 13,
    "start_time": "2023-06-15T20:11:49.588Z"
   },
   {
    "duration": 16,
    "start_time": "2023-06-15T20:14:36.748Z"
   },
   {
    "duration": 15,
    "start_time": "2023-06-15T20:14:58.553Z"
   },
   {
    "duration": 19,
    "start_time": "2023-06-15T20:26:01.327Z"
   },
   {
    "duration": 274,
    "start_time": "2023-06-15T20:26:59.988Z"
   },
   {
    "duration": 13,
    "start_time": "2023-06-15T20:27:25.571Z"
   },
   {
    "duration": 9,
    "start_time": "2023-06-15T20:28:40.344Z"
   },
   {
    "duration": 20,
    "start_time": "2023-06-15T20:29:14.962Z"
   },
   {
    "duration": 3,
    "start_time": "2023-06-15T20:29:16.360Z"
   },
   {
    "duration": 17,
    "start_time": "2023-06-15T20:31:02.620Z"
   },
   {
    "duration": 4,
    "start_time": "2023-06-15T20:31:06.716Z"
   },
   {
    "duration": 74,
    "start_time": "2023-06-15T20:31:06.744Z"
   },
   {
    "duration": 11,
    "start_time": "2023-06-15T20:31:06.820Z"
   },
   {
    "duration": 9,
    "start_time": "2023-06-15T20:31:06.833Z"
   },
   {
    "duration": 15,
    "start_time": "2023-06-15T20:31:06.843Z"
   },
   {
    "duration": 9,
    "start_time": "2023-06-15T20:31:06.861Z"
   },
   {
    "duration": 12,
    "start_time": "2023-06-15T20:31:06.872Z"
   },
   {
    "duration": 11,
    "start_time": "2023-06-15T20:31:06.886Z"
   },
   {
    "duration": 8,
    "start_time": "2023-06-15T20:31:06.899Z"
   },
   {
    "duration": 9,
    "start_time": "2023-06-15T20:31:06.908Z"
   },
   {
    "duration": 10,
    "start_time": "2023-06-15T20:31:06.951Z"
   },
   {
    "duration": 4,
    "start_time": "2023-06-15T20:31:06.962Z"
   },
   {
    "duration": 5,
    "start_time": "2023-06-15T20:31:06.969Z"
   },
   {
    "duration": 11,
    "start_time": "2023-06-15T20:31:06.976Z"
   },
   {
    "duration": 8,
    "start_time": "2023-06-15T20:31:06.990Z"
   },
   {
    "duration": 4,
    "start_time": "2023-06-15T20:31:07.000Z"
   },
   {
    "duration": 5,
    "start_time": "2023-06-15T20:31:07.005Z"
   },
   {
    "duration": 4,
    "start_time": "2023-06-15T20:31:07.011Z"
   },
   {
    "duration": 12,
    "start_time": "2023-06-15T20:31:07.062Z"
   },
   {
    "duration": 14,
    "start_time": "2023-06-15T20:31:07.076Z"
   },
   {
    "duration": 17,
    "start_time": "2023-06-15T20:31:07.092Z"
   },
   {
    "duration": 6,
    "start_time": "2023-06-15T20:31:07.111Z"
   },
   {
    "duration": 9,
    "start_time": "2023-06-15T20:31:07.118Z"
   },
   {
    "duration": 30,
    "start_time": "2023-06-15T20:31:07.128Z"
   },
   {
    "duration": 6,
    "start_time": "2023-06-15T20:31:07.159Z"
   },
   {
    "duration": 6,
    "start_time": "2023-06-15T20:31:07.167Z"
   },
   {
    "duration": 200,
    "start_time": "2023-06-15T20:31:07.175Z"
   },
   {
    "duration": 3,
    "start_time": "2023-06-15T20:31:07.377Z"
   },
   {
    "duration": 10,
    "start_time": "2023-06-15T20:31:07.381Z"
   },
   {
    "duration": 126,
    "start_time": "2023-06-15T20:31:07.392Z"
   },
   {
    "duration": 12,
    "start_time": "2023-06-15T20:31:07.520Z"
   },
   {
    "duration": 37,
    "start_time": "2023-06-15T20:31:07.533Z"
   },
   {
    "duration": 221,
    "start_time": "2023-06-15T20:31:07.572Z"
   },
   {
    "duration": 244,
    "start_time": "2023-06-15T20:31:07.795Z"
   },
   {
    "duration": 340,
    "start_time": "2023-06-15T20:31:08.041Z"
   },
   {
    "duration": 248,
    "start_time": "2023-06-15T20:31:08.383Z"
   },
   {
    "duration": 334,
    "start_time": "2023-06-15T20:31:08.632Z"
   },
   {
    "duration": 316,
    "start_time": "2023-06-15T20:31:08.968Z"
   },
   {
    "duration": 3,
    "start_time": "2023-06-15T20:31:09.286Z"
   },
   {
    "duration": 155,
    "start_time": "2023-06-15T20:31:09.291Z"
   },
   {
    "duration": 162,
    "start_time": "2023-06-15T20:31:09.448Z"
   },
   {
    "duration": 4,
    "start_time": "2023-06-15T20:31:09.613Z"
   },
   {
    "duration": 14,
    "start_time": "2023-06-15T20:31:09.619Z"
   },
   {
    "duration": 14,
    "start_time": "2023-06-15T20:31:09.634Z"
   },
   {
    "duration": 11,
    "start_time": "2023-06-15T20:31:09.649Z"
   },
   {
    "duration": 11,
    "start_time": "2023-06-15T20:31:09.662Z"
   },
   {
    "duration": 20,
    "start_time": "2023-06-15T20:31:09.675Z"
   },
   {
    "duration": 17,
    "start_time": "2023-06-15T20:31:09.697Z"
   },
   {
    "duration": 13,
    "start_time": "2023-06-15T20:31:09.716Z"
   },
   {
    "duration": 0,
    "start_time": "2023-06-15T20:31:09.731Z"
   },
   {
    "duration": 0,
    "start_time": "2023-06-15T20:31:09.732Z"
   },
   {
    "duration": 0,
    "start_time": "2023-06-15T20:31:09.733Z"
   },
   {
    "duration": 0,
    "start_time": "2023-06-15T20:31:09.734Z"
   },
   {
    "duration": 0,
    "start_time": "2023-06-15T20:31:09.735Z"
   },
   {
    "duration": 0,
    "start_time": "2023-06-15T20:31:09.736Z"
   },
   {
    "duration": 0,
    "start_time": "2023-06-15T20:31:09.737Z"
   },
   {
    "duration": 247,
    "start_time": "2023-06-15T20:33:59.399Z"
   },
   {
    "duration": 12,
    "start_time": "2023-06-15T20:36:02.630Z"
   },
   {
    "duration": 13,
    "start_time": "2023-06-15T20:36:14.700Z"
   },
   {
    "duration": 16,
    "start_time": "2023-06-15T20:36:25.000Z"
   },
   {
    "duration": 14,
    "start_time": "2023-06-15T20:37:50.952Z"
   },
   {
    "duration": 17,
    "start_time": "2023-06-15T20:37:54.956Z"
   },
   {
    "duration": 14,
    "start_time": "2023-06-15T20:40:00.911Z"
   },
   {
    "duration": 8,
    "start_time": "2023-06-15T20:41:12.099Z"
   },
   {
    "duration": 14,
    "start_time": "2023-06-15T20:42:41.643Z"
   },
   {
    "duration": 13,
    "start_time": "2023-06-15T20:43:38.947Z"
   },
   {
    "duration": 11,
    "start_time": "2023-06-15T20:43:57.719Z"
   },
   {
    "duration": 232,
    "start_time": "2023-06-15T20:44:49.295Z"
   },
   {
    "duration": 13,
    "start_time": "2023-06-15T20:44:56.664Z"
   },
   {
    "duration": 68,
    "start_time": "2023-06-15T20:45:41.711Z"
   },
   {
    "duration": 78,
    "start_time": "2023-06-15T20:48:39.507Z"
   },
   {
    "duration": 21,
    "start_time": "2023-06-15T20:48:52.447Z"
   },
   {
    "duration": 22,
    "start_time": "2023-06-15T20:49:18.048Z"
   },
   {
    "duration": 999,
    "start_time": "2023-06-15T20:53:23.056Z"
   },
   {
    "duration": 28,
    "start_time": "2023-06-15T21:00:35.948Z"
   },
   {
    "duration": 20,
    "start_time": "2023-06-15T21:02:09.448Z"
   },
   {
    "duration": 20,
    "start_time": "2023-06-15T21:02:48.708Z"
   },
   {
    "duration": 7,
    "start_time": "2023-06-15T21:03:21.908Z"
   },
   {
    "duration": 73,
    "start_time": "2023-06-15T21:03:21.918Z"
   },
   {
    "duration": 11,
    "start_time": "2023-06-15T21:03:21.993Z"
   },
   {
    "duration": 10,
    "start_time": "2023-06-15T21:03:22.006Z"
   },
   {
    "duration": 9,
    "start_time": "2023-06-15T21:03:22.019Z"
   },
   {
    "duration": 8,
    "start_time": "2023-06-15T21:03:22.030Z"
   },
   {
    "duration": 11,
    "start_time": "2023-06-15T21:03:22.039Z"
   },
   {
    "duration": 10,
    "start_time": "2023-06-15T21:03:22.052Z"
   },
   {
    "duration": 11,
    "start_time": "2023-06-15T21:03:22.063Z"
   },
   {
    "duration": 8,
    "start_time": "2023-06-15T21:03:22.075Z"
   },
   {
    "duration": 8,
    "start_time": "2023-06-15T21:03:22.084Z"
   },
   {
    "duration": 4,
    "start_time": "2023-06-15T21:03:22.093Z"
   },
   {
    "duration": 6,
    "start_time": "2023-06-15T21:03:22.099Z"
   },
   {
    "duration": 48,
    "start_time": "2023-06-15T21:03:22.106Z"
   },
   {
    "duration": 14,
    "start_time": "2023-06-15T21:03:22.156Z"
   },
   {
    "duration": 4,
    "start_time": "2023-06-15T21:03:22.172Z"
   },
   {
    "duration": 5,
    "start_time": "2023-06-15T21:03:22.178Z"
   },
   {
    "duration": 4,
    "start_time": "2023-06-15T21:03:22.185Z"
   },
   {
    "duration": 14,
    "start_time": "2023-06-15T21:03:22.190Z"
   },
   {
    "duration": 15,
    "start_time": "2023-06-15T21:03:22.205Z"
   },
   {
    "duration": 37,
    "start_time": "2023-06-15T21:03:22.222Z"
   },
   {
    "duration": 6,
    "start_time": "2023-06-15T21:03:22.261Z"
   },
   {
    "duration": 24,
    "start_time": "2023-06-15T21:03:22.269Z"
   },
   {
    "duration": 11,
    "start_time": "2023-06-15T21:03:22.295Z"
   },
   {
    "duration": 6,
    "start_time": "2023-06-15T21:03:22.308Z"
   },
   {
    "duration": 6,
    "start_time": "2023-06-15T21:03:22.315Z"
   },
   {
    "duration": 211,
    "start_time": "2023-06-15T21:03:22.323Z"
   },
   {
    "duration": 3,
    "start_time": "2023-06-15T21:03:22.535Z"
   },
   {
    "duration": 14,
    "start_time": "2023-06-15T21:03:22.539Z"
   },
   {
    "duration": 110,
    "start_time": "2023-06-15T21:03:22.555Z"
   },
   {
    "duration": 11,
    "start_time": "2023-06-15T21:03:22.666Z"
   },
   {
    "duration": 21,
    "start_time": "2023-06-15T21:03:22.678Z"
   },
   {
    "duration": 221,
    "start_time": "2023-06-15T21:03:22.701Z"
   },
   {
    "duration": 223,
    "start_time": "2023-06-15T21:03:22.924Z"
   },
   {
    "duration": 326,
    "start_time": "2023-06-15T21:03:23.150Z"
   },
   {
    "duration": 227,
    "start_time": "2023-06-15T21:03:23.478Z"
   },
   {
    "duration": 299,
    "start_time": "2023-06-15T21:03:23.709Z"
   },
   {
    "duration": 328,
    "start_time": "2023-06-15T21:03:24.011Z"
   },
   {
    "duration": 11,
    "start_time": "2023-06-15T21:03:24.341Z"
   },
   {
    "duration": 148,
    "start_time": "2023-06-15T21:03:24.353Z"
   },
   {
    "duration": 166,
    "start_time": "2023-06-15T21:03:24.503Z"
   },
   {
    "duration": 4,
    "start_time": "2023-06-15T21:03:24.671Z"
   },
   {
    "duration": 6,
    "start_time": "2023-06-15T21:03:24.677Z"
   },
   {
    "duration": 14,
    "start_time": "2023-06-15T21:03:24.685Z"
   },
   {
    "duration": 18,
    "start_time": "2023-06-15T21:03:24.701Z"
   },
   {
    "duration": 15,
    "start_time": "2023-06-15T21:03:24.751Z"
   },
   {
    "duration": 12,
    "start_time": "2023-06-15T21:03:24.767Z"
   },
   {
    "duration": 150,
    "start_time": "2023-06-15T21:03:24.781Z"
   },
   {
    "duration": 34,
    "start_time": "2023-06-15T21:03:24.932Z"
   },
   {
    "duration": 10,
    "start_time": "2023-06-15T21:03:24.968Z"
   },
   {
    "duration": 1065,
    "start_time": "2023-06-15T21:03:24.980Z"
   },
   {
    "duration": 0,
    "start_time": "2023-06-15T21:03:26.046Z"
   },
   {
    "duration": 0,
    "start_time": "2023-06-15T21:03:26.047Z"
   },
   {
    "duration": 21,
    "start_time": "2023-06-15T21:16:07.544Z"
   },
   {
    "duration": 20,
    "start_time": "2023-06-15T21:16:50.668Z"
   },
   {
    "duration": 4,
    "start_time": "2023-06-15T21:21:40.944Z"
   },
   {
    "duration": 42,
    "start_time": "2023-06-15T21:21:48.844Z"
   },
   {
    "duration": 26,
    "start_time": "2023-06-15T21:22:19.760Z"
   },
   {
    "duration": 3,
    "start_time": "2023-06-15T21:22:25.760Z"
   },
   {
    "duration": 73,
    "start_time": "2023-06-15T21:22:25.766Z"
   },
   {
    "duration": 10,
    "start_time": "2023-06-15T21:22:25.841Z"
   },
   {
    "duration": 9,
    "start_time": "2023-06-15T21:22:25.853Z"
   },
   {
    "duration": 12,
    "start_time": "2023-06-15T21:22:25.864Z"
   },
   {
    "duration": 11,
    "start_time": "2023-06-15T21:22:25.878Z"
   },
   {
    "duration": 8,
    "start_time": "2023-06-15T21:22:25.891Z"
   },
   {
    "duration": 10,
    "start_time": "2023-06-15T21:22:25.900Z"
   },
   {
    "duration": 43,
    "start_time": "2023-06-15T21:22:25.912Z"
   },
   {
    "duration": 10,
    "start_time": "2023-06-15T21:22:25.957Z"
   },
   {
    "duration": 14,
    "start_time": "2023-06-15T21:22:25.970Z"
   },
   {
    "duration": 3,
    "start_time": "2023-06-15T21:22:25.986Z"
   },
   {
    "duration": 9,
    "start_time": "2023-06-15T21:22:25.990Z"
   },
   {
    "duration": 18,
    "start_time": "2023-06-15T21:22:26.001Z"
   },
   {
    "duration": 30,
    "start_time": "2023-06-15T21:22:26.021Z"
   },
   {
    "duration": 3,
    "start_time": "2023-06-15T21:22:26.052Z"
   },
   {
    "duration": 13,
    "start_time": "2023-06-15T21:22:26.056Z"
   },
   {
    "duration": 15,
    "start_time": "2023-06-15T21:22:26.071Z"
   },
   {
    "duration": 14,
    "start_time": "2023-06-15T21:22:26.087Z"
   },
   {
    "duration": 13,
    "start_time": "2023-06-15T21:22:26.102Z"
   },
   {
    "duration": 13,
    "start_time": "2023-06-15T21:22:26.117Z"
   },
   {
    "duration": 20,
    "start_time": "2023-06-15T21:22:26.131Z"
   },
   {
    "duration": 10,
    "start_time": "2023-06-15T21:22:26.152Z"
   },
   {
    "duration": 11,
    "start_time": "2023-06-15T21:22:26.163Z"
   },
   {
    "duration": 5,
    "start_time": "2023-06-15T21:22:26.175Z"
   },
   {
    "duration": 4,
    "start_time": "2023-06-15T21:22:26.182Z"
   },
   {
    "duration": 200,
    "start_time": "2023-06-15T21:22:26.188Z"
   },
   {
    "duration": 6,
    "start_time": "2023-06-15T21:22:26.389Z"
   },
   {
    "duration": 117,
    "start_time": "2023-06-15T21:22:26.398Z"
   },
   {
    "duration": 12,
    "start_time": "2023-06-15T21:22:26.517Z"
   },
   {
    "duration": 31,
    "start_time": "2023-06-15T21:22:26.530Z"
   },
   {
    "duration": 217,
    "start_time": "2023-06-15T21:22:26.562Z"
   },
   {
    "duration": 225,
    "start_time": "2023-06-15T21:22:26.781Z"
   },
   {
    "duration": 381,
    "start_time": "2023-06-15T21:22:27.007Z"
   },
   {
    "duration": 216,
    "start_time": "2023-06-15T21:22:27.389Z"
   },
   {
    "duration": 293,
    "start_time": "2023-06-15T21:22:27.607Z"
   },
   {
    "duration": 293,
    "start_time": "2023-06-15T21:22:27.902Z"
   },
   {
    "duration": 4,
    "start_time": "2023-06-15T21:22:28.197Z"
   },
   {
    "duration": 170,
    "start_time": "2023-06-15T21:22:28.203Z"
   },
   {
    "duration": 156,
    "start_time": "2023-06-15T21:22:28.374Z"
   },
   {
    "duration": 5,
    "start_time": "2023-06-15T21:22:28.531Z"
   },
   {
    "duration": 15,
    "start_time": "2023-06-15T21:22:28.537Z"
   },
   {
    "duration": 15,
    "start_time": "2023-06-15T21:22:28.553Z"
   },
   {
    "duration": 16,
    "start_time": "2023-06-15T21:22:28.570Z"
   },
   {
    "duration": 12,
    "start_time": "2023-06-15T21:22:28.588Z"
   },
   {
    "duration": 14,
    "start_time": "2023-06-15T21:22:28.601Z"
   },
   {
    "duration": 141,
    "start_time": "2023-06-15T21:22:28.617Z"
   },
   {
    "duration": 26,
    "start_time": "2023-06-15T21:22:28.760Z"
   },
   {
    "duration": 0,
    "start_time": "2023-06-15T21:22:28.787Z"
   },
   {
    "duration": 0,
    "start_time": "2023-06-15T21:22:28.788Z"
   },
   {
    "duration": 0,
    "start_time": "2023-06-15T21:22:28.789Z"
   },
   {
    "duration": 0,
    "start_time": "2023-06-15T21:22:28.790Z"
   },
   {
    "duration": 10,
    "start_time": "2023-06-15T21:25:10.412Z"
   },
   {
    "duration": 26,
    "start_time": "2023-06-15T21:25:19.920Z"
   },
   {
    "duration": 22,
    "start_time": "2023-06-15T21:25:43.451Z"
   },
   {
    "duration": 12,
    "start_time": "2023-06-15T21:27:11.682Z"
   },
   {
    "duration": 13,
    "start_time": "2023-06-15T21:28:41.348Z"
   },
   {
    "duration": 13,
    "start_time": "2023-06-15T21:29:13.178Z"
   },
   {
    "duration": 12,
    "start_time": "2023-06-15T21:30:12.724Z"
   },
   {
    "duration": 20,
    "start_time": "2023-06-15T21:32:37.450Z"
   },
   {
    "duration": 14,
    "start_time": "2023-06-15T21:33:09.132Z"
   },
   {
    "duration": 3,
    "start_time": "2023-06-15T21:34:15.518Z"
   },
   {
    "duration": 99,
    "start_time": "2023-06-15T21:34:15.524Z"
   },
   {
    "duration": 10,
    "start_time": "2023-06-15T21:34:15.625Z"
   },
   {
    "duration": 10,
    "start_time": "2023-06-15T21:34:15.636Z"
   },
   {
    "duration": 28,
    "start_time": "2023-06-15T21:34:15.648Z"
   },
   {
    "duration": 14,
    "start_time": "2023-06-15T21:34:15.678Z"
   },
   {
    "duration": 30,
    "start_time": "2023-06-15T21:34:15.694Z"
   },
   {
    "duration": 15,
    "start_time": "2023-06-15T21:34:15.726Z"
   },
   {
    "duration": 13,
    "start_time": "2023-06-15T21:34:15.743Z"
   },
   {
    "duration": 15,
    "start_time": "2023-06-15T21:34:15.757Z"
   },
   {
    "duration": 16,
    "start_time": "2023-06-15T21:34:15.774Z"
   },
   {
    "duration": 4,
    "start_time": "2023-06-15T21:34:15.792Z"
   },
   {
    "duration": 12,
    "start_time": "2023-06-15T21:34:15.798Z"
   },
   {
    "duration": 18,
    "start_time": "2023-06-15T21:34:15.813Z"
   },
   {
    "duration": 11,
    "start_time": "2023-06-15T21:34:15.833Z"
   },
   {
    "duration": 8,
    "start_time": "2023-06-15T21:34:15.845Z"
   },
   {
    "duration": 7,
    "start_time": "2023-06-15T21:34:15.855Z"
   },
   {
    "duration": 6,
    "start_time": "2023-06-15T21:34:15.864Z"
   },
   {
    "duration": 14,
    "start_time": "2023-06-15T21:34:15.872Z"
   },
   {
    "duration": 16,
    "start_time": "2023-06-15T21:34:15.887Z"
   },
   {
    "duration": 12,
    "start_time": "2023-06-15T21:34:15.905Z"
   },
   {
    "duration": 12,
    "start_time": "2023-06-15T21:34:15.919Z"
   },
   {
    "duration": 29,
    "start_time": "2023-06-15T21:34:15.933Z"
   },
   {
    "duration": 20,
    "start_time": "2023-06-15T21:34:15.963Z"
   },
   {
    "duration": 6,
    "start_time": "2023-06-15T21:34:15.985Z"
   },
   {
    "duration": 15,
    "start_time": "2023-06-15T21:34:15.993Z"
   },
   {
    "duration": 218,
    "start_time": "2023-06-15T21:34:16.010Z"
   },
   {
    "duration": 8,
    "start_time": "2023-06-15T21:34:16.229Z"
   },
   {
    "duration": 127,
    "start_time": "2023-06-15T21:34:16.249Z"
   },
   {
    "duration": 13,
    "start_time": "2023-06-15T21:34:16.378Z"
   },
   {
    "duration": 15,
    "start_time": "2023-06-15T21:34:16.393Z"
   },
   {
    "duration": 256,
    "start_time": "2023-06-15T21:34:16.409Z"
   },
   {
    "duration": 235,
    "start_time": "2023-06-15T21:34:16.667Z"
   },
   {
    "duration": 300,
    "start_time": "2023-06-15T21:34:16.904Z"
   },
   {
    "duration": 265,
    "start_time": "2023-06-15T21:34:17.206Z"
   },
   {
    "duration": 324,
    "start_time": "2023-06-15T21:34:17.473Z"
   },
   {
    "duration": 404,
    "start_time": "2023-06-15T21:34:17.799Z"
   },
   {
    "duration": 4,
    "start_time": "2023-06-15T21:34:18.205Z"
   },
   {
    "duration": 183,
    "start_time": "2023-06-15T21:34:18.211Z"
   },
   {
    "duration": 189,
    "start_time": "2023-06-15T21:34:18.396Z"
   },
   {
    "duration": 4,
    "start_time": "2023-06-15T21:34:18.589Z"
   },
   {
    "duration": 16,
    "start_time": "2023-06-15T21:34:18.595Z"
   },
   {
    "duration": 19,
    "start_time": "2023-06-15T21:34:18.613Z"
   },
   {
    "duration": 64,
    "start_time": "2023-06-15T21:34:18.633Z"
   },
   {
    "duration": 27,
    "start_time": "2023-06-15T21:34:18.699Z"
   },
   {
    "duration": 27,
    "start_time": "2023-06-15T21:34:18.728Z"
   },
   {
    "duration": 143,
    "start_time": "2023-06-15T21:34:18.764Z"
   },
   {
    "duration": 21,
    "start_time": "2023-06-15T21:34:18.908Z"
   },
   {
    "duration": 33,
    "start_time": "2023-06-15T21:34:18.931Z"
   },
   {
    "duration": 1337,
    "start_time": "2023-06-15T21:34:18.971Z"
   },
   {
    "duration": 0,
    "start_time": "2023-06-15T21:34:20.309Z"
   },
   {
    "duration": 0,
    "start_time": "2023-06-15T21:34:20.311Z"
   },
   {
    "duration": 17,
    "start_time": "2023-06-15T21:37:01.772Z"
   },
   {
    "duration": 13,
    "start_time": "2023-06-15T21:39:26.864Z"
   },
   {
    "duration": 1119,
    "start_time": "2023-06-15T21:43:24.573Z"
   },
   {
    "duration": 4,
    "start_time": "2023-06-15T21:45:13.932Z"
   },
   {
    "duration": 80,
    "start_time": "2023-06-15T21:45:13.938Z"
   },
   {
    "duration": 12,
    "start_time": "2023-06-15T21:45:14.021Z"
   },
   {
    "duration": 11,
    "start_time": "2023-06-15T21:45:14.036Z"
   },
   {
    "duration": 10,
    "start_time": "2023-06-15T21:45:14.050Z"
   },
   {
    "duration": 11,
    "start_time": "2023-06-15T21:45:14.064Z"
   },
   {
    "duration": 8,
    "start_time": "2023-06-15T21:45:14.077Z"
   },
   {
    "duration": 12,
    "start_time": "2023-06-15T21:45:14.087Z"
   },
   {
    "duration": 14,
    "start_time": "2023-06-15T21:45:14.101Z"
   },
   {
    "duration": 38,
    "start_time": "2023-06-15T21:45:14.119Z"
   },
   {
    "duration": 12,
    "start_time": "2023-06-15T21:45:14.161Z"
   },
   {
    "duration": 4,
    "start_time": "2023-06-15T21:45:14.175Z"
   },
   {
    "duration": 8,
    "start_time": "2023-06-15T21:45:14.180Z"
   },
   {
    "duration": 16,
    "start_time": "2023-06-15T21:45:14.190Z"
   },
   {
    "duration": 10,
    "start_time": "2023-06-15T21:45:14.208Z"
   },
   {
    "duration": 39,
    "start_time": "2023-06-15T21:45:14.220Z"
   },
   {
    "duration": 7,
    "start_time": "2023-06-15T21:45:14.261Z"
   },
   {
    "duration": 5,
    "start_time": "2023-06-15T21:45:14.270Z"
   },
   {
    "duration": 16,
    "start_time": "2023-06-15T21:45:14.277Z"
   },
   {
    "duration": 12,
    "start_time": "2023-06-15T21:45:14.295Z"
   },
   {
    "duration": 13,
    "start_time": "2023-06-15T21:45:14.309Z"
   },
   {
    "duration": 34,
    "start_time": "2023-06-15T21:45:14.323Z"
   },
   {
    "duration": 10,
    "start_time": "2023-06-15T21:45:14.362Z"
   },
   {
    "duration": 11,
    "start_time": "2023-06-15T21:45:14.374Z"
   },
   {
    "duration": 6,
    "start_time": "2023-06-15T21:45:14.386Z"
   },
   {
    "duration": 6,
    "start_time": "2023-06-15T21:45:14.393Z"
   },
   {
    "duration": 184,
    "start_time": "2023-06-15T21:45:14.401Z"
   },
   {
    "duration": 7,
    "start_time": "2023-06-15T21:45:14.589Z"
   },
   {
    "duration": 125,
    "start_time": "2023-06-15T21:45:14.598Z"
   },
   {
    "duration": 12,
    "start_time": "2023-06-15T21:45:14.725Z"
   },
   {
    "duration": 31,
    "start_time": "2023-06-15T21:45:14.738Z"
   },
   {
    "duration": 214,
    "start_time": "2023-06-15T21:45:14.771Z"
   },
   {
    "duration": 229,
    "start_time": "2023-06-15T21:45:14.986Z"
   },
   {
    "duration": 360,
    "start_time": "2023-06-15T21:45:15.217Z"
   },
   {
    "duration": 246,
    "start_time": "2023-06-15T21:45:15.579Z"
   },
   {
    "duration": 341,
    "start_time": "2023-06-15T21:45:15.827Z"
   },
   {
    "duration": 300,
    "start_time": "2023-06-15T21:45:16.170Z"
   },
   {
    "duration": 5,
    "start_time": "2023-06-15T21:45:16.472Z"
   },
   {
    "duration": 164,
    "start_time": "2023-06-15T21:45:16.479Z"
   },
   {
    "duration": 166,
    "start_time": "2023-06-15T21:45:16.652Z"
   },
   {
    "duration": 5,
    "start_time": "2023-06-15T21:45:16.820Z"
   },
   {
    "duration": 144,
    "start_time": "2023-06-15T21:45:16.827Z"
   },
   {
    "duration": 15,
    "start_time": "2023-06-15T21:45:16.973Z"
   },
   {
    "duration": 46,
    "start_time": "2023-06-15T21:45:16.990Z"
   },
   {
    "duration": 19,
    "start_time": "2023-06-15T21:45:17.037Z"
   },
   {
    "duration": 13,
    "start_time": "2023-06-15T21:45:17.065Z"
   },
   {
    "duration": 148,
    "start_time": "2023-06-15T21:45:17.079Z"
   },
   {
    "duration": 53,
    "start_time": "2023-06-15T21:45:17.228Z"
   },
   {
    "duration": 12,
    "start_time": "2023-06-15T21:45:17.283Z"
   },
   {
    "duration": 1148,
    "start_time": "2023-06-15T21:45:17.297Z"
   },
   {
    "duration": 0,
    "start_time": "2023-06-15T21:45:18.447Z"
   },
   {
    "duration": 0,
    "start_time": "2023-06-15T21:45:18.448Z"
   },
   {
    "duration": 1178,
    "start_time": "2023-06-15T21:50:26.461Z"
   },
   {
    "duration": 4,
    "start_time": "2023-06-15T21:57:14.828Z"
   },
   {
    "duration": 14,
    "start_time": "2023-06-15T21:57:25.467Z"
   },
   {
    "duration": 17,
    "start_time": "2023-06-15T21:57:59.245Z"
   },
   {
    "duration": 16,
    "start_time": "2023-06-15T21:58:14.409Z"
   },
   {
    "duration": 12,
    "start_time": "2023-06-15T21:58:34.517Z"
   },
   {
    "duration": 10,
    "start_time": "2023-06-15T21:59:27.917Z"
   },
   {
    "duration": 10,
    "start_time": "2023-06-15T22:00:27.178Z"
   },
   {
    "duration": 11,
    "start_time": "2023-06-15T22:00:38.543Z"
   },
   {
    "duration": 9,
    "start_time": "2023-06-15T22:01:02.824Z"
   },
   {
    "duration": 27,
    "start_time": "2023-06-15T22:02:36.139Z"
   },
   {
    "duration": 21,
    "start_time": "2023-06-15T22:06:38.576Z"
   },
   {
    "duration": 36,
    "start_time": "2023-06-15T22:07:19.659Z"
   },
   {
    "duration": 25,
    "start_time": "2023-06-15T22:08:01.775Z"
   },
   {
    "duration": 23,
    "start_time": "2023-06-15T22:08:32.133Z"
   },
   {
    "duration": 27,
    "start_time": "2023-06-15T22:09:36.475Z"
   },
   {
    "duration": 19,
    "start_time": "2023-06-15T22:14:12.817Z"
   },
   {
    "duration": 11,
    "start_time": "2023-06-15T22:15:43.375Z"
   },
   {
    "duration": 29,
    "start_time": "2023-06-15T22:16:04.047Z"
   },
   {
    "duration": 6,
    "start_time": "2023-06-15T22:16:31.642Z"
   },
   {
    "duration": 91,
    "start_time": "2023-06-15T22:16:31.651Z"
   },
   {
    "duration": 15,
    "start_time": "2023-06-15T22:16:31.744Z"
   },
   {
    "duration": 22,
    "start_time": "2023-06-15T22:16:31.762Z"
   },
   {
    "duration": 35,
    "start_time": "2023-06-15T22:16:31.787Z"
   },
   {
    "duration": 18,
    "start_time": "2023-06-15T22:16:31.824Z"
   },
   {
    "duration": 32,
    "start_time": "2023-06-15T22:16:31.845Z"
   },
   {
    "duration": 20,
    "start_time": "2023-06-15T22:16:31.879Z"
   },
   {
    "duration": 12,
    "start_time": "2023-06-15T22:16:31.904Z"
   },
   {
    "duration": 22,
    "start_time": "2023-06-15T22:16:31.918Z"
   },
   {
    "duration": 25,
    "start_time": "2023-06-15T22:16:31.942Z"
   },
   {
    "duration": 12,
    "start_time": "2023-06-15T22:16:31.968Z"
   },
   {
    "duration": 7,
    "start_time": "2023-06-15T22:16:31.982Z"
   },
   {
    "duration": 17,
    "start_time": "2023-06-15T22:16:31.990Z"
   },
   {
    "duration": 12,
    "start_time": "2023-06-15T22:16:32.009Z"
   },
   {
    "duration": 10,
    "start_time": "2023-06-15T22:16:32.023Z"
   },
   {
    "duration": 6,
    "start_time": "2023-06-15T22:16:32.035Z"
   },
   {
    "duration": 5,
    "start_time": "2023-06-15T22:16:32.043Z"
   },
   {
    "duration": 22,
    "start_time": "2023-06-15T22:16:32.050Z"
   },
   {
    "duration": 20,
    "start_time": "2023-06-15T22:16:32.074Z"
   },
   {
    "duration": 14,
    "start_time": "2023-06-15T22:16:32.096Z"
   },
   {
    "duration": 11,
    "start_time": "2023-06-15T22:16:32.112Z"
   },
   {
    "duration": 37,
    "start_time": "2023-06-15T22:16:32.125Z"
   },
   {
    "duration": 13,
    "start_time": "2023-06-15T22:16:32.171Z"
   },
   {
    "duration": 8,
    "start_time": "2023-06-15T22:16:32.186Z"
   },
   {
    "duration": 7,
    "start_time": "2023-06-15T22:16:32.196Z"
   },
   {
    "duration": 239,
    "start_time": "2023-06-15T22:16:32.205Z"
   },
   {
    "duration": 23,
    "start_time": "2023-06-15T22:16:32.446Z"
   },
   {
    "duration": 128,
    "start_time": "2023-06-15T22:16:32.472Z"
   },
   {
    "duration": 13,
    "start_time": "2023-06-15T22:16:32.601Z"
   },
   {
    "duration": 35,
    "start_time": "2023-06-15T22:16:32.616Z"
   },
   {
    "duration": 260,
    "start_time": "2023-06-15T22:16:32.654Z"
   },
   {
    "duration": 274,
    "start_time": "2023-06-15T22:16:32.916Z"
   },
   {
    "duration": 311,
    "start_time": "2023-06-15T22:16:33.192Z"
   },
   {
    "duration": 258,
    "start_time": "2023-06-15T22:16:33.505Z"
   },
   {
    "duration": 326,
    "start_time": "2023-06-15T22:16:33.765Z"
   },
   {
    "duration": 385,
    "start_time": "2023-06-15T22:16:34.092Z"
   },
   {
    "duration": 6,
    "start_time": "2023-06-15T22:16:34.479Z"
   },
   {
    "duration": 172,
    "start_time": "2023-06-15T22:16:34.487Z"
   },
   {
    "duration": 180,
    "start_time": "2023-06-15T22:16:34.661Z"
   },
   {
    "duration": 9,
    "start_time": "2023-06-15T22:16:34.853Z"
   },
   {
    "duration": 15,
    "start_time": "2023-06-15T22:16:34.864Z"
   },
   {
    "duration": 12,
    "start_time": "2023-06-15T22:16:34.882Z"
   },
   {
    "duration": 13,
    "start_time": "2023-06-15T22:16:34.896Z"
   },
   {
    "duration": 13,
    "start_time": "2023-06-15T22:16:34.911Z"
   },
   {
    "duration": 33,
    "start_time": "2023-06-15T22:16:34.926Z"
   },
   {
    "duration": 162,
    "start_time": "2023-06-15T22:16:34.962Z"
   },
   {
    "duration": 35,
    "start_time": "2023-06-15T22:16:35.126Z"
   },
   {
    "duration": 14,
    "start_time": "2023-06-15T22:16:35.163Z"
   },
   {
    "duration": 5,
    "start_time": "2023-06-15T22:16:35.179Z"
   },
   {
    "duration": 26,
    "start_time": "2023-06-15T22:16:35.185Z"
   },
   {
    "duration": 13,
    "start_time": "2023-06-15T22:16:35.213Z"
   },
   {
    "duration": 3,
    "start_time": "2023-06-15T22:16:35.228Z"
   },
   {
    "duration": 37,
    "start_time": "2023-06-15T22:16:35.253Z"
   },
   {
    "duration": 20,
    "start_time": "2023-06-15T22:16:35.292Z"
   },
   {
    "duration": 14,
    "start_time": "2023-06-15T22:19:23.017Z"
   },
   {
    "duration": 13,
    "start_time": "2023-06-15T22:20:20.910Z"
   },
   {
    "duration": 22,
    "start_time": "2023-06-15T22:20:41.809Z"
   },
   {
    "duration": 5,
    "start_time": "2023-06-15T22:20:47.540Z"
   },
   {
    "duration": 81,
    "start_time": "2023-06-15T22:20:47.547Z"
   },
   {
    "duration": 11,
    "start_time": "2023-06-15T22:20:47.630Z"
   },
   {
    "duration": 11,
    "start_time": "2023-06-15T22:20:47.642Z"
   },
   {
    "duration": 18,
    "start_time": "2023-06-15T22:20:47.655Z"
   },
   {
    "duration": 9,
    "start_time": "2023-06-15T22:20:47.675Z"
   },
   {
    "duration": 12,
    "start_time": "2023-06-15T22:20:47.686Z"
   },
   {
    "duration": 14,
    "start_time": "2023-06-15T22:20:47.700Z"
   },
   {
    "duration": 34,
    "start_time": "2023-06-15T22:20:47.716Z"
   },
   {
    "duration": 13,
    "start_time": "2023-06-15T22:20:47.753Z"
   },
   {
    "duration": 10,
    "start_time": "2023-06-15T22:20:47.768Z"
   },
   {
    "duration": 4,
    "start_time": "2023-06-15T22:20:47.779Z"
   },
   {
    "duration": 10,
    "start_time": "2023-06-15T22:20:47.785Z"
   },
   {
    "duration": 15,
    "start_time": "2023-06-15T22:20:47.797Z"
   },
   {
    "duration": 38,
    "start_time": "2023-06-15T22:20:47.814Z"
   },
   {
    "duration": 3,
    "start_time": "2023-06-15T22:20:47.855Z"
   },
   {
    "duration": 5,
    "start_time": "2023-06-15T22:20:47.860Z"
   },
   {
    "duration": 5,
    "start_time": "2023-06-15T22:20:47.867Z"
   },
   {
    "duration": 14,
    "start_time": "2023-06-15T22:20:47.874Z"
   },
   {
    "duration": 21,
    "start_time": "2023-06-15T22:20:47.890Z"
   },
   {
    "duration": 38,
    "start_time": "2023-06-15T22:20:47.912Z"
   },
   {
    "duration": 17,
    "start_time": "2023-06-15T22:20:47.953Z"
   },
   {
    "duration": 22,
    "start_time": "2023-06-15T22:20:47.972Z"
   },
   {
    "duration": 12,
    "start_time": "2023-06-15T22:20:47.998Z"
   },
   {
    "duration": 13,
    "start_time": "2023-06-15T22:20:48.011Z"
   },
   {
    "duration": 12,
    "start_time": "2023-06-15T22:20:48.025Z"
   },
   {
    "duration": 191,
    "start_time": "2023-06-15T22:20:48.038Z"
   },
   {
    "duration": 9,
    "start_time": "2023-06-15T22:20:48.231Z"
   },
   {
    "duration": 130,
    "start_time": "2023-06-15T22:20:48.252Z"
   },
   {
    "duration": 12,
    "start_time": "2023-06-15T22:20:48.384Z"
   },
   {
    "duration": 17,
    "start_time": "2023-06-15T22:20:48.397Z"
   },
   {
    "duration": 226,
    "start_time": "2023-06-15T22:20:48.415Z"
   },
   {
    "duration": 248,
    "start_time": "2023-06-15T22:20:48.642Z"
   },
   {
    "duration": 429,
    "start_time": "2023-06-15T22:20:48.892Z"
   },
   {
    "duration": 267,
    "start_time": "2023-06-15T22:20:49.323Z"
   },
   {
    "duration": 310,
    "start_time": "2023-06-15T22:20:49.592Z"
   },
   {
    "duration": 307,
    "start_time": "2023-06-15T22:20:49.904Z"
   },
   {
    "duration": 3,
    "start_time": "2023-06-15T22:20:50.213Z"
   },
   {
    "duration": 162,
    "start_time": "2023-06-15T22:20:50.218Z"
   },
   {
    "duration": 170,
    "start_time": "2023-06-15T22:20:50.382Z"
   },
   {
    "duration": 6,
    "start_time": "2023-06-15T22:20:50.555Z"
   },
   {
    "duration": 16,
    "start_time": "2023-06-15T22:20:50.563Z"
   },
   {
    "duration": 14,
    "start_time": "2023-06-15T22:20:50.580Z"
   },
   {
    "duration": 19,
    "start_time": "2023-06-15T22:20:50.595Z"
   },
   {
    "duration": 18,
    "start_time": "2023-06-15T22:20:50.615Z"
   },
   {
    "duration": 25,
    "start_time": "2023-06-15T22:20:50.635Z"
   },
   {
    "duration": 149,
    "start_time": "2023-06-15T22:20:50.662Z"
   },
   {
    "duration": 24,
    "start_time": "2023-06-15T22:20:50.812Z"
   },
   {
    "duration": 16,
    "start_time": "2023-06-15T22:20:50.850Z"
   },
   {
    "duration": 5,
    "start_time": "2023-06-15T22:20:50.867Z"
   },
   {
    "duration": 38,
    "start_time": "2023-06-15T22:20:50.874Z"
   },
   {
    "duration": 42,
    "start_time": "2023-06-15T22:20:50.914Z"
   },
   {
    "duration": 14,
    "start_time": "2023-06-15T22:20:50.959Z"
   },
   {
    "duration": 23,
    "start_time": "2023-06-15T22:20:50.975Z"
   },
   {
    "duration": 13,
    "start_time": "2023-06-15T22:20:50.999Z"
   },
   {
    "duration": 22,
    "start_time": "2023-06-15T22:20:51.013Z"
   },
   {
    "duration": 23,
    "start_time": "2023-06-15T22:20:51.037Z"
   },
   {
    "duration": 19,
    "start_time": "2023-06-15T22:21:15.009Z"
   },
   {
    "duration": 21,
    "start_time": "2023-06-15T22:21:44.240Z"
   },
   {
    "duration": 18,
    "start_time": "2023-06-15T22:22:22.546Z"
   },
   {
    "duration": 20,
    "start_time": "2023-06-15T22:22:44.180Z"
   },
   {
    "duration": 18,
    "start_time": "2023-06-15T22:23:09.652Z"
   },
   {
    "duration": 19,
    "start_time": "2023-06-15T22:24:05.772Z"
   },
   {
    "duration": 5,
    "start_time": "2023-06-15T22:27:16.877Z"
   },
   {
    "duration": 76,
    "start_time": "2023-06-15T22:27:16.884Z"
   },
   {
    "duration": 11,
    "start_time": "2023-06-15T22:27:16.962Z"
   },
   {
    "duration": 19,
    "start_time": "2023-06-15T22:27:16.975Z"
   },
   {
    "duration": 13,
    "start_time": "2023-06-15T22:27:16.996Z"
   },
   {
    "duration": 13,
    "start_time": "2023-06-15T22:27:17.010Z"
   },
   {
    "duration": 28,
    "start_time": "2023-06-15T22:27:17.024Z"
   },
   {
    "duration": 15,
    "start_time": "2023-06-15T22:27:17.054Z"
   },
   {
    "duration": 9,
    "start_time": "2023-06-15T22:27:17.071Z"
   },
   {
    "duration": 9,
    "start_time": "2023-06-15T22:27:17.083Z"
   },
   {
    "duration": 9,
    "start_time": "2023-06-15T22:27:17.093Z"
   },
   {
    "duration": 48,
    "start_time": "2023-06-15T22:27:17.103Z"
   },
   {
    "duration": 23,
    "start_time": "2023-06-15T22:27:17.153Z"
   },
   {
    "duration": 15,
    "start_time": "2023-06-15T22:27:17.182Z"
   },
   {
    "duration": 23,
    "start_time": "2023-06-15T22:27:17.199Z"
   },
   {
    "duration": 9,
    "start_time": "2023-06-15T22:27:17.224Z"
   },
   {
    "duration": 9,
    "start_time": "2023-06-15T22:27:17.235Z"
   },
   {
    "duration": 4,
    "start_time": "2023-06-15T22:27:17.245Z"
   },
   {
    "duration": 15,
    "start_time": "2023-06-15T22:27:17.251Z"
   },
   {
    "duration": 12,
    "start_time": "2023-06-15T22:27:17.268Z"
   },
   {
    "duration": 15,
    "start_time": "2023-06-15T22:27:17.282Z"
   },
   {
    "duration": 10,
    "start_time": "2023-06-15T22:27:17.299Z"
   },
   {
    "duration": 12,
    "start_time": "2023-06-15T22:27:17.311Z"
   },
   {
    "duration": 41,
    "start_time": "2023-06-15T22:27:17.324Z"
   },
   {
    "duration": 9,
    "start_time": "2023-06-15T22:27:17.368Z"
   },
   {
    "duration": 9,
    "start_time": "2023-06-15T22:27:17.379Z"
   },
   {
    "duration": 213,
    "start_time": "2023-06-15T22:27:17.390Z"
   },
   {
    "duration": 7,
    "start_time": "2023-06-15T22:27:17.605Z"
   },
   {
    "duration": 128,
    "start_time": "2023-06-15T22:27:17.614Z"
   },
   {
    "duration": 15,
    "start_time": "2023-06-15T22:27:17.750Z"
   },
   {
    "duration": 19,
    "start_time": "2023-06-15T22:27:17.766Z"
   },
   {
    "duration": 239,
    "start_time": "2023-06-15T22:27:17.788Z"
   },
   {
    "duration": 235,
    "start_time": "2023-06-15T22:27:18.029Z"
   },
   {
    "duration": 363,
    "start_time": "2023-06-15T22:27:18.266Z"
   },
   {
    "duration": 235,
    "start_time": "2023-06-15T22:27:18.631Z"
   },
   {
    "duration": 324,
    "start_time": "2023-06-15T22:27:18.868Z"
   },
   {
    "duration": 399,
    "start_time": "2023-06-15T22:27:19.194Z"
   },
   {
    "duration": 4,
    "start_time": "2023-06-15T22:27:19.596Z"
   },
   {
    "duration": 165,
    "start_time": "2023-06-15T22:27:19.602Z"
   },
   {
    "duration": 170,
    "start_time": "2023-06-15T22:27:19.769Z"
   },
   {
    "duration": 7,
    "start_time": "2023-06-15T22:27:19.953Z"
   },
   {
    "duration": 7,
    "start_time": "2023-06-15T22:27:19.963Z"
   },
   {
    "duration": 10,
    "start_time": "2023-06-15T22:27:19.972Z"
   },
   {
    "duration": 11,
    "start_time": "2023-06-15T22:27:19.984Z"
   },
   {
    "duration": 11,
    "start_time": "2023-06-15T22:27:19.997Z"
   },
   {
    "duration": 18,
    "start_time": "2023-06-15T22:27:20.010Z"
   },
   {
    "duration": 179,
    "start_time": "2023-06-15T22:27:20.029Z"
   },
   {
    "duration": 47,
    "start_time": "2023-06-15T22:27:20.210Z"
   },
   {
    "duration": 17,
    "start_time": "2023-06-15T22:27:20.260Z"
   },
   {
    "duration": 26,
    "start_time": "2023-06-15T22:27:20.278Z"
   },
   {
    "duration": 37,
    "start_time": "2023-06-15T22:27:20.306Z"
   },
   {
    "duration": 12,
    "start_time": "2023-06-15T22:27:20.344Z"
   },
   {
    "duration": 3,
    "start_time": "2023-06-15T22:27:20.358Z"
   },
   {
    "duration": 26,
    "start_time": "2023-06-15T22:27:20.363Z"
   },
   {
    "duration": 3,
    "start_time": "2023-06-15T22:27:20.391Z"
   },
   {
    "duration": 23,
    "start_time": "2023-06-15T22:27:20.396Z"
   },
   {
    "duration": 12,
    "start_time": "2023-06-15T23:33:16.100Z"
   },
   {
    "duration": 4,
    "start_time": "2023-06-15T23:33:35.694Z"
   },
   {
    "duration": 83,
    "start_time": "2023-06-15T23:33:35.700Z"
   },
   {
    "duration": 11,
    "start_time": "2023-06-15T23:33:35.785Z"
   },
   {
    "duration": 16,
    "start_time": "2023-06-15T23:33:35.797Z"
   },
   {
    "duration": 12,
    "start_time": "2023-06-15T23:33:35.815Z"
   },
   {
    "duration": 10,
    "start_time": "2023-06-15T23:33:35.828Z"
   },
   {
    "duration": 8,
    "start_time": "2023-06-15T23:33:35.840Z"
   },
   {
    "duration": 12,
    "start_time": "2023-06-15T23:33:35.850Z"
   },
   {
    "duration": 9,
    "start_time": "2023-06-15T23:33:35.864Z"
   },
   {
    "duration": 9,
    "start_time": "2023-06-15T23:33:35.874Z"
   },
   {
    "duration": 10,
    "start_time": "2023-06-15T23:33:35.886Z"
   },
   {
    "duration": 6,
    "start_time": "2023-06-15T23:33:35.898Z"
   },
   {
    "duration": 8,
    "start_time": "2023-06-15T23:33:35.905Z"
   },
   {
    "duration": 41,
    "start_time": "2023-06-15T23:33:35.915Z"
   },
   {
    "duration": 10,
    "start_time": "2023-06-15T23:33:35.959Z"
   },
   {
    "duration": 4,
    "start_time": "2023-06-15T23:33:35.970Z"
   },
   {
    "duration": 3,
    "start_time": "2023-06-15T23:33:35.976Z"
   },
   {
    "duration": 3,
    "start_time": "2023-06-15T23:33:35.981Z"
   },
   {
    "duration": 11,
    "start_time": "2023-06-15T23:33:35.986Z"
   },
   {
    "duration": 15,
    "start_time": "2023-06-15T23:33:35.999Z"
   },
   {
    "duration": 0,
    "start_time": "2023-06-15T23:33:36.017Z"
   },
   {
    "duration": 0,
    "start_time": "2023-06-15T23:33:36.051Z"
   },
   {
    "duration": 0,
    "start_time": "2023-06-15T23:33:36.053Z"
   },
   {
    "duration": 0,
    "start_time": "2023-06-15T23:33:36.054Z"
   },
   {
    "duration": 0,
    "start_time": "2023-06-15T23:33:36.055Z"
   },
   {
    "duration": 0,
    "start_time": "2023-06-15T23:33:36.056Z"
   },
   {
    "duration": 0,
    "start_time": "2023-06-15T23:33:36.058Z"
   },
   {
    "duration": 0,
    "start_time": "2023-06-15T23:33:36.059Z"
   },
   {
    "duration": 0,
    "start_time": "2023-06-15T23:33:36.060Z"
   },
   {
    "duration": 0,
    "start_time": "2023-06-15T23:33:36.061Z"
   },
   {
    "duration": 0,
    "start_time": "2023-06-15T23:33:36.062Z"
   },
   {
    "duration": 0,
    "start_time": "2023-06-15T23:33:36.063Z"
   },
   {
    "duration": 0,
    "start_time": "2023-06-15T23:33:36.064Z"
   },
   {
    "duration": 0,
    "start_time": "2023-06-15T23:33:36.065Z"
   },
   {
    "duration": 0,
    "start_time": "2023-06-15T23:33:36.066Z"
   },
   {
    "duration": 0,
    "start_time": "2023-06-15T23:33:36.067Z"
   },
   {
    "duration": 0,
    "start_time": "2023-06-15T23:33:36.068Z"
   },
   {
    "duration": 0,
    "start_time": "2023-06-15T23:33:36.069Z"
   },
   {
    "duration": 0,
    "start_time": "2023-06-15T23:33:36.070Z"
   },
   {
    "duration": 0,
    "start_time": "2023-06-15T23:33:36.071Z"
   },
   {
    "duration": 0,
    "start_time": "2023-06-15T23:33:36.072Z"
   },
   {
    "duration": 0,
    "start_time": "2023-06-15T23:33:36.074Z"
   },
   {
    "duration": 0,
    "start_time": "2023-06-15T23:33:36.075Z"
   },
   {
    "duration": 0,
    "start_time": "2023-06-15T23:33:36.077Z"
   },
   {
    "duration": 0,
    "start_time": "2023-06-15T23:33:36.078Z"
   },
   {
    "duration": 0,
    "start_time": "2023-06-15T23:33:36.079Z"
   },
   {
    "duration": 0,
    "start_time": "2023-06-15T23:33:36.081Z"
   },
   {
    "duration": 0,
    "start_time": "2023-06-15T23:33:36.082Z"
   },
   {
    "duration": 0,
    "start_time": "2023-06-15T23:33:36.083Z"
   },
   {
    "duration": 0,
    "start_time": "2023-06-15T23:33:36.084Z"
   },
   {
    "duration": 0,
    "start_time": "2023-06-15T23:33:36.085Z"
   },
   {
    "duration": 3,
    "start_time": "2023-06-15T23:33:36.151Z"
   },
   {
    "duration": 16,
    "start_time": "2023-06-15T23:33:36.156Z"
   },
   {
    "duration": 10,
    "start_time": "2023-06-15T23:33:36.173Z"
   },
   {
    "duration": 2,
    "start_time": "2023-06-15T23:33:36.184Z"
   },
   {
    "duration": 77,
    "start_time": "2023-06-15T23:33:36.188Z"
   },
   {
    "duration": 3,
    "start_time": "2023-06-15T23:33:36.267Z"
   },
   {
    "duration": 22,
    "start_time": "2023-06-15T23:33:36.271Z"
   },
   {
    "duration": 11,
    "start_time": "2023-06-15T23:39:06.358Z"
   },
   {
    "duration": 4,
    "start_time": "2023-06-15T23:39:09.023Z"
   },
   {
    "duration": 73,
    "start_time": "2023-06-15T23:39:09.029Z"
   },
   {
    "duration": 10,
    "start_time": "2023-06-15T23:39:09.104Z"
   },
   {
    "duration": 9,
    "start_time": "2023-06-15T23:39:09.116Z"
   },
   {
    "duration": 15,
    "start_time": "2023-06-15T23:39:09.126Z"
   },
   {
    "duration": 20,
    "start_time": "2023-06-15T23:39:09.142Z"
   },
   {
    "duration": 17,
    "start_time": "2023-06-15T23:39:09.164Z"
   },
   {
    "duration": 18,
    "start_time": "2023-06-15T23:39:09.183Z"
   },
   {
    "duration": 12,
    "start_time": "2023-06-15T23:39:09.203Z"
   },
   {
    "duration": 7,
    "start_time": "2023-06-15T23:39:09.216Z"
   },
   {
    "duration": 7,
    "start_time": "2023-06-15T23:39:09.226Z"
   },
   {
    "duration": 3,
    "start_time": "2023-06-15T23:39:09.249Z"
   },
   {
    "duration": 7,
    "start_time": "2023-06-15T23:39:09.254Z"
   },
   {
    "duration": 12,
    "start_time": "2023-06-15T23:39:09.262Z"
   },
   {
    "duration": 10,
    "start_time": "2023-06-15T23:39:09.275Z"
   },
   {
    "duration": 4,
    "start_time": "2023-06-15T23:39:09.287Z"
   },
   {
    "duration": 4,
    "start_time": "2023-06-15T23:39:09.292Z"
   },
   {
    "duration": 5,
    "start_time": "2023-06-15T23:39:09.297Z"
   },
   {
    "duration": 11,
    "start_time": "2023-06-15T23:39:09.303Z"
   },
   {
    "duration": 11,
    "start_time": "2023-06-15T23:39:09.350Z"
   },
   {
    "duration": 13,
    "start_time": "2023-06-15T23:39:09.363Z"
   },
   {
    "duration": 9,
    "start_time": "2023-06-15T23:39:09.377Z"
   },
   {
    "duration": 0,
    "start_time": "2023-06-15T23:39:09.388Z"
   },
   {
    "duration": 0,
    "start_time": "2023-06-15T23:39:09.389Z"
   },
   {
    "duration": 0,
    "start_time": "2023-06-15T23:39:09.390Z"
   },
   {
    "duration": 0,
    "start_time": "2023-06-15T23:39:09.391Z"
   },
   {
    "duration": 0,
    "start_time": "2023-06-15T23:39:09.392Z"
   },
   {
    "duration": 0,
    "start_time": "2023-06-15T23:39:09.393Z"
   },
   {
    "duration": 0,
    "start_time": "2023-06-15T23:39:09.394Z"
   },
   {
    "duration": 0,
    "start_time": "2023-06-15T23:39:09.395Z"
   },
   {
    "duration": 0,
    "start_time": "2023-06-15T23:39:09.396Z"
   },
   {
    "duration": 0,
    "start_time": "2023-06-15T23:39:09.397Z"
   },
   {
    "duration": 0,
    "start_time": "2023-06-15T23:39:09.398Z"
   },
   {
    "duration": 0,
    "start_time": "2023-06-15T23:39:09.399Z"
   },
   {
    "duration": 0,
    "start_time": "2023-06-15T23:39:09.400Z"
   },
   {
    "duration": 0,
    "start_time": "2023-06-15T23:39:09.401Z"
   },
   {
    "duration": 0,
    "start_time": "2023-06-15T23:39:09.402Z"
   },
   {
    "duration": 0,
    "start_time": "2023-06-15T23:39:09.403Z"
   },
   {
    "duration": 0,
    "start_time": "2023-06-15T23:39:09.403Z"
   },
   {
    "duration": 0,
    "start_time": "2023-06-15T23:39:09.451Z"
   },
   {
    "duration": 0,
    "start_time": "2023-06-15T23:39:09.452Z"
   },
   {
    "duration": 0,
    "start_time": "2023-06-15T23:39:09.453Z"
   },
   {
    "duration": 0,
    "start_time": "2023-06-15T23:39:09.454Z"
   },
   {
    "duration": 0,
    "start_time": "2023-06-15T23:39:09.455Z"
   },
   {
    "duration": 0,
    "start_time": "2023-06-15T23:39:09.456Z"
   },
   {
    "duration": 0,
    "start_time": "2023-06-15T23:39:09.457Z"
   },
   {
    "duration": 0,
    "start_time": "2023-06-15T23:39:09.458Z"
   },
   {
    "duration": 0,
    "start_time": "2023-06-15T23:39:09.458Z"
   },
   {
    "duration": 0,
    "start_time": "2023-06-15T23:39:09.460Z"
   },
   {
    "duration": 0,
    "start_time": "2023-06-15T23:39:09.460Z"
   },
   {
    "duration": 0,
    "start_time": "2023-06-15T23:39:09.461Z"
   },
   {
    "duration": 0,
    "start_time": "2023-06-15T23:39:09.462Z"
   },
   {
    "duration": 0,
    "start_time": "2023-06-15T23:39:09.463Z"
   },
   {
    "duration": 0,
    "start_time": "2023-06-15T23:39:09.464Z"
   },
   {
    "duration": 0,
    "start_time": "2023-06-15T23:39:09.465Z"
   },
   {
    "duration": 0,
    "start_time": "2023-06-15T23:39:09.466Z"
   },
   {
    "duration": 0,
    "start_time": "2023-06-15T23:39:09.467Z"
   },
   {
    "duration": 4,
    "start_time": "2023-06-15T23:41:06.438Z"
   },
   {
    "duration": 77,
    "start_time": "2023-06-15T23:41:06.446Z"
   },
   {
    "duration": 11,
    "start_time": "2023-06-15T23:41:06.525Z"
   },
   {
    "duration": 10,
    "start_time": "2023-06-15T23:41:06.537Z"
   },
   {
    "duration": 11,
    "start_time": "2023-06-15T23:41:06.549Z"
   },
   {
    "duration": 9,
    "start_time": "2023-06-15T23:41:06.562Z"
   },
   {
    "duration": 8,
    "start_time": "2023-06-15T23:41:06.572Z"
   },
   {
    "duration": 12,
    "start_time": "2023-06-15T23:41:06.581Z"
   },
   {
    "duration": 10,
    "start_time": "2023-06-15T23:41:06.595Z"
   },
   {
    "duration": 50,
    "start_time": "2023-06-15T23:41:06.606Z"
   },
   {
    "duration": 8,
    "start_time": "2023-06-15T23:41:06.659Z"
   },
   {
    "duration": 3,
    "start_time": "2023-06-15T23:41:06.669Z"
   },
   {
    "duration": 6,
    "start_time": "2023-06-15T23:41:06.674Z"
   },
   {
    "duration": 4,
    "start_time": "2023-06-15T23:41:06.681Z"
   },
   {
    "duration": 4,
    "start_time": "2023-06-15T23:41:06.687Z"
   },
   {
    "duration": 71,
    "start_time": "2023-06-15T23:41:06.692Z"
   },
   {
    "duration": 0,
    "start_time": "2023-06-15T23:41:06.765Z"
   },
   {
    "duration": 0,
    "start_time": "2023-06-15T23:41:06.766Z"
   },
   {
    "duration": 0,
    "start_time": "2023-06-15T23:41:06.768Z"
   },
   {
    "duration": 0,
    "start_time": "2023-06-15T23:41:06.769Z"
   },
   {
    "duration": 0,
    "start_time": "2023-06-15T23:41:06.770Z"
   },
   {
    "duration": 0,
    "start_time": "2023-06-15T23:41:06.771Z"
   },
   {
    "duration": 0,
    "start_time": "2023-06-15T23:41:06.772Z"
   },
   {
    "duration": 0,
    "start_time": "2023-06-15T23:41:06.773Z"
   },
   {
    "duration": 0,
    "start_time": "2023-06-15T23:41:06.774Z"
   },
   {
    "duration": 0,
    "start_time": "2023-06-15T23:41:06.775Z"
   },
   {
    "duration": 0,
    "start_time": "2023-06-15T23:41:06.775Z"
   },
   {
    "duration": 0,
    "start_time": "2023-06-15T23:41:06.777Z"
   },
   {
    "duration": 0,
    "start_time": "2023-06-15T23:41:06.778Z"
   },
   {
    "duration": 0,
    "start_time": "2023-06-15T23:41:06.779Z"
   },
   {
    "duration": 0,
    "start_time": "2023-06-15T23:41:06.779Z"
   },
   {
    "duration": 0,
    "start_time": "2023-06-15T23:41:06.780Z"
   },
   {
    "duration": 0,
    "start_time": "2023-06-15T23:41:06.781Z"
   },
   {
    "duration": 0,
    "start_time": "2023-06-15T23:41:06.782Z"
   },
   {
    "duration": 0,
    "start_time": "2023-06-15T23:41:06.783Z"
   },
   {
    "duration": 0,
    "start_time": "2023-06-15T23:41:06.784Z"
   },
   {
    "duration": 0,
    "start_time": "2023-06-15T23:41:06.786Z"
   },
   {
    "duration": 1,
    "start_time": "2023-06-15T23:41:06.786Z"
   },
   {
    "duration": 0,
    "start_time": "2023-06-15T23:41:06.787Z"
   },
   {
    "duration": 0,
    "start_time": "2023-06-15T23:41:06.789Z"
   },
   {
    "duration": 0,
    "start_time": "2023-06-15T23:41:06.790Z"
   },
   {
    "duration": 0,
    "start_time": "2023-06-15T23:41:06.791Z"
   },
   {
    "duration": 0,
    "start_time": "2023-06-15T23:41:06.792Z"
   },
   {
    "duration": 0,
    "start_time": "2023-06-15T23:41:06.793Z"
   },
   {
    "duration": 0,
    "start_time": "2023-06-15T23:41:06.794Z"
   },
   {
    "duration": 0,
    "start_time": "2023-06-15T23:41:06.795Z"
   },
   {
    "duration": 0,
    "start_time": "2023-06-15T23:41:06.796Z"
   },
   {
    "duration": 0,
    "start_time": "2023-06-15T23:41:06.796Z"
   },
   {
    "duration": 0,
    "start_time": "2023-06-15T23:41:06.797Z"
   },
   {
    "duration": 0,
    "start_time": "2023-06-15T23:41:06.798Z"
   },
   {
    "duration": 0,
    "start_time": "2023-06-15T23:41:06.800Z"
   },
   {
    "duration": 0,
    "start_time": "2023-06-15T23:41:06.800Z"
   },
   {
    "duration": 0,
    "start_time": "2023-06-15T23:41:06.802Z"
   },
   {
    "duration": 0,
    "start_time": "2023-06-15T23:41:06.850Z"
   },
   {
    "duration": 0,
    "start_time": "2023-06-15T23:41:06.851Z"
   },
   {
    "duration": 0,
    "start_time": "2023-06-15T23:41:06.853Z"
   },
   {
    "duration": 4,
    "start_time": "2023-06-15T23:42:24.240Z"
   },
   {
    "duration": 8,
    "start_time": "2023-06-15T23:42:25.327Z"
   },
   {
    "duration": 9,
    "start_time": "2023-06-15T23:42:28.682Z"
   },
   {
    "duration": 7,
    "start_time": "2023-06-15T23:42:45.227Z"
   },
   {
    "duration": 991,
    "start_time": "2023-06-15T23:42:59.106Z"
   },
   {
    "duration": 75,
    "start_time": "2023-06-15T23:43:00.099Z"
   },
   {
    "duration": 11,
    "start_time": "2023-06-15T23:43:00.175Z"
   },
   {
    "duration": 31,
    "start_time": "2023-06-15T23:43:00.188Z"
   },
   {
    "duration": 20,
    "start_time": "2023-06-15T23:43:00.221Z"
   },
   {
    "duration": 25,
    "start_time": "2023-06-15T23:43:00.243Z"
   },
   {
    "duration": 41,
    "start_time": "2023-06-15T23:43:00.270Z"
   },
   {
    "duration": 48,
    "start_time": "2023-06-15T23:43:00.313Z"
   },
   {
    "duration": 58,
    "start_time": "2023-06-15T23:43:00.363Z"
   },
   {
    "duration": 63,
    "start_time": "2023-06-15T23:43:00.425Z"
   },
   {
    "duration": 64,
    "start_time": "2023-06-15T23:43:00.490Z"
   },
   {
    "duration": 29,
    "start_time": "2023-06-15T23:43:00.556Z"
   },
   {
    "duration": 33,
    "start_time": "2023-06-15T23:43:00.587Z"
   },
   {
    "duration": 38,
    "start_time": "2023-06-15T23:43:00.622Z"
   },
   {
    "duration": 27,
    "start_time": "2023-06-15T23:43:00.662Z"
   },
   {
    "duration": 33,
    "start_time": "2023-06-15T23:43:00.691Z"
   },
   {
    "duration": 31,
    "start_time": "2023-06-15T23:43:00.726Z"
   },
   {
    "duration": 25,
    "start_time": "2023-06-15T23:43:00.759Z"
   },
   {
    "duration": 23,
    "start_time": "2023-06-15T23:43:00.787Z"
   },
   {
    "duration": 38,
    "start_time": "2023-06-15T23:43:00.812Z"
   },
   {
    "duration": 29,
    "start_time": "2023-06-15T23:43:00.852Z"
   },
   {
    "duration": 78,
    "start_time": "2023-06-15T23:43:00.883Z"
   },
   {
    "duration": 103,
    "start_time": "2023-06-15T23:43:00.963Z"
   },
   {
    "duration": 0,
    "start_time": "2023-06-15T23:43:01.068Z"
   },
   {
    "duration": 0,
    "start_time": "2023-06-15T23:43:01.069Z"
   },
   {
    "duration": 0,
    "start_time": "2023-06-15T23:43:01.071Z"
   },
   {
    "duration": 0,
    "start_time": "2023-06-15T23:43:01.072Z"
   },
   {
    "duration": 0,
    "start_time": "2023-06-15T23:43:01.073Z"
   },
   {
    "duration": 0,
    "start_time": "2023-06-15T23:43:01.074Z"
   },
   {
    "duration": 0,
    "start_time": "2023-06-15T23:43:01.075Z"
   },
   {
    "duration": 0,
    "start_time": "2023-06-15T23:43:01.076Z"
   },
   {
    "duration": 0,
    "start_time": "2023-06-15T23:43:01.077Z"
   },
   {
    "duration": 0,
    "start_time": "2023-06-15T23:43:01.078Z"
   },
   {
    "duration": 0,
    "start_time": "2023-06-15T23:43:01.079Z"
   },
   {
    "duration": 0,
    "start_time": "2023-06-15T23:43:01.080Z"
   },
   {
    "duration": 0,
    "start_time": "2023-06-15T23:43:01.081Z"
   },
   {
    "duration": 0,
    "start_time": "2023-06-15T23:43:01.082Z"
   },
   {
    "duration": 0,
    "start_time": "2023-06-15T23:43:01.083Z"
   },
   {
    "duration": 0,
    "start_time": "2023-06-15T23:43:01.084Z"
   },
   {
    "duration": 0,
    "start_time": "2023-06-15T23:43:01.085Z"
   },
   {
    "duration": 0,
    "start_time": "2023-06-15T23:43:01.086Z"
   },
   {
    "duration": 0,
    "start_time": "2023-06-15T23:43:01.086Z"
   },
   {
    "duration": 0,
    "start_time": "2023-06-15T23:43:01.087Z"
   },
   {
    "duration": 0,
    "start_time": "2023-06-15T23:43:01.088Z"
   },
   {
    "duration": 0,
    "start_time": "2023-06-15T23:43:01.089Z"
   },
   {
    "duration": 0,
    "start_time": "2023-06-15T23:43:01.090Z"
   },
   {
    "duration": 0,
    "start_time": "2023-06-15T23:43:01.091Z"
   },
   {
    "duration": 0,
    "start_time": "2023-06-15T23:43:01.092Z"
   },
   {
    "duration": 0,
    "start_time": "2023-06-15T23:43:01.093Z"
   },
   {
    "duration": 0,
    "start_time": "2023-06-15T23:43:01.094Z"
   },
   {
    "duration": 0,
    "start_time": "2023-06-15T23:43:01.095Z"
   },
   {
    "duration": 0,
    "start_time": "2023-06-15T23:43:01.095Z"
   },
   {
    "duration": 0,
    "start_time": "2023-06-15T23:43:01.096Z"
   },
   {
    "duration": 0,
    "start_time": "2023-06-15T23:43:01.150Z"
   },
   {
    "duration": 0,
    "start_time": "2023-06-15T23:43:01.151Z"
   },
   {
    "duration": 0,
    "start_time": "2023-06-15T23:43:01.153Z"
   },
   {
    "duration": 0,
    "start_time": "2023-06-15T23:43:01.154Z"
   },
   {
    "duration": 5,
    "start_time": "2023-06-15T23:44:15.305Z"
   },
   {
    "duration": 11,
    "start_time": "2023-06-15T23:44:16.136Z"
   },
   {
    "duration": 11,
    "start_time": "2023-06-15T23:44:16.731Z"
   },
   {
    "duration": 5,
    "start_time": "2023-06-15T23:44:18.736Z"
   },
   {
    "duration": 76,
    "start_time": "2023-06-15T23:44:18.743Z"
   },
   {
    "duration": 13,
    "start_time": "2023-06-15T23:44:18.821Z"
   },
   {
    "duration": 10,
    "start_time": "2023-06-15T23:44:18.836Z"
   },
   {
    "duration": 10,
    "start_time": "2023-06-15T23:44:18.848Z"
   },
   {
    "duration": 14,
    "start_time": "2023-06-15T23:44:18.859Z"
   },
   {
    "duration": 10,
    "start_time": "2023-06-15T23:44:18.874Z"
   },
   {
    "duration": 22,
    "start_time": "2023-06-15T23:44:18.886Z"
   },
   {
    "duration": 18,
    "start_time": "2023-06-15T23:44:18.912Z"
   },
   {
    "duration": 25,
    "start_time": "2023-06-15T23:44:18.931Z"
   },
   {
    "duration": 9,
    "start_time": "2023-06-15T23:44:18.958Z"
   },
   {
    "duration": 2,
    "start_time": "2023-06-15T23:44:18.969Z"
   },
   {
    "duration": 12,
    "start_time": "2023-06-15T23:44:18.972Z"
   },
   {
    "duration": 7,
    "start_time": "2023-06-15T23:44:18.985Z"
   },
   {
    "duration": 4,
    "start_time": "2023-06-15T23:44:18.993Z"
   },
   {
    "duration": 10,
    "start_time": "2023-06-15T23:44:18.999Z"
   },
   {
    "duration": 9,
    "start_time": "2023-06-15T23:44:19.011Z"
   },
   {
    "duration": 29,
    "start_time": "2023-06-15T23:44:19.022Z"
   },
   {
    "duration": 9,
    "start_time": "2023-06-15T23:44:19.053Z"
   },
   {
    "duration": 13,
    "start_time": "2023-06-15T23:44:19.063Z"
   },
   {
    "duration": 13,
    "start_time": "2023-06-15T23:44:19.077Z"
   },
   {
    "duration": 11,
    "start_time": "2023-06-15T23:44:19.092Z"
   },
   {
    "duration": 46,
    "start_time": "2023-06-15T23:44:19.104Z"
   },
   {
    "duration": 0,
    "start_time": "2023-06-15T23:44:19.152Z"
   },
   {
    "duration": 0,
    "start_time": "2023-06-15T23:44:19.154Z"
   },
   {
    "duration": 0,
    "start_time": "2023-06-15T23:44:19.155Z"
   },
   {
    "duration": 0,
    "start_time": "2023-06-15T23:44:19.156Z"
   },
   {
    "duration": 0,
    "start_time": "2023-06-15T23:44:19.157Z"
   },
   {
    "duration": 0,
    "start_time": "2023-06-15T23:44:19.158Z"
   },
   {
    "duration": 0,
    "start_time": "2023-06-15T23:44:19.158Z"
   },
   {
    "duration": 0,
    "start_time": "2023-06-15T23:44:19.160Z"
   },
   {
    "duration": 0,
    "start_time": "2023-06-15T23:44:19.160Z"
   },
   {
    "duration": 0,
    "start_time": "2023-06-15T23:44:19.161Z"
   },
   {
    "duration": 0,
    "start_time": "2023-06-15T23:44:19.162Z"
   },
   {
    "duration": 0,
    "start_time": "2023-06-15T23:44:19.163Z"
   },
   {
    "duration": 0,
    "start_time": "2023-06-15T23:44:19.164Z"
   },
   {
    "duration": 0,
    "start_time": "2023-06-15T23:44:19.165Z"
   },
   {
    "duration": 0,
    "start_time": "2023-06-15T23:44:19.166Z"
   },
   {
    "duration": 0,
    "start_time": "2023-06-15T23:44:19.167Z"
   },
   {
    "duration": 0,
    "start_time": "2023-06-15T23:44:19.168Z"
   },
   {
    "duration": 0,
    "start_time": "2023-06-15T23:44:19.169Z"
   },
   {
    "duration": 0,
    "start_time": "2023-06-15T23:44:19.169Z"
   },
   {
    "duration": 0,
    "start_time": "2023-06-15T23:44:19.170Z"
   },
   {
    "duration": 0,
    "start_time": "2023-06-15T23:44:19.171Z"
   },
   {
    "duration": 0,
    "start_time": "2023-06-15T23:44:19.172Z"
   },
   {
    "duration": 0,
    "start_time": "2023-06-15T23:44:19.173Z"
   },
   {
    "duration": 0,
    "start_time": "2023-06-15T23:44:19.174Z"
   },
   {
    "duration": 0,
    "start_time": "2023-06-15T23:44:19.175Z"
   },
   {
    "duration": 0,
    "start_time": "2023-06-15T23:44:19.176Z"
   },
   {
    "duration": 0,
    "start_time": "2023-06-15T23:44:19.176Z"
   },
   {
    "duration": 0,
    "start_time": "2023-06-15T23:44:19.177Z"
   },
   {
    "duration": 0,
    "start_time": "2023-06-15T23:44:19.178Z"
   },
   {
    "duration": 0,
    "start_time": "2023-06-15T23:44:19.179Z"
   },
   {
    "duration": 0,
    "start_time": "2023-06-15T23:44:19.180Z"
   },
   {
    "duration": 0,
    "start_time": "2023-06-15T23:44:19.181Z"
   },
   {
    "duration": 0,
    "start_time": "2023-06-15T23:44:19.181Z"
   },
   {
    "duration": 0,
    "start_time": "2023-06-15T23:44:19.183Z"
   },
   {
    "duration": 100,
    "start_time": "2023-06-15T23:48:18.555Z"
   },
   {
    "duration": 5,
    "start_time": "2023-06-15T23:48:45.605Z"
   },
   {
    "duration": 8,
    "start_time": "2023-06-15T23:48:46.251Z"
   },
   {
    "duration": 9,
    "start_time": "2023-06-15T23:48:46.826Z"
   },
   {
    "duration": 98,
    "start_time": "2023-06-15T23:48:48.491Z"
   },
   {
    "duration": 3,
    "start_time": "2023-06-15T23:48:55.960Z"
   },
   {
    "duration": 77,
    "start_time": "2023-06-15T23:48:55.965Z"
   },
   {
    "duration": 11,
    "start_time": "2023-06-15T23:48:56.044Z"
   },
   {
    "duration": 10,
    "start_time": "2023-06-15T23:48:56.057Z"
   },
   {
    "duration": 14,
    "start_time": "2023-06-15T23:48:56.068Z"
   },
   {
    "duration": 19,
    "start_time": "2023-06-15T23:48:56.084Z"
   },
   {
    "duration": 8,
    "start_time": "2023-06-15T23:48:56.105Z"
   },
   {
    "duration": 10,
    "start_time": "2023-06-15T23:48:56.114Z"
   },
   {
    "duration": 31,
    "start_time": "2023-06-15T23:48:56.125Z"
   },
   {
    "duration": 7,
    "start_time": "2023-06-15T23:48:56.158Z"
   },
   {
    "duration": 7,
    "start_time": "2023-06-15T23:48:56.167Z"
   },
   {
    "duration": 11,
    "start_time": "2023-06-15T23:48:56.175Z"
   },
   {
    "duration": 9,
    "start_time": "2023-06-15T23:48:56.187Z"
   },
   {
    "duration": 5,
    "start_time": "2023-06-15T23:48:56.197Z"
   },
   {
    "duration": 4,
    "start_time": "2023-06-15T23:48:56.203Z"
   },
   {
    "duration": 5,
    "start_time": "2023-06-15T23:48:56.208Z"
   },
   {
    "duration": 37,
    "start_time": "2023-06-15T23:48:56.214Z"
   },
   {
    "duration": 10,
    "start_time": "2023-06-15T23:48:56.253Z"
   },
   {
    "duration": 16,
    "start_time": "2023-06-15T23:48:56.264Z"
   },
   {
    "duration": 1032,
    "start_time": "2023-06-15T23:48:56.281Z"
   },
   {
    "duration": 0,
    "start_time": "2023-06-15T23:48:57.316Z"
   },
   {
    "duration": 0,
    "start_time": "2023-06-15T23:48:57.317Z"
   },
   {
    "duration": 0,
    "start_time": "2023-06-15T23:48:57.318Z"
   },
   {
    "duration": 0,
    "start_time": "2023-06-15T23:48:57.320Z"
   },
   {
    "duration": 0,
    "start_time": "2023-06-15T23:48:57.321Z"
   },
   {
    "duration": 0,
    "start_time": "2023-06-15T23:48:57.322Z"
   },
   {
    "duration": 0,
    "start_time": "2023-06-15T23:48:57.323Z"
   },
   {
    "duration": 0,
    "start_time": "2023-06-15T23:48:57.324Z"
   },
   {
    "duration": 0,
    "start_time": "2023-06-15T23:48:57.325Z"
   },
   {
    "duration": 0,
    "start_time": "2023-06-15T23:48:57.326Z"
   },
   {
    "duration": 0,
    "start_time": "2023-06-15T23:48:57.326Z"
   },
   {
    "duration": 0,
    "start_time": "2023-06-15T23:48:57.327Z"
   },
   {
    "duration": 0,
    "start_time": "2023-06-15T23:48:57.328Z"
   },
   {
    "duration": 0,
    "start_time": "2023-06-15T23:48:57.329Z"
   },
   {
    "duration": 0,
    "start_time": "2023-06-15T23:48:57.330Z"
   },
   {
    "duration": 0,
    "start_time": "2023-06-15T23:48:57.331Z"
   },
   {
    "duration": 0,
    "start_time": "2023-06-15T23:48:57.331Z"
   },
   {
    "duration": 0,
    "start_time": "2023-06-15T23:48:57.332Z"
   },
   {
    "duration": 0,
    "start_time": "2023-06-15T23:48:57.335Z"
   },
   {
    "duration": 0,
    "start_time": "2023-06-15T23:48:57.336Z"
   },
   {
    "duration": 0,
    "start_time": "2023-06-15T23:48:57.337Z"
   },
   {
    "duration": 0,
    "start_time": "2023-06-15T23:48:57.338Z"
   },
   {
    "duration": 0,
    "start_time": "2023-06-15T23:48:57.339Z"
   },
   {
    "duration": 0,
    "start_time": "2023-06-15T23:48:57.340Z"
   },
   {
    "duration": 0,
    "start_time": "2023-06-15T23:48:57.341Z"
   },
   {
    "duration": 0,
    "start_time": "2023-06-15T23:48:57.342Z"
   },
   {
    "duration": 0,
    "start_time": "2023-06-15T23:48:57.343Z"
   },
   {
    "duration": 0,
    "start_time": "2023-06-15T23:48:57.344Z"
   },
   {
    "duration": 0,
    "start_time": "2023-06-15T23:48:57.345Z"
   },
   {
    "duration": 0,
    "start_time": "2023-06-15T23:48:57.347Z"
   },
   {
    "duration": 0,
    "start_time": "2023-06-15T23:48:57.347Z"
   },
   {
    "duration": 0,
    "start_time": "2023-06-15T23:48:57.348Z"
   },
   {
    "duration": 0,
    "start_time": "2023-06-15T23:48:57.349Z"
   },
   {
    "duration": 0,
    "start_time": "2023-06-15T23:48:57.350Z"
   },
   {
    "duration": 0,
    "start_time": "2023-06-15T23:48:57.351Z"
   },
   {
    "duration": 0,
    "start_time": "2023-06-15T23:48:57.352Z"
   },
   {
    "duration": 0,
    "start_time": "2023-06-15T23:48:57.353Z"
   },
   {
    "duration": 4,
    "start_time": "2023-06-15T23:50:25.772Z"
   },
   {
    "duration": 8,
    "start_time": "2023-06-15T23:50:26.499Z"
   },
   {
    "duration": 4,
    "start_time": "2023-06-15T23:50:47.591Z"
   },
   {
    "duration": 81,
    "start_time": "2023-06-15T23:50:47.597Z"
   },
   {
    "duration": 9,
    "start_time": "2023-06-15T23:50:47.680Z"
   },
   {
    "duration": 15,
    "start_time": "2023-06-15T23:50:47.691Z"
   },
   {
    "duration": 11,
    "start_time": "2023-06-15T23:50:47.708Z"
   },
   {
    "duration": 13,
    "start_time": "2023-06-15T23:50:47.721Z"
   },
   {
    "duration": 17,
    "start_time": "2023-06-15T23:50:47.735Z"
   },
   {
    "duration": 12,
    "start_time": "2023-06-15T23:50:47.754Z"
   },
   {
    "duration": 9,
    "start_time": "2023-06-15T23:50:47.768Z"
   },
   {
    "duration": 7,
    "start_time": "2023-06-15T23:50:47.778Z"
   },
   {
    "duration": 8,
    "start_time": "2023-06-15T23:50:47.787Z"
   },
   {
    "duration": 2,
    "start_time": "2023-06-15T23:50:47.797Z"
   },
   {
    "duration": 7,
    "start_time": "2023-06-15T23:50:47.801Z"
   },
   {
    "duration": 41,
    "start_time": "2023-06-15T23:50:47.810Z"
   },
   {
    "duration": 5,
    "start_time": "2023-06-15T23:50:47.852Z"
   },
   {
    "duration": 5,
    "start_time": "2023-06-15T23:50:47.858Z"
   },
   {
    "duration": 9,
    "start_time": "2023-06-15T23:50:47.865Z"
   },
   {
    "duration": 8,
    "start_time": "2023-06-15T23:50:47.876Z"
   },
   {
    "duration": 7,
    "start_time": "2023-06-15T23:50:47.886Z"
   },
   {
    "duration": 11,
    "start_time": "2023-06-15T23:50:47.895Z"
   },
   {
    "duration": 53,
    "start_time": "2023-06-15T23:50:47.908Z"
   },
   {
    "duration": 17,
    "start_time": "2023-06-15T23:50:47.962Z"
   },
   {
    "duration": 10,
    "start_time": "2023-06-15T23:50:47.980Z"
   },
   {
    "duration": 9,
    "start_time": "2023-06-15T23:50:47.994Z"
   },
   {
    "duration": 11,
    "start_time": "2023-06-15T23:50:48.004Z"
   },
   {
    "duration": 37,
    "start_time": "2023-06-15T23:50:48.017Z"
   },
   {
    "duration": 11,
    "start_time": "2023-06-15T23:50:48.056Z"
   },
   {
    "duration": 185,
    "start_time": "2023-06-15T23:50:48.068Z"
   },
   {
    "duration": 8,
    "start_time": "2023-06-15T23:50:48.254Z"
   },
   {
    "duration": 0,
    "start_time": "2023-06-15T23:50:48.263Z"
   },
   {
    "duration": 0,
    "start_time": "2023-06-15T23:50:48.264Z"
   },
   {
    "duration": 0,
    "start_time": "2023-06-15T23:50:48.265Z"
   },
   {
    "duration": 0,
    "start_time": "2023-06-15T23:50:48.266Z"
   },
   {
    "duration": 0,
    "start_time": "2023-06-15T23:50:48.267Z"
   },
   {
    "duration": 0,
    "start_time": "2023-06-15T23:50:48.268Z"
   },
   {
    "duration": 0,
    "start_time": "2023-06-15T23:50:48.269Z"
   },
   {
    "duration": 0,
    "start_time": "2023-06-15T23:50:48.270Z"
   },
   {
    "duration": 0,
    "start_time": "2023-06-15T23:50:48.271Z"
   },
   {
    "duration": 0,
    "start_time": "2023-06-15T23:50:48.273Z"
   },
   {
    "duration": 0,
    "start_time": "2023-06-15T23:50:48.273Z"
   },
   {
    "duration": 0,
    "start_time": "2023-06-15T23:50:48.275Z"
   },
   {
    "duration": 0,
    "start_time": "2023-06-15T23:50:48.277Z"
   },
   {
    "duration": 0,
    "start_time": "2023-06-15T23:50:48.278Z"
   },
   {
    "duration": 1,
    "start_time": "2023-06-15T23:50:48.279Z"
   },
   {
    "duration": 0,
    "start_time": "2023-06-15T23:50:48.280Z"
   },
   {
    "duration": 0,
    "start_time": "2023-06-15T23:50:48.282Z"
   },
   {
    "duration": 0,
    "start_time": "2023-06-15T23:50:48.283Z"
   },
   {
    "duration": 0,
    "start_time": "2023-06-15T23:50:48.284Z"
   },
   {
    "duration": 1,
    "start_time": "2023-06-15T23:50:48.284Z"
   },
   {
    "duration": 0,
    "start_time": "2023-06-15T23:50:48.286Z"
   },
   {
    "duration": 0,
    "start_time": "2023-06-15T23:50:48.287Z"
   },
   {
    "duration": 0,
    "start_time": "2023-06-15T23:50:48.288Z"
   },
   {
    "duration": 0,
    "start_time": "2023-06-15T23:50:48.290Z"
   },
   {
    "duration": 0,
    "start_time": "2023-06-15T23:50:48.291Z"
   },
   {
    "duration": 0,
    "start_time": "2023-06-15T23:50:48.292Z"
   },
   {
    "duration": 0,
    "start_time": "2023-06-15T23:50:48.349Z"
   },
   {
    "duration": 0,
    "start_time": "2023-06-15T23:50:48.351Z"
   },
   {
    "duration": 3,
    "start_time": "2023-06-15T23:51:26.044Z"
   },
   {
    "duration": 7,
    "start_time": "2023-06-15T23:51:27.163Z"
   },
   {
    "duration": 9,
    "start_time": "2023-06-15T23:51:27.795Z"
   },
   {
    "duration": 7,
    "start_time": "2023-06-15T23:51:28.347Z"
   },
   {
    "duration": 3,
    "start_time": "2023-06-15T23:51:45.860Z"
   },
   {
    "duration": 8,
    "start_time": "2023-06-15T23:51:46.557Z"
   },
   {
    "duration": 7,
    "start_time": "2023-06-15T23:51:47.411Z"
   },
   {
    "duration": 8,
    "start_time": "2023-06-15T23:51:48.027Z"
   },
   {
    "duration": 4,
    "start_time": "2023-06-15T23:52:07.763Z"
   },
   {
    "duration": 7,
    "start_time": "2023-06-15T23:52:08.459Z"
   },
   {
    "duration": 7,
    "start_time": "2023-06-15T23:52:13.300Z"
   },
   {
    "duration": 4,
    "start_time": "2023-06-15T23:52:33.934Z"
   },
   {
    "duration": 84,
    "start_time": "2023-06-15T23:52:33.940Z"
   },
   {
    "duration": 11,
    "start_time": "2023-06-15T23:52:34.025Z"
   },
   {
    "duration": 12,
    "start_time": "2023-06-15T23:52:34.038Z"
   },
   {
    "duration": 15,
    "start_time": "2023-06-15T23:52:34.052Z"
   },
   {
    "duration": 22,
    "start_time": "2023-06-15T23:52:34.068Z"
   },
   {
    "duration": 9,
    "start_time": "2023-06-15T23:52:34.092Z"
   },
   {
    "duration": 12,
    "start_time": "2023-06-15T23:52:34.103Z"
   },
   {
    "duration": 9,
    "start_time": "2023-06-15T23:52:34.116Z"
   },
   {
    "duration": 26,
    "start_time": "2023-06-15T23:52:34.127Z"
   },
   {
    "duration": 10,
    "start_time": "2023-06-15T23:52:34.155Z"
   },
   {
    "duration": 4,
    "start_time": "2023-06-15T23:52:34.167Z"
   },
   {
    "duration": 11,
    "start_time": "2023-06-15T23:52:34.173Z"
   },
   {
    "duration": 5,
    "start_time": "2023-06-15T23:52:34.186Z"
   },
   {
    "duration": 3,
    "start_time": "2023-06-15T23:52:34.193Z"
   },
   {
    "duration": 5,
    "start_time": "2023-06-15T23:52:34.198Z"
   },
   {
    "duration": 52,
    "start_time": "2023-06-15T23:52:34.206Z"
   },
   {
    "duration": 13,
    "start_time": "2023-06-15T23:52:34.260Z"
   },
   {
    "duration": 7,
    "start_time": "2023-06-15T23:52:34.274Z"
   },
   {
    "duration": 12,
    "start_time": "2023-06-15T23:52:34.283Z"
   },
   {
    "duration": 11,
    "start_time": "2023-06-15T23:52:34.297Z"
   },
   {
    "duration": 49,
    "start_time": "2023-06-15T23:52:34.309Z"
   },
   {
    "duration": 6,
    "start_time": "2023-06-15T23:52:34.360Z"
   },
   {
    "duration": 10,
    "start_time": "2023-06-15T23:52:34.367Z"
   },
   {
    "duration": 11,
    "start_time": "2023-06-15T23:52:34.378Z"
   },
   {
    "duration": 11,
    "start_time": "2023-06-15T23:52:34.390Z"
   },
   {
    "duration": 11,
    "start_time": "2023-06-15T23:52:34.403Z"
   },
   {
    "duration": 200,
    "start_time": "2023-06-15T23:52:34.416Z"
   },
   {
    "duration": 8,
    "start_time": "2023-06-15T23:52:34.620Z"
   },
   {
    "duration": 0,
    "start_time": "2023-06-15T23:52:34.629Z"
   },
   {
    "duration": 0,
    "start_time": "2023-06-15T23:52:34.630Z"
   },
   {
    "duration": 0,
    "start_time": "2023-06-15T23:52:34.631Z"
   },
   {
    "duration": 0,
    "start_time": "2023-06-15T23:52:34.632Z"
   },
   {
    "duration": 0,
    "start_time": "2023-06-15T23:52:34.650Z"
   },
   {
    "duration": 0,
    "start_time": "2023-06-15T23:52:34.652Z"
   },
   {
    "duration": 0,
    "start_time": "2023-06-15T23:52:34.653Z"
   },
   {
    "duration": 0,
    "start_time": "2023-06-15T23:52:34.654Z"
   },
   {
    "duration": 0,
    "start_time": "2023-06-15T23:52:34.655Z"
   },
   {
    "duration": 0,
    "start_time": "2023-06-15T23:52:34.656Z"
   },
   {
    "duration": 0,
    "start_time": "2023-06-15T23:52:34.657Z"
   },
   {
    "duration": 0,
    "start_time": "2023-06-15T23:52:34.659Z"
   },
   {
    "duration": 0,
    "start_time": "2023-06-15T23:52:34.660Z"
   },
   {
    "duration": 0,
    "start_time": "2023-06-15T23:52:34.661Z"
   },
   {
    "duration": 0,
    "start_time": "2023-06-15T23:52:34.662Z"
   },
   {
    "duration": 0,
    "start_time": "2023-06-15T23:52:34.663Z"
   },
   {
    "duration": 0,
    "start_time": "2023-06-15T23:52:34.664Z"
   },
   {
    "duration": 0,
    "start_time": "2023-06-15T23:52:34.664Z"
   },
   {
    "duration": 0,
    "start_time": "2023-06-15T23:52:34.665Z"
   },
   {
    "duration": 0,
    "start_time": "2023-06-15T23:52:34.667Z"
   },
   {
    "duration": 0,
    "start_time": "2023-06-15T23:52:34.668Z"
   },
   {
    "duration": 0,
    "start_time": "2023-06-15T23:52:34.669Z"
   },
   {
    "duration": 0,
    "start_time": "2023-06-15T23:52:34.670Z"
   },
   {
    "duration": 0,
    "start_time": "2023-06-15T23:52:34.671Z"
   },
   {
    "duration": 0,
    "start_time": "2023-06-15T23:52:34.672Z"
   },
   {
    "duration": 0,
    "start_time": "2023-06-15T23:52:34.673Z"
   },
   {
    "duration": 0,
    "start_time": "2023-06-15T23:52:34.674Z"
   },
   {
    "duration": 0,
    "start_time": "2023-06-15T23:52:34.676Z"
   },
   {
    "duration": 4,
    "start_time": "2023-06-15T23:53:08.741Z"
   },
   {
    "duration": 78,
    "start_time": "2023-06-15T23:53:08.747Z"
   },
   {
    "duration": 13,
    "start_time": "2023-06-15T23:53:08.827Z"
   },
   {
    "duration": 10,
    "start_time": "2023-06-15T23:53:08.843Z"
   },
   {
    "duration": 10,
    "start_time": "2023-06-15T23:53:08.855Z"
   },
   {
    "duration": 10,
    "start_time": "2023-06-15T23:53:08.867Z"
   },
   {
    "duration": 10,
    "start_time": "2023-06-15T23:53:08.879Z"
   },
   {
    "duration": 15,
    "start_time": "2023-06-15T23:53:08.891Z"
   },
   {
    "duration": 8,
    "start_time": "2023-06-15T23:53:08.908Z"
   },
   {
    "duration": 39,
    "start_time": "2023-06-15T23:53:08.917Z"
   },
   {
    "duration": 9,
    "start_time": "2023-06-15T23:53:08.958Z"
   },
   {
    "duration": 5,
    "start_time": "2023-06-15T23:53:08.968Z"
   },
   {
    "duration": 6,
    "start_time": "2023-06-15T23:53:08.975Z"
   },
   {
    "duration": 5,
    "start_time": "2023-06-15T23:53:08.982Z"
   },
   {
    "duration": 3,
    "start_time": "2023-06-15T23:53:08.988Z"
   },
   {
    "duration": 4,
    "start_time": "2023-06-15T23:53:08.993Z"
   },
   {
    "duration": 8,
    "start_time": "2023-06-15T23:53:08.999Z"
   },
   {
    "duration": 42,
    "start_time": "2023-06-15T23:53:09.008Z"
   },
   {
    "duration": 8,
    "start_time": "2023-06-15T23:53:09.052Z"
   },
   {
    "duration": 10,
    "start_time": "2023-06-15T23:53:09.062Z"
   },
   {
    "duration": 13,
    "start_time": "2023-06-15T23:53:09.074Z"
   },
   {
    "duration": 13,
    "start_time": "2023-06-15T23:53:09.089Z"
   },
   {
    "duration": 9,
    "start_time": "2023-06-15T23:53:09.104Z"
   },
   {
    "duration": 40,
    "start_time": "2023-06-15T23:53:09.117Z"
   },
   {
    "duration": 12,
    "start_time": "2023-06-15T23:53:09.158Z"
   },
   {
    "duration": 6,
    "start_time": "2023-06-15T23:53:09.172Z"
   },
   {
    "duration": 8,
    "start_time": "2023-06-15T23:53:09.179Z"
   },
   {
    "duration": 184,
    "start_time": "2023-06-15T23:53:09.189Z"
   },
   {
    "duration": 1005,
    "start_time": "2023-06-15T23:53:09.375Z"
   },
   {
    "duration": 0,
    "start_time": "2023-06-15T23:53:10.382Z"
   },
   {
    "duration": 0,
    "start_time": "2023-06-15T23:53:10.384Z"
   },
   {
    "duration": 0,
    "start_time": "2023-06-15T23:53:10.385Z"
   },
   {
    "duration": 0,
    "start_time": "2023-06-15T23:53:10.386Z"
   },
   {
    "duration": 0,
    "start_time": "2023-06-15T23:53:10.388Z"
   },
   {
    "duration": 0,
    "start_time": "2023-06-15T23:53:10.389Z"
   },
   {
    "duration": 0,
    "start_time": "2023-06-15T23:53:10.391Z"
   },
   {
    "duration": 0,
    "start_time": "2023-06-15T23:53:10.392Z"
   },
   {
    "duration": 0,
    "start_time": "2023-06-15T23:53:10.393Z"
   },
   {
    "duration": 0,
    "start_time": "2023-06-15T23:53:10.395Z"
   },
   {
    "duration": 0,
    "start_time": "2023-06-15T23:53:10.396Z"
   },
   {
    "duration": 0,
    "start_time": "2023-06-15T23:53:10.397Z"
   },
   {
    "duration": 0,
    "start_time": "2023-06-15T23:53:10.399Z"
   },
   {
    "duration": 0,
    "start_time": "2023-06-15T23:53:10.400Z"
   },
   {
    "duration": 0,
    "start_time": "2023-06-15T23:53:10.401Z"
   },
   {
    "duration": 0,
    "start_time": "2023-06-15T23:53:10.403Z"
   },
   {
    "duration": 0,
    "start_time": "2023-06-15T23:53:10.404Z"
   },
   {
    "duration": 0,
    "start_time": "2023-06-15T23:53:10.405Z"
   },
   {
    "duration": 0,
    "start_time": "2023-06-15T23:53:10.406Z"
   },
   {
    "duration": 0,
    "start_time": "2023-06-15T23:53:10.407Z"
   },
   {
    "duration": 0,
    "start_time": "2023-06-15T23:53:10.408Z"
   },
   {
    "duration": 0,
    "start_time": "2023-06-15T23:53:10.409Z"
   },
   {
    "duration": 0,
    "start_time": "2023-06-15T23:53:10.410Z"
   },
   {
    "duration": 0,
    "start_time": "2023-06-15T23:53:10.411Z"
   },
   {
    "duration": 0,
    "start_time": "2023-06-15T23:53:10.412Z"
   },
   {
    "duration": 0,
    "start_time": "2023-06-15T23:53:10.413Z"
   },
   {
    "duration": 0,
    "start_time": "2023-06-15T23:53:10.414Z"
   },
   {
    "duration": 14,
    "start_time": "2023-06-15T23:55:02.165Z"
   },
   {
    "duration": 119,
    "start_time": "2023-06-15T23:55:04.076Z"
   },
   {
    "duration": 8,
    "start_time": "2023-06-15T23:55:04.923Z"
   },
   {
    "duration": 5,
    "start_time": "2023-06-15T23:55:13.766Z"
   },
   {
    "duration": 86,
    "start_time": "2023-06-15T23:55:13.773Z"
   },
   {
    "duration": 15,
    "start_time": "2023-06-15T23:55:13.862Z"
   },
   {
    "duration": 12,
    "start_time": "2023-06-15T23:55:13.880Z"
   },
   {
    "duration": 15,
    "start_time": "2023-06-15T23:55:13.895Z"
   },
   {
    "duration": 9,
    "start_time": "2023-06-15T23:55:13.911Z"
   },
   {
    "duration": 34,
    "start_time": "2023-06-15T23:55:13.921Z"
   },
   {
    "duration": 10,
    "start_time": "2023-06-15T23:55:13.957Z"
   },
   {
    "duration": 8,
    "start_time": "2023-06-15T23:55:13.969Z"
   },
   {
    "duration": 8,
    "start_time": "2023-06-15T23:55:13.979Z"
   },
   {
    "duration": 10,
    "start_time": "2023-06-15T23:55:13.989Z"
   },
   {
    "duration": 4,
    "start_time": "2023-06-15T23:55:14.001Z"
   },
   {
    "duration": 49,
    "start_time": "2023-06-15T23:55:14.007Z"
   },
   {
    "duration": 6,
    "start_time": "2023-06-15T23:55:14.058Z"
   },
   {
    "duration": 5,
    "start_time": "2023-06-15T23:55:14.066Z"
   },
   {
    "duration": 4,
    "start_time": "2023-06-15T23:55:14.073Z"
   },
   {
    "duration": 16,
    "start_time": "2023-06-15T23:55:14.079Z"
   },
   {
    "duration": 144,
    "start_time": "2023-06-15T23:55:14.096Z"
   },
   {
    "duration": 14,
    "start_time": "2023-06-15T23:55:14.241Z"
   },
   {
    "duration": 11,
    "start_time": "2023-06-15T23:55:14.256Z"
   },
   {
    "duration": 12,
    "start_time": "2023-06-15T23:55:14.268Z"
   },
   {
    "duration": 16,
    "start_time": "2023-06-15T23:55:14.282Z"
   },
   {
    "duration": 7,
    "start_time": "2023-06-15T23:55:14.300Z"
   },
   {
    "duration": 51,
    "start_time": "2023-06-15T23:55:14.308Z"
   },
   {
    "duration": 12,
    "start_time": "2023-06-15T23:55:14.361Z"
   },
   {
    "duration": 6,
    "start_time": "2023-06-15T23:55:14.374Z"
   },
   {
    "duration": 5,
    "start_time": "2023-06-15T23:55:14.381Z"
   },
   {
    "duration": 198,
    "start_time": "2023-06-15T23:55:14.387Z"
   },
   {
    "duration": 1027,
    "start_time": "2023-06-15T23:55:14.588Z"
   },
   {
    "duration": 0,
    "start_time": "2023-06-15T23:55:15.617Z"
   },
   {
    "duration": 0,
    "start_time": "2023-06-15T23:55:15.618Z"
   },
   {
    "duration": 0,
    "start_time": "2023-06-15T23:55:15.620Z"
   },
   {
    "duration": 0,
    "start_time": "2023-06-15T23:55:15.621Z"
   },
   {
    "duration": 0,
    "start_time": "2023-06-15T23:55:15.622Z"
   },
   {
    "duration": 0,
    "start_time": "2023-06-15T23:55:15.623Z"
   },
   {
    "duration": 0,
    "start_time": "2023-06-15T23:55:15.625Z"
   },
   {
    "duration": 0,
    "start_time": "2023-06-15T23:55:15.626Z"
   },
   {
    "duration": 0,
    "start_time": "2023-06-15T23:55:15.628Z"
   },
   {
    "duration": 0,
    "start_time": "2023-06-15T23:55:15.629Z"
   },
   {
    "duration": 0,
    "start_time": "2023-06-15T23:55:15.630Z"
   },
   {
    "duration": 0,
    "start_time": "2023-06-15T23:55:15.631Z"
   },
   {
    "duration": 0,
    "start_time": "2023-06-15T23:55:15.633Z"
   },
   {
    "duration": 0,
    "start_time": "2023-06-15T23:55:15.634Z"
   },
   {
    "duration": 0,
    "start_time": "2023-06-15T23:55:15.635Z"
   },
   {
    "duration": 0,
    "start_time": "2023-06-15T23:55:15.637Z"
   },
   {
    "duration": 0,
    "start_time": "2023-06-15T23:55:15.638Z"
   },
   {
    "duration": 0,
    "start_time": "2023-06-15T23:55:15.639Z"
   },
   {
    "duration": 0,
    "start_time": "2023-06-15T23:55:15.640Z"
   },
   {
    "duration": 0,
    "start_time": "2023-06-15T23:55:15.642Z"
   },
   {
    "duration": 0,
    "start_time": "2023-06-15T23:55:15.644Z"
   },
   {
    "duration": 0,
    "start_time": "2023-06-15T23:55:15.645Z"
   },
   {
    "duration": 0,
    "start_time": "2023-06-15T23:55:15.646Z"
   },
   {
    "duration": 0,
    "start_time": "2023-06-15T23:55:15.647Z"
   },
   {
    "duration": 0,
    "start_time": "2023-06-15T23:55:15.649Z"
   },
   {
    "duration": 1,
    "start_time": "2023-06-15T23:55:15.649Z"
   },
   {
    "duration": 0,
    "start_time": "2023-06-15T23:55:15.651Z"
   },
   {
    "duration": 18,
    "start_time": "2023-06-15T23:55:38.133Z"
   },
   {
    "duration": 3,
    "start_time": "2023-06-15T23:55:59.542Z"
   },
   {
    "duration": 14,
    "start_time": "2023-06-15T23:56:00.215Z"
   },
   {
    "duration": 96,
    "start_time": "2023-06-15T23:56:01.237Z"
   },
   {
    "duration": 15,
    "start_time": "2023-06-15T23:56:02.047Z"
   },
   {
    "duration": 4,
    "start_time": "2023-06-15T23:56:49.065Z"
   },
   {
    "duration": 78,
    "start_time": "2023-06-15T23:56:49.070Z"
   },
   {
    "duration": 12,
    "start_time": "2023-06-15T23:56:49.150Z"
   },
   {
    "duration": 38,
    "start_time": "2023-06-15T23:56:49.164Z"
   },
   {
    "duration": 13,
    "start_time": "2023-06-15T23:56:49.205Z"
   },
   {
    "duration": 18,
    "start_time": "2023-06-15T23:56:49.220Z"
   },
   {
    "duration": 12,
    "start_time": "2023-06-15T23:56:49.239Z"
   },
   {
    "duration": 32,
    "start_time": "2023-06-15T23:56:49.253Z"
   },
   {
    "duration": 29,
    "start_time": "2023-06-15T23:56:49.287Z"
   },
   {
    "duration": 10,
    "start_time": "2023-06-15T23:56:49.317Z"
   },
   {
    "duration": 28,
    "start_time": "2023-06-15T23:56:49.329Z"
   },
   {
    "duration": 8,
    "start_time": "2023-06-15T23:56:49.359Z"
   },
   {
    "duration": 10,
    "start_time": "2023-06-15T23:56:49.369Z"
   },
   {
    "duration": 12,
    "start_time": "2023-06-15T23:56:49.380Z"
   },
   {
    "duration": 7,
    "start_time": "2023-06-15T23:56:49.393Z"
   },
   {
    "duration": 5,
    "start_time": "2023-06-15T23:56:49.402Z"
   },
   {
    "duration": 16,
    "start_time": "2023-06-15T23:56:49.408Z"
   },
   {
    "duration": 127,
    "start_time": "2023-06-15T23:56:49.426Z"
   },
   {
    "duration": 11,
    "start_time": "2023-06-15T23:56:49.555Z"
   },
   {
    "duration": 11,
    "start_time": "2023-06-15T23:56:49.568Z"
   },
   {
    "duration": 11,
    "start_time": "2023-06-15T23:56:49.580Z"
   },
   {
    "duration": 17,
    "start_time": "2023-06-15T23:56:49.593Z"
   },
   {
    "duration": 7,
    "start_time": "2023-06-15T23:56:49.649Z"
   },
   {
    "duration": 10,
    "start_time": "2023-06-15T23:56:49.657Z"
   },
   {
    "duration": 10,
    "start_time": "2023-06-15T23:56:49.668Z"
   },
   {
    "duration": 6,
    "start_time": "2023-06-15T23:56:49.679Z"
   },
   {
    "duration": 8,
    "start_time": "2023-06-15T23:56:49.686Z"
   },
   {
    "duration": 189,
    "start_time": "2023-06-15T23:56:49.695Z"
   },
   {
    "duration": 108,
    "start_time": "2023-06-15T23:56:49.887Z"
   },
   {
    "duration": 12,
    "start_time": "2023-06-15T23:56:49.997Z"
   },
   {
    "duration": 18,
    "start_time": "2023-06-15T23:56:50.010Z"
   },
   {
    "duration": 291,
    "start_time": "2023-06-15T23:56:50.029Z"
   },
   {
    "duration": 222,
    "start_time": "2023-06-15T23:56:50.322Z"
   },
   {
    "duration": 326,
    "start_time": "2023-06-15T23:56:50.546Z"
   },
   {
    "duration": 224,
    "start_time": "2023-06-15T23:56:50.874Z"
   },
   {
    "duration": 294,
    "start_time": "2023-06-15T23:56:51.099Z"
   },
   {
    "duration": 349,
    "start_time": "2023-06-15T23:56:51.395Z"
   },
   {
    "duration": 4,
    "start_time": "2023-06-15T23:56:51.750Z"
   },
   {
    "duration": 152,
    "start_time": "2023-06-15T23:56:51.756Z"
   },
   {
    "duration": 150,
    "start_time": "2023-06-15T23:56:51.910Z"
   },
   {
    "duration": 5,
    "start_time": "2023-06-15T23:56:52.062Z"
   },
   {
    "duration": 13,
    "start_time": "2023-06-15T23:56:52.069Z"
   },
   {
    "duration": 22,
    "start_time": "2023-06-15T23:56:52.084Z"
   },
   {
    "duration": 0,
    "start_time": "2023-06-15T23:56:52.108Z"
   },
   {
    "duration": 0,
    "start_time": "2023-06-15T23:56:52.109Z"
   },
   {
    "duration": 0,
    "start_time": "2023-06-15T23:56:52.111Z"
   },
   {
    "duration": 0,
    "start_time": "2023-06-15T23:56:52.112Z"
   },
   {
    "duration": 0,
    "start_time": "2023-06-15T23:56:52.114Z"
   },
   {
    "duration": 0,
    "start_time": "2023-06-15T23:56:52.115Z"
   },
   {
    "duration": 0,
    "start_time": "2023-06-15T23:56:52.117Z"
   },
   {
    "duration": 0,
    "start_time": "2023-06-15T23:56:52.118Z"
   },
   {
    "duration": 0,
    "start_time": "2023-06-15T23:56:52.150Z"
   },
   {
    "duration": 0,
    "start_time": "2023-06-15T23:56:52.152Z"
   },
   {
    "duration": 0,
    "start_time": "2023-06-15T23:56:52.153Z"
   },
   {
    "duration": 0,
    "start_time": "2023-06-15T23:56:52.154Z"
   },
   {
    "duration": 0,
    "start_time": "2023-06-15T23:56:52.156Z"
   },
   {
    "duration": 1039,
    "start_time": "2023-06-15T23:56:58.858Z"
   },
   {
    "duration": 74,
    "start_time": "2023-06-15T23:56:59.899Z"
   },
   {
    "duration": 12,
    "start_time": "2023-06-15T23:56:59.974Z"
   },
   {
    "duration": 11,
    "start_time": "2023-06-15T23:56:59.989Z"
   },
   {
    "duration": 10,
    "start_time": "2023-06-15T23:57:00.002Z"
   },
   {
    "duration": 11,
    "start_time": "2023-06-15T23:57:00.013Z"
   },
   {
    "duration": 37,
    "start_time": "2023-06-15T23:57:00.026Z"
   },
   {
    "duration": 40,
    "start_time": "2023-06-15T23:57:00.065Z"
   },
   {
    "duration": 24,
    "start_time": "2023-06-15T23:57:00.107Z"
   },
   {
    "duration": 27,
    "start_time": "2023-06-15T23:57:00.134Z"
   },
   {
    "duration": 25,
    "start_time": "2023-06-15T23:57:00.163Z"
   },
   {
    "duration": 42,
    "start_time": "2023-06-15T23:57:00.189Z"
   },
   {
    "duration": 29,
    "start_time": "2023-06-15T23:57:00.233Z"
   },
   {
    "duration": 57,
    "start_time": "2023-06-15T23:57:00.264Z"
   },
   {
    "duration": 27,
    "start_time": "2023-06-15T23:57:00.323Z"
   },
   {
    "duration": 38,
    "start_time": "2023-06-15T23:57:00.352Z"
   },
   {
    "duration": 129,
    "start_time": "2023-06-15T23:57:00.391Z"
   },
   {
    "duration": 0,
    "start_time": "2023-06-15T23:57:00.523Z"
   },
   {
    "duration": 0,
    "start_time": "2023-06-15T23:57:00.524Z"
   },
   {
    "duration": 0,
    "start_time": "2023-06-15T23:57:00.525Z"
   },
   {
    "duration": 0,
    "start_time": "2023-06-15T23:57:00.526Z"
   },
   {
    "duration": 0,
    "start_time": "2023-06-15T23:57:00.527Z"
   },
   {
    "duration": 0,
    "start_time": "2023-06-15T23:57:00.528Z"
   },
   {
    "duration": 0,
    "start_time": "2023-06-15T23:57:00.530Z"
   },
   {
    "duration": 0,
    "start_time": "2023-06-15T23:57:00.531Z"
   },
   {
    "duration": 0,
    "start_time": "2023-06-15T23:57:00.550Z"
   },
   {
    "duration": 0,
    "start_time": "2023-06-15T23:57:00.551Z"
   },
   {
    "duration": 0,
    "start_time": "2023-06-15T23:57:00.552Z"
   },
   {
    "duration": 0,
    "start_time": "2023-06-15T23:57:00.554Z"
   },
   {
    "duration": 0,
    "start_time": "2023-06-15T23:57:00.555Z"
   },
   {
    "duration": 0,
    "start_time": "2023-06-15T23:57:00.556Z"
   },
   {
    "duration": 0,
    "start_time": "2023-06-15T23:57:00.557Z"
   },
   {
    "duration": 0,
    "start_time": "2023-06-15T23:57:00.558Z"
   },
   {
    "duration": 0,
    "start_time": "2023-06-15T23:57:00.559Z"
   },
   {
    "duration": 0,
    "start_time": "2023-06-15T23:57:00.560Z"
   },
   {
    "duration": 0,
    "start_time": "2023-06-15T23:57:00.561Z"
   },
   {
    "duration": 0,
    "start_time": "2023-06-15T23:57:00.562Z"
   },
   {
    "duration": 0,
    "start_time": "2023-06-15T23:57:00.563Z"
   },
   {
    "duration": 0,
    "start_time": "2023-06-15T23:57:00.564Z"
   },
   {
    "duration": 0,
    "start_time": "2023-06-15T23:57:00.566Z"
   },
   {
    "duration": 0,
    "start_time": "2023-06-15T23:57:00.567Z"
   },
   {
    "duration": 0,
    "start_time": "2023-06-15T23:57:00.568Z"
   },
   {
    "duration": 0,
    "start_time": "2023-06-15T23:57:00.569Z"
   },
   {
    "duration": 0,
    "start_time": "2023-06-15T23:57:00.570Z"
   },
   {
    "duration": 0,
    "start_time": "2023-06-15T23:57:00.571Z"
   },
   {
    "duration": 0,
    "start_time": "2023-06-15T23:57:00.573Z"
   },
   {
    "duration": 0,
    "start_time": "2023-06-15T23:57:00.574Z"
   },
   {
    "duration": 0,
    "start_time": "2023-06-15T23:57:00.575Z"
   },
   {
    "duration": 0,
    "start_time": "2023-06-15T23:57:00.576Z"
   },
   {
    "duration": 0,
    "start_time": "2023-06-15T23:57:00.577Z"
   },
   {
    "duration": 0,
    "start_time": "2023-06-15T23:57:00.578Z"
   },
   {
    "duration": 0,
    "start_time": "2023-06-15T23:57:00.579Z"
   },
   {
    "duration": 0,
    "start_time": "2023-06-15T23:57:00.580Z"
   },
   {
    "duration": 0,
    "start_time": "2023-06-15T23:57:00.581Z"
   },
   {
    "duration": 0,
    "start_time": "2023-06-15T23:57:00.582Z"
   },
   {
    "duration": 0,
    "start_time": "2023-06-15T23:57:00.583Z"
   },
   {
    "duration": 1042,
    "start_time": "2023-06-15T23:57:11.396Z"
   },
   {
    "duration": 76,
    "start_time": "2023-06-15T23:57:12.440Z"
   },
   {
    "duration": 11,
    "start_time": "2023-06-15T23:57:12.519Z"
   },
   {
    "duration": 11,
    "start_time": "2023-06-15T23:57:12.533Z"
   },
   {
    "duration": 11,
    "start_time": "2023-06-15T23:57:12.545Z"
   },
   {
    "duration": 9,
    "start_time": "2023-06-15T23:57:12.557Z"
   },
   {
    "duration": 8,
    "start_time": "2023-06-15T23:57:12.567Z"
   },
   {
    "duration": 16,
    "start_time": "2023-06-15T23:57:12.577Z"
   },
   {
    "duration": 8,
    "start_time": "2023-06-15T23:57:12.594Z"
   },
   {
    "duration": 7,
    "start_time": "2023-06-15T23:57:12.604Z"
   },
   {
    "duration": 38,
    "start_time": "2023-06-15T23:57:12.613Z"
   },
   {
    "duration": 4,
    "start_time": "2023-06-15T23:57:12.653Z"
   },
   {
    "duration": 7,
    "start_time": "2023-06-15T23:57:12.659Z"
   },
   {
    "duration": 6,
    "start_time": "2023-06-15T23:57:12.667Z"
   },
   {
    "duration": 4,
    "start_time": "2023-06-15T23:57:12.674Z"
   },
   {
    "duration": 4,
    "start_time": "2023-06-15T23:57:12.679Z"
   },
   {
    "duration": 110,
    "start_time": "2023-06-15T23:57:12.685Z"
   },
   {
    "duration": 0,
    "start_time": "2023-06-15T23:57:12.798Z"
   },
   {
    "duration": 0,
    "start_time": "2023-06-15T23:57:12.799Z"
   },
   {
    "duration": 0,
    "start_time": "2023-06-15T23:57:12.801Z"
   },
   {
    "duration": 0,
    "start_time": "2023-06-15T23:57:12.802Z"
   },
   {
    "duration": 0,
    "start_time": "2023-06-15T23:57:12.803Z"
   },
   {
    "duration": 0,
    "start_time": "2023-06-15T23:57:12.804Z"
   },
   {
    "duration": 0,
    "start_time": "2023-06-15T23:57:12.806Z"
   },
   {
    "duration": 0,
    "start_time": "2023-06-15T23:57:12.807Z"
   },
   {
    "duration": 0,
    "start_time": "2023-06-15T23:57:12.808Z"
   },
   {
    "duration": 0,
    "start_time": "2023-06-15T23:57:12.810Z"
   },
   {
    "duration": 0,
    "start_time": "2023-06-15T23:57:12.811Z"
   },
   {
    "duration": 0,
    "start_time": "2023-06-15T23:57:12.813Z"
   },
   {
    "duration": 0,
    "start_time": "2023-06-15T23:57:12.814Z"
   },
   {
    "duration": 0,
    "start_time": "2023-06-15T23:57:12.815Z"
   },
   {
    "duration": 0,
    "start_time": "2023-06-15T23:57:12.817Z"
   },
   {
    "duration": 0,
    "start_time": "2023-06-15T23:57:12.850Z"
   },
   {
    "duration": 0,
    "start_time": "2023-06-15T23:57:12.851Z"
   },
   {
    "duration": 0,
    "start_time": "2023-06-15T23:57:12.852Z"
   },
   {
    "duration": 0,
    "start_time": "2023-06-15T23:57:12.853Z"
   },
   {
    "duration": 0,
    "start_time": "2023-06-15T23:57:12.855Z"
   },
   {
    "duration": 0,
    "start_time": "2023-06-15T23:57:12.856Z"
   },
   {
    "duration": 0,
    "start_time": "2023-06-15T23:57:12.856Z"
   },
   {
    "duration": 0,
    "start_time": "2023-06-15T23:57:12.857Z"
   },
   {
    "duration": 0,
    "start_time": "2023-06-15T23:57:12.859Z"
   },
   {
    "duration": 0,
    "start_time": "2023-06-15T23:57:12.860Z"
   },
   {
    "duration": 0,
    "start_time": "2023-06-15T23:57:12.860Z"
   },
   {
    "duration": 0,
    "start_time": "2023-06-15T23:57:12.861Z"
   },
   {
    "duration": 0,
    "start_time": "2023-06-15T23:57:12.862Z"
   },
   {
    "duration": 0,
    "start_time": "2023-06-15T23:57:12.863Z"
   },
   {
    "duration": 0,
    "start_time": "2023-06-15T23:57:12.864Z"
   },
   {
    "duration": 0,
    "start_time": "2023-06-15T23:57:12.865Z"
   },
   {
    "duration": 0,
    "start_time": "2023-06-15T23:57:12.865Z"
   },
   {
    "duration": 0,
    "start_time": "2023-06-15T23:57:12.866Z"
   },
   {
    "duration": 0,
    "start_time": "2023-06-15T23:57:12.867Z"
   },
   {
    "duration": 0,
    "start_time": "2023-06-15T23:57:12.868Z"
   },
   {
    "duration": 0,
    "start_time": "2023-06-15T23:57:12.869Z"
   },
   {
    "duration": 0,
    "start_time": "2023-06-15T23:57:12.870Z"
   },
   {
    "duration": 0,
    "start_time": "2023-06-15T23:57:12.871Z"
   },
   {
    "duration": 0,
    "start_time": "2023-06-15T23:57:12.872Z"
   },
   {
    "duration": 4,
    "start_time": "2023-06-15T23:57:34.721Z"
   },
   {
    "duration": 75,
    "start_time": "2023-06-15T23:57:34.727Z"
   },
   {
    "duration": 9,
    "start_time": "2023-06-15T23:57:34.804Z"
   },
   {
    "duration": 8,
    "start_time": "2023-06-15T23:57:34.815Z"
   },
   {
    "duration": 10,
    "start_time": "2023-06-15T23:57:34.825Z"
   },
   {
    "duration": 9,
    "start_time": "2023-06-15T23:57:34.837Z"
   },
   {
    "duration": 8,
    "start_time": "2023-06-15T23:57:34.847Z"
   },
   {
    "duration": 11,
    "start_time": "2023-06-15T23:57:34.856Z"
   },
   {
    "duration": 13,
    "start_time": "2023-06-15T23:57:34.868Z"
   },
   {
    "duration": 9,
    "start_time": "2023-06-15T23:57:34.883Z"
   },
   {
    "duration": 8,
    "start_time": "2023-06-15T23:57:34.896Z"
   },
   {
    "duration": 7,
    "start_time": "2023-06-15T23:57:34.905Z"
   },
   {
    "duration": 7,
    "start_time": "2023-06-15T23:57:34.913Z"
   },
   {
    "duration": 30,
    "start_time": "2023-06-15T23:57:34.921Z"
   },
   {
    "duration": 5,
    "start_time": "2023-06-15T23:57:34.953Z"
   },
   {
    "duration": 4,
    "start_time": "2023-06-15T23:57:34.959Z"
   },
   {
    "duration": 3,
    "start_time": "2023-06-15T23:57:34.965Z"
   },
   {
    "duration": 4,
    "start_time": "2023-06-15T23:57:34.970Z"
   },
   {
    "duration": 5,
    "start_time": "2023-06-15T23:57:34.975Z"
   },
   {
    "duration": 12,
    "start_time": "2023-06-15T23:57:34.981Z"
   },
   {
    "duration": 10,
    "start_time": "2023-06-15T23:57:34.994Z"
   },
   {
    "duration": 92,
    "start_time": "2023-06-15T23:57:35.006Z"
   },
   {
    "duration": 7,
    "start_time": "2023-06-15T23:57:35.100Z"
   },
   {
    "duration": 12,
    "start_time": "2023-06-15T23:57:35.108Z"
   },
   {
    "duration": 28,
    "start_time": "2023-06-15T23:57:35.122Z"
   },
   {
    "duration": 7,
    "start_time": "2023-06-15T23:57:35.152Z"
   },
   {
    "duration": 17,
    "start_time": "2023-06-15T23:57:35.161Z"
   },
   {
    "duration": 171,
    "start_time": "2023-06-15T23:57:35.180Z"
   },
   {
    "duration": 121,
    "start_time": "2023-06-15T23:57:35.355Z"
   },
   {
    "duration": 12,
    "start_time": "2023-06-15T23:57:35.478Z"
   },
   {
    "duration": 18,
    "start_time": "2023-06-15T23:57:35.491Z"
   },
   {
    "duration": 289,
    "start_time": "2023-06-15T23:57:35.510Z"
   },
   {
    "duration": 222,
    "start_time": "2023-06-15T23:57:35.801Z"
   },
   {
    "duration": 333,
    "start_time": "2023-06-15T23:57:36.025Z"
   },
   {
    "duration": 245,
    "start_time": "2023-06-15T23:57:36.360Z"
   },
   {
    "duration": 305,
    "start_time": "2023-06-15T23:57:36.606Z"
   },
   {
    "duration": 294,
    "start_time": "2023-06-15T23:57:36.914Z"
   },
   {
    "duration": 3,
    "start_time": "2023-06-15T23:57:37.210Z"
   },
   {
    "duration": 146,
    "start_time": "2023-06-15T23:57:37.215Z"
   },
   {
    "duration": 223,
    "start_time": "2023-06-15T23:57:37.363Z"
   },
   {
    "duration": 4,
    "start_time": "2023-06-15T23:57:37.587Z"
   },
   {
    "duration": 7,
    "start_time": "2023-06-15T23:57:37.593Z"
   },
   {
    "duration": 21,
    "start_time": "2023-06-15T23:57:37.601Z"
   },
   {
    "duration": 1,
    "start_time": "2023-06-15T23:57:37.623Z"
   },
   {
    "duration": 0,
    "start_time": "2023-06-15T23:57:37.625Z"
   },
   {
    "duration": 0,
    "start_time": "2023-06-15T23:57:37.626Z"
   },
   {
    "duration": 0,
    "start_time": "2023-06-15T23:57:37.627Z"
   },
   {
    "duration": 0,
    "start_time": "2023-06-15T23:57:37.628Z"
   },
   {
    "duration": 0,
    "start_time": "2023-06-15T23:57:37.629Z"
   },
   {
    "duration": 0,
    "start_time": "2023-06-15T23:57:37.630Z"
   },
   {
    "duration": 0,
    "start_time": "2023-06-15T23:57:37.651Z"
   },
   {
    "duration": 0,
    "start_time": "2023-06-15T23:57:37.652Z"
   },
   {
    "duration": 0,
    "start_time": "2023-06-15T23:57:37.653Z"
   },
   {
    "duration": 0,
    "start_time": "2023-06-15T23:57:37.655Z"
   },
   {
    "duration": 0,
    "start_time": "2023-06-15T23:57:37.656Z"
   },
   {
    "duration": 0,
    "start_time": "2023-06-15T23:57:37.657Z"
   },
   {
    "duration": 13,
    "start_time": "2023-06-15T23:58:30.607Z"
   },
   {
    "duration": 20,
    "start_time": "2023-06-16T00:00:16.713Z"
   },
   {
    "duration": 9,
    "start_time": "2023-06-16T00:00:17.504Z"
   },
   {
    "duration": 5,
    "start_time": "2023-06-16T00:00:19.905Z"
   },
   {
    "duration": 90,
    "start_time": "2023-06-16T00:00:19.913Z"
   },
   {
    "duration": 11,
    "start_time": "2023-06-16T00:00:20.008Z"
   },
   {
    "duration": 25,
    "start_time": "2023-06-16T00:00:20.021Z"
   },
   {
    "duration": 13,
    "start_time": "2023-06-16T00:00:20.049Z"
   },
   {
    "duration": 13,
    "start_time": "2023-06-16T00:00:20.064Z"
   },
   {
    "duration": 10,
    "start_time": "2023-06-16T00:00:20.079Z"
   },
   {
    "duration": 16,
    "start_time": "2023-06-16T00:00:20.091Z"
   },
   {
    "duration": 10,
    "start_time": "2023-06-16T00:00:20.108Z"
   },
   {
    "duration": 34,
    "start_time": "2023-06-16T00:00:20.120Z"
   },
   {
    "duration": 7,
    "start_time": "2023-06-16T00:00:20.157Z"
   },
   {
    "duration": 4,
    "start_time": "2023-06-16T00:00:20.165Z"
   },
   {
    "duration": 6,
    "start_time": "2023-06-16T00:00:20.170Z"
   },
   {
    "duration": 13,
    "start_time": "2023-06-16T00:00:20.178Z"
   },
   {
    "duration": 9,
    "start_time": "2023-06-16T00:00:20.193Z"
   },
   {
    "duration": 4,
    "start_time": "2023-06-16T00:00:20.204Z"
   },
   {
    "duration": 5,
    "start_time": "2023-06-16T00:00:20.209Z"
   },
   {
    "duration": 4,
    "start_time": "2023-06-16T00:00:20.215Z"
   },
   {
    "duration": 30,
    "start_time": "2023-06-16T00:00:20.220Z"
   },
   {
    "duration": 16,
    "start_time": "2023-06-16T00:00:20.252Z"
   },
   {
    "duration": 12,
    "start_time": "2023-06-16T00:00:20.270Z"
   },
   {
    "duration": 13,
    "start_time": "2023-06-16T00:00:20.283Z"
   },
   {
    "duration": 7,
    "start_time": "2023-06-16T00:00:20.298Z"
   },
   {
    "duration": 12,
    "start_time": "2023-06-16T00:00:20.307Z"
   },
   {
    "duration": 42,
    "start_time": "2023-06-16T00:00:20.320Z"
   },
   {
    "duration": 9,
    "start_time": "2023-06-16T00:00:20.364Z"
   },
   {
    "duration": 22,
    "start_time": "2023-06-16T00:00:20.376Z"
   },
   {
    "duration": 207,
    "start_time": "2023-06-16T00:00:20.401Z"
   },
   {
    "duration": 113,
    "start_time": "2023-06-16T00:00:20.611Z"
   },
   {
    "duration": 28,
    "start_time": "2023-06-16T00:00:20.726Z"
   },
   {
    "duration": 13,
    "start_time": "2023-06-16T00:00:20.756Z"
   },
   {
    "duration": 210,
    "start_time": "2023-06-16T00:00:20.770Z"
   },
   {
    "duration": 218,
    "start_time": "2023-06-16T00:00:20.981Z"
   },
   {
    "duration": 292,
    "start_time": "2023-06-16T00:00:21.201Z"
   },
   {
    "duration": 223,
    "start_time": "2023-06-16T00:00:21.494Z"
   },
   {
    "duration": 356,
    "start_time": "2023-06-16T00:00:21.719Z"
   },
   {
    "duration": 273,
    "start_time": "2023-06-16T00:00:22.077Z"
   },
   {
    "duration": 4,
    "start_time": "2023-06-16T00:00:22.352Z"
   },
   {
    "duration": 160,
    "start_time": "2023-06-16T00:00:22.357Z"
   },
   {
    "duration": 158,
    "start_time": "2023-06-16T00:00:22.519Z"
   },
   {
    "duration": 4,
    "start_time": "2023-06-16T00:00:22.679Z"
   },
   {
    "duration": 7,
    "start_time": "2023-06-16T00:00:22.685Z"
   },
   {
    "duration": 18,
    "start_time": "2023-06-16T00:00:22.694Z"
   },
   {
    "duration": 13,
    "start_time": "2023-06-16T00:00:22.714Z"
   },
   {
    "duration": 28,
    "start_time": "2023-06-16T00:00:22.729Z"
   },
   {
    "duration": 12,
    "start_time": "2023-06-16T00:00:22.759Z"
   },
   {
    "duration": 16,
    "start_time": "2023-06-16T00:00:22.773Z"
   },
   {
    "duration": 131,
    "start_time": "2023-06-16T00:00:22.791Z"
   },
   {
    "duration": 38,
    "start_time": "2023-06-16T00:00:22.923Z"
   },
   {
    "duration": 0,
    "start_time": "2023-06-16T00:00:22.963Z"
   },
   {
    "duration": 0,
    "start_time": "2023-06-16T00:00:22.964Z"
   },
   {
    "duration": 0,
    "start_time": "2023-06-16T00:00:22.965Z"
   },
   {
    "duration": 0,
    "start_time": "2023-06-16T00:00:22.966Z"
   },
   {
    "duration": 0,
    "start_time": "2023-06-16T00:00:22.967Z"
   },
   {
    "duration": 0,
    "start_time": "2023-06-16T00:00:22.968Z"
   },
   {
    "duration": 0,
    "start_time": "2023-06-16T00:00:22.969Z"
   },
   {
    "duration": 0,
    "start_time": "2023-06-16T00:00:22.970Z"
   },
   {
    "duration": 20,
    "start_time": "2023-06-16T00:01:05.137Z"
   },
   {
    "duration": 4,
    "start_time": "2023-06-16T00:01:07.439Z"
   },
   {
    "duration": 77,
    "start_time": "2023-06-16T00:01:07.445Z"
   },
   {
    "duration": 10,
    "start_time": "2023-06-16T00:01:07.524Z"
   },
   {
    "duration": 9,
    "start_time": "2023-06-16T00:01:07.535Z"
   },
   {
    "duration": 11,
    "start_time": "2023-06-16T00:01:07.546Z"
   },
   {
    "duration": 9,
    "start_time": "2023-06-16T00:01:07.559Z"
   },
   {
    "duration": 18,
    "start_time": "2023-06-16T00:01:07.569Z"
   },
   {
    "duration": 12,
    "start_time": "2023-06-16T00:01:07.588Z"
   },
   {
    "duration": 8,
    "start_time": "2023-06-16T00:01:07.601Z"
   },
   {
    "duration": 7,
    "start_time": "2023-06-16T00:01:07.611Z"
   },
   {
    "duration": 33,
    "start_time": "2023-06-16T00:01:07.621Z"
   },
   {
    "duration": 4,
    "start_time": "2023-06-16T00:01:07.655Z"
   },
   {
    "duration": 6,
    "start_time": "2023-06-16T00:01:07.661Z"
   },
   {
    "duration": 6,
    "start_time": "2023-06-16T00:01:07.669Z"
   },
   {
    "duration": 5,
    "start_time": "2023-06-16T00:01:07.676Z"
   },
   {
    "duration": 4,
    "start_time": "2023-06-16T00:01:07.682Z"
   },
   {
    "duration": 3,
    "start_time": "2023-06-16T00:01:07.688Z"
   },
   {
    "duration": 3,
    "start_time": "2023-06-16T00:01:07.693Z"
   },
   {
    "duration": 5,
    "start_time": "2023-06-16T00:01:07.697Z"
   },
   {
    "duration": 16,
    "start_time": "2023-06-16T00:01:07.703Z"
   },
   {
    "duration": 38,
    "start_time": "2023-06-16T00:01:07.721Z"
   },
   {
    "duration": 17,
    "start_time": "2023-06-16T00:01:07.761Z"
   },
   {
    "duration": 7,
    "start_time": "2023-06-16T00:01:07.779Z"
   },
   {
    "duration": 10,
    "start_time": "2023-06-16T00:01:07.787Z"
   },
   {
    "duration": 11,
    "start_time": "2023-06-16T00:01:07.799Z"
   },
   {
    "duration": 5,
    "start_time": "2023-06-16T00:01:07.812Z"
   },
   {
    "duration": 33,
    "start_time": "2023-06-16T00:01:07.819Z"
   },
   {
    "duration": 167,
    "start_time": "2023-06-16T00:01:07.854Z"
   },
   {
    "duration": 102,
    "start_time": "2023-06-16T00:01:08.025Z"
   },
   {
    "duration": 13,
    "start_time": "2023-06-16T00:01:08.128Z"
   },
   {
    "duration": 19,
    "start_time": "2023-06-16T00:01:08.142Z"
   },
   {
    "duration": 299,
    "start_time": "2023-06-16T00:01:08.163Z"
   },
   {
    "duration": 218,
    "start_time": "2023-06-16T00:01:08.464Z"
   },
   {
    "duration": 279,
    "start_time": "2023-06-16T00:01:08.684Z"
   },
   {
    "duration": 229,
    "start_time": "2023-06-16T00:01:08.965Z"
   },
   {
    "duration": 305,
    "start_time": "2023-06-16T00:01:09.196Z"
   },
   {
    "duration": 258,
    "start_time": "2023-06-16T00:01:09.502Z"
   },
   {
    "duration": 4,
    "start_time": "2023-06-16T00:01:09.762Z"
   },
   {
    "duration": 140,
    "start_time": "2023-06-16T00:01:09.767Z"
   },
   {
    "duration": 148,
    "start_time": "2023-06-16T00:01:09.909Z"
   },
   {
    "duration": 3,
    "start_time": "2023-06-16T00:01:10.059Z"
   },
   {
    "duration": 5,
    "start_time": "2023-06-16T00:01:10.064Z"
   },
   {
    "duration": 27,
    "start_time": "2023-06-16T00:01:10.071Z"
   },
   {
    "duration": 5,
    "start_time": "2023-06-16T00:01:10.100Z"
   },
   {
    "duration": 11,
    "start_time": "2023-06-16T00:01:10.107Z"
   },
   {
    "duration": 11,
    "start_time": "2023-06-16T00:01:10.120Z"
   },
   {
    "duration": 27,
    "start_time": "2023-06-16T00:01:10.132Z"
   },
   {
    "duration": 127,
    "start_time": "2023-06-16T00:01:10.160Z"
   },
   {
    "duration": 22,
    "start_time": "2023-06-16T00:01:10.289Z"
   },
   {
    "duration": 13,
    "start_time": "2023-06-16T00:01:10.312Z"
   },
   {
    "duration": 4,
    "start_time": "2023-06-16T00:01:10.349Z"
   },
   {
    "duration": 14,
    "start_time": "2023-06-16T00:01:10.354Z"
   },
   {
    "duration": 9,
    "start_time": "2023-06-16T00:01:10.369Z"
   },
   {
    "duration": 7,
    "start_time": "2023-06-16T00:01:10.380Z"
   },
   {
    "duration": 22,
    "start_time": "2023-06-16T00:01:10.388Z"
   },
   {
    "duration": 3,
    "start_time": "2023-06-16T00:01:10.412Z"
   },
   {
    "duration": 46,
    "start_time": "2023-06-16T00:01:10.416Z"
   },
   {
    "duration": 3,
    "start_time": "2023-06-16T00:02:09.378Z"
   },
   {
    "duration": 18,
    "start_time": "2023-06-16T00:02:22.465Z"
   },
   {
    "duration": 4,
    "start_time": "2023-06-16T00:02:42.355Z"
   },
   {
    "duration": 77,
    "start_time": "2023-06-16T00:02:42.361Z"
   },
   {
    "duration": 12,
    "start_time": "2023-06-16T00:02:42.441Z"
   },
   {
    "duration": 10,
    "start_time": "2023-06-16T00:02:42.455Z"
   },
   {
    "duration": 12,
    "start_time": "2023-06-16T00:02:42.468Z"
   },
   {
    "duration": 11,
    "start_time": "2023-06-16T00:02:42.482Z"
   },
   {
    "duration": 11,
    "start_time": "2023-06-16T00:02:42.496Z"
   },
   {
    "duration": 43,
    "start_time": "2023-06-16T00:02:42.509Z"
   },
   {
    "duration": 9,
    "start_time": "2023-06-16T00:02:42.554Z"
   },
   {
    "duration": 8,
    "start_time": "2023-06-16T00:02:42.565Z"
   },
   {
    "duration": 7,
    "start_time": "2023-06-16T00:02:42.575Z"
   },
   {
    "duration": 5,
    "start_time": "2023-06-16T00:02:42.583Z"
   },
   {
    "duration": 7,
    "start_time": "2023-06-16T00:02:42.590Z"
   },
   {
    "duration": 3,
    "start_time": "2023-06-16T00:02:42.598Z"
   },
   {
    "duration": 4,
    "start_time": "2023-06-16T00:02:42.603Z"
   },
   {
    "duration": 6,
    "start_time": "2023-06-16T00:02:42.651Z"
   },
   {
    "duration": 14,
    "start_time": "2023-06-16T00:02:42.658Z"
   },
   {
    "duration": 2,
    "start_time": "2023-06-16T00:02:42.673Z"
   },
   {
    "duration": 7,
    "start_time": "2023-06-16T00:02:42.677Z"
   },
   {
    "duration": 13,
    "start_time": "2023-06-16T00:02:42.685Z"
   },
   {
    "duration": 15,
    "start_time": "2023-06-16T00:02:42.700Z"
   },
   {
    "duration": 43,
    "start_time": "2023-06-16T00:02:42.716Z"
   },
   {
    "duration": 6,
    "start_time": "2023-06-16T00:02:42.761Z"
   },
   {
    "duration": 9,
    "start_time": "2023-06-16T00:02:42.768Z"
   },
   {
    "duration": 11,
    "start_time": "2023-06-16T00:02:42.778Z"
   },
   {
    "duration": 5,
    "start_time": "2023-06-16T00:02:42.790Z"
   },
   {
    "duration": 6,
    "start_time": "2023-06-16T00:02:42.797Z"
   },
   {
    "duration": 211,
    "start_time": "2023-06-16T00:02:42.805Z"
   },
   {
    "duration": 117,
    "start_time": "2023-06-16T00:02:43.019Z"
   },
   {
    "duration": 13,
    "start_time": "2023-06-16T00:02:43.149Z"
   },
   {
    "duration": 20,
    "start_time": "2023-06-16T00:02:43.164Z"
   },
   {
    "duration": 204,
    "start_time": "2023-06-16T00:02:43.186Z"
   },
   {
    "duration": 221,
    "start_time": "2023-06-16T00:02:43.392Z"
   },
   {
    "duration": 323,
    "start_time": "2023-06-16T00:02:43.614Z"
   },
   {
    "duration": 334,
    "start_time": "2023-06-16T00:02:43.939Z"
   },
   {
    "duration": 301,
    "start_time": "2023-06-16T00:02:44.274Z"
   },
   {
    "duration": 305,
    "start_time": "2023-06-16T00:02:44.577Z"
   },
   {
    "duration": 4,
    "start_time": "2023-06-16T00:02:44.884Z"
   },
   {
    "duration": 178,
    "start_time": "2023-06-16T00:02:44.890Z"
   },
   {
    "duration": 167,
    "start_time": "2023-06-16T00:02:45.070Z"
   },
   {
    "duration": 4,
    "start_time": "2023-06-16T00:02:45.249Z"
   },
   {
    "duration": 8,
    "start_time": "2023-06-16T00:02:45.255Z"
   },
   {
    "duration": 46,
    "start_time": "2023-06-16T00:02:45.264Z"
   },
   {
    "duration": 30,
    "start_time": "2023-06-16T00:02:45.312Z"
   },
   {
    "duration": 27,
    "start_time": "2023-06-16T00:02:45.344Z"
   },
   {
    "duration": 13,
    "start_time": "2023-06-16T00:02:45.372Z"
   },
   {
    "duration": 27,
    "start_time": "2023-06-16T00:02:45.388Z"
   },
   {
    "duration": 116,
    "start_time": "2023-06-16T00:02:45.417Z"
   },
   {
    "duration": 25,
    "start_time": "2023-06-16T00:02:45.535Z"
   },
   {
    "duration": 10,
    "start_time": "2023-06-16T00:02:45.561Z"
   },
   {
    "duration": 3,
    "start_time": "2023-06-16T00:02:45.573Z"
   },
   {
    "duration": 17,
    "start_time": "2023-06-16T00:02:45.577Z"
   },
   {
    "duration": 55,
    "start_time": "2023-06-16T00:02:45.596Z"
   },
   {
    "duration": 20,
    "start_time": "2023-06-16T00:02:45.653Z"
   },
   {
    "duration": 40,
    "start_time": "2023-06-16T00:02:45.675Z"
   },
   {
    "duration": 3,
    "start_time": "2023-06-16T00:02:45.717Z"
   },
   {
    "duration": 28,
    "start_time": "2023-06-16T00:02:45.722Z"
   },
   {
    "duration": 93,
    "start_time": "2023-06-16T00:03:15.993Z"
   },
   {
    "duration": 4,
    "start_time": "2023-06-16T00:04:22.522Z"
   },
   {
    "duration": 15,
    "start_time": "2023-06-16T00:04:23.618Z"
   },
   {
    "duration": 3,
    "start_time": "2023-06-16T00:04:59.946Z"
   },
   {
    "duration": 17,
    "start_time": "2023-06-16T00:05:01.179Z"
   },
   {
    "duration": 11,
    "start_time": "2023-06-16T00:06:18.771Z"
   },
   {
    "duration": 109,
    "start_time": "2023-06-16T00:06:20.686Z"
   },
   {
    "duration": 5,
    "start_time": "2023-06-16T00:06:25.412Z"
   },
   {
    "duration": 74,
    "start_time": "2023-06-16T00:06:25.419Z"
   },
   {
    "duration": 10,
    "start_time": "2023-06-16T00:06:25.495Z"
   },
   {
    "duration": 10,
    "start_time": "2023-06-16T00:06:25.507Z"
   },
   {
    "duration": 14,
    "start_time": "2023-06-16T00:06:25.519Z"
   },
   {
    "duration": 10,
    "start_time": "2023-06-16T00:06:25.534Z"
   },
   {
    "duration": 18,
    "start_time": "2023-06-16T00:06:25.546Z"
   },
   {
    "duration": 13,
    "start_time": "2023-06-16T00:06:25.566Z"
   },
   {
    "duration": 11,
    "start_time": "2023-06-16T00:06:25.580Z"
   },
   {
    "duration": 18,
    "start_time": "2023-06-16T00:06:25.592Z"
   },
   {
    "duration": 9,
    "start_time": "2023-06-16T00:06:25.613Z"
   },
   {
    "duration": 4,
    "start_time": "2023-06-16T00:06:25.623Z"
   },
   {
    "duration": 7,
    "start_time": "2023-06-16T00:06:25.649Z"
   },
   {
    "duration": 11,
    "start_time": "2023-06-16T00:06:25.658Z"
   },
   {
    "duration": 9,
    "start_time": "2023-06-16T00:06:25.671Z"
   },
   {
    "duration": 4,
    "start_time": "2023-06-16T00:06:25.682Z"
   },
   {
    "duration": 28,
    "start_time": "2023-06-16T00:06:25.688Z"
   },
   {
    "duration": 108,
    "start_time": "2023-06-16T00:06:25.717Z"
   },
   {
    "duration": 27,
    "start_time": "2023-06-16T00:06:25.827Z"
   },
   {
    "duration": 10,
    "start_time": "2023-06-16T00:06:25.856Z"
   },
   {
    "duration": 11,
    "start_time": "2023-06-16T00:06:25.868Z"
   },
   {
    "duration": 16,
    "start_time": "2023-06-16T00:06:25.880Z"
   },
   {
    "duration": 7,
    "start_time": "2023-06-16T00:06:25.897Z"
   },
   {
    "duration": 9,
    "start_time": "2023-06-16T00:06:25.905Z"
   },
   {
    "duration": 44,
    "start_time": "2023-06-16T00:06:25.916Z"
   },
   {
    "duration": 5,
    "start_time": "2023-06-16T00:06:25.962Z"
   },
   {
    "duration": 9,
    "start_time": "2023-06-16T00:06:25.969Z"
   },
   {
    "duration": 180,
    "start_time": "2023-06-16T00:06:25.979Z"
   },
   {
    "duration": 118,
    "start_time": "2023-06-16T00:06:26.163Z"
   },
   {
    "duration": 14,
    "start_time": "2023-06-16T00:06:26.283Z"
   },
   {
    "duration": 20,
    "start_time": "2023-06-16T00:06:26.299Z"
   },
   {
    "duration": 222,
    "start_time": "2023-06-16T00:06:26.321Z"
   },
   {
    "duration": 219,
    "start_time": "2023-06-16T00:06:26.545Z"
   },
   {
    "duration": 307,
    "start_time": "2023-06-16T00:06:26.766Z"
   },
   {
    "duration": 220,
    "start_time": "2023-06-16T00:06:27.075Z"
   },
   {
    "duration": 288,
    "start_time": "2023-06-16T00:06:27.296Z"
   },
   {
    "duration": 331,
    "start_time": "2023-06-16T00:06:27.585Z"
   },
   {
    "duration": 5,
    "start_time": "2023-06-16T00:06:27.917Z"
   },
   {
    "duration": 161,
    "start_time": "2023-06-16T00:06:27.924Z"
   },
   {
    "duration": 159,
    "start_time": "2023-06-16T00:06:28.087Z"
   },
   {
    "duration": 4,
    "start_time": "2023-06-16T00:06:28.249Z"
   },
   {
    "duration": 23,
    "start_time": "2023-06-16T00:06:28.255Z"
   },
   {
    "duration": 38,
    "start_time": "2023-06-16T00:06:28.280Z"
   },
   {
    "duration": 6,
    "start_time": "2023-06-16T00:06:28.320Z"
   },
   {
    "duration": 11,
    "start_time": "2023-06-16T00:06:28.328Z"
   },
   {
    "duration": 13,
    "start_time": "2023-06-16T00:06:28.340Z"
   },
   {
    "duration": 16,
    "start_time": "2023-06-16T00:06:28.355Z"
   },
   {
    "duration": 149,
    "start_time": "2023-06-16T00:06:28.373Z"
   },
   {
    "duration": 33,
    "start_time": "2023-06-16T00:06:28.524Z"
   },
   {
    "duration": 13,
    "start_time": "2023-06-16T00:06:28.559Z"
   },
   {
    "duration": 3,
    "start_time": "2023-06-16T00:06:28.574Z"
   },
   {
    "duration": 12,
    "start_time": "2023-06-16T00:06:28.579Z"
   },
   {
    "duration": 9,
    "start_time": "2023-06-16T00:06:28.592Z"
   },
   {
    "duration": 2,
    "start_time": "2023-06-16T00:06:28.602Z"
   },
   {
    "duration": 56,
    "start_time": "2023-06-16T00:06:28.606Z"
   },
   {
    "duration": 2,
    "start_time": "2023-06-16T00:06:28.664Z"
   },
   {
    "duration": 17,
    "start_time": "2023-06-16T00:06:28.668Z"
   },
   {
    "duration": 4,
    "start_time": "2023-06-16T00:06:48.612Z"
   },
   {
    "duration": 10,
    "start_time": "2023-06-16T00:06:49.212Z"
   },
   {
    "duration": 6,
    "start_time": "2023-06-16T00:06:52.160Z"
   },
   {
    "duration": 79,
    "start_time": "2023-06-16T00:06:52.169Z"
   },
   {
    "duration": 13,
    "start_time": "2023-06-16T00:06:52.251Z"
   },
   {
    "duration": 11,
    "start_time": "2023-06-16T00:06:52.266Z"
   },
   {
    "duration": 15,
    "start_time": "2023-06-16T00:06:52.279Z"
   },
   {
    "duration": 10,
    "start_time": "2023-06-16T00:06:52.296Z"
   },
   {
    "duration": 45,
    "start_time": "2023-06-16T00:06:52.307Z"
   },
   {
    "duration": 11,
    "start_time": "2023-06-16T00:06:52.353Z"
   },
   {
    "duration": 12,
    "start_time": "2023-06-16T00:06:52.366Z"
   },
   {
    "duration": 23,
    "start_time": "2023-06-16T00:06:52.379Z"
   },
   {
    "duration": 8,
    "start_time": "2023-06-16T00:06:52.405Z"
   },
   {
    "duration": 8,
    "start_time": "2023-06-16T00:06:52.415Z"
   },
   {
    "duration": 35,
    "start_time": "2023-06-16T00:06:52.424Z"
   },
   {
    "duration": 4,
    "start_time": "2023-06-16T00:06:52.461Z"
   },
   {
    "duration": 5,
    "start_time": "2023-06-16T00:06:52.467Z"
   },
   {
    "duration": 5,
    "start_time": "2023-06-16T00:06:52.474Z"
   },
   {
    "duration": 17,
    "start_time": "2023-06-16T00:06:52.481Z"
   },
   {
    "duration": 124,
    "start_time": "2023-06-16T00:06:52.500Z"
   },
   {
    "duration": 29,
    "start_time": "2023-06-16T00:06:52.626Z"
   },
   {
    "duration": 12,
    "start_time": "2023-06-16T00:06:52.657Z"
   },
   {
    "duration": 12,
    "start_time": "2023-06-16T00:06:52.671Z"
   },
   {
    "duration": 17,
    "start_time": "2023-06-16T00:06:52.684Z"
   },
   {
    "duration": 6,
    "start_time": "2023-06-16T00:06:52.702Z"
   },
   {
    "duration": 9,
    "start_time": "2023-06-16T00:06:52.710Z"
   },
   {
    "duration": 11,
    "start_time": "2023-06-16T00:06:52.750Z"
   },
   {
    "duration": 8,
    "start_time": "2023-06-16T00:06:52.762Z"
   },
   {
    "duration": 8,
    "start_time": "2023-06-16T00:06:52.771Z"
   },
   {
    "duration": 180,
    "start_time": "2023-06-16T00:06:52.780Z"
   },
   {
    "duration": 123,
    "start_time": "2023-06-16T00:06:52.963Z"
   },
   {
    "duration": 12,
    "start_time": "2023-06-16T00:06:53.087Z"
   },
   {
    "duration": 38,
    "start_time": "2023-06-16T00:06:53.101Z"
   },
   {
    "duration": 216,
    "start_time": "2023-06-16T00:06:53.141Z"
   },
   {
    "duration": 212,
    "start_time": "2023-06-16T00:06:53.358Z"
   },
   {
    "duration": 302,
    "start_time": "2023-06-16T00:06:53.572Z"
   },
   {
    "duration": 233,
    "start_time": "2023-06-16T00:06:53.876Z"
   },
   {
    "duration": 357,
    "start_time": "2023-06-16T00:06:54.111Z"
   },
   {
    "duration": 290,
    "start_time": "2023-06-16T00:06:54.471Z"
   },
   {
    "duration": 5,
    "start_time": "2023-06-16T00:06:54.762Z"
   },
   {
    "duration": 155,
    "start_time": "2023-06-16T00:06:54.768Z"
   },
   {
    "duration": 155,
    "start_time": "2023-06-16T00:06:54.924Z"
   },
   {
    "duration": 3,
    "start_time": "2023-06-16T00:06:55.080Z"
   },
   {
    "duration": 99,
    "start_time": "2023-06-16T00:06:55.085Z"
   },
   {
    "duration": 19,
    "start_time": "2023-06-16T00:06:55.186Z"
   },
   {
    "duration": 6,
    "start_time": "2023-06-16T00:06:55.206Z"
   },
   {
    "duration": 20,
    "start_time": "2023-06-16T00:06:55.214Z"
   },
   {
    "duration": 20,
    "start_time": "2023-06-16T00:06:55.236Z"
   },
   {
    "duration": 13,
    "start_time": "2023-06-16T00:06:55.258Z"
   },
   {
    "duration": 125,
    "start_time": "2023-06-16T00:06:55.272Z"
   },
   {
    "duration": 21,
    "start_time": "2023-06-16T00:06:55.399Z"
   },
   {
    "duration": 29,
    "start_time": "2023-06-16T00:06:55.421Z"
   },
   {
    "duration": 3,
    "start_time": "2023-06-16T00:06:55.452Z"
   },
   {
    "duration": 16,
    "start_time": "2023-06-16T00:06:55.456Z"
   },
   {
    "duration": 9,
    "start_time": "2023-06-16T00:06:55.474Z"
   },
   {
    "duration": 3,
    "start_time": "2023-06-16T00:06:55.484Z"
   },
   {
    "duration": 26,
    "start_time": "2023-06-16T00:06:55.488Z"
   },
   {
    "duration": 3,
    "start_time": "2023-06-16T00:06:55.515Z"
   },
   {
    "duration": 42,
    "start_time": "2023-06-16T00:06:55.519Z"
   },
   {
    "duration": 10,
    "start_time": "2023-06-16T00:07:17.802Z"
   },
   {
    "duration": 9,
    "start_time": "2023-06-16T00:07:47.300Z"
   },
   {
    "duration": 4,
    "start_time": "2023-06-16T00:07:50.443Z"
   },
   {
    "duration": 77,
    "start_time": "2023-06-16T00:07:50.449Z"
   },
   {
    "duration": 9,
    "start_time": "2023-06-16T00:07:50.528Z"
   },
   {
    "duration": 16,
    "start_time": "2023-06-16T00:07:50.539Z"
   },
   {
    "duration": 14,
    "start_time": "2023-06-16T00:07:50.558Z"
   },
   {
    "duration": 13,
    "start_time": "2023-06-16T00:07:50.574Z"
   },
   {
    "duration": 14,
    "start_time": "2023-06-16T00:07:50.589Z"
   },
   {
    "duration": 13,
    "start_time": "2023-06-16T00:07:50.605Z"
   },
   {
    "duration": 15,
    "start_time": "2023-06-16T00:07:50.619Z"
   },
   {
    "duration": 9,
    "start_time": "2023-06-16T00:07:50.650Z"
   },
   {
    "duration": 17,
    "start_time": "2023-06-16T00:07:50.662Z"
   },
   {
    "duration": 4,
    "start_time": "2023-06-16T00:07:50.680Z"
   },
   {
    "duration": 13,
    "start_time": "2023-06-16T00:07:50.686Z"
   },
   {
    "duration": 21,
    "start_time": "2023-06-16T00:07:50.701Z"
   },
   {
    "duration": 18,
    "start_time": "2023-06-16T00:07:50.724Z"
   },
   {
    "duration": 23,
    "start_time": "2023-06-16T00:07:50.743Z"
   },
   {
    "duration": 19,
    "start_time": "2023-06-16T00:07:50.768Z"
   },
   {
    "duration": 13,
    "start_time": "2023-06-16T00:07:50.789Z"
   },
   {
    "duration": 8,
    "start_time": "2023-06-16T00:07:50.804Z"
   },
   {
    "duration": 14,
    "start_time": "2023-06-16T00:07:50.813Z"
   },
   {
    "duration": 13,
    "start_time": "2023-06-16T00:07:50.829Z"
   },
   {
    "duration": 14,
    "start_time": "2023-06-16T00:07:50.844Z"
   },
   {
    "duration": 5,
    "start_time": "2023-06-16T00:07:50.859Z"
   },
   {
    "duration": 9,
    "start_time": "2023-06-16T00:07:50.866Z"
   },
   {
    "duration": 10,
    "start_time": "2023-06-16T00:07:50.877Z"
   },
   {
    "duration": 6,
    "start_time": "2023-06-16T00:07:50.888Z"
   },
   {
    "duration": 16,
    "start_time": "2023-06-16T00:07:50.896Z"
   },
   {
    "duration": 187,
    "start_time": "2023-06-16T00:07:50.913Z"
   },
   {
    "duration": 114,
    "start_time": "2023-06-16T00:07:51.103Z"
   },
   {
    "duration": 12,
    "start_time": "2023-06-16T00:07:51.218Z"
   },
   {
    "duration": 25,
    "start_time": "2023-06-16T00:07:51.231Z"
   },
   {
    "duration": 201,
    "start_time": "2023-06-16T00:07:51.258Z"
   },
   {
    "duration": 224,
    "start_time": "2023-06-16T00:07:51.461Z"
   },
   {
    "duration": 295,
    "start_time": "2023-06-16T00:07:51.688Z"
   },
   {
    "duration": 232,
    "start_time": "2023-06-16T00:07:51.985Z"
   },
   {
    "duration": 362,
    "start_time": "2023-06-16T00:07:52.219Z"
   },
   {
    "duration": 285,
    "start_time": "2023-06-16T00:07:52.584Z"
   },
   {
    "duration": 4,
    "start_time": "2023-06-16T00:07:52.871Z"
   },
   {
    "duration": 145,
    "start_time": "2023-06-16T00:07:52.877Z"
   },
   {
    "duration": 154,
    "start_time": "2023-06-16T00:07:53.024Z"
   },
   {
    "duration": 4,
    "start_time": "2023-06-16T00:07:53.179Z"
   },
   {
    "duration": 4,
    "start_time": "2023-06-16T00:07:53.185Z"
   },
   {
    "duration": 25,
    "start_time": "2023-06-16T00:07:53.191Z"
   },
   {
    "duration": 17,
    "start_time": "2023-06-16T00:07:53.218Z"
   },
   {
    "duration": 18,
    "start_time": "2023-06-16T00:07:53.236Z"
   },
   {
    "duration": 12,
    "start_time": "2023-06-16T00:07:53.256Z"
   },
   {
    "duration": 12,
    "start_time": "2023-06-16T00:07:53.270Z"
   },
   {
    "duration": 147,
    "start_time": "2023-06-16T00:07:53.284Z"
   },
   {
    "duration": 34,
    "start_time": "2023-06-16T00:07:53.433Z"
   },
   {
    "duration": 11,
    "start_time": "2023-06-16T00:07:53.469Z"
   },
   {
    "duration": 3,
    "start_time": "2023-06-16T00:07:53.482Z"
   },
   {
    "duration": 13,
    "start_time": "2023-06-16T00:07:53.487Z"
   },
   {
    "duration": 9,
    "start_time": "2023-06-16T00:07:53.502Z"
   },
   {
    "duration": 3,
    "start_time": "2023-06-16T00:07:53.513Z"
   },
   {
    "duration": 50,
    "start_time": "2023-06-16T00:07:53.518Z"
   },
   {
    "duration": 4,
    "start_time": "2023-06-16T00:07:53.570Z"
   },
   {
    "duration": 27,
    "start_time": "2023-06-16T00:07:53.575Z"
   },
   {
    "duration": 4,
    "start_time": "2023-06-16T00:27:36.312Z"
   },
   {
    "duration": 74,
    "start_time": "2023-06-16T00:27:36.318Z"
   },
   {
    "duration": 10,
    "start_time": "2023-06-16T00:27:36.393Z"
   },
   {
    "duration": 8,
    "start_time": "2023-06-16T00:27:36.405Z"
   },
   {
    "duration": 10,
    "start_time": "2023-06-16T00:27:36.415Z"
   },
   {
    "duration": 10,
    "start_time": "2023-06-16T00:27:36.427Z"
   },
   {
    "duration": 11,
    "start_time": "2023-06-16T00:27:36.439Z"
   },
   {
    "duration": 12,
    "start_time": "2023-06-16T00:27:36.451Z"
   },
   {
    "duration": 18,
    "start_time": "2023-06-16T00:27:36.464Z"
   },
   {
    "duration": 16,
    "start_time": "2023-06-16T00:27:36.484Z"
   },
   {
    "duration": 12,
    "start_time": "2023-06-16T00:27:36.503Z"
   },
   {
    "duration": 4,
    "start_time": "2023-06-16T00:27:36.517Z"
   },
   {
    "duration": 27,
    "start_time": "2023-06-16T00:27:36.523Z"
   },
   {
    "duration": 2,
    "start_time": "2023-06-16T00:27:36.552Z"
   },
   {
    "duration": 5,
    "start_time": "2023-06-16T00:27:36.555Z"
   },
   {
    "duration": 4,
    "start_time": "2023-06-16T00:27:36.561Z"
   },
   {
    "duration": 13,
    "start_time": "2023-06-16T00:27:36.567Z"
   },
   {
    "duration": 7,
    "start_time": "2023-06-16T00:27:36.582Z"
   },
   {
    "duration": 8,
    "start_time": "2023-06-16T00:27:36.590Z"
   },
   {
    "duration": 10,
    "start_time": "2023-06-16T00:27:36.599Z"
   },
   {
    "duration": 47,
    "start_time": "2023-06-16T00:27:36.611Z"
   },
   {
    "duration": 27,
    "start_time": "2023-06-16T00:27:36.659Z"
   },
   {
    "duration": 15,
    "start_time": "2023-06-16T00:27:36.688Z"
   },
   {
    "duration": 14,
    "start_time": "2023-06-16T00:27:36.705Z"
   },
   {
    "duration": 13,
    "start_time": "2023-06-16T00:27:36.720Z"
   },
   {
    "duration": 17,
    "start_time": "2023-06-16T00:27:36.734Z"
   },
   {
    "duration": 11,
    "start_time": "2023-06-16T00:27:36.752Z"
   },
   {
    "duration": 166,
    "start_time": "2023-06-16T00:27:36.764Z"
   },
   {
    "duration": 120,
    "start_time": "2023-06-16T00:27:36.933Z"
   },
   {
    "duration": 13,
    "start_time": "2023-06-16T00:27:37.055Z"
   },
   {
    "duration": 44,
    "start_time": "2023-06-16T00:27:37.070Z"
   },
   {
    "duration": 219,
    "start_time": "2023-06-16T00:27:37.115Z"
   },
   {
    "duration": 226,
    "start_time": "2023-06-16T00:27:37.336Z"
   },
   {
    "duration": 399,
    "start_time": "2023-06-16T00:27:37.564Z"
   },
   {
    "duration": 231,
    "start_time": "2023-06-16T00:27:37.965Z"
   },
   {
    "duration": 303,
    "start_time": "2023-06-16T00:27:38.198Z"
   },
   {
    "duration": 278,
    "start_time": "2023-06-16T00:27:38.503Z"
   },
   {
    "duration": 4,
    "start_time": "2023-06-16T00:27:38.783Z"
   },
   {
    "duration": 158,
    "start_time": "2023-06-16T00:27:38.789Z"
   },
   {
    "duration": 153,
    "start_time": "2023-06-16T00:27:38.949Z"
   },
   {
    "duration": 4,
    "start_time": "2023-06-16T00:27:39.104Z"
   },
   {
    "duration": 5,
    "start_time": "2023-06-16T00:27:39.109Z"
   },
   {
    "duration": 20,
    "start_time": "2023-06-16T00:27:39.115Z"
   },
   {
    "duration": 29,
    "start_time": "2023-06-16T00:27:39.137Z"
   },
   {
    "duration": 14,
    "start_time": "2023-06-16T00:27:39.168Z"
   },
   {
    "duration": 15,
    "start_time": "2023-06-16T00:27:39.183Z"
   },
   {
    "duration": 15,
    "start_time": "2023-06-16T00:27:39.199Z"
   },
   {
    "duration": 109,
    "start_time": "2023-06-16T00:27:39.215Z"
   },
   {
    "duration": 28,
    "start_time": "2023-06-16T00:27:39.326Z"
   },
   {
    "duration": 11,
    "start_time": "2023-06-16T00:27:39.355Z"
   },
   {
    "duration": 6,
    "start_time": "2023-06-16T00:27:39.368Z"
   },
   {
    "duration": 14,
    "start_time": "2023-06-16T00:27:39.375Z"
   },
   {
    "duration": 9,
    "start_time": "2023-06-16T00:27:39.391Z"
   },
   {
    "duration": 5,
    "start_time": "2023-06-16T00:27:39.401Z"
   },
   {
    "duration": 52,
    "start_time": "2023-06-16T00:27:39.408Z"
   },
   {
    "duration": 2,
    "start_time": "2023-06-16T00:27:39.462Z"
   },
   {
    "duration": 16,
    "start_time": "2023-06-16T00:27:39.466Z"
   },
   {
    "duration": 7,
    "start_time": "2023-06-16T00:28:06.829Z"
   },
   {
    "duration": 179,
    "start_time": "2023-06-16T00:28:14.299Z"
   },
   {
    "duration": 102,
    "start_time": "2023-06-16T00:28:16.124Z"
   },
   {
    "duration": 8,
    "start_time": "2023-06-16T00:28:16.692Z"
   },
   {
    "duration": 13,
    "start_time": "2023-06-16T00:28:17.901Z"
   },
   {
    "duration": 193,
    "start_time": "2023-06-16T00:28:18.604Z"
   },
   {
    "duration": 204,
    "start_time": "2023-06-16T00:28:23.293Z"
   },
   {
    "duration": 327,
    "start_time": "2023-06-16T00:28:38.531Z"
   },
   {
    "duration": 222,
    "start_time": "2023-06-16T00:28:40.349Z"
   },
   {
    "duration": 335,
    "start_time": "2023-06-16T00:28:43.220Z"
   },
   {
    "duration": 398,
    "start_time": "2023-06-16T00:28:47.044Z"
   },
   {
    "duration": 259,
    "start_time": "2023-06-16T00:28:55.573Z"
   },
   {
    "duration": 15,
    "start_time": "2023-06-16T00:32:17.566Z"
   },
   {
    "duration": 5,
    "start_time": "2023-06-16T00:32:32.262Z"
   },
   {
    "duration": 87,
    "start_time": "2023-06-16T00:32:32.269Z"
   },
   {
    "duration": 11,
    "start_time": "2023-06-16T00:32:32.358Z"
   },
   {
    "duration": 9,
    "start_time": "2023-06-16T00:32:32.371Z"
   },
   {
    "duration": 22,
    "start_time": "2023-06-16T00:32:32.382Z"
   },
   {
    "duration": 12,
    "start_time": "2023-06-16T00:32:32.405Z"
   },
   {
    "duration": 32,
    "start_time": "2023-06-16T00:32:32.419Z"
   },
   {
    "duration": 16,
    "start_time": "2023-06-16T00:32:32.452Z"
   },
   {
    "duration": 9,
    "start_time": "2023-06-16T00:32:32.469Z"
   },
   {
    "duration": 11,
    "start_time": "2023-06-16T00:32:32.479Z"
   },
   {
    "duration": 11,
    "start_time": "2023-06-16T00:32:32.493Z"
   },
   {
    "duration": 9,
    "start_time": "2023-06-16T00:32:32.505Z"
   },
   {
    "duration": 39,
    "start_time": "2023-06-16T00:32:32.516Z"
   },
   {
    "duration": 3,
    "start_time": "2023-06-16T00:32:32.557Z"
   },
   {
    "duration": 6,
    "start_time": "2023-06-16T00:32:32.561Z"
   },
   {
    "duration": 4,
    "start_time": "2023-06-16T00:32:32.568Z"
   },
   {
    "duration": 12,
    "start_time": "2023-06-16T00:32:32.573Z"
   },
   {
    "duration": 15,
    "start_time": "2023-06-16T00:32:32.586Z"
   },
   {
    "duration": 7,
    "start_time": "2023-06-16T00:32:32.603Z"
   },
   {
    "duration": 39,
    "start_time": "2023-06-16T00:32:32.612Z"
   },
   {
    "duration": 14,
    "start_time": "2023-06-16T00:32:32.652Z"
   },
   {
    "duration": 13,
    "start_time": "2023-06-16T00:32:32.668Z"
   },
   {
    "duration": 20,
    "start_time": "2023-06-16T00:32:32.682Z"
   },
   {
    "duration": 17,
    "start_time": "2023-06-16T00:32:32.704Z"
   },
   {
    "duration": 11,
    "start_time": "2023-06-16T00:32:32.723Z"
   },
   {
    "duration": 19,
    "start_time": "2023-06-16T00:32:32.735Z"
   },
   {
    "duration": 20,
    "start_time": "2023-06-16T00:32:32.755Z"
   },
   {
    "duration": 161,
    "start_time": "2023-06-16T00:32:32.776Z"
   },
   {
    "duration": 112,
    "start_time": "2023-06-16T00:32:32.950Z"
   },
   {
    "duration": 6,
    "start_time": "2023-06-16T00:32:33.064Z"
   },
   {
    "duration": 17,
    "start_time": "2023-06-16T00:32:33.071Z"
   },
   {
    "duration": 219,
    "start_time": "2023-06-16T00:32:33.089Z"
   },
   {
    "duration": 219,
    "start_time": "2023-06-16T00:32:33.309Z"
   },
   {
    "duration": 353,
    "start_time": "2023-06-16T00:32:33.529Z"
   },
   {
    "duration": 248,
    "start_time": "2023-06-16T00:32:33.884Z"
   },
   {
    "duration": 354,
    "start_time": "2023-06-16T00:32:34.133Z"
   },
   {
    "duration": 311,
    "start_time": "2023-06-16T00:32:34.489Z"
   },
   {
    "duration": 4,
    "start_time": "2023-06-16T00:32:34.802Z"
   },
   {
    "duration": 155,
    "start_time": "2023-06-16T00:32:34.808Z"
   },
   {
    "duration": 157,
    "start_time": "2023-06-16T00:32:34.965Z"
   },
   {
    "duration": 4,
    "start_time": "2023-06-16T00:32:35.124Z"
   },
   {
    "duration": 25,
    "start_time": "2023-06-16T00:32:35.130Z"
   },
   {
    "duration": 23,
    "start_time": "2023-06-16T00:32:35.157Z"
   },
   {
    "duration": 7,
    "start_time": "2023-06-16T00:32:35.182Z"
   },
   {
    "duration": 13,
    "start_time": "2023-06-16T00:32:35.191Z"
   },
   {
    "duration": 15,
    "start_time": "2023-06-16T00:32:35.205Z"
   },
   {
    "duration": 23,
    "start_time": "2023-06-16T00:32:35.221Z"
   },
   {
    "duration": 127,
    "start_time": "2023-06-16T00:32:35.245Z"
   },
   {
    "duration": 21,
    "start_time": "2023-06-16T00:32:35.374Z"
   },
   {
    "duration": 11,
    "start_time": "2023-06-16T00:32:35.397Z"
   },
   {
    "duration": 14,
    "start_time": "2023-06-16T00:32:35.410Z"
   },
   {
    "duration": 27,
    "start_time": "2023-06-16T00:32:35.426Z"
   },
   {
    "duration": 10,
    "start_time": "2023-06-16T00:32:35.454Z"
   },
   {
    "duration": 13,
    "start_time": "2023-06-16T00:32:35.466Z"
   },
   {
    "duration": 26,
    "start_time": "2023-06-16T00:32:35.480Z"
   },
   {
    "duration": 2,
    "start_time": "2023-06-16T00:32:35.508Z"
   },
   {
    "duration": 18,
    "start_time": "2023-06-16T00:32:35.512Z"
   },
   {
    "duration": 12,
    "start_time": "2023-06-16T00:33:07.337Z"
   },
   {
    "duration": 3,
    "start_time": "2023-06-16T00:34:05.657Z"
   },
   {
    "duration": 76,
    "start_time": "2023-06-16T00:34:05.666Z"
   },
   {
    "duration": 11,
    "start_time": "2023-06-16T00:34:05.744Z"
   },
   {
    "duration": 15,
    "start_time": "2023-06-16T00:34:05.756Z"
   },
   {
    "duration": 18,
    "start_time": "2023-06-16T00:34:05.773Z"
   },
   {
    "duration": 10,
    "start_time": "2023-06-16T00:34:05.794Z"
   },
   {
    "duration": 10,
    "start_time": "2023-06-16T00:34:05.806Z"
   },
   {
    "duration": 41,
    "start_time": "2023-06-16T00:34:05.818Z"
   },
   {
    "duration": 10,
    "start_time": "2023-06-16T00:34:05.861Z"
   },
   {
    "duration": 16,
    "start_time": "2023-06-16T00:34:05.873Z"
   },
   {
    "duration": 9,
    "start_time": "2023-06-16T00:34:05.890Z"
   },
   {
    "duration": 4,
    "start_time": "2023-06-16T00:34:05.901Z"
   },
   {
    "duration": 9,
    "start_time": "2023-06-16T00:34:05.907Z"
   },
   {
    "duration": 33,
    "start_time": "2023-06-16T00:34:05.917Z"
   },
   {
    "duration": 2,
    "start_time": "2023-06-16T00:34:05.954Z"
   },
   {
    "duration": 4,
    "start_time": "2023-06-16T00:34:05.958Z"
   },
   {
    "duration": 9,
    "start_time": "2023-06-16T00:34:05.964Z"
   },
   {
    "duration": 13,
    "start_time": "2023-06-16T00:34:05.974Z"
   },
   {
    "duration": 7,
    "start_time": "2023-06-16T00:34:05.989Z"
   },
   {
    "duration": 13,
    "start_time": "2023-06-16T00:34:05.998Z"
   },
   {
    "duration": 48,
    "start_time": "2023-06-16T00:34:06.013Z"
   },
   {
    "duration": 15,
    "start_time": "2023-06-16T00:34:06.063Z"
   },
   {
    "duration": 21,
    "start_time": "2023-06-16T00:34:06.080Z"
   },
   {
    "duration": 16,
    "start_time": "2023-06-16T00:34:06.103Z"
   },
   {
    "duration": 13,
    "start_time": "2023-06-16T00:34:06.121Z"
   },
   {
    "duration": 15,
    "start_time": "2023-06-16T00:34:06.135Z"
   },
   {
    "duration": 6,
    "start_time": "2023-06-16T00:34:06.152Z"
   },
   {
    "duration": 166,
    "start_time": "2023-06-16T00:34:06.159Z"
   },
   {
    "duration": 106,
    "start_time": "2023-06-16T00:34:06.326Z"
   },
   {
    "duration": 18,
    "start_time": "2023-06-16T00:34:06.433Z"
   },
   {
    "duration": 15,
    "start_time": "2023-06-16T00:34:06.452Z"
   },
   {
    "duration": 308,
    "start_time": "2023-06-16T00:34:06.469Z"
   },
   {
    "duration": 228,
    "start_time": "2023-06-16T00:34:06.778Z"
   },
   {
    "duration": 343,
    "start_time": "2023-06-16T00:34:07.007Z"
   },
   {
    "duration": 225,
    "start_time": "2023-06-16T00:34:07.351Z"
   },
   {
    "duration": 303,
    "start_time": "2023-06-16T00:34:07.577Z"
   },
   {
    "duration": 269,
    "start_time": "2023-06-16T00:34:07.881Z"
   },
   {
    "duration": 4,
    "start_time": "2023-06-16T00:34:08.152Z"
   },
   {
    "duration": 170,
    "start_time": "2023-06-16T00:34:08.157Z"
   },
   {
    "duration": 156,
    "start_time": "2023-06-16T00:34:08.328Z"
   },
   {
    "duration": 4,
    "start_time": "2023-06-16T00:34:08.485Z"
   },
   {
    "duration": 34,
    "start_time": "2023-06-16T00:34:08.493Z"
   },
   {
    "duration": 56,
    "start_time": "2023-06-16T00:34:08.528Z"
   },
   {
    "duration": 10,
    "start_time": "2023-06-16T00:34:08.586Z"
   },
   {
    "duration": 11,
    "start_time": "2023-06-16T00:34:08.598Z"
   },
   {
    "duration": 12,
    "start_time": "2023-06-16T00:34:08.611Z"
   },
   {
    "duration": 15,
    "start_time": "2023-06-16T00:34:08.624Z"
   },
   {
    "duration": 119,
    "start_time": "2023-06-16T00:34:08.640Z"
   },
   {
    "duration": 22,
    "start_time": "2023-06-16T00:34:08.760Z"
   },
   {
    "duration": 11,
    "start_time": "2023-06-16T00:34:08.783Z"
   },
   {
    "duration": 3,
    "start_time": "2023-06-16T00:34:08.796Z"
   },
   {
    "duration": 12,
    "start_time": "2023-06-16T00:34:08.801Z"
   },
   {
    "duration": 38,
    "start_time": "2023-06-16T00:34:08.814Z"
   },
   {
    "duration": 2,
    "start_time": "2023-06-16T00:34:08.854Z"
   },
   {
    "duration": 22,
    "start_time": "2023-06-16T00:34:08.857Z"
   },
   {
    "duration": 3,
    "start_time": "2023-06-16T00:34:08.881Z"
   },
   {
    "duration": 17,
    "start_time": "2023-06-16T00:34:08.885Z"
   },
   {
    "duration": 3,
    "start_time": "2023-06-16T00:45:43.619Z"
   },
   {
    "duration": 74,
    "start_time": "2023-06-16T00:45:43.624Z"
   },
   {
    "duration": 10,
    "start_time": "2023-06-16T00:45:43.700Z"
   },
   {
    "duration": 14,
    "start_time": "2023-06-16T00:45:43.712Z"
   },
   {
    "duration": 11,
    "start_time": "2023-06-16T00:45:43.727Z"
   },
   {
    "duration": 9,
    "start_time": "2023-06-16T00:45:43.740Z"
   },
   {
    "duration": 9,
    "start_time": "2023-06-16T00:45:43.750Z"
   },
   {
    "duration": 13,
    "start_time": "2023-06-16T00:45:43.760Z"
   },
   {
    "duration": 21,
    "start_time": "2023-06-16T00:45:43.775Z"
   },
   {
    "duration": 29,
    "start_time": "2023-06-16T00:45:43.798Z"
   },
   {
    "duration": 11,
    "start_time": "2023-06-16T00:45:43.829Z"
   },
   {
    "duration": 14,
    "start_time": "2023-06-16T00:45:43.842Z"
   },
   {
    "duration": 12,
    "start_time": "2023-06-16T00:45:43.858Z"
   },
   {
    "duration": 24,
    "start_time": "2023-06-16T00:45:43.871Z"
   },
   {
    "duration": 16,
    "start_time": "2023-06-16T00:45:43.896Z"
   },
   {
    "duration": 12,
    "start_time": "2023-06-16T00:45:43.914Z"
   },
   {
    "duration": 18,
    "start_time": "2023-06-16T00:45:43.927Z"
   },
   {
    "duration": 9,
    "start_time": "2023-06-16T00:45:43.946Z"
   },
   {
    "duration": 7,
    "start_time": "2023-06-16T00:45:43.956Z"
   },
   {
    "duration": 3,
    "start_time": "2023-06-16T00:45:43.964Z"
   },
   {
    "duration": 14,
    "start_time": "2023-06-16T00:45:43.969Z"
   },
   {
    "duration": 10,
    "start_time": "2023-06-16T00:45:43.985Z"
   },
   {
    "duration": 13,
    "start_time": "2023-06-16T00:45:43.997Z"
   },
   {
    "duration": 9,
    "start_time": "2023-06-16T00:45:44.014Z"
   },
   {
    "duration": 12,
    "start_time": "2023-06-16T00:45:44.050Z"
   },
   {
    "duration": 12,
    "start_time": "2023-06-16T00:45:44.064Z"
   },
   {
    "duration": 7,
    "start_time": "2023-06-16T00:45:44.079Z"
   },
   {
    "duration": 12,
    "start_time": "2023-06-16T00:45:44.088Z"
   },
   {
    "duration": 179,
    "start_time": "2023-06-16T00:45:44.103Z"
   },
   {
    "duration": 115,
    "start_time": "2023-06-16T00:45:44.283Z"
   },
   {
    "duration": 6,
    "start_time": "2023-06-16T00:45:44.400Z"
   },
   {
    "duration": 13,
    "start_time": "2023-06-16T00:45:44.407Z"
   },
   {
    "duration": 215,
    "start_time": "2023-06-16T00:45:44.421Z"
   },
   {
    "duration": 212,
    "start_time": "2023-06-16T00:45:44.638Z"
   },
   {
    "duration": 318,
    "start_time": "2023-06-16T00:45:44.852Z"
   },
   {
    "duration": 301,
    "start_time": "2023-06-16T00:45:45.171Z"
   },
   {
    "duration": 296,
    "start_time": "2023-06-16T00:45:45.473Z"
   },
   {
    "duration": 286,
    "start_time": "2023-06-16T00:45:45.771Z"
   },
   {
    "duration": 4,
    "start_time": "2023-06-16T00:45:46.059Z"
   },
   {
    "duration": 145,
    "start_time": "2023-06-16T00:45:46.064Z"
   },
   {
    "duration": 150,
    "start_time": "2023-06-16T00:45:46.210Z"
   },
   {
    "duration": 4,
    "start_time": "2023-06-16T00:45:46.362Z"
   },
   {
    "duration": 6,
    "start_time": "2023-06-16T00:45:46.368Z"
   },
   {
    "duration": 15,
    "start_time": "2023-06-16T00:45:46.375Z"
   },
   {
    "duration": 5,
    "start_time": "2023-06-16T00:45:46.392Z"
   },
   {
    "duration": 10,
    "start_time": "2023-06-16T00:45:46.399Z"
   },
   {
    "duration": 39,
    "start_time": "2023-06-16T00:45:46.411Z"
   },
   {
    "duration": 15,
    "start_time": "2023-06-16T00:45:46.452Z"
   },
   {
    "duration": 126,
    "start_time": "2023-06-16T00:45:46.469Z"
   },
   {
    "duration": 21,
    "start_time": "2023-06-16T00:45:46.596Z"
   },
   {
    "duration": 11,
    "start_time": "2023-06-16T00:45:46.619Z"
   },
   {
    "duration": 4,
    "start_time": "2023-06-16T00:45:46.649Z"
   },
   {
    "duration": 13,
    "start_time": "2023-06-16T00:45:46.654Z"
   },
   {
    "duration": 9,
    "start_time": "2023-06-16T00:45:46.668Z"
   },
   {
    "duration": 1,
    "start_time": "2023-06-16T00:45:46.679Z"
   },
   {
    "duration": 20,
    "start_time": "2023-06-16T00:45:46.682Z"
   },
   {
    "duration": 3,
    "start_time": "2023-06-16T00:45:46.703Z"
   },
   {
    "duration": 46,
    "start_time": "2023-06-16T00:45:46.707Z"
   },
   {
    "duration": 4,
    "start_time": "2023-06-16T00:46:16.999Z"
   },
   {
    "duration": 80,
    "start_time": "2023-06-16T00:46:17.008Z"
   },
   {
    "duration": 11,
    "start_time": "2023-06-16T00:46:17.090Z"
   },
   {
    "duration": 18,
    "start_time": "2023-06-16T00:46:17.103Z"
   },
   {
    "duration": 11,
    "start_time": "2023-06-16T00:46:17.123Z"
   },
   {
    "duration": 10,
    "start_time": "2023-06-16T00:46:17.136Z"
   },
   {
    "duration": 12,
    "start_time": "2023-06-16T00:46:17.149Z"
   },
   {
    "duration": 17,
    "start_time": "2023-06-16T00:46:17.163Z"
   },
   {
    "duration": 19,
    "start_time": "2023-06-16T00:46:17.182Z"
   },
   {
    "duration": 13,
    "start_time": "2023-06-16T00:46:17.203Z"
   },
   {
    "duration": 11,
    "start_time": "2023-06-16T00:46:17.218Z"
   },
   {
    "duration": 5,
    "start_time": "2023-06-16T00:46:17.251Z"
   },
   {
    "duration": 13,
    "start_time": "2023-06-16T00:46:17.258Z"
   },
   {
    "duration": 5,
    "start_time": "2023-06-16T00:46:17.273Z"
   },
   {
    "duration": 16,
    "start_time": "2023-06-16T00:46:17.282Z"
   },
   {
    "duration": 16,
    "start_time": "2023-06-16T00:46:17.300Z"
   },
   {
    "duration": 24,
    "start_time": "2023-06-16T00:46:17.318Z"
   },
   {
    "duration": 20,
    "start_time": "2023-06-16T00:46:17.344Z"
   },
   {
    "duration": 7,
    "start_time": "2023-06-16T00:46:17.366Z"
   },
   {
    "duration": 99,
    "start_time": "2023-06-16T00:46:17.374Z"
   },
   {
    "duration": 0,
    "start_time": "2023-06-16T00:46:17.475Z"
   },
   {
    "duration": 0,
    "start_time": "2023-06-16T00:46:17.476Z"
   },
   {
    "duration": 0,
    "start_time": "2023-06-16T00:46:17.477Z"
   },
   {
    "duration": 0,
    "start_time": "2023-06-16T00:46:17.478Z"
   },
   {
    "duration": 0,
    "start_time": "2023-06-16T00:46:17.479Z"
   },
   {
    "duration": 0,
    "start_time": "2023-06-16T00:46:17.481Z"
   },
   {
    "duration": 0,
    "start_time": "2023-06-16T00:46:17.482Z"
   },
   {
    "duration": 0,
    "start_time": "2023-06-16T00:46:17.483Z"
   },
   {
    "duration": 0,
    "start_time": "2023-06-16T00:46:17.484Z"
   },
   {
    "duration": 0,
    "start_time": "2023-06-16T00:46:17.485Z"
   },
   {
    "duration": 0,
    "start_time": "2023-06-16T00:46:17.486Z"
   },
   {
    "duration": 0,
    "start_time": "2023-06-16T00:46:17.487Z"
   },
   {
    "duration": 0,
    "start_time": "2023-06-16T00:46:17.488Z"
   },
   {
    "duration": 0,
    "start_time": "2023-06-16T00:46:17.489Z"
   },
   {
    "duration": 0,
    "start_time": "2023-06-16T00:46:17.490Z"
   },
   {
    "duration": 0,
    "start_time": "2023-06-16T00:46:17.491Z"
   },
   {
    "duration": 0,
    "start_time": "2023-06-16T00:46:17.492Z"
   },
   {
    "duration": 0,
    "start_time": "2023-06-16T00:46:17.494Z"
   },
   {
    "duration": 0,
    "start_time": "2023-06-16T00:46:17.495Z"
   },
   {
    "duration": 0,
    "start_time": "2023-06-16T00:46:17.496Z"
   },
   {
    "duration": 0,
    "start_time": "2023-06-16T00:46:17.498Z"
   },
   {
    "duration": 0,
    "start_time": "2023-06-16T00:46:17.500Z"
   },
   {
    "duration": 0,
    "start_time": "2023-06-16T00:46:17.501Z"
   },
   {
    "duration": 0,
    "start_time": "2023-06-16T00:46:17.502Z"
   },
   {
    "duration": 0,
    "start_time": "2023-06-16T00:46:17.503Z"
   },
   {
    "duration": 0,
    "start_time": "2023-06-16T00:46:17.505Z"
   },
   {
    "duration": 0,
    "start_time": "2023-06-16T00:46:17.506Z"
   },
   {
    "duration": 0,
    "start_time": "2023-06-16T00:46:17.508Z"
   },
   {
    "duration": 0,
    "start_time": "2023-06-16T00:46:17.509Z"
   },
   {
    "duration": 0,
    "start_time": "2023-06-16T00:46:17.511Z"
   },
   {
    "duration": 0,
    "start_time": "2023-06-16T00:46:17.512Z"
   },
   {
    "duration": 0,
    "start_time": "2023-06-16T00:46:17.513Z"
   },
   {
    "duration": 0,
    "start_time": "2023-06-16T00:46:17.551Z"
   },
   {
    "duration": 0,
    "start_time": "2023-06-16T00:46:17.553Z"
   },
   {
    "duration": 0,
    "start_time": "2023-06-16T00:46:17.554Z"
   },
   {
    "duration": 0,
    "start_time": "2023-06-16T00:46:17.556Z"
   },
   {
    "duration": 0,
    "start_time": "2023-06-16T00:46:17.557Z"
   },
   {
    "duration": 0,
    "start_time": "2023-06-16T00:46:17.559Z"
   },
   {
    "duration": 4,
    "start_time": "2023-06-16T00:51:45.285Z"
   },
   {
    "duration": 76,
    "start_time": "2023-06-16T00:51:45.291Z"
   },
   {
    "duration": 10,
    "start_time": "2023-06-16T00:51:45.369Z"
   },
   {
    "duration": 12,
    "start_time": "2023-06-16T00:51:45.380Z"
   },
   {
    "duration": 10,
    "start_time": "2023-06-16T00:51:45.394Z"
   },
   {
    "duration": 9,
    "start_time": "2023-06-16T00:51:45.405Z"
   },
   {
    "duration": 9,
    "start_time": "2023-06-16T00:51:45.416Z"
   },
   {
    "duration": 31,
    "start_time": "2023-06-16T00:51:45.426Z"
   },
   {
    "duration": 8,
    "start_time": "2023-06-16T00:51:45.458Z"
   },
   {
    "duration": 11,
    "start_time": "2023-06-16T00:51:45.468Z"
   },
   {
    "duration": 8,
    "start_time": "2023-06-16T00:51:45.482Z"
   },
   {
    "duration": 4,
    "start_time": "2023-06-16T00:51:45.491Z"
   },
   {
    "duration": 8,
    "start_time": "2023-06-16T00:51:45.496Z"
   },
   {
    "duration": 11,
    "start_time": "2023-06-16T00:51:45.506Z"
   },
   {
    "duration": 4,
    "start_time": "2023-06-16T00:51:45.519Z"
   },
   {
    "duration": 4,
    "start_time": "2023-06-16T00:51:45.550Z"
   },
   {
    "duration": 11,
    "start_time": "2023-06-16T00:51:45.556Z"
   },
   {
    "duration": 8,
    "start_time": "2023-06-16T00:51:45.568Z"
   },
   {
    "duration": 7,
    "start_time": "2023-06-16T00:51:45.578Z"
   },
   {
    "duration": 10,
    "start_time": "2023-06-16T00:51:45.586Z"
   },
   {
    "duration": 11,
    "start_time": "2023-06-16T00:51:45.598Z"
   },
   {
    "duration": 48,
    "start_time": "2023-06-16T00:51:45.610Z"
   },
   {
    "duration": 6,
    "start_time": "2023-06-16T00:51:45.660Z"
   },
   {
    "duration": 9,
    "start_time": "2023-06-16T00:51:45.667Z"
   },
   {
    "duration": 9,
    "start_time": "2023-06-16T00:51:45.678Z"
   },
   {
    "duration": 6,
    "start_time": "2023-06-16T00:51:45.688Z"
   },
   {
    "duration": 6,
    "start_time": "2023-06-16T00:51:45.695Z"
   },
   {
    "duration": 188,
    "start_time": "2023-06-16T00:51:45.702Z"
   },
   {
    "duration": 115,
    "start_time": "2023-06-16T00:51:45.893Z"
   },
   {
    "duration": 6,
    "start_time": "2023-06-16T00:51:46.010Z"
   },
   {
    "duration": 25,
    "start_time": "2023-06-16T00:51:46.017Z"
   },
   {
    "duration": 198,
    "start_time": "2023-06-16T00:51:46.043Z"
   },
   {
    "duration": 210,
    "start_time": "2023-06-16T00:51:46.249Z"
   },
   {
    "duration": 308,
    "start_time": "2023-06-16T00:51:46.461Z"
   },
   {
    "duration": 223,
    "start_time": "2023-06-16T00:51:46.771Z"
   },
   {
    "duration": 307,
    "start_time": "2023-06-16T00:51:46.995Z"
   },
   {
    "duration": 255,
    "start_time": "2023-06-16T00:51:47.304Z"
   },
   {
    "duration": 4,
    "start_time": "2023-06-16T00:51:47.560Z"
   },
   {
    "duration": 230,
    "start_time": "2023-06-16T00:51:47.565Z"
   },
   {
    "duration": 151,
    "start_time": "2023-06-16T00:51:47.796Z"
   },
   {
    "duration": 5,
    "start_time": "2023-06-16T00:51:47.949Z"
   },
   {
    "duration": 5,
    "start_time": "2023-06-16T00:51:47.955Z"
   },
   {
    "duration": 20,
    "start_time": "2023-06-16T00:51:47.961Z"
   },
   {
    "duration": 7,
    "start_time": "2023-06-16T00:51:47.983Z"
   },
   {
    "duration": 13,
    "start_time": "2023-06-16T00:51:47.991Z"
   },
   {
    "duration": 11,
    "start_time": "2023-06-16T00:51:48.006Z"
   },
   {
    "duration": 37,
    "start_time": "2023-06-16T00:51:48.019Z"
   },
   {
    "duration": 118,
    "start_time": "2023-06-16T00:51:48.058Z"
   },
   {
    "duration": 20,
    "start_time": "2023-06-16T00:51:48.178Z"
   },
   {
    "duration": 10,
    "start_time": "2023-06-16T00:51:48.200Z"
   },
   {
    "duration": 3,
    "start_time": "2023-06-16T00:51:48.212Z"
   },
   {
    "duration": 34,
    "start_time": "2023-06-16T00:51:48.217Z"
   },
   {
    "duration": 10,
    "start_time": "2023-06-16T00:51:48.253Z"
   },
   {
    "duration": 10,
    "start_time": "2023-06-16T00:51:48.264Z"
   },
   {
    "duration": 44,
    "start_time": "2023-06-16T00:51:48.275Z"
   },
   {
    "duration": 3,
    "start_time": "2023-06-16T00:51:48.320Z"
   },
   {
    "duration": 21,
    "start_time": "2023-06-16T00:51:48.325Z"
   },
   {
    "duration": 277,
    "start_time": "2023-06-16T00:55:19.585Z"
   },
   {
    "duration": 292,
    "start_time": "2023-06-16T00:55:36.066Z"
   },
   {
    "duration": 186,
    "start_time": "2023-06-16T00:55:53.954Z"
   },
   {
    "duration": 319,
    "start_time": "2023-06-16T00:56:25.627Z"
   },
   {
    "duration": 281,
    "start_time": "2023-06-16T00:56:42.980Z"
   },
   {
    "duration": 274,
    "start_time": "2023-06-16T00:58:01.237Z"
   },
   {
    "duration": 275,
    "start_time": "2023-06-16T00:58:07.242Z"
   },
   {
    "duration": 4,
    "start_time": "2023-06-16T00:58:08.698Z"
   },
   {
    "duration": 136,
    "start_time": "2023-06-16T00:58:20.842Z"
   },
   {
    "duration": 136,
    "start_time": "2023-06-16T00:58:22.018Z"
   },
   {
    "duration": 5,
    "start_time": "2023-06-16T00:58:27.402Z"
   },
   {
    "duration": 5,
    "start_time": "2023-06-16T01:01:00.661Z"
   },
   {
    "duration": 21,
    "start_time": "2023-06-16T01:04:58.750Z"
   },
   {
    "duration": 11,
    "start_time": "2023-06-16T01:05:15.862Z"
   },
   {
    "duration": 11,
    "start_time": "2023-06-16T01:10:10.879Z"
   },
   {
    "duration": 17,
    "start_time": "2023-06-16T01:13:03.946Z"
   },
   {
    "duration": 1083,
    "start_time": "2023-06-16T01:16:15.987Z"
   },
   {
    "duration": 75,
    "start_time": "2023-06-16T01:16:17.072Z"
   },
   {
    "duration": 12,
    "start_time": "2023-06-16T01:16:17.148Z"
   },
   {
    "duration": 12,
    "start_time": "2023-06-16T01:16:17.161Z"
   },
   {
    "duration": 10,
    "start_time": "2023-06-16T01:16:17.174Z"
   },
   {
    "duration": 12,
    "start_time": "2023-06-16T01:16:17.186Z"
   },
   {
    "duration": 26,
    "start_time": "2023-06-16T01:16:17.200Z"
   },
   {
    "duration": 23,
    "start_time": "2023-06-16T01:16:17.228Z"
   },
   {
    "duration": 8,
    "start_time": "2023-06-16T01:16:17.253Z"
   },
   {
    "duration": 7,
    "start_time": "2023-06-16T01:16:17.264Z"
   },
   {
    "duration": 8,
    "start_time": "2023-06-16T01:16:17.272Z"
   },
   {
    "duration": 4,
    "start_time": "2023-06-16T01:16:17.282Z"
   },
   {
    "duration": 7,
    "start_time": "2023-06-16T01:16:17.288Z"
   },
   {
    "duration": 9,
    "start_time": "2023-06-16T01:16:17.296Z"
   },
   {
    "duration": 5,
    "start_time": "2023-06-16T01:16:17.306Z"
   },
   {
    "duration": 5,
    "start_time": "2023-06-16T01:16:17.312Z"
   },
   {
    "duration": 36,
    "start_time": "2023-06-16T01:16:17.318Z"
   },
   {
    "duration": 8,
    "start_time": "2023-06-16T01:16:17.355Z"
   },
   {
    "duration": 7,
    "start_time": "2023-06-16T01:16:17.364Z"
   },
   {
    "duration": 11,
    "start_time": "2023-06-16T01:16:17.373Z"
   },
   {
    "duration": 10,
    "start_time": "2023-06-16T01:16:17.386Z"
   },
   {
    "duration": 88,
    "start_time": "2023-06-16T01:16:17.398Z"
   },
   {
    "duration": 6,
    "start_time": "2023-06-16T01:16:17.487Z"
   },
   {
    "duration": 13,
    "start_time": "2023-06-16T01:16:17.494Z"
   },
   {
    "duration": 10,
    "start_time": "2023-06-16T01:16:17.509Z"
   },
   {
    "duration": 6,
    "start_time": "2023-06-16T01:16:17.520Z"
   },
   {
    "duration": 9,
    "start_time": "2023-06-16T01:16:17.549Z"
   },
   {
    "duration": 173,
    "start_time": "2023-06-16T01:16:17.562Z"
   },
   {
    "duration": 122,
    "start_time": "2023-06-16T01:16:17.737Z"
   },
   {
    "duration": 6,
    "start_time": "2023-06-16T01:16:17.861Z"
   },
   {
    "duration": 13,
    "start_time": "2023-06-16T01:16:17.869Z"
   },
   {
    "duration": 290,
    "start_time": "2023-06-16T01:16:17.884Z"
   },
   {
    "duration": 231,
    "start_time": "2023-06-16T01:16:18.175Z"
   },
   {
    "duration": 301,
    "start_time": "2023-06-16T01:16:18.408Z"
   },
   {
    "duration": 214,
    "start_time": "2023-06-16T01:16:18.710Z"
   },
   {
    "duration": 330,
    "start_time": "2023-06-16T01:16:18.925Z"
   },
   {
    "duration": 289,
    "start_time": "2023-06-16T01:16:19.257Z"
   },
   {
    "duration": 4,
    "start_time": "2023-06-16T01:16:19.552Z"
   },
   {
    "duration": 144,
    "start_time": "2023-06-16T01:16:19.557Z"
   },
   {
    "duration": 223,
    "start_time": "2023-06-16T01:16:19.703Z"
   },
   {
    "duration": 3,
    "start_time": "2023-06-16T01:16:19.928Z"
   },
   {
    "duration": 17,
    "start_time": "2023-06-16T01:16:19.933Z"
   },
   {
    "duration": 24,
    "start_time": "2023-06-16T01:16:19.951Z"
   },
   {
    "duration": 6,
    "start_time": "2023-06-16T01:16:19.976Z"
   },
   {
    "duration": 12,
    "start_time": "2023-06-16T01:16:19.983Z"
   },
   {
    "duration": 13,
    "start_time": "2023-06-16T01:16:19.997Z"
   },
   {
    "duration": 12,
    "start_time": "2023-06-16T01:16:20.012Z"
   },
   {
    "duration": 140,
    "start_time": "2023-06-16T01:16:20.026Z"
   },
   {
    "duration": 22,
    "start_time": "2023-06-16T01:16:20.168Z"
   },
   {
    "duration": 10,
    "start_time": "2023-06-16T01:16:20.192Z"
   },
   {
    "duration": 3,
    "start_time": "2023-06-16T01:16:20.204Z"
   },
   {
    "duration": 15,
    "start_time": "2023-06-16T01:16:20.208Z"
   },
   {
    "duration": 9,
    "start_time": "2023-06-16T01:16:20.250Z"
   },
   {
    "duration": 25,
    "start_time": "2023-06-16T01:16:20.261Z"
   },
   {
    "duration": 2,
    "start_time": "2023-06-16T01:16:20.288Z"
   },
   {
    "duration": 31,
    "start_time": "2023-06-16T01:16:20.292Z"
   },
   {
    "duration": 4,
    "start_time": "2023-06-16T01:19:53.133Z"
   },
   {
    "duration": 79,
    "start_time": "2023-06-16T01:19:53.140Z"
   },
   {
    "duration": 9,
    "start_time": "2023-06-16T01:19:53.221Z"
   },
   {
    "duration": 20,
    "start_time": "2023-06-16T01:19:53.231Z"
   },
   {
    "duration": 24,
    "start_time": "2023-06-16T01:19:53.253Z"
   },
   {
    "duration": 21,
    "start_time": "2023-06-16T01:19:53.279Z"
   },
   {
    "duration": 13,
    "start_time": "2023-06-16T01:19:53.301Z"
   },
   {
    "duration": 23,
    "start_time": "2023-06-16T01:19:53.315Z"
   },
   {
    "duration": 7,
    "start_time": "2023-06-16T01:19:53.340Z"
   },
   {
    "duration": 17,
    "start_time": "2023-06-16T01:19:53.348Z"
   },
   {
    "duration": 7,
    "start_time": "2023-06-16T01:19:53.368Z"
   },
   {
    "duration": 12,
    "start_time": "2023-06-16T01:19:53.376Z"
   },
   {
    "duration": 17,
    "start_time": "2023-06-16T01:19:53.389Z"
   },
   {
    "duration": 18,
    "start_time": "2023-06-16T01:19:53.408Z"
   },
   {
    "duration": 5,
    "start_time": "2023-06-16T01:19:53.428Z"
   },
   {
    "duration": 10,
    "start_time": "2023-06-16T01:19:53.434Z"
   },
   {
    "duration": 20,
    "start_time": "2023-06-16T01:19:53.446Z"
   },
   {
    "duration": 15,
    "start_time": "2023-06-16T01:19:53.468Z"
   },
   {
    "duration": 6,
    "start_time": "2023-06-16T01:19:53.485Z"
   },
   {
    "duration": 18,
    "start_time": "2023-06-16T01:19:53.492Z"
   },
   {
    "duration": 21,
    "start_time": "2023-06-16T01:19:53.512Z"
   },
   {
    "duration": 26,
    "start_time": "2023-06-16T01:19:53.535Z"
   },
   {
    "duration": 19,
    "start_time": "2023-06-16T01:19:53.563Z"
   },
   {
    "duration": 29,
    "start_time": "2023-06-16T01:19:53.584Z"
   },
   {
    "duration": 9,
    "start_time": "2023-06-16T01:19:53.615Z"
   },
   {
    "duration": 6,
    "start_time": "2023-06-16T01:19:53.625Z"
   },
   {
    "duration": 7,
    "start_time": "2023-06-16T01:19:53.632Z"
   },
   {
    "duration": 163,
    "start_time": "2023-06-16T01:19:53.641Z"
   },
   {
    "duration": 110,
    "start_time": "2023-06-16T01:19:53.807Z"
   },
   {
    "duration": 9,
    "start_time": "2023-06-16T01:19:53.919Z"
   },
   {
    "duration": 22,
    "start_time": "2023-06-16T01:19:53.929Z"
   },
   {
    "duration": 231,
    "start_time": "2023-06-16T01:19:53.952Z"
   },
   {
    "duration": 212,
    "start_time": "2023-06-16T01:19:54.185Z"
   },
   {
    "duration": 280,
    "start_time": "2023-06-16T01:19:54.399Z"
   },
   {
    "duration": 219,
    "start_time": "2023-06-16T01:19:54.681Z"
   },
   {
    "duration": 298,
    "start_time": "2023-06-16T01:19:54.902Z"
   },
   {
    "duration": 259,
    "start_time": "2023-06-16T01:19:55.202Z"
   },
   {
    "duration": 4,
    "start_time": "2023-06-16T01:19:55.463Z"
   },
   {
    "duration": 146,
    "start_time": "2023-06-16T01:19:55.469Z"
   },
   {
    "duration": 146,
    "start_time": "2023-06-16T01:19:55.617Z"
   },
   {
    "duration": 3,
    "start_time": "2023-06-16T01:19:55.764Z"
   },
   {
    "duration": 14,
    "start_time": "2023-06-16T01:19:55.769Z"
   },
   {
    "duration": 24,
    "start_time": "2023-06-16T01:19:55.784Z"
   },
   {
    "duration": 22,
    "start_time": "2023-06-16T01:19:55.809Z"
   },
   {
    "duration": 20,
    "start_time": "2023-06-16T01:19:55.833Z"
   },
   {
    "duration": 13,
    "start_time": "2023-06-16T01:19:55.854Z"
   },
   {
    "duration": 14,
    "start_time": "2023-06-16T01:19:55.868Z"
   },
   {
    "duration": 134,
    "start_time": "2023-06-16T01:19:55.884Z"
   },
   {
    "duration": 36,
    "start_time": "2023-06-16T01:19:56.019Z"
   },
   {
    "duration": 11,
    "start_time": "2023-06-16T01:19:56.056Z"
   },
   {
    "duration": 5,
    "start_time": "2023-06-16T01:19:56.069Z"
   },
   {
    "duration": 13,
    "start_time": "2023-06-16T01:19:56.075Z"
   },
   {
    "duration": 10,
    "start_time": "2023-06-16T01:19:56.089Z"
   },
   {
    "duration": 50,
    "start_time": "2023-06-16T01:19:56.101Z"
   },
   {
    "duration": 2,
    "start_time": "2023-06-16T01:19:56.153Z"
   },
   {
    "duration": 22,
    "start_time": "2023-06-16T01:19:56.157Z"
   },
   {
    "duration": 1494,
    "start_time": "2023-08-05T20:41:38.684Z"
   },
   {
    "duration": 261,
    "start_time": "2023-08-05T20:41:40.184Z"
   },
   {
    "duration": 21,
    "start_time": "2023-08-05T20:41:40.447Z"
   },
   {
    "duration": 20,
    "start_time": "2023-08-05T20:41:40.476Z"
   },
   {
    "duration": 10,
    "start_time": "2023-08-05T20:41:40.499Z"
   },
   {
    "duration": 16,
    "start_time": "2023-08-05T20:41:40.511Z"
   },
   {
    "duration": 10,
    "start_time": "2023-08-05T20:41:40.529Z"
   },
   {
    "duration": 26,
    "start_time": "2023-08-05T20:41:40.541Z"
   },
   {
    "duration": 20,
    "start_time": "2023-08-05T20:41:40.575Z"
   },
   {
    "duration": 9,
    "start_time": "2023-08-05T20:41:40.598Z"
   },
   {
    "duration": 10,
    "start_time": "2023-08-05T20:41:40.608Z"
   },
   {
    "duration": 11,
    "start_time": "2023-08-05T20:41:40.620Z"
   },
   {
    "duration": 8,
    "start_time": "2023-08-05T20:41:40.633Z"
   },
   {
    "duration": 5,
    "start_time": "2023-08-05T20:41:40.644Z"
   },
   {
    "duration": 4,
    "start_time": "2023-08-05T20:41:40.650Z"
   },
   {
    "duration": 11,
    "start_time": "2023-08-05T20:41:40.655Z"
   },
   {
    "duration": 34,
    "start_time": "2023-08-05T20:41:40.668Z"
   },
   {
    "duration": 8,
    "start_time": "2023-08-05T20:41:40.704Z"
   },
   {
    "duration": 7,
    "start_time": "2023-08-05T20:41:40.714Z"
   },
   {
    "duration": 18,
    "start_time": "2023-08-05T20:41:40.723Z"
   },
   {
    "duration": 11,
    "start_time": "2023-08-05T20:41:40.742Z"
   },
   {
    "duration": 77,
    "start_time": "2023-08-05T20:41:40.754Z"
   },
   {
    "duration": 5,
    "start_time": "2023-08-05T20:41:40.833Z"
   },
   {
    "duration": 10,
    "start_time": "2023-08-05T20:41:40.840Z"
   },
   {
    "duration": 29,
    "start_time": "2023-08-05T20:41:40.851Z"
   },
   {
    "duration": 14,
    "start_time": "2023-08-05T20:41:40.882Z"
   },
   {
    "duration": 8,
    "start_time": "2023-08-05T20:41:40.898Z"
   },
   {
    "duration": 195,
    "start_time": "2023-08-05T20:41:40.907Z"
   },
   {
    "duration": 138,
    "start_time": "2023-08-05T20:41:41.104Z"
   },
   {
    "duration": 6,
    "start_time": "2023-08-05T20:41:41.244Z"
   },
   {
    "duration": 41,
    "start_time": "2023-08-05T20:41:41.251Z"
   },
   {
    "duration": 318,
    "start_time": "2023-08-05T20:41:41.295Z"
   },
   {
    "duration": 271,
    "start_time": "2023-08-05T20:41:41.615Z"
   },
   {
    "duration": 353,
    "start_time": "2023-08-05T20:41:41.888Z"
   },
   {
    "duration": 273,
    "start_time": "2023-08-05T20:41:42.243Z"
   },
   {
    "duration": 360,
    "start_time": "2023-08-05T20:41:42.517Z"
   },
   {
    "duration": 353,
    "start_time": "2023-08-05T20:41:42.879Z"
   },
   {
    "duration": 5,
    "start_time": "2023-08-05T20:41:43.234Z"
   },
   {
    "duration": 196,
    "start_time": "2023-08-05T20:41:43.241Z"
   },
   {
    "duration": 282,
    "start_time": "2023-08-05T20:41:43.439Z"
   },
   {
    "duration": 5,
    "start_time": "2023-08-05T20:41:43.724Z"
   },
   {
    "duration": 15,
    "start_time": "2023-08-05T20:41:43.730Z"
   },
   {
    "duration": 26,
    "start_time": "2023-08-05T20:41:43.746Z"
   },
   {
    "duration": 16,
    "start_time": "2023-08-05T20:41:43.773Z"
   },
   {
    "duration": 13,
    "start_time": "2023-08-05T20:41:43.791Z"
   },
   {
    "duration": 16,
    "start_time": "2023-08-05T20:41:43.806Z"
   },
   {
    "duration": 44,
    "start_time": "2023-08-05T20:41:43.824Z"
   },
   {
    "duration": 160,
    "start_time": "2023-08-05T20:41:43.879Z"
   },
   {
    "duration": 38,
    "start_time": "2023-08-05T20:41:44.041Z"
   },
   {
    "duration": 15,
    "start_time": "2023-08-05T20:41:44.089Z"
   },
   {
    "duration": 10,
    "start_time": "2023-08-05T20:41:44.105Z"
   },
   {
    "duration": 22,
    "start_time": "2023-08-05T20:41:44.117Z"
   },
   {
    "duration": 10,
    "start_time": "2023-08-05T20:41:44.141Z"
   },
   {
    "duration": 53,
    "start_time": "2023-08-05T20:41:44.153Z"
   },
   {
    "duration": 5,
    "start_time": "2023-08-05T20:41:44.208Z"
   },
   {
    "duration": 32,
    "start_time": "2023-08-05T20:41:44.215Z"
   }
  ],
  "kernelspec": {
   "display_name": "Python 3 (ipykernel)",
   "language": "python",
   "name": "python3"
  },
  "language_info": {
   "codemirror_mode": {
    "name": "ipython",
    "version": 3
   },
   "file_extension": ".py",
   "mimetype": "text/x-python",
   "name": "python",
   "nbconvert_exporter": "python",
   "pygments_lexer": "ipython3",
   "version": "3.12.2"
  },
  "toc": {
   "base_numbering": 1,
   "nav_menu": {},
   "number_sections": false,
   "sideBar": true,
   "skip_h1_title": false,
   "title_cell": "Table of Contents",
   "title_sidebar": "Contents",
   "toc_cell": false,
   "toc_position": {
    "height": "calc(100% - 180px)",
    "left": "10px",
    "top": "150px",
    "width": "298.263px"
   },
   "toc_section_display": true,
   "toc_window_display": true
  }
 },
 "nbformat": 4,
 "nbformat_minor": 4
}
